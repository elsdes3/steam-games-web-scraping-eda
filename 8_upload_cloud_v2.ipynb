{
 "cells": [
  {
   "cell_type": "markdown",
   "id": "bc567401-dc1c-4c1a-9061-48f9c57dffd6",
   "metadata": {},
   "source": [
    "## Upload Files to Cloud Storage"
   ]
  },
  {
   "cell_type": "code",
   "execution_count": null,
   "id": "b3ef20f1-8580-493b-b07d-de8590a7f49b",
   "metadata": {},
   "outputs": [],
   "source": [
    "import os\n",
    "from glob import glob\n",
    "\n",
    "import boto3\n",
    "from dotenv import find_dotenv, load_dotenv"
   ]
  },
  {
   "cell_type": "markdown",
   "id": "ce11f409-ab75-4414-8105-82590edc692e",
   "metadata": {},
   "source": [
    "## About"
   ]
  },
  {
   "cell_type": "markdown",
   "id": "6dd88675-78e3-4624-a92a-4bcf9ec8b255",
   "metadata": {},
   "source": [
    "This notebook will upload files to private personal cloud storage.\n",
    "\n",
    "The following are the files that will be uploaded and they must exist before running this notebook\n",
    "- `data/raw/combo_batched_listings.zip`\n",
    "  - zipped file with listings data retrieved using Selenium\n",
    "  - consists of multiple `.zip` files (eg. `batched_listings__<page-number>_<listing-range>__*.zip`)\n",
    "- `data/raw/combo_batched_listings_requests.zip`\n",
    "  - zipped file with listings data retrieved using the Python `requests` library\n",
    "  - consists of multiple `.zip` files (eg. `batched_listings__<page-number>_<listing-range>__*.zip`)\n",
    "- `data/raw/combo_batched_search_results.zip`\n",
    "  - zipped file with search results retrieved using Selenium\n",
    "- `data/raw/combo_batched_search_results_requests.zip`\n",
    "  - zipped file with search results retrieved using the Python `requests` library\n",
    "- `data/raw/listings.parquet.gzip`\n",
    "  - combined contents of all listings data retrieved using Selenium\n",
    "  - taken from files in `data/raw/combo_batched_listings.zip`\n",
    "- `data/raw/listings_requests.parquet.gzip`\n",
    "  - combined contents of all listings data retrieved using the Python `requests` library\n",
    "  - taken from files in `data/raw/combo_batched_listings_requests.zip`\n",
    "- `data/raw/search_results.parquet.gzip`\n",
    "  - combined contents of all search results retrieved using Selenium\n",
    "  - taken from files in `data/raw/combo_batched_search_results.zip`\n",
    "- `data/raw/search_results_requests.parquet.gzip`\n",
    "  - combined contents of all search results retrieved using the Python `requests` library\n",
    "  - taken from files in `data/raw/combo_batched_search_results_requests.zip`\n",
    "\n",
    "All files will be deleted from cloud storage on December 31, 2022."
   ]
  },
  {
   "cell_type": "markdown",
   "id": "286c7c04-f3e9-408b-aed5-6d96b00ebf94",
   "metadata": {},
   "source": [
    "## User Inputs"
   ]
  },
  {
   "cell_type": "code",
   "execution_count": null,
   "id": "720a9b71-7c0e-4bf1-bbcc-c83c2fe69f22",
   "metadata": {
    "tags": [
     "parameters"
    ]
   },
   "outputs": [],
   "source": [
    "data_dir = \"data/raw\""
   ]
  },
  {
   "cell_type": "code",
   "execution_count": null,
   "id": "c636202c-ae70-48b3-9fcd-4d76a0654eaa",
   "metadata": {},
   "outputs": [],
   "source": [
    "load_dotenv(find_dotenv())\n",
    "aws_region = os.getenv(\"AWS_REGION\", default=\"us-east-2\")\n",
    "s3_bucket_name = os.getenv(\"AWS_S3_BUCKET_NAME\")"
   ]
  },
  {
   "cell_type": "code",
   "execution_count": null,
   "id": "e6f38b98-3925-4d81-9713-b55c7c8c6729",
   "metadata": {},
   "outputs": [],
   "source": [
    "def block_public_access_to_s3_bucket(\n",
    "    s3_bucket_name: str,\n",
    "    aws_region: str = \"us-east-2\",\n",
    ") -> None:\n",
    "    \"\"\"Block access to S3 bucket.\"\"\"\n",
    "    s3_client = boto3.client(\"s3\", region_name=aws_region)\n",
    "    set_public_access_response = s3_client.put_public_access_block(\n",
    "        Bucket=s3_bucket_name,\n",
    "        PublicAccessBlockConfiguration={\n",
    "            \"BlockPublicAcls\": True,\n",
    "            \"IgnorePublicAcls\": True,\n",
    "            \"BlockPublicPolicy\": True,\n",
    "            \"RestrictPublicBuckets\": True,\n",
    "        },\n",
    "    )\n",
    "    try:\n",
    "        http_status_code = set_public_access_response[\"ResponseMetadata\"][\n",
    "            \"HTTPStatusCode\"\n",
    "        ]\n",
    "        assert http_status_code == 200\n",
    "        print(f\"Bucket {s3_bucket_name} access blocked successfully\")\n",
    "    except AssertionError as e:\n",
    "        print(\n",
    "            f\"Bucket {s3_bucket_name} access was not successfully blocked. \"\n",
    "            f\"Got error message:\\n{e}\"\n",
    "        )"
   ]
  },
  {
   "cell_type": "markdown",
   "id": "633ab2de-e83d-4ddc-afde-8f469eae7de3",
   "metadata": {},
   "source": [
    "## Create AWS Python SDK Objects"
   ]
  },
  {
   "cell_type": "code",
   "execution_count": null,
   "id": "aff3be21-b1f4-4ad2-86e6-a4f825ef345a",
   "metadata": {},
   "outputs": [],
   "source": [
    "s3_client = boto3.client(\"s3\", region_name=aws_region)"
   ]
  },
  {
   "cell_type": "markdown",
   "id": "ed1c360d-ef89-4805-b91d-555e2aad0ef4",
   "metadata": {},
   "source": [
    "## Create Cloud Storage Object"
   ]
  },
  {
   "cell_type": "markdown",
   "id": "b67052c7-fdff-4b04-937b-d234fad2d1d9",
   "metadata": {},
   "source": [
    "Create AWS S3 bucket"
   ]
  },
  {
   "cell_type": "code",
   "execution_count": null,
   "id": "b592383c-5e5c-40e5-8855-c137917e1939",
   "metadata": {},
   "outputs": [],
   "source": [
    "%%time\n",
    "bucket_creation_response = s3_client.create_bucket(\n",
    "    ACL='private',\n",
    "    Bucket=s3_bucket_name,\n",
    "    CreateBucketConfiguration={\"LocationConstraint\": aws_region},\n",
    ")\n",
    "assert bucket_creation_response['ResponseMetadata']['HTTPStatusCode'] == 200"
   ]
  },
  {
   "cell_type": "markdown",
   "id": "cf5624c8-bf33-4d8a-af75-a4f87727eba3",
   "metadata": {},
   "source": [
    "Block public access to S3 bucket"
   ]
  },
  {
   "cell_type": "code",
   "execution_count": null,
   "id": "78c8190e-6d34-40a5-9f78-f18a6b48285d",
   "metadata": {},
   "outputs": [],
   "source": [
    "%%time\n",
    "block_public_access_to_s3_bucket(s3_bucket_name, aws_region)"
   ]
  },
  {
   "cell_type": "markdown",
   "id": "01ad0b9b-9311-4a88-9845-62680c0ce011",
   "metadata": {},
   "source": [
    "## Upload Files to Cloud Storage"
   ]
  },
  {
   "cell_type": "code",
   "execution_count": null,
   "id": "e767a813-77d9-4a20-8d03-5b9f063c05fa",
   "metadata": {},
   "outputs": [],
   "source": [
    "%%time\n",
    "for f in glob(f\"{data_dir}/*\"):\n",
    "    print(f\"Uploading file from {f} to bucket {s3_bucket_name}...\")\n",
    "    s3_client.upload_file(f, s3_bucket_name, os.path.basename(f))\n",
    "    print(\"Done.\")"
   ]
  },
  {
   "cell_type": "markdown",
   "id": "e4db2176-2529-4ac8-bd05-a5b9f273302b",
   "metadata": {},
   "source": [
    "## List All Files in Cloud Storage"
   ]
  },
  {
   "cell_type": "code",
   "execution_count": null,
   "id": "76c872fc-9210-4efc-96cb-4b79c7d0492e",
   "metadata": {},
   "outputs": [],
   "source": [
    "%%time\n",
    "obj_list = [f['Key'] for f in s3_client.list_objects_v2(Bucket=s3_bucket_name)['Contents']]\n",
    "obj_list"
   ]
  }
 ],
 "metadata": {
  "kernelspec": {
   "display_name": "Python 3 (ipykernel)",
   "language": "python",
   "name": "python3"
  },
  "language_info": {
   "codemirror_mode": {
    "name": "ipython",
    "version": 3
   },
   "file_extension": ".py",
   "mimetype": "text/x-python",
   "name": "python",
   "nbconvert_exporter": "python",
   "pygments_lexer": "ipython3",
   "version": "3.10.4"
  }
 },
 "nbformat": 4,
 "nbformat_minor": 5
}
