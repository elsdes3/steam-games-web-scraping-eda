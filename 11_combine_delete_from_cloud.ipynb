{
 "cells": [
  {
   "cell_type": "markdown",
   "id": "d9ec2698-5c73-42cf-aea2-ea20fc61e76c",
   "metadata": {},
   "source": [
    "# Combine Individual Files and Delete From Cloud Storage"
   ]
  },
  {
   "cell_type": "code",
   "execution_count": null,
   "id": "5e228ba5-c037-4bb8-a60c-10cb46482dae",
   "metadata": {},
   "outputs": [],
   "source": [
    "import os\n",
    "import shutil\n",
    "from glob import glob\n",
    "from zipfile import ZipFile\n",
    "\n",
    "import pandas as pd\n",
    "from azure.storage.blob import BlobServiceClient"
   ]
  },
  {
   "cell_type": "markdown",
   "id": "4f7e6765-858a-4a64-b3d3-1dc2070d47cf",
   "metadata": {},
   "source": [
    "## About"
   ]
  },
  {
   "cell_type": "markdown",
   "id": "74b4e7e9-d514-4e2b-890e-926d68b3ff52",
   "metadata": {},
   "source": [
    "Download all files uploaded to Azure Blob storage and combine files into a single `.parquet.gzip` file for listings and search results depending on whether the data in the file was retrieved using Selenium or the Python `requests` library. Finally, delete all files stored in Azure Blob storage."
   ]
  },
  {
   "cell_type": "markdown",
   "id": "413d9130-ff01-4ed1-8066-aaf3a7607f09",
   "metadata": {},
   "source": [
    "## User Inputs"
   ]
  },
  {
   "cell_type": "code",
   "execution_count": null,
   "id": "83250912-2135-4369-a846-e57015d09719",
   "metadata": {
    "tags": [
     "parameters"
    ]
   },
   "outputs": [],
   "source": [
    "data_dir = \"data/processed\""
   ]
  },
  {
   "cell_type": "code",
   "execution_count": null,
   "id": "e281eb89-1ac7-4ab2-bed2-475b25a3735b",
   "metadata": {},
   "outputs": [],
   "source": [
    "conn_str = (\n",
    "    \"DefaultEndpointsProtocol=https;\"\n",
    "    f\"AccountName={os.getenv('AZURE_STORAGE_ACCOUNT')};\"\n",
    "    f\"AccountKey={os.getenv('AZURE_STORAGE_KEY')};\"\n",
    "    f\"EndpointSuffix={os.getenv('ENDPOINT_SUFFIX')}\"\n",
    ")\n",
    "blob_name_prefix = os.getenv(\"BLOB_NAME_PREFIX\")\n",
    "az_container_name = os.getenv(\"AZURE_CONTAINER_NAME\")"
   ]
  },
  {
   "cell_type": "code",
   "execution_count": null,
   "id": "6214b0af-a2f6-49e3-9a08-e5cd556f190f",
   "metadata": {},
   "outputs": [],
   "source": [
    "folders_dict = {\n",
    "    80: \"listings\",\n",
    "    81: \"search_results\",\n",
    "    82: \"listings_requests\",\n",
    "    83: \"search_results_requests\",\n",
    "}\n",
    "dtypes_dicts = {\n",
    "    \"listings\": {\"Publisher\": pd.StringDtype(), \"Franchise\": pd.StringDtype()},\n",
    "    \"listings_requests\": {\n",
    "        \"Publisher\": pd.StringDtype(),\n",
    "        \"Franchise\": pd.StringDtype(),\n",
    "        \"Title\": pd.StringDtype(),\n",
    "        \"Release Date\": pd.StringDtype(),\n",
    "        \"Developer\": pd.StringDtype(),\n",
    "    }\n",
    "}"
   ]
  },
  {
   "cell_type": "code",
   "execution_count": null,
   "id": "273077ea-22f8-4b0b-ad43-07426bf01f61",
   "metadata": {},
   "outputs": [],
   "source": [
    "blob_service_client = BlobServiceClient.from_connection_string(conn_str=conn_str)"
   ]
  },
  {
   "cell_type": "markdown",
   "id": "f984550d-2c51-4f3d-b7fb-b05b519c90c7",
   "metadata": {},
   "source": [
    "## Retrieve Files from Azure Cloud Storage and Combine"
   ]
  },
  {
   "cell_type": "markdown",
   "id": "6bf5441f-5f72-4ff8-af52-16625aebb090",
   "metadata": {},
   "source": [
    "Download files from Azure Blob storage and combine into single `.parquet.gzip` file for listings and search results retrieved using Selenium or using the Python `requests` library.\n",
    "\n",
    "Four such files will be produced\n",
    "- `listings.parquet.gzip`\n",
    "  - combination of all listings data retrieved using Selenium\n",
    "- `listings_requests.parquet.gzip`\n",
    "  - combination of all listings data retrieved using the Python `requests` library\n",
    "- `search_results.parquet.gzip`\n",
    "  - combination of all search results retrieved using Selenium\n",
    "- `search_results_requests.parquet.gzip`\n",
    "  - combination of all search results retrieved using the Python `requests` library"
   ]
  },
  {
   "cell_type": "code",
   "execution_count": null,
   "id": "ceba8d93-9d55-47e3-b19c-2c7f98a24f72",
   "metadata": {
    "tags": []
   },
   "outputs": [],
   "source": [
    "%%time\n",
    "for az_blob_name_suffix, file_substring in folders_dict.items():\n",
    "    data_sub_dir = f\"{data_dir}/{file_substring}\"\n",
    "    os.makedirs(data_sub_dir, exist_ok=False)\n",
    "    local_file_path = f\"{data_sub_dir}/combo_batched_{file_substring}.zip\"\n",
    "\n",
    "    print(f\"Downloading {file_substring} zipped file to {local_file_path}...\")\n",
    "    blob_client = blob_service_client.get_blob_client(\n",
    "        container=az_container_name, blob=f\"{blob_name_prefix}{az_blob_name_suffix}\"\n",
    "    )\n",
    "    with open(local_file_path, \"wb\") as download_file:\n",
    "        download_stream = blob_client.download_blob()\n",
    "        download_file.write(download_stream.readall())\n",
    "    print(\"Done.\")\n",
    "\n",
    "    print(f\"Extracting {file_substring} contents of {local_file_path}...\")\n",
    "    with ZipFile(local_file_path) as zip_ref:\n",
    "        zip_ref.extractall(data_sub_dir)\n",
    "        file_type = \"search_results\" if \"search\" in file_substring else \"listings\"\n",
    "        batched_files_zip = glob(os.path.join(data_sub_dir, f\"batched_{file_type}_*.zip\"))\n",
    "        for f_subdir in batched_files_zip:\n",
    "            with ZipFile(f_subdir) as zip_ref:\n",
    "                zip_ref.extractall(data_sub_dir)\n",
    "    print(\"Done.\")\n",
    "\n",
    "    print(f\"Reading all {file_substring} flat files into DataFrame...\")\n",
    "    if \"search_results\" in file_substring:\n",
    "        filepaths = glob(os.path.join(data_sub_dir, \"search_results_*.parquet.gzip\"))\n",
    "        df = pd.concat(\n",
    "            [\n",
    "                pd.read_parquet(f).assign(filename=os.path.basename(f))\n",
    "                for f in filepaths\n",
    "            ]\n",
    "        ).reset_index(drop=True)\n",
    "    else:\n",
    "        filepaths = glob(os.path.join(data_sub_dir, \"p*_l*_*.csv\"))\n",
    "        df = pd.concat(\n",
    "            [\n",
    "                pd.read_csv(f).assign(filename=os.path.basename(f))\n",
    "                for f in filepaths\n",
    "            ]\n",
    "        ).reset_index(drop=True).astype(dtypes_dicts[file_substring])\n",
    "    print(\"Done.\")\n",
    "    print(f\"Saving combined {file_substring} contents to disk...\")\n",
    "    df.to_parquet(f\"{data_dir}/{file_substring}.parquet.gzip\", index=False)\n",
    "    print(\"Done.\")\n",
    "\n",
    "    print(f\"Deleting intermediate {file_substring} files...\")\n",
    "    for fpath in filepaths:\n",
    "        os.remove(fpath)\n",
    "    for fpath in batched_files_zip:\n",
    "        os.remove(fpath)\n",
    "    print(\"Done.\")\n",
    "\n",
    "    dest_file_path = f\"{data_dir}/combo_batched_{file_substring}.zip\"\n",
    "    print(f\"Moving {local_file_path}...\")\n",
    "    shutil.move(local_file_path, dest_file_path)\n",
    "    print(\"Done.\")"
   ]
  },
  {
   "cell_type": "code",
   "execution_count": null,
   "id": "e0a8a046-02ca-4257-b08c-4b7975c77c05",
   "metadata": {},
   "outputs": [],
   "source": [
    "print(\"Deleting empty sub-directories...\")\n",
    "os.chdir(data_dir)\n",
    "for _, file_substring in folders_dict.items():\n",
    "    os.rmdir(file_substring)\n",
    "print(\"Done.\")"
   ]
  },
  {
   "cell_type": "markdown",
   "id": "1ada19d2-6808-4585-ba0f-45f336fc49b6",
   "metadata": {},
   "source": [
    "## Delete All Files from Azure Blob Storage"
   ]
  },
  {
   "cell_type": "code",
   "execution_count": null,
   "id": "7d24c4a9-48eb-48c1-a473-759f40c9d4bc",
   "metadata": {},
   "outputs": [],
   "source": [
    "%%time\n",
    "for az_blob_name_suffix, file_substring in folders_dict.items():\n",
    "    blob_name = f\"{blob_name_prefix}{az_blob_name_suffix}\"\n",
    "    print(f\"Deleting {file_substring} zipped file from {blob_name} blob in Azure blob storage...\")\n",
    "    blob_client = blob_service_client.get_blob_client(\n",
    "        container=az_container_name, blob=blob_name\n",
    "    )\n",
    "    blob_client.delete_blob(delete_snapshots='include')\n",
    "    print(\"Done.\")"
   ]
  }
 ],
 "metadata": {
  "kernelspec": {
   "display_name": "Python 3 (ipykernel)",
   "language": "python",
   "name": "python3"
  },
  "language_info": {
   "codemirror_mode": {
    "name": "ipython",
    "version": 3
   },
   "file_extension": ".py",
   "mimetype": "text/x-python",
   "name": "python",
   "nbconvert_exporter": "python",
   "pygments_lexer": "ipython3",
   "version": "3.10.4"
  }
 },
 "nbformat": 4,
 "nbformat_minor": 5
}
