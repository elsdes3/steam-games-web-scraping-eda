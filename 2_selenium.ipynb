{
 "cells": [
  {
   "cell_type": "markdown",
   "id": "eb164478-dea3-431e-bd2e-c6e6cb603d68",
   "metadata": {},
   "source": [
    "# Scraping search results with the `selenium` library"
   ]
  },
  {
   "cell_type": "code",
   "execution_count": 1,
   "id": "c4a2d7bd-d2cc-4d86-adcf-264992e60077",
   "metadata": {},
   "outputs": [],
   "source": [
    "%load_ext lab_black\n",
    "%load_ext autoreload\n",
    "%autoreload 2"
   ]
  },
  {
   "cell_type": "code",
   "execution_count": 2,
   "id": "8125dbfc-22d9-4abe-8c3f-0b38637e51dd",
   "metadata": {},
   "outputs": [],
   "source": [
    "import math\n",
    "import os\n",
    "import re\n",
    "import time\n",
    "from collections import OrderedDict\n",
    "from glob import glob\n",
    "from random import choice, randint, sample, shuffle, uniform\n",
    "\n",
    "import pandas as pd\n",
    "import requests\n",
    "from bs4 import BeautifulSoup\n",
    "from selenium import webdriver\n",
    "from selenium.common.exceptions import NoSuchElementException, TimeoutException\n",
    "from selenium.webdriver.common.action_chains import ActionChains\n",
    "from selenium.webdriver.common.by import By\n",
    "from selenium.webdriver.chrome.options import Options\n",
    "from selenium.webdriver.common.keys import Keys\n",
    "from selenium.webdriver.support import expected_conditions as EC\n",
    "from selenium.webdriver.support.ui import Select, WebDriverWait"
   ]
  },
  {
   "cell_type": "code",
   "execution_count": 3,
   "id": "7f1f3c88-7f27-4142-9055-3c434f2dc509",
   "metadata": {},
   "outputs": [],
   "source": [
    "%aimport src.bs4_helpers\n",
    "import src.bs4_helpers as bsh\n",
    "\n",
    "%aimport src.failure_records\n",
    "from src.failure_records import dict_failed_extraction_from_listing_page\n",
    "\n",
    "%aimport src.page_helpers\n",
    "from src.page_helpers import check_movement, get_pages\n",
    "\n",
    "%aimport src.page_scrapers\n",
    "from src.page_scrapers import scrape_listing, scrape_single_page_search_results\n",
    "\n",
    "%aimport src.selenium_helpers\n",
    "from src.selenium_helpers import (\n",
    "    enter_age,\n",
    "    scroll_up_down_page,\n",
    "    smooth_scroll_until_element_in_view,\n",
    "    sort_search_results,\n",
    ")\n",
    "\n",
    "%aimport src.single_page_navigation_helpers\n",
    "from src.single_page_navigation_helpers import (\n",
    "    perform_random_navigation_on_page,\n",
    "    randomly_interact_with_tag_based_filters,\n",
    "    randomly_interact_with_feature_based_filters,\n",
    ")\n",
    "\n",
    "%aimport src.utils\n",
    "from src.utils import save_to_parquet_file, show_df, show_df_dtypes_nans\n",
    "\n",
    "%aimport src.webscraping_utils\n",
    "from src.webscraping_utils import get_random_user_agent"
   ]
  },
  {
   "cell_type": "code",
   "execution_count": 4,
   "id": "fb5d1089-6798-44cb-87c7-e6ae5a962295",
   "metadata": {},
   "outputs": [
    {
     "name": "stdout",
     "output_type": "stream",
     "text": [
      "Selected user-agent from: chrome-incognito\n"
     ]
    },
    {
     "data": {
      "text/plain": [
       "['--window-size=1920,1080',\n",
       " '--no-sandbox',\n",
       " '--disable-gpu',\n",
       " 'start-maximized',\n",
       " 'disable-infobars',\n",
       " '--incognito',\n",
       " '--disable-extensions',\n",
       " \"--proxy-server='direct://'\",\n",
       " '--proxy-bypass-list=*',\n",
       " 'user-agent=Mozilla/5.0 (X11; Linux x86_64) AppleWebKit/537.36 (KHTML, like Gecko) Chrome/94.0.4606.81 Safari/537.36']"
      ]
     },
     "execution_count": 4,
     "metadata": {},
     "output_type": "execute_result"
    }
   ],
   "source": [
    "options = Options()\n",
    "# options.add_argument(\"--headless\")  # Runs Chrome in headless mode.\n",
    "options.add_argument(\"--window-size=1920,1080\")\n",
    "options.add_argument(\"--no-sandbox\")  # Bypass OS security model\n",
    "options.add_argument(\"--disable-gpu\")  # applicable to windows os only\n",
    "options.add_argument(\"start-maximized\")  #\n",
    "options.add_argument(\"disable-infobars\")\n",
    "options.add_argument(\"--incognito\")\n",
    "options.add_argument(\"--disable-extensions\")\n",
    "options.add_argument(\"--proxy-server='direct://'\")\n",
    "options.add_argument(\"--proxy-bypass-list=*\")\n",
    "options.add_experimental_option(\n",
    "    \"prefs\",\n",
    "    {\"profile.default_content_setting_values.notifications\": 2},\n",
    ")\n",
    "options.add_argument(f\"user-agent={get_random_user_agent()}\")\n",
    "options.arguments"
   ]
  },
  {
   "cell_type": "markdown",
   "id": "d5b05419-7be4-4477-8304-f7c9ae11fbf7",
   "metadata": {
    "tags": []
   },
   "source": [
    "<a href=\"table-of-contents\"></a>\n",
    "\n",
    "## [Table of Contents](#table-of-contents)\n",
    "0. [About](#about)\n",
    "1. [User Inputs](#user-inputs)\n",
    "2. [Launch Browser](#launch-browser)\n",
    "3. [Load (Blank) Search Results Page](#load-(blank)-search-results-page)\n",
    "4. [Specify Language](#specify-language)\n",
    "5. [Navigation Around the (Blank) Search Listings Page](#navigation-around-the-(blank)-search-listings-page)\n",
    "   - 5.1. [Randomly Navigate around a Page](#randomly-navigate-around-a-page)\n",
    "   - 5.2. [Randomly Select and Un-Select Tags](#randomly-select-and-un-select-tags)\n",
    "   - 5.3. [Randomly Select and Un-Select Features Filters](#randomly-select-and-un-select-features-filters)\n",
    "6. [Sort Listings](#sort-listings)\n",
    "7. [Navigate to starting page](#navigate-to-starting-page)\n",
    "8. [Scrape](#scrape)\n",
    "9. [Examine collected outputs](#examine-collected-outputs)\n",
    "10. [(Optional) Convert single-page CSV files to `parquet` file](#convert-single-page-csv-files-to-`parquet`-file)\n",
    "11. [Close Browser](#close-browser)"
   ]
  },
  {
   "cell_type": "markdown",
   "id": "819335e2-e4f9-43d0-bf03-524a0218fdfa",
   "metadata": {},
   "source": [
    "<a id=\"about\"></a>\n",
    "\n",
    "## 0. [About](#about)"
   ]
  },
  {
   "cell_type": "markdown",
   "id": "641abe99-0c51-45bd-b77d-042235ab22d9",
   "metadata": {},
   "source": [
    "Scraping game listings from the Steam web store using Selenium webdriver."
   ]
  },
  {
   "cell_type": "markdown",
   "id": "cd83f322-15a3-420e-87f5-ef9aa505db4d",
   "metadata": {},
   "source": [
    "<a id=\"user-inputs\"></a>\n",
    "\n",
    "## 1. [User Inputs](#user-inputs)"
   ]
  },
  {
   "cell_type": "code",
   "execution_count": 5,
   "id": "a515b7d6-ea19-4890-931a-4e2ccd51a9d0",
   "metadata": {},
   "outputs": [],
   "source": [
    "PROJ_ROOT_DIR = os.getcwd()"
   ]
  },
  {
   "cell_type": "code",
   "execution_count": 6,
   "id": "867c1804-f1fb-4d99-90c9-30328b912b22",
   "metadata": {},
   "outputs": [],
   "source": [
    "url = \"https://store.steampowered.com/search/?category1=998&page=1\"\n",
    "page_numbers_to_scrape = [50]\n",
    "\n",
    "# Specify all possible random movements across page, a subset\n",
    "# of which will be performed before and after scraping\n",
    "all_possible_pre_scrape_movements = [\n",
    "    \"navigate\",\n",
    "    \"filter_by_tag\",\n",
    "    \"filter_by_feature\",\n",
    "]\n",
    "all_possible_post_scrape_movements = [\n",
    "    \"click_store_homepage_logo\",\n",
    "    \"hover_over_browse_steam_section\",\n",
    "    \"scroll_until_store_homepage_logo_viewable\",\n",
    "]"
   ]
  },
  {
   "cell_type": "code",
   "execution_count": 7,
   "id": "2d4ca432-0ea9-4f46-a986-71013acff8f2",
   "metadata": {},
   "outputs": [],
   "source": [
    "data_dir = os.path.join(PROJ_ROOT_DIR, \"data\")\n",
    "raw_data_dir = os.path.join(data_dir, \"raw\")\n",
    "selenium_data_dir = os.path.join(raw_data_dir, \"selenium\")\n",
    "\n",
    "webdriver_path = os.path.join(\n",
    "    os.path.expanduser(\"~\"), \"chromedriver_linux64\", \"chromedriver\"\n",
    ")\n",
    "\n",
    "page_to_start_scraping = page_numbers_to_scrape[0]\n",
    "\n",
    "# Randomly specify pre-scraping actions to be performed\n",
    "pre_scrape_movements = sample(all_possible_pre_scrape_movements, 2)\n",
    "\n",
    "# Randomly specify post-scraping actions to be performed\n",
    "post_scrape_movements = sample(all_possible_post_scrape_movements, 2)"
   ]
  },
  {
   "cell_type": "markdown",
   "id": "47fc1d26-e4ca-4b25-995f-f2b84ba3c01b",
   "metadata": {},
   "source": [
    "<a id=\"launch-browser\"></a>\n",
    "\n",
    "## 2. [Launch Browser](#launch-browser)"
   ]
  },
  {
   "cell_type": "code",
   "execution_count": 8,
   "id": "4b080ad2-e05f-443a-accd-784710b72358",
   "metadata": {},
   "outputs": [],
   "source": [
    "driver = webdriver.Chrome(executable_path=webdriver_path, options=options)\n",
    "driver.delete_all_cookies()"
   ]
  },
  {
   "cell_type": "markdown",
   "id": "3479bbf9-fb67-4646-830e-14f4eb647777",
   "metadata": {},
   "source": [
    "<a id=\"load-(blank)-search-results-page\"></a>\n",
    "\n",
    "## 3. [Load (Blank) Search Results Page](#load-(blank)-search-results-page)"
   ]
  },
  {
   "cell_type": "code",
   "execution_count": 9,
   "id": "44344ac7-c4e0-4d89-a3e6-5c23b467766d",
   "metadata": {
    "tags": []
   },
   "outputs": [],
   "source": [
    "driver.get(url)"
   ]
  },
  {
   "cell_type": "markdown",
   "id": "1af8db11-80b5-4700-999a-206fb26a7841",
   "metadata": {},
   "source": [
    "<a id=\"specify-language\"></a>\n",
    "\n",
    "## 4. [Specify Language](#specify-language)"
   ]
  },
  {
   "cell_type": "markdown",
   "id": "90301c45-bf7e-4912-b123-ee38df014614",
   "metadata": {},
   "source": [
    "Smoothly scroll to bottom of page, with pauses along the way"
   ]
  },
  {
   "cell_type": "code",
   "execution_count": 10,
   "id": "5508cc98-d0c2-43e0-b2cf-696f2896cfcb",
   "metadata": {},
   "outputs": [
    {
     "name": "stdout",
     "output_type": "stream",
     "text": [
      "CPU times: user 77.2 ms, sys: 8.18 ms, total: 85.4 ms\n",
      "Wall time: 12.1 s\n"
     ]
    }
   ],
   "source": [
    "%%time\n",
    "scroll_up_down_page(\n",
    "    driver,\n",
    "    by_how_much=22,\n",
    "    min_num_pauses=1,\n",
    "    max_num_pauses=3,\n",
    "    min_pause=0.1,\n",
    "    max_pause=2.4,\n",
    "    scroll_method=\"slow\",\n",
    "    scroll_direction=\"down\",\n",
    ")\n",
    "time.sleep(uniform(4.2,8.8))"
   ]
  },
  {
   "cell_type": "markdown",
   "id": "5ed2cdff-575d-4d65-b160-c10529d72469",
   "metadata": {},
   "source": [
    "Select language"
   ]
  },
  {
   "cell_type": "code",
   "execution_count": 11,
   "id": "d99cceee-3d19-4b24-afd3-33b203abbb3f",
   "metadata": {},
   "outputs": [],
   "source": [
    "language_selection = driver.find_element_by_xpath('.//div[@data-loc=\"English\"]')\n",
    "language_selection.click()\n",
    "time.sleep(uniform(5.2, 7.8))"
   ]
  },
  {
   "cell_type": "markdown",
   "id": "7862715b-4425-4749-9c9f-efc5677c8f4c",
   "metadata": {},
   "source": [
    "Smoothly scroll up until the *Install Steam* button is in view"
   ]
  },
  {
   "cell_type": "code",
   "execution_count": 12,
   "id": "06081840-cfdd-4ee3-93a5-8bab83adfb44",
   "metadata": {},
   "outputs": [
    {
     "name": "stdout",
     "output_type": "stream",
     "text": [
      "CPU times: user 1.24 ms, sys: 1.04 ms, total: 2.29 ms\n",
      "Wall time: 5.81 s\n"
     ]
    }
   ],
   "source": [
    "%%time\n",
    "install_steam_btn = driver.find_element_by_xpath(\n",
    "    './/a[@class=\"header_installsteam_btn_content\"]'\n",
    ")\n",
    "driver = smooth_scroll_until_element_in_view(driver, install_steam_btn)\n",
    "time.sleep(uniform(4.8,6.6))"
   ]
  },
  {
   "cell_type": "markdown",
   "id": "2bb15739-e2d2-4743-b607-bb5d6c6164d0",
   "metadata": {},
   "source": [
    "<a id=\"navigation-around-the-(blank)-search-listings-page\"></a>\n",
    "\n",
    "## 5. [Navigation Around the (Blank) Search Listings Page](#navigation-around-the-(blank)-search-listings-page)"
   ]
  },
  {
   "cell_type": "markdown",
   "id": "e02befc0-b7f1-4bbe-9596-475bdc289bdf",
   "metadata": {},
   "source": [
    "<a id=\"randomly-navigate-around-a-page\"></a>\n",
    "\n",
    "### 5.1. [Randomly Navigate around a Page](#randomly-navigate-around-a-page)"
   ]
  },
  {
   "cell_type": "markdown",
   "id": "f6568a40-6005-4df2-94df-648e5a8f6a3a",
   "metadata": {},
   "source": [
    "(OPTIONAL Pre-Scrape action) Option 1/3 - Smoothly scroll down to bring the *Categories* menu into view"
   ]
  },
  {
   "cell_type": "code",
   "execution_count": 13,
   "id": "be61fc35-4eca-4d58-b382-4b0aceaf547a",
   "metadata": {},
   "outputs": [],
   "source": [
    "if \"navigate\" in pre_scrape_movements:\n",
    "    categories_flyout = driver.find_element_by_xpath(\n",
    "        './/div[@data-flyout=\"genre_flyout\"]'\n",
    "    )\n",
    "    driver = smooth_scroll_until_element_in_view(driver, categories_flyout)\n",
    "    time.sleep(uniform(3.2, 6.5))"
   ]
  },
  {
   "cell_type": "markdown",
   "id": "bd7c78a5-55fc-43e3-b937-29a064df105b",
   "metadata": {},
   "source": [
    "(OPTIONAL Pre-Scrape action) Option 1/3 - Randomly navigate across the search results page"
   ]
  },
  {
   "cell_type": "code",
   "execution_count": 14,
   "id": "eead48da-a093-413f-8a9c-8268eb73b70f",
   "metadata": {},
   "outputs": [
    {
     "name": "stdout",
     "output_type": "stream",
     "text": [
      "Moved the mouse cursor over the categories fly-out\n",
      "Retrieved raw categories and sub-categories, including blanks\n",
      "Retrieved categories and sub-categories with links\n",
      "Performed 4 hovers on page\n",
      "Hovered over the Install Steam button\n",
      "CPU times: user 23.9 ms, sys: 3.15 ms, total: 27.1 ms\n",
      "Wall time: 12.5 s\n"
     ]
    }
   ],
   "source": [
    "%%time\n",
    "if \"navigate\" in pre_scrape_movements:\n",
    "    driver = perform_random_navigation_on_page(driver, randint(2, 5), randint(5, 10))\n",
    "    time.sleep(uniform(3.0,6.5))"
   ]
  },
  {
   "cell_type": "markdown",
   "id": "6175afe0-fd49-46e9-80d7-42d5cb8eb794",
   "metadata": {},
   "source": [
    "<a id=\"randomly-select-and-un-select-tags\"></a>\n",
    "\n",
    "### 5.2. [Randomly Select and Un-Select Tags](#randomly-select-and-un-select-tags)"
   ]
  },
  {
   "cell_type": "markdown",
   "id": "455113e3-ccb1-4252-b740-4f21ac6f82c7",
   "metadata": {},
   "source": [
    "(OPTIONAL Pre-Scrape action) Option 2/3 - Randomly select one or multiple tags as filters and then de-select them"
   ]
  },
  {
   "cell_type": "code",
   "execution_count": 15,
   "id": "75d72a50-2e8a-46ef-a8a1-8e4045ef2df1",
   "metadata": {},
   "outputs": [
    {
     "name": "stdout",
     "output_type": "stream",
     "text": [
      "CPU times: user 1e+03 ns, sys: 1e+03 ns, total: 2 µs\n",
      "Wall time: 4.53 µs\n"
     ]
    }
   ],
   "source": [
    "%%time\n",
    "if \"filter_by_tag\" in pre_scrape_movements:\n",
    "    driver = randomly_interact_with_tag_based_filters(driver, randint(1, 3), randint(3, 5))\n",
    "    time.sleep(uniform(2.2,4.5))"
   ]
  },
  {
   "cell_type": "markdown",
   "id": "c9ad83b7-f838-403c-ac76-19070795a211",
   "metadata": {},
   "source": [
    "<a id=\"randomly-select-and-un-select-features-filters\"></a>\n",
    "\n",
    "### 5.3. [Randomly Select and Un-Select Features Filters](#randomly-select-and-un-select-features-filters)"
   ]
  },
  {
   "cell_type": "markdown",
   "id": "198391d7-34e4-49bb-a3c7-1273b3c26145",
   "metadata": {},
   "source": [
    "(OPTIONAL Pre-Scrape action) Option 3/3 - Smoothly scroll to bring *Filter by Feature* into view"
   ]
  },
  {
   "cell_type": "code",
   "execution_count": 16,
   "id": "760d58d3-4494-40f8-b2c9-cbd3938a84b6",
   "metadata": {},
   "outputs": [],
   "source": [
    "if \"filter_by_feature\" in pre_scrape_movements:\n",
    "    feat_header = driver.find_element_by_xpath(\n",
    "        './/div[@data-collapse-name=\"category2\"]/div'\n",
    "    )\n",
    "    driver = smooth_scroll_until_element_in_view(driver, feat_header)\n",
    "    time.sleep(uniform(1.8, 5.1))"
   ]
  },
  {
   "cell_type": "markdown",
   "id": "f7e4a0cb-c181-4b81-8d8c-025128f5733f",
   "metadata": {},
   "source": [
    "(OPTIONAL Pre-Scrape action) Option 3/3 - Randomly select one or multiple feature filters and then de-select them"
   ]
  },
  {
   "cell_type": "code",
   "execution_count": 17,
   "id": "6a783ff9-c605-4d0a-9550-bf68e6ef1617",
   "metadata": {},
   "outputs": [
    {
     "name": "stdout",
     "output_type": "stream",
     "text": [
      "Selected and Un-selected 4 features\n",
      "CPU times: user 35.8 ms, sys: 1.39 ms, total: 37.2 ms\n",
      "Wall time: 20.3 s\n"
     ]
    }
   ],
   "source": [
    "%%time\n",
    "if \"filter_by_feature\" in pre_scrape_movements:\n",
    "    driver = randomly_interact_with_feature_based_filters(driver, randint(2, 4), randint(4, 5))\n",
    "    time.sleep(uniform(3.0,4.2))"
   ]
  },
  {
   "cell_type": "markdown",
   "id": "c60cec1c-13b4-4984-9d6e-2caa16d0c7a5",
   "metadata": {},
   "source": [
    "<a id=\"sort-listings\"></a>\n",
    "\n",
    "## 6. [Sort Listings](#sort-listings)"
   ]
  },
  {
   "cell_type": "markdown",
   "id": "242d1139-a7c8-44a7-b865-97fc2206a075",
   "metadata": {},
   "source": [
    "Smoothly scroll until the *Install Steam* button is in view"
   ]
  },
  {
   "cell_type": "code",
   "execution_count": 18,
   "id": "4044f06b-8c3a-4f56-a949-f58d8f2983ac",
   "metadata": {},
   "outputs": [
    {
     "name": "stdout",
     "output_type": "stream",
     "text": [
      "CPU times: user 927 µs, sys: 1.69 ms, total: 2.62 ms\n",
      "Wall time: 4.98 s\n"
     ]
    }
   ],
   "source": [
    "%%time\n",
    "install_steam_btn = driver.find_element_by_xpath(\n",
    "    './/a[@class=\"header_installsteam_btn_content\"]'\n",
    ")\n",
    "driver = smooth_scroll_until_element_in_view(driver, install_steam_btn)\n",
    "time.sleep(uniform(3.2,6.5))"
   ]
  },
  {
   "cell_type": "markdown",
   "id": "7ab44b43-3053-4601-ad01-8a81427329ed",
   "metadata": {},
   "source": [
    "Scroll through sort search results"
   ]
  },
  {
   "cell_type": "code",
   "execution_count": 19,
   "id": "e7972cd5-7297-4c3c-a88f-39f97dd46df6",
   "metadata": {},
   "outputs": [
    {
     "name": "stdout",
     "output_type": "stream",
     "text": [
      "Scrolled to sort option: User Reviews\n",
      "Scrolled to sort option: Name\n",
      "Scrolled to sort option: Lowest Price\n",
      "Scrolled to sort option: Relevance\n",
      "Scrolled to sort option: Highest Price\n",
      "Scrolled to sort option: Release date\n",
      "CPU times: user 29.2 ms, sys: 639 µs, total: 29.8 ms\n",
      "Wall time: 17.5 s\n"
     ]
    }
   ],
   "source": [
    "%%time\n",
    "driver = sort_search_results(driver)\n",
    "time.sleep(uniform(2.8,4.7))"
   ]
  },
  {
   "cell_type": "markdown",
   "id": "818c51ca-46d7-4ceb-a1d6-2237949e9009",
   "metadata": {},
   "source": [
    "**Notes**\n",
    "1. Two available options are to sort search results by Relevance or in descending order of release date. Sorting by *Release date* gives the newest listings but these rarely have user reviews. Sorting by *Relevance* gives more games with user reviews but are possibly older."
   ]
  },
  {
   "cell_type": "markdown",
   "id": "2eae0a53-80a0-4eea-88ea-730f7b5fbace",
   "metadata": {},
   "source": [
    "**Observations**\n",
    "1. Selecting a sort option clears the page-view display (the suffix *&page=`<page-number>`* is removed) that was specified from the main url loaded browser earlier (step 3.). This results in an infinite scroll through up to tens of thousands of search results. By comparison, the page view display shows upto 25 listings per page with the option to navigate between pages. In order to preserve the page-based display of the search results, when scrolling through the search result sort options, we will not click on one of the sort options. Instead, we will just randomly scroll through each sort option. As a result, the default sort option (*Relevance*) will be used to order the search results that are scraped."
   ]
  },
  {
   "cell_type": "markdown",
   "id": "fd7c7eb5-f331-4490-b25e-6c0d7ab61c8c",
   "metadata": {},
   "source": [
    "Smoothly scroll down to bring pagination into view"
   ]
  },
  {
   "cell_type": "code",
   "execution_count": 20,
   "id": "5918bdb4-9515-42a5-aece-0e9728c2e0cc",
   "metadata": {
    "tags": []
   },
   "outputs": [
    {
     "name": "stdout",
     "output_type": "stream",
     "text": [
      "CPU times: user 2.54 ms, sys: 0 ns, total: 2.54 ms\n",
      "Wall time: 5.04 s\n"
     ]
    }
   ],
   "source": [
    "%%time\n",
    "element = driver.find_element_by_class_name(\"search_pagination_left\")\n",
    "driver = smooth_scroll_until_element_in_view(driver, element)\n",
    "time.sleep(uniform(1.8,5.1))"
   ]
  },
  {
   "cell_type": "markdown",
   "id": "d3f89353-3701-435c-9f41-1ef23d863200",
   "metadata": {},
   "source": [
    "Click on page 2, since an inconsistent number of search results is displayed on page 1"
   ]
  },
  {
   "cell_type": "code",
   "execution_count": 21,
   "id": "442402f7-cf01-41a2-a7fe-d7226fad6595",
   "metadata": {},
   "outputs": [],
   "source": [
    "page_selections = driver.find_elements_by_xpath(\n",
    "    './/div[@class=\"search_pagination_right\"]/a'\n",
    ")\n",
    "page_selections[0].click()\n",
    "time.sleep(uniform(3.2, 6.9))"
   ]
  },
  {
   "cell_type": "markdown",
   "id": "4dc30e87-c250-413a-bb8e-c27f224c3629",
   "metadata": {},
   "source": [
    "<a id=\"navigate-to-starting-page\"></a>\n",
    "\n",
    "## 7. [Navigate to starting page](#navigate-to-starting-page)"
   ]
  },
  {
   "cell_type": "markdown",
   "id": "421bacac-3d6a-4d48-9695-0043f02a9994",
   "metadata": {},
   "source": [
    "Determine current page number and available pages"
   ]
  },
  {
   "cell_type": "code",
   "execution_count": 22,
   "id": "9a737caa-bf31-4e95-90a9-13ae818833e4",
   "metadata": {
    "tags": []
   },
   "outputs": [
    {
     "name": "stdout",
     "output_type": "stream",
     "text": [
      "Available page numbers=1,2,3,4, Current page=2, Max page=4\n"
     ]
    }
   ],
   "source": [
    "# Get available page numbers\n",
    "pagination = driver.find_element_by_xpath('.//div[@class=\"search_pagination\"]')\n",
    "current_page_num, _, _ = get_pages(pagination, True)\n",
    "time.sleep(uniform(5.4, 8.1))"
   ]
  },
  {
   "cell_type": "markdown",
   "id": "8199bd8d-c4c9-4ca9-b729-aee440afafd1",
   "metadata": {},
   "source": [
    "Smoothly scroll down to bring page selection into view"
   ]
  },
  {
   "cell_type": "code",
   "execution_count": 23,
   "id": "e98257dd-7ade-4295-a46f-057a06d1d649",
   "metadata": {
    "tags": []
   },
   "outputs": [
    {
     "name": "stdout",
     "output_type": "stream",
     "text": [
      "CPU times: user 1.41 ms, sys: 970 µs, total: 2.38 ms\n",
      "Wall time: 5.62 s\n"
     ]
    }
   ],
   "source": [
    "%%time\n",
    "element = driver.find_element_by_class_name(\"search_pagination_left\")\n",
    "driver = smooth_scroll_until_element_in_view(driver, element)\n",
    "time.sleep(uniform(2.4, 6.1))"
   ]
  },
  {
   "cell_type": "markdown",
   "id": "5ab8248e-274c-4c1c-a388-3464755c6544",
   "metadata": {},
   "source": [
    "Extract last available page"
   ]
  },
  {
   "cell_type": "code",
   "execution_count": 24,
   "id": "d59e0d0d-1057-470e-a974-8627a682d813",
   "metadata": {},
   "outputs": [],
   "source": [
    "right_pagination = driver.find_element_by_xpath(\n",
    "    './/div[@class=\"search_pagination_right\"]'\n",
    ")\n",
    "last_page = int(right_pagination.find_elements_by_tag_name(\"a\")[-2].text)"
   ]
  },
  {
   "cell_type": "markdown",
   "id": "1da130f6-5afb-456c-9da2-266beb48e835",
   "metadata": {},
   "source": [
    "Move forward or backward to get to desired starting page"
   ]
  },
  {
   "cell_type": "code",
   "execution_count": 25,
   "id": "8e3989a2-6449-48bf-8413-854f17c5164e",
   "metadata": {
    "tags": []
   },
   "outputs": [
    {
     "name": "stdout",
     "output_type": "stream",
     "text": [
      "Scrolled for 0.63 sec\n",
      "Can move back, Can move forward\n",
      "Available page numbers=1,2,3,4, Current page=2, Max page=4\n",
      "Moved forward to max page (4) (first pausing for 2.66 seconds...done.)\n",
      "Scrolled for 0.31 sec\n",
      "Can move back, Can move forward\n",
      "Available page numbers=1,2,3,4,5,6, Current page=4, Max page=6\n",
      "Moved forward to max page (6) (first pausing for 3.22 seconds...done.)\n",
      "Scrolled for 8.03 sec\n",
      "Can move back, Can move forward\n",
      "Available page numbers=1,4,5,6,7,8, Current page=6, Max page=8\n",
      "Moved forward to max page (8) (first pausing for 2.73 seconds...done.)\n",
      "Scrolled for 1.51 sec\n",
      "Can move back, Can move forward\n",
      "Available page numbers=1,6,7,8,9,10, Current page=8, Max page=10\n",
      "Moved forward to max page (10) (first pausing for 3.10 seconds...done.)\n",
      "Scrolled for 6.86 sec\n",
      "Can move back, Can move forward\n",
      "Available page numbers=1,8,9,10,11,12, Current page=10, Max page=12\n",
      "Moved forward to max page (12) (first pausing for 2.77 seconds...done.)\n",
      "Scrolled for 0.33 sec\n",
      "Can move back, Can move forward\n",
      "Available page numbers=1,10,11,12,13,14, Current page=12, Max page=14\n",
      "Moved forward to max page (14) (first pausing for 2.54 seconds...done.)\n",
      "Scrolled for 4.64 sec\n",
      "Can move back, Can move forward\n",
      "Available page numbers=1,12,13,14,15,16, Current page=14, Max page=16\n",
      "Moved forward to max page (16) (first pausing for 2.57 seconds...done.)\n",
      "Scrolled for 6.37 sec\n",
      "Can move back, Can move forward\n",
      "Available page numbers=1,14,15,16,17,18, Current page=16, Max page=18\n",
      "Moved forward to max page (18) (first pausing for 3.11 seconds...done.)\n",
      "Scrolled for 1.38 sec\n",
      "Can move back, Can move forward\n",
      "Available page numbers=1,16,17,18,19,20, Current page=18, Max page=20\n",
      "Moved forward to max page (20) (first pausing for 2.90 seconds...done.)\n",
      "Scrolled for 3.49 sec\n",
      "Can move back, Can move forward\n",
      "Available page numbers=1,18,19,20,21,22, Current page=20, Max page=22\n",
      "Moved forward to max page (22) (first pausing for 3.11 seconds...done.)\n",
      "Scrolled for 5.72 sec\n",
      "Can move back, Can move forward\n",
      "Available page numbers=1,20,21,22,23,24, Current page=22, Max page=24\n",
      "Moved forward to max page (24) (first pausing for 2.83 seconds...done.)\n",
      "Scrolled for 4.52 sec\n",
      "Can move back, Can move forward\n",
      "Available page numbers=1,22,23,24,25,26, Current page=24, Max page=26\n",
      "Moved forward to max page (26) (first pausing for 3.08 seconds...done.)\n",
      "Scrolled for 3.14 sec\n",
      "Can move back, Can move forward\n",
      "Available page numbers=1,24,25,26,27,28, Current page=26, Max page=28\n",
      "Moved forward to max page (28) (first pausing for 3.43 seconds...done.)\n",
      "Scrolled for 0.37 sec\n",
      "Can move back, Can move forward\n",
      "Available page numbers=1,26,27,28,29,30, Current page=28, Max page=30\n",
      "Moved forward to max page (30) (first pausing for 2.54 seconds...done.)\n",
      "Scrolled for 7.10 sec\n",
      "Can move back, Can move forward\n",
      "Available page numbers=1,28,29,30,31,32, Current page=30, Max page=32\n",
      "Moved forward to max page (32) (first pausing for 3.00 seconds...done.)\n",
      "Scrolled for 4.69 sec\n",
      "Can move back, Can move forward\n",
      "Available page numbers=1,30,31,32,33,34, Current page=32, Max page=34\n",
      "Moved forward to max page (34) (first pausing for 3.39 seconds...done.)\n",
      "Scrolled for 2.43 sec\n",
      "Can move back, Can move forward\n",
      "Available page numbers=1,32,33,34,35,36, Current page=34, Max page=36\n",
      "Moved forward to max page (36) (first pausing for 3.32 seconds...done.)\n",
      "Scrolled for 5.32 sec\n",
      "Can move back, Can move forward\n",
      "Available page numbers=1,34,35,36,37,38, Current page=36, Max page=38\n",
      "Moved forward to max page (38) (first pausing for 3.08 seconds...done.)\n",
      "Scrolled for 0.33 sec\n",
      "Can move back, Can move forward\n",
      "Available page numbers=1,36,37,38,39,40, Current page=38, Max page=40\n",
      "Moved forward to max page (40) (first pausing for 2.75 seconds...done.)\n",
      "Scrolled for 7.10 sec\n",
      "Can move back, Can move forward\n",
      "Available page numbers=1,38,39,40,41,42, Current page=40, Max page=42\n",
      "Moved forward to max page (42) (first pausing for 2.62 seconds...done.)\n",
      "Scrolled for 0.23 sec\n",
      "Can move back, Can move forward\n",
      "Available page numbers=1,40,41,42,43,44, Current page=42, Max page=44\n",
      "Moved forward to max page (44) (first pausing for 2.51 seconds...done.)\n",
      "Scrolled for 0.26 sec\n",
      "Can move back, Can move forward\n",
      "Available page numbers=1,42,43,44,45,46, Current page=44, Max page=46\n",
      "Moved forward to max page (46) (first pausing for 3.45 seconds...done.)\n",
      "Scrolled for 6.58 sec\n",
      "Can move back, Can move forward\n",
      "Available page numbers=1,44,45,46,47,48, Current page=46, Max page=48\n",
      "Moved forward to max page (48) (first pausing for 3.44 seconds...done.)\n",
      "Scrolled for 2.79 sec\n",
      "Can move back, Can move forward\n",
      "Available page numbers=1,46,47,48,49,50, Current page=48, Max page=50\n",
      "Will click on page 50 (first pausing for 3.41 seconds...done.)\n",
      "At desired page 50\n",
      "Paused for 3.41 seconds at the bottom of the desired page.\n",
      "CPU times: user 2.86 s, sys: 71.2 ms, total: 2.94 s\n",
      "Wall time: 2min 50s\n"
     ]
    }
   ],
   "source": [
    "%%time\n",
    "if page_to_start_scraping <= last_page:\n",
    "    # Indicate that we can scrape the specified page\n",
    "    can_scrape = True\n",
    "\n",
    "    # Navigate to specified page\n",
    "    while current_page_num != page_to_start_scraping:\n",
    "        # Get available page numbers\n",
    "        pagination = driver.find_element_by_xpath('.//div[@class=\"search_pagination\"]')\n",
    "\n",
    "        # Scroll down\n",
    "        scroll_start = time.time()\n",
    "        scroll_up_down_page(\n",
    "            driver,\n",
    "            by_how_much=22,  # controlls scrolling speed\n",
    "            min_num_pauses=1,\n",
    "            max_num_pauses=3,  # for no pauses, set min_num_pauses = max_num_pauses\n",
    "            min_pause=0.1,\n",
    "            max_pause=2.4,\n",
    "            scroll_method=\"slow\",\n",
    "            scroll_direction=\"down\",\n",
    "        )\n",
    "        scroll_duration = time.time() - scroll_start\n",
    "        print(f\"Scrolled for {scroll_duration:.2f} sec\")\n",
    "\n",
    "        # Get all page navigation web elements\n",
    "        page_num_li = [\n",
    "            elem\n",
    "            for page_nav_items in [\n",
    "                pagination.find_element_by_xpath(\n",
    "                    f'.//div[@class=\"search_pagination_{nav_dir}\"]'\n",
    "                ).find_elements_by_tag_name(\"a\")\n",
    "                for nav_dir in [\"left\", \"right\"]\n",
    "            ]\n",
    "            for elem in page_nav_items\n",
    "        ]\n",
    "        can_move_back, can_move_forward = check_movement(pagination)\n",
    "        current_page_num, curr_page_list, all_page_nums = get_pages(pagination, True)\n",
    "        # print(current_page_num)\n",
    "\n",
    "        if page_to_start_scraping not in all_page_nums:\n",
    "            # If at the max page AND can move forward, then move forward\n",
    "            if current_page_num == max(all_page_nums) and can_move_forward:\n",
    "                move_from_max_page = page_num_li[-1]\n",
    "                move_from_max_page.click()\n",
    "                print(\n",
    "                    f\"Moved forward from max page ({max(all_page_nums)}) to \"\n",
    "                    f\"page {max(all_page_nums)+1} \", end=\"\"\n",
    "                )\n",
    "            # If not at the max page then move to the max page\n",
    "            if current_page_num < max(all_page_nums):\n",
    "                move_to_max_page = page_num_li[-3]\n",
    "                move_to_max_page.click()\n",
    "                print(f\"Moved forward to max page ({max(all_page_nums)}) \", end=\"\")\n",
    "        else:\n",
    "            # Click on one of the pages in view\n",
    "            available_page_to_click = None\n",
    "            for tag in page_num_li:\n",
    "                if (\n",
    "                    tag.text not in [\"...\", \">\", \"<\"]\n",
    "                    and int(tag.text) == page_to_start_scraping\n",
    "                ):\n",
    "                    available_page_to_click = tag\n",
    "            print(f\"Will click on page {int(available_page_to_click.text)} \", end=\"\")\n",
    "            available_page_to_click.click()\n",
    "        pause_bw_moving = uniform(2.5, 3.5)\n",
    "        print(f\"(first pausing for {pause_bw_moving:.2f} seconds...\", end=\"\")\n",
    "        time.sleep(pause_bw_moving)\n",
    "        print(\"done.)\")\n",
    "\n",
    "        pagination = driver.find_element_by_xpath('.//div[@class=\"search_pagination\"]')\n",
    "        current_page_num, _, _ = get_pages(pagination, False)\n",
    "        # print(current_page_num)\n",
    "    else:\n",
    "        print(f\"At desired page {page_to_start_scraping}\")\n",
    "        time.sleep(uniform(2.8,4.5))\n",
    "        print(f\"Paused for {pause_bw_moving:.2f} seconds at the bottom of the desired page.\")\n",
    "else:\n",
    "    # Indicate that we cannot scrape the specified page\n",
    "    can_scrape = False"
   ]
  },
  {
   "cell_type": "markdown",
   "id": "4d52f269-abe5-4886-b6ad-c4114345d40d",
   "metadata": {},
   "source": [
    "Smoothly scroll until sort search results dropdown menu is in view"
   ]
  },
  {
   "cell_type": "code",
   "execution_count": 26,
   "id": "06a98e66-b606-4513-94c2-176aff2175c4",
   "metadata": {},
   "outputs": [
    {
     "name": "stdout",
     "output_type": "stream",
     "text": [
      "CPU times: user 2 ms, sys: 497 µs, total: 2.5 ms\n",
      "Wall time: 3 s\n"
     ]
    }
   ],
   "source": [
    "%%time\n",
    "if can_scrape:\n",
    "    dropdown_sort = driver.find_element_by_xpath('.//a[@class=\"trigger\"]')\n",
    "    driver = smooth_scroll_until_element_in_view(driver, dropdown_sort)\n",
    "    time.sleep(uniform(1.9,3.8))"
   ]
  },
  {
   "cell_type": "markdown",
   "id": "64bda679-0a72-45fc-ba43-e7fa6fe80f8e",
   "metadata": {},
   "source": [
    "<a id=\"scrape\"></a>\n",
    "\n",
    "## 8. [Scrape](#scrape)"
   ]
  },
  {
   "cell_type": "code",
   "execution_count": 27,
   "id": "edde5c2c-d034-4653-9f1c-cf1db5fbe7a2",
   "metadata": {
    "tags": []
   },
   "outputs": [
    {
     "name": "stdout",
     "output_type": "stream",
     "text": [
      "Retrieved listings from search results page 50.\n",
      "Saving data to /home/edesz/Downloads/web-scraping/data/raw/selenium/search_results_page_50_20211022_141007.parquet.gzip...done.\n",
      "Exported search results for page 50.\n",
      "\n",
      "File for listing Nuclear_Blaze was found. Did nothing.\n",
      "\n",
      "File for listing Troubleshooter_Abandoned_Children was found. Did nothing.\n",
      "\n",
      "File for listing Nostale__Anime_Mmorpg was found. Did nothing.\n",
      "\n",
      "File for listing Stationeers was found. Did nothing.\n",
      "\n",
      "File for listing Halo_Wars_Definitive_Edition was found. Did nothing.\n",
      "\n",
      "Navigated to and clicked on link for listing 6 (112_Operator)...Pausing for 4.822 seconds...done.\n",
      "No age check for listing 6 (112_Operator)\n",
      "Paused for 1.38 seconds. Scrolled to the bottom of the page.\n",
      "Starting with listing 6\n",
      "Scraped game title for listing 6 (112_Operator)\n",
      "Scraped listing 6\n",
      "Exported p50_l6_112_Operator to CSV file\n",
      "Done with listing 6 in 1.843 sec.\n",
      "Paused for 3.68 seconds.\n",
      "Paused for 3.68 seconds. Scrolled up until store homepage logo is in view.\n",
      "Scraped since file p*_l*_112_Operator.csv was not found.\n",
      "Time spent on page = 22.88 seconds.\n",
      "\n",
      "Returned to search results page and paused for 1.67 seconds.\n",
      "File for listing Mortal_Kombat_X was found. Did nothing.\n",
      "\n",
      "Navigated to and clicked on link for listing 8 (Curious_Expedition_2)...Pausing for 3.914 seconds...done.\n",
      "No age check for listing 8 (Curious_Expedition_2)\n",
      "Paused for 1.43 seconds. Scrolled to the bottom of the page.\n",
      "Starting with listing 8\n",
      "Scraped game title for listing 8 (Curious_Expedition_2)\n",
      "Scraped listing 8\n",
      "Exported p50_l8_Curious_Expedition_2 to CSV file\n",
      "Done with listing 8 in 1.319 sec.\n",
      "Paused for 3.48 seconds.\n",
      "Paused for 3.48 seconds. Scrolled up until store homepage logo is in view.\n",
      "Scraped since file p*_l*_Curious_Expedition_2.csv was not found.\n",
      "Time spent on page = 13.69 seconds.\n",
      "\n",
      "Returned to search results page and paused for 2.42 seconds.\n",
      "Navigated to and clicked on link for listing 9 (Mordheim_City_Of_The_Damned)...Pausing for 3.796 seconds...done.\n",
      "No age check for listing 9 (Mordheim_City_Of_The_Damned)\n",
      "Paused for 1.35 seconds. Scrolled to the bottom of the page.\n",
      "Starting with listing 9\n",
      "Scraped game title for listing 9 (Mordheim_City_Of_The_Damned)\n",
      "Scraped listing 9\n",
      "Exported p50_l9_Mordheim_City_Of_The_Damned to CSV file\n",
      "Done with listing 9 in 1.610 sec.\n",
      "Paused for 2.63 seconds.\n",
      "Paused for 2.63 seconds. Scrolled up until store homepage logo is in view.\n",
      "Scraped since file p*_l*_Mordheim_City_Of_The_Damned.csv was not found.\n",
      "Time spent on page = 12.03 seconds.\n",
      "\n",
      "Returned to search results page and paused for 2.71 seconds.\n",
      "File for listing Killing_Floor was found. Did nothing.\n",
      "\n",
      "Navigated to and clicked on link for listing 11 (Sniper_Elite_3)...Pausing for 3.564 seconds...done.\n",
      "No age check for listing 11 (Sniper_Elite_3)\n",
      "Paused for 1.23 seconds. Scrolled to the bottom of the page.\n",
      "Starting with listing 11\n",
      "Scraped game title for listing 11 (Sniper_Elite_3)\n",
      "Scraped listing 11\n",
      "Exported p50_l11_Sniper_Elite_3 to CSV file\n",
      "Done with listing 11 in 2.452 sec.\n",
      "Paused for 3.01 seconds.\n",
      "Paused for 3.01 seconds. Scrolled up until store homepage logo is in view.\n",
      "Scraped since file p*_l*_Sniper_Elite_3.csv was not found.\n",
      "Time spent on page = 13.55 seconds.\n",
      "\n",
      "Returned to search results page and paused for 1.47 seconds.\n",
      "Navigated to and clicked on link for listing 12 (Tangledeep)...Pausing for 4.697 seconds...done.\n",
      "No age check for listing 12 (Tangledeep)\n",
      "Paused for 1.54 seconds. Scrolled to the bottom of the page.\n",
      "Starting with listing 12\n",
      "Scraped game title for listing 12 (Tangledeep)\n",
      "Scraped listing 12\n",
      "Exported p50_l12_Tangledeep to CSV file\n",
      "Done with listing 12 in 2.883 sec.\n",
      "Paused for 2.92 seconds.\n",
      "Paused for 2.92 seconds. Scrolled up until store homepage logo is in view.\n",
      "Scraped since file p*_l*_Tangledeep.csv was not found.\n",
      "Time spent on page = 24.26 seconds.\n",
      "\n",
      "Returned to search results page and paused for 2.74 seconds.\n",
      "Navigated to and clicked on link for listing 13 (Zero_Caliber_Vr)...Pausing for 4.044 seconds...done.\n",
      "No age check for listing 13 (Zero_Caliber_Vr)\n",
      "Paused for 1.62 seconds. Scrolled to the bottom of the page.\n",
      "Starting with listing 13\n",
      "Scraped game title for listing 13 (Zero_Caliber_Vr)\n",
      "Scraped listing 13\n",
      "Exported p50_l13_Zero_Caliber_Vr to CSV file\n",
      "Done with listing 13 in 2.066 sec.\n",
      "Paused for 3.61 seconds.\n",
      "Paused for 3.61 seconds. Scrolled up until store homepage logo is in view.\n",
      "Scraped since file p*_l*_Zero_Caliber_Vr.csv was not found.\n",
      "Time spent on page = 16.85 seconds.\n",
      "\n",
      "Returned to search results page and paused for 2.05 seconds.\n",
      "Navigated to and clicked on link for listing 14 (Power__Revolution_2021_Edition)...Pausing for 3.504 seconds...done.\n",
      "No age check for listing 14 (Power__Revolution_2021_Edition)\n",
      "Paused for 1.31 seconds. Scrolled to the bottom of the page.\n",
      "Starting with listing 14\n",
      "Scraped game title for listing 14 (Power__Revolution_2021_Edition)\n",
      "Scraped listing 14\n",
      "Exported p50_l14_Power__Revolution_2021_Edition to CSV file\n",
      "Done with listing 14 in 2.316 sec.\n",
      "Paused for 2.68 seconds.\n",
      "Paused for 2.68 seconds. Scrolled up until store homepage logo is in view.\n",
      "Scraped since file p*_l*_Power__Revolution_2021_Edition.csv was not found.\n",
      "Time spent on page = 10.35 seconds.\n",
      "\n",
      "Returned to search results page and paused for 2.42 seconds.\n",
      "Navigated to and clicked on link for listing 15 (Naruto_Shippuden_Ultimate_Ninja_Storm_3_Full_Burst_Hd)...Pausing for 5.887 seconds...done.\n",
      "No age check for listing 15 (Naruto_Shippuden_Ultimate_Ninja_Storm_3_Full_Burst_Hd)\n",
      "Paused for 1.40 seconds. Scrolled to the bottom of the page.\n",
      "Starting with listing 15\n",
      "Scraped game title for listing 15 (Naruto_Shippuden_Ultimate_Ninja_Storm_3_Full_Burst_Hd)\n",
      "Scraped listing 15\n",
      "Exported p50_l15_Naruto_Shippuden_Ultimate_Ninja_Storm_3_Full_Burst_Hd to CSV file\n",
      "Done with listing 15 in 1.469 sec.\n",
      "Paused for 2.63 seconds.\n",
      "Scrolled up until Community Hub button is in view.\n",
      "Scraped since file p*_l*_Naruto_Shippuden_Ultimate_Ninja_Storm_3_Full_Burst_Hd.csv was not found.\n",
      "Time spent on page = 16.24 seconds.\n",
      "\n",
      "Returned to search results page and paused for 1.57 seconds.\n",
      "Navigated to and clicked on link for listing 16 (Roboquest)...Pausing for 3.529 seconds...done.\n",
      "No age check for listing 16 (Roboquest)\n",
      "Paused for 1.74 seconds. Scrolled to the bottom of the page.\n",
      "Starting with listing 16\n",
      "Scraped game title for listing 16 (Roboquest)\n",
      "Scraped listing 16\n",
      "Exported p50_l16_Roboquest to CSV file\n",
      "Done with listing 16 in 2.222 sec.\n",
      "Paused for 2.94 seconds.\n",
      "Paused for 2.94 seconds. Scrolled up until store homepage logo is in view.\n",
      "Scraped since file p*_l*_Roboquest.csv was not found.\n",
      "Time spent on page = 19.55 seconds.\n",
      "\n",
      "Returned to search results page and paused for 2.25 seconds.\n",
      "Navigated to and clicked on link for listing 17 (Colony_Survival)...Pausing for 4.544 seconds...done.\n",
      "No age check for listing 17 (Colony_Survival)\n",
      "Paused for 1.23 seconds. Scrolled to the bottom of the page.\n",
      "Starting with listing 17\n",
      "Scraped game title for listing 17 (Colony_Survival)\n",
      "Scraped listing 17\n",
      "Exported p50_l17_Colony_Survival to CSV file\n",
      "Done with listing 17 in 1.275 sec.\n",
      "Paused for 2.50 seconds.\n",
      "Paused for 2.50 seconds. Scrolled up until store homepage logo is in view.\n",
      "Scraped since file p*_l*_Colony_Survival.csv was not found.\n",
      "Time spent on page = 19.89 seconds.\n",
      "\n",
      "Returned to search results page and paused for 2.81 seconds.\n",
      "Navigated to and clicked on link for listing 18 (Voidigo)...Pausing for 5.377 seconds...done.\n",
      "No age check for listing 18 (Voidigo)\n",
      "Paused for 1.14 seconds. Scrolled to the bottom of the page.\n",
      "Starting with listing 18\n",
      "Scraped game title for listing 18 (Voidigo)\n",
      "Scraped listing 18\n",
      "Exported p50_l18_Voidigo to CSV file\n",
      "Done with listing 18 in 1.916 sec.\n",
      "Paused for 2.57 seconds.\n",
      "Paused for 2.57 seconds. Scrolled up until store homepage logo is in view.\n",
      "Scraped since file p*_l*_Voidigo.csv was not found.\n",
      "Time spent on page = 15.49 seconds.\n",
      "\n",
      "Returned to search results page and paused for 2.10 seconds.\n",
      "File for listing Omsi_2_Steam_Edition was found. Did nothing.\n",
      "\n",
      "Navigated to and clicked on link for listing 20 (A_Short_Hike)...Pausing for 4.870 seconds...done.\n",
      "No age check for listing 20 (A_Short_Hike)\n",
      "Paused for 1.82 seconds. Scrolled to the bottom of the page.\n",
      "Starting with listing 20\n",
      "Scraped game title for listing 20 (A_Short_Hike)\n",
      "Scraped listing 20\n",
      "Exported p50_l20_A_Short_Hike to CSV file\n",
      "Done with listing 20 in 2.832 sec.\n",
      "Paused for 3.88 seconds.\n",
      "Paused for 3.88 seconds. Scrolled up until store homepage logo is in view.\n",
      "Scraped since file p*_l*_A_Short_Hike.csv was not found.\n",
      "Time spent on page = 15.07 seconds.\n",
      "\n",
      "Returned to search results page and paused for 2.94 seconds.\n",
      "File for listing Tom_ClancyS_The_Division was found. Did nothing.\n",
      "\n",
      "File for listing Capcom_Arcade_Stadium was found. Did nothing.\n",
      "\n",
      "Navigated to and clicked on link for listing 23 (Streamer_Life_Simulator)...Pausing for 4.035 seconds...done.\n",
      "No age check for listing 23 (Streamer_Life_Simulator)\n",
      "Paused for 1.25 seconds. Scrolled to the bottom of the page.\n",
      "Starting with listing 23\n",
      "Scraped game title for listing 23 (Streamer_Life_Simulator)\n",
      "Scraped listing 23\n",
      "Exported p50_l23_Streamer_Life_Simulator to CSV file\n",
      "Done with listing 23 in 2.183 sec.\n",
      "Paused for 3.42 seconds.\n",
      "Paused for 3.42 seconds. Scrolled up until store homepage logo is in view.\n",
      "Scraped since file p*_l*_Streamer_Life_Simulator.csv was not found.\n",
      "Time spent on page = 23.56 seconds.\n",
      "\n",
      "Returned to search results page and paused for 1.67 seconds.\n",
      "File for listing Inside was found. Did nothing.\n",
      "\n",
      "File for listing Megaton_Rainfall was found. Did nothing.\n",
      "\n",
      "CPU times: user 5.2 s, sys: 172 ms, total: 5.38 s\n",
      "Wall time: 5min 41s\n"
     ]
    }
   ],
   "source": [
    "%%time\n",
    "if can_scrape:\n",
    "    for page_num in page_numbers_to_scrape:\n",
    "        # Scrape search results\n",
    "        scrape_single_page_search_results(driver, selenium_data_dir)\n",
    "\n",
    "        # Get all listings on search results page\n",
    "        search_results_div = driver.find_elements_by_xpath(\n",
    "            './/div[@id=\"search_resultsRows\"]/a'\n",
    "        )\n",
    "        for k, search_result in enumerate(search_results_div[0:]):\n",
    "            # Update driver\n",
    "            if k != 0:\n",
    "                search_result = driver.find_elements_by_xpath(\n",
    "                    './/div[@id=\"search_resultsRows\"]/a'\n",
    "                )[k]\n",
    "            # Get game title\n",
    "            listing_info = search_result.find_element_by_xpath(\n",
    "                './/div[@class=\"responsive_search_name_combined\"]'\n",
    "            )\n",
    "            # print(1)\n",
    "            title_os = listing_info.find_element_by_tag_name(\"div\")\n",
    "            title = (\n",
    "                title_os.find_element_by_class_name(\n",
    "                    \"title\"\n",
    "                ).text.lower().split(\"\\ngenre: \")[0].split(\"title: \")[-1].title()\n",
    "            )\n",
    "            title = re.sub(r\"\\W+\", \"\", title.replace(' ', '_'))\n",
    "            fname = f\"p{page_num}_l{k+1}_{title}.csv\"\n",
    "\n",
    "            # Get filepath to where file should be saved\n",
    "            listing_filepath = os.path.join(selenium_data_dir, fname)\n",
    "\n",
    "            # Scrape listing, if not prevoiusly done\n",
    "            if not glob(os.path.join(selenium_data_dir, f\"*{title.replace(' ', '_')}.csv\")):\n",
    "                # search_result = search_results_div[0]\n",
    "                actions = ActionChains(driver)\n",
    "\n",
    "                # Move mouse cursor to listing\n",
    "                actions.move_to_element(search_result).perform()\n",
    "                driver = smooth_scroll_until_element_in_view(driver, search_result)\n",
    "\n",
    "                # Click on listing\n",
    "                search_result.click()\n",
    "                print(\n",
    "                    f\"Navigated to and clicked on link for listing {k+1} ({title})...\",\n",
    "                    end=\"\",\n",
    "                )\n",
    "                post_click_pause_duration = uniform(3.5, 6.1)\n",
    "                print(f\"Pausing for {post_click_pause_duration:.3f} seconds...\", end=\"\")\n",
    "                time.sleep(post_click_pause_duration)\n",
    "                print(\"done.\")\n",
    "\n",
    "                # Get through age check, if necessary\n",
    "                try:\n",
    "                    age_container = driver.find_element_by_xpath(\n",
    "                        './/div[@class=\"agegate_text_container\"]'\n",
    "                    )\n",
    "                    _ = age_container.find_element_by_xpath(\".//h2\").text\n",
    "                    driver, age_entry = enter_age(driver)\n",
    "                    print(f\"Passed through age check for listing {k+1} ({title})\")\n",
    "                except Exception:\n",
    "                    age_entry = False\n",
    "                    print(f\"No age check for listing {k+1} ({title})\")\n",
    "\n",
    "                start_time = time.time()\n",
    "                # Generate a random integer to determine scrolling behaviour\n",
    "                scroll_int = randint(1, 100)\n",
    "\n",
    "                # Scroll down to update user-review stats\n",
    "                pre_scroll_down_pause_duration = uniform(1.1, 1.9)\n",
    "                time.sleep(pre_scroll_down_pause_duration)\n",
    "                # Scroll smoothly to bottom of page\n",
    "                scroll_up_down_page(\n",
    "                    driver,\n",
    "                    by_how_much=22,\n",
    "                    min_num_pauses=1,\n",
    "                    max_num_pauses=3,\n",
    "                    min_pause=2.5,\n",
    "                    max_pause=3.9,\n",
    "                    scroll_method=\"slow\",\n",
    "                    scroll_direction=\"down\",\n",
    "                )\n",
    "                post_scroll_down_pause_duration = uniform(1.5, 2.9)\n",
    "                time.sleep(post_scroll_down_pause_duration)\n",
    "                print(\n",
    "                    f\"Paused for {pre_scroll_down_pause_duration:.2f} seconds. \"\n",
    "                    \"Scrolled to the bottom of the page.\"\n",
    "                )\n",
    "\n",
    "                # Scraping code\n",
    "                driver = scrape_listing(driver, k+1, page_num, selenium_data_dir)\n",
    "\n",
    "                # Scroll up\n",
    "                pre_scroll_up_pause_duration = uniform(2.5, 3.9)\n",
    "                time.sleep(pre_scroll_up_pause_duration)\n",
    "                print(f\"Paused for {pre_scroll_up_pause_duration:.2f} seconds.\")\n",
    "                if scroll_int < randint(1, 45):\n",
    "                    # Scroll up until Install button is in view\n",
    "                    try:\n",
    "                        comm_hub_div = driver.find_element_by_xpath(\n",
    "                            './/div[@class=\"apphub_OtherSiteInfo\"]'\n",
    "                        )\n",
    "                        driver = smooth_scroll_until_element_in_view(driver, comm_hub_div)\n",
    "                        print(\"Scrolled up until Community Hub button is in view.\")\n",
    "                    except NoSuchElementException:\n",
    "                        install_steam_btn = driver.find_element_by_xpath(\n",
    "                            './/a[@class=\"header_installsteam_btn_content\"]'\n",
    "                        )\n",
    "                        driver = smooth_scroll_until_element_in_view(driver, install_steam_btn)\n",
    "                        print(\"Scrolled up until Install Steam button is in view.\")\n",
    "                else:\n",
    "                    # Scroll up until store homepage logo is in view\n",
    "                    home_logo = driver.find_element_by_xpath('.//span[@id=\"logo_holder\"]')\n",
    "                    driver = smooth_scroll_until_element_in_view(driver, home_logo)\n",
    "                    print(\"Scrolled up until store homepage logo is in view.\")\n",
    "\n",
    "                time_on_page = time.time() - start_time\n",
    "                print(\n",
    "                    f\"Scraped since file p*_l*_{title}.csv was not found.\\n\"\n",
    "                    f\"Time spent on page = {time_on_page:.2f} seconds.\\n\"\n",
    "                )\n",
    "                # Go back to search results page\n",
    "                if age_entry:\n",
    "                    driver.back()\n",
    "                    driver.back()\n",
    "                else:\n",
    "                    driver.back()\n",
    "                # Pause on the search results page\n",
    "                list_page_pause = uniform(1.4, 3.1)\n",
    "                time.sleep(list_page_pause)\n",
    "                print(f\"Returned to search results page and paused for {list_page_pause:.2f} seconds.\")\n",
    "            else:\n",
    "                print(f\"File for listing {title} was found. Did nothing.\\n\")\n",
    "    time.sleep(uniform(4.5,5.9))"
   ]
  },
  {
   "cell_type": "markdown",
   "id": "63f525e7-fbc6-45ce-9972-6d8522344018",
   "metadata": {},
   "source": [
    "<a id=\"examine-collected-outputs\"></a>\n",
    "\n",
    "## 9. [Examine collected outputs](#examine-collected-outputs)"
   ]
  },
  {
   "cell_type": "markdown",
   "id": "804131b8-4f98-4891-8354-44f0fc0990b7",
   "metadata": {},
   "source": [
    "Get a list of the created CSV filepaths"
   ]
  },
  {
   "cell_type": "code",
   "execution_count": 28,
   "id": "3b8cb4f1-d8de-4f5d-b053-56063829ce24",
   "metadata": {},
   "outputs": [
    {
     "name": "stdout",
     "output_type": "stream",
     "text": [
      "Found 874 CSV files of listings.\n"
     ]
    }
   ],
   "source": [
    "csv_file_list = glob(os.path.join(selenium_data_dir, \"*.csv\"))\n",
    "csv_file_list.sort(key=lambda f: int(re.sub(\"\\D\", \"\", f)))\n",
    "print(f\"Found {len(csv_file_list)} CSV files of listings.\")"
   ]
  },
  {
   "cell_type": "markdown",
   "id": "dd8315c4-0219-4dc2-8767-5be1d854228a",
   "metadata": {},
   "source": [
    "Concatenate all CSV files into a single DataFrame"
   ]
  },
  {
   "cell_type": "code",
   "execution_count": 29,
   "id": "db6f8e19-dc0a-42bf-8ed9-d4e144158fbb",
   "metadata": {
    "tags": []
   },
   "outputs": [
    {
     "data": {
      "text/html": [
       "<style type=\"text/css\">\n",
       "</style>\n",
       "<table id=\"T_6837d_\">\n",
       "  <caption>First & Last 1 rows</caption>\n",
       "  <thead>\n",
       "    <tr>\n",
       "      <th class=\"blank level0\" >&nbsp;</th>\n",
       "      <th class=\"col_heading level0 col0\" >review_type_all</th>\n",
       "      <th class=\"col_heading level0 col1\" >overall_review_rating</th>\n",
       "      <th class=\"col_heading level0 col2\" >pct_overall</th>\n",
       "      <th class=\"col_heading level0 col3\" >pct_overall_threshold</th>\n",
       "      <th class=\"col_heading level0 col4\" >pct_overall_lang</th>\n",
       "      <th class=\"col_heading level0 col5\" >pct_overall_threshold_lang</th>\n",
       "      <th class=\"col_heading level0 col6\" >platforms</th>\n",
       "      <th class=\"col_heading level0 col7\" >num_steam_achievements</th>\n",
       "      <th class=\"col_heading level0 col8\" >drm</th>\n",
       "      <th class=\"col_heading level0 col9\" >rating</th>\n",
       "      <th class=\"col_heading level0 col10\" >rating_descriptors</th>\n",
       "      <th class=\"col_heading level0 col11\" >review_type_positive</th>\n",
       "      <th class=\"col_heading level0 col12\" >review_type_negative</th>\n",
       "      <th class=\"col_heading level0 col13\" >review_language_mine</th>\n",
       "      <th class=\"col_heading level0 col14\" >Title</th>\n",
       "      <th class=\"col_heading level0 col15\" >Genre</th>\n",
       "      <th class=\"col_heading level0 col16\" >Release Date</th>\n",
       "      <th class=\"col_heading level0 col17\" >Early Access Release Date</th>\n",
       "      <th class=\"col_heading level0 col18\" >Developer</th>\n",
       "      <th class=\"col_heading level0 col19\" >Publisher</th>\n",
       "      <th class=\"col_heading level0 col20\" >Franchise</th>\n",
       "      <th class=\"col_heading level0 col21\" >num_languages</th>\n",
       "      <th class=\"col_heading level0 col22\" >page_num</th>\n",
       "      <th class=\"col_heading level0 col23\" >listing_num</th>\n",
       "    </tr>\n",
       "  </thead>\n",
       "  <tbody>\n",
       "    <tr>\n",
       "      <th id=\"T_6837d_level0_row0\" class=\"row_heading level0 row0\" >0</th>\n",
       "      <td id=\"T_6837d_row0_col0\" class=\"data row0 col0\" >1014.000000</td>\n",
       "      <td id=\"T_6837d_row0_col1\" class=\"data row0 col1\" >Very Positive</td>\n",
       "      <td id=\"T_6837d_row0_col2\" class=\"data row0 col2\" >93.000000</td>\n",
       "      <td id=\"T_6837d_row0_col3\" class=\"data row0 col3\" >positive</td>\n",
       "      <td id=\"T_6837d_row0_col4\" class=\"data row0 col4\" >92.000000</td>\n",
       "      <td id=\"T_6837d_row0_col5\" class=\"data row0 col5\" >positive</td>\n",
       "      <td id=\"T_6837d_row0_col6\" class=\"data row0 col6\" >win</td>\n",
       "      <td id=\"T_6837d_row0_col7\" class=\"data row0 col7\" >30.000000</td>\n",
       "      <td id=\"T_6837d_row0_col8\" class=\"data row0 col8\" >nan</td>\n",
       "      <td id=\"T_6837d_row0_col9\" class=\"data row0 col9\" >nan</td>\n",
       "      <td id=\"T_6837d_row0_col10\" class=\"data row0 col10\" >nan</td>\n",
       "      <td id=\"T_6837d_row0_col11\" class=\"data row0 col11\" >938.000000</td>\n",
       "      <td id=\"T_6837d_row0_col12\" class=\"data row0 col12\" >76.000000</td>\n",
       "      <td id=\"T_6837d_row0_col13\" class=\"data row0 col13\" >412.000000</td>\n",
       "      <td id=\"T_6837d_row0_col14\" class=\"data row0 col14\" >The Riftbreaker</td>\n",
       "      <td id=\"T_6837d_row0_col15\" class=\"data row0 col15\" >Action, Adventure, Indie, RPG, Simulation, Strategy</td>\n",
       "      <td id=\"T_6837d_row0_col16\" class=\"data row0 col16\" >14 Oct, 2021</td>\n",
       "      <td id=\"T_6837d_row0_col17\" class=\"data row0 col17\" >nan</td>\n",
       "      <td id=\"T_6837d_row0_col18\" class=\"data row0 col18\" >EXOR Studios</td>\n",
       "      <td id=\"T_6837d_row0_col19\" class=\"data row0 col19\" >EXOR Studios, Surefire.Games</td>\n",
       "      <td id=\"T_6837d_row0_col20\" class=\"data row0 col20\" >EXOR Studios, surefiregames</td>\n",
       "      <td id=\"T_6837d_row0_col21\" class=\"data row0 col21\" >10.000000</td>\n",
       "      <td id=\"T_6837d_row0_col22\" class=\"data row0 col22\" >2</td>\n",
       "      <td id=\"T_6837d_row0_col23\" class=\"data row0 col23\" >1</td>\n",
       "    </tr>\n",
       "    <tr>\n",
       "      <th id=\"T_6837d_level0_row1\" class=\"row_heading level0 row1\" >873</th>\n",
       "      <td id=\"T_6837d_row1_col0\" class=\"data row1 col0\" >13373.000000</td>\n",
       "      <td id=\"T_6837d_row1_col1\" class=\"data row1 col1\" >Very Positive</td>\n",
       "      <td id=\"T_6837d_row1_col2\" class=\"data row1 col2\" >86.000000</td>\n",
       "      <td id=\"T_6837d_row1_col3\" class=\"data row1 col3\" >positive</td>\n",
       "      <td id=\"T_6837d_row1_col4\" class=\"data row1 col4\" >89.000000</td>\n",
       "      <td id=\"T_6837d_row1_col5\" class=\"data row1 col5\" >positive</td>\n",
       "      <td id=\"T_6837d_row1_col6\" class=\"data row1 col6\" >win</td>\n",
       "      <td id=\"T_6837d_row1_col7\" class=\"data row1 col7\" >47.000000</td>\n",
       "      <td id=\"T_6837d_row1_col8\" class=\"data row1 col8\" >nan</td>\n",
       "      <td id=\"T_6837d_row1_col9\" class=\"data row1 col9\" >m</td>\n",
       "      <td id=\"T_6837d_row1_col10\" class=\"data row1 col10\" >Blood, Strong Language, Suggestive Themes, Violence</td>\n",
       "      <td id=\"T_6837d_row1_col11\" class=\"data row1 col11\" >11544.000000</td>\n",
       "      <td id=\"T_6837d_row1_col12\" class=\"data row1 col12\" >1829.000000</td>\n",
       "      <td id=\"T_6837d_row1_col13\" class=\"data row1 col13\" >7219.000000</td>\n",
       "      <td id=\"T_6837d_row1_col14\" class=\"data row1 col14\" >NieR Replicant™ ver.1.22474487139...</td>\n",
       "      <td id=\"T_6837d_row1_col15\" class=\"data row1 col15\" >Action, Adventure, RPG</td>\n",
       "      <td id=\"T_6837d_row1_col16\" class=\"data row1 col16\" >23 Apr, 2021</td>\n",
       "      <td id=\"T_6837d_row1_col17\" class=\"data row1 col17\" >nan</td>\n",
       "      <td id=\"T_6837d_row1_col18\" class=\"data row1 col18\" >Square Enix, Toylogic Inc.</td>\n",
       "      <td id=\"T_6837d_row1_col19\" class=\"data row1 col19\" >Square Enix</td>\n",
       "      <td id=\"T_6837d_row1_col20\" class=\"data row1 col20\" >nan</td>\n",
       "      <td id=\"T_6837d_row1_col21\" class=\"data row1 col21\" >9.000000</td>\n",
       "      <td id=\"T_6837d_row1_col22\" class=\"data row1 col22\" >14</td>\n",
       "      <td id=\"T_6837d_row1_col23\" class=\"data row1 col23\" >20</td>\n",
       "    </tr>\n",
       "  </tbody>\n",
       "</table>\n"
      ],
      "text/plain": [
       "<pandas.io.formats.style.Styler at 0x7f2410f8abb0>"
      ]
     },
     "metadata": {},
     "output_type": "display_data"
    },
    {
     "data": {
      "text/html": [
       "<style type=\"text/css\">\n",
       "</style>\n",
       "<table id=\"T_3a360_\">\n",
       "  <caption>Column Datatypes and Missing Values</caption>\n",
       "  <thead>\n",
       "    <tr>\n",
       "      <th class=\"blank level0\" >&nbsp;</th>\n",
       "      <th class=\"col_heading level0 col0\" >num_missing</th>\n",
       "      <th class=\"col_heading level0 col1\" >dtype</th>\n",
       "    </tr>\n",
       "  </thead>\n",
       "  <tbody>\n",
       "    <tr>\n",
       "      <th id=\"T_3a360_level0_row0\" class=\"row_heading level0 row0\" >review_type_all</th>\n",
       "      <td id=\"T_3a360_row0_col0\" class=\"data row0 col0\" >15</td>\n",
       "      <td id=\"T_3a360_row0_col1\" class=\"data row0 col1\" >float64</td>\n",
       "    </tr>\n",
       "    <tr>\n",
       "      <th id=\"T_3a360_level0_row1\" class=\"row_heading level0 row1\" >overall_review_rating</th>\n",
       "      <td id=\"T_3a360_row1_col0\" class=\"data row1 col0\" >15</td>\n",
       "      <td id=\"T_3a360_row1_col1\" class=\"data row1 col1\" >object</td>\n",
       "    </tr>\n",
       "    <tr>\n",
       "      <th id=\"T_3a360_level0_row2\" class=\"row_heading level0 row2\" >pct_overall</th>\n",
       "      <td id=\"T_3a360_row2_col0\" class=\"data row2 col0\" >15</td>\n",
       "      <td id=\"T_3a360_row2_col1\" class=\"data row2 col1\" >float64</td>\n",
       "    </tr>\n",
       "    <tr>\n",
       "      <th id=\"T_3a360_level0_row3\" class=\"row_heading level0 row3\" >pct_overall_threshold</th>\n",
       "      <td id=\"T_3a360_row3_col0\" class=\"data row3 col0\" >15</td>\n",
       "      <td id=\"T_3a360_row3_col1\" class=\"data row3 col1\" >object</td>\n",
       "    </tr>\n",
       "    <tr>\n",
       "      <th id=\"T_3a360_level0_row4\" class=\"row_heading level0 row4\" >pct_overall_lang</th>\n",
       "      <td id=\"T_3a360_row4_col0\" class=\"data row4 col0\" >16</td>\n",
       "      <td id=\"T_3a360_row4_col1\" class=\"data row4 col1\" >float64</td>\n",
       "    </tr>\n",
       "    <tr>\n",
       "      <th id=\"T_3a360_level0_row5\" class=\"row_heading level0 row5\" >pct_overall_threshold_lang</th>\n",
       "      <td id=\"T_3a360_row5_col0\" class=\"data row5 col0\" >16</td>\n",
       "      <td id=\"T_3a360_row5_col1\" class=\"data row5 col1\" >object</td>\n",
       "    </tr>\n",
       "    <tr>\n",
       "      <th id=\"T_3a360_level0_row6\" class=\"row_heading level0 row6\" >platforms</th>\n",
       "      <td id=\"T_3a360_row6_col0\" class=\"data row6 col0\" >33</td>\n",
       "      <td id=\"T_3a360_row6_col1\" class=\"data row6 col1\" >object</td>\n",
       "    </tr>\n",
       "    <tr>\n",
       "      <th id=\"T_3a360_level0_row7\" class=\"row_heading level0 row7\" >user_defined_tags</th>\n",
       "      <td id=\"T_3a360_row7_col0\" class=\"data row7 col0\" >2</td>\n",
       "      <td id=\"T_3a360_row7_col1\" class=\"data row7 col1\" >object</td>\n",
       "    </tr>\n",
       "    <tr>\n",
       "      <th id=\"T_3a360_level0_row8\" class=\"row_heading level0 row8\" >num_steam_achievements</th>\n",
       "      <td id=\"T_3a360_row8_col0\" class=\"data row8 col0\" >203</td>\n",
       "      <td id=\"T_3a360_row8_col1\" class=\"data row8 col1\" >float64</td>\n",
       "    </tr>\n",
       "    <tr>\n",
       "      <th id=\"T_3a360_level0_row9\" class=\"row_heading level0 row9\" >drm</th>\n",
       "      <td id=\"T_3a360_row9_col0\" class=\"data row9 col0\" >586</td>\n",
       "      <td id=\"T_3a360_row9_col1\" class=\"data row9 col1\" >object</td>\n",
       "    </tr>\n",
       "    <tr>\n",
       "      <th id=\"T_3a360_level0_row10\" class=\"row_heading level0 row10\" >rating</th>\n",
       "      <td id=\"T_3a360_row10_col0\" class=\"data row10 col0\" >447</td>\n",
       "      <td id=\"T_3a360_row10_col1\" class=\"data row10 col1\" >object</td>\n",
       "    </tr>\n",
       "    <tr>\n",
       "      <th id=\"T_3a360_level0_row11\" class=\"row_heading level0 row11\" >rating_descriptors</th>\n",
       "      <td id=\"T_3a360_row11_col0\" class=\"data row11 col0\" >495</td>\n",
       "      <td id=\"T_3a360_row11_col1\" class=\"data row11 col1\" >object</td>\n",
       "    </tr>\n",
       "    <tr>\n",
       "      <th id=\"T_3a360_level0_row12\" class=\"row_heading level0 row12\" >review_type_positive</th>\n",
       "      <td id=\"T_3a360_row12_col0\" class=\"data row12 col0\" >15</td>\n",
       "      <td id=\"T_3a360_row12_col1\" class=\"data row12 col1\" >float64</td>\n",
       "    </tr>\n",
       "    <tr>\n",
       "      <th id=\"T_3a360_level0_row13\" class=\"row_heading level0 row13\" >review_type_negative</th>\n",
       "      <td id=\"T_3a360_row13_col0\" class=\"data row13 col0\" >15</td>\n",
       "      <td id=\"T_3a360_row13_col1\" class=\"data row13 col1\" >float64</td>\n",
       "    </tr>\n",
       "    <tr>\n",
       "      <th id=\"T_3a360_level0_row14\" class=\"row_heading level0 row14\" >review_language_mine</th>\n",
       "      <td id=\"T_3a360_row14_col0\" class=\"data row14 col0\" >15</td>\n",
       "      <td id=\"T_3a360_row14_col1\" class=\"data row14 col1\" >float64</td>\n",
       "    </tr>\n",
       "    <tr>\n",
       "      <th id=\"T_3a360_level0_row15\" class=\"row_heading level0 row15\" >Title</th>\n",
       "      <td id=\"T_3a360_row15_col0\" class=\"data row15 col0\" >57</td>\n",
       "      <td id=\"T_3a360_row15_col1\" class=\"data row15 col1\" >object</td>\n",
       "    </tr>\n",
       "    <tr>\n",
       "      <th id=\"T_3a360_level0_row16\" class=\"row_heading level0 row16\" >Genre</th>\n",
       "      <td id=\"T_3a360_row16_col0\" class=\"data row16 col0\" >60</td>\n",
       "      <td id=\"T_3a360_row16_col1\" class=\"data row16 col1\" >object</td>\n",
       "    </tr>\n",
       "    <tr>\n",
       "      <th id=\"T_3a360_level0_row17\" class=\"row_heading level0 row17\" >Release Date</th>\n",
       "      <td id=\"T_3a360_row17_col0\" class=\"data row17 col0\" >60</td>\n",
       "      <td id=\"T_3a360_row17_col1\" class=\"data row17 col1\" >object</td>\n",
       "    </tr>\n",
       "    <tr>\n",
       "      <th id=\"T_3a360_level0_row18\" class=\"row_heading level0 row18\" >Early Access Release Date</th>\n",
       "      <td id=\"T_3a360_row18_col0\" class=\"data row18 col0\" >739</td>\n",
       "      <td id=\"T_3a360_row18_col1\" class=\"data row18 col1\" >object</td>\n",
       "    </tr>\n",
       "    <tr>\n",
       "      <th id=\"T_3a360_level0_row19\" class=\"row_heading level0 row19\" >Developer</th>\n",
       "      <td id=\"T_3a360_row19_col0\" class=\"data row19 col0\" >57</td>\n",
       "      <td id=\"T_3a360_row19_col1\" class=\"data row19 col1\" >object</td>\n",
       "    </tr>\n",
       "    <tr>\n",
       "      <th id=\"T_3a360_level0_row20\" class=\"row_heading level0 row20\" >Publisher</th>\n",
       "      <td id=\"T_3a360_row20_col0\" class=\"data row20 col0\" >59</td>\n",
       "      <td id=\"T_3a360_row20_col1\" class=\"data row20 col1\" >object</td>\n",
       "    </tr>\n",
       "    <tr>\n",
       "      <th id=\"T_3a360_level0_row21\" class=\"row_heading level0 row21\" >Franchise</th>\n",
       "      <td id=\"T_3a360_row21_col0\" class=\"data row21 col0\" >435</td>\n",
       "      <td id=\"T_3a360_row21_col1\" class=\"data row21 col1\" >object</td>\n",
       "    </tr>\n",
       "    <tr>\n",
       "      <th id=\"T_3a360_level0_row22\" class=\"row_heading level0 row22\" >languages</th>\n",
       "      <td id=\"T_3a360_row22_col0\" class=\"data row22 col0\" >2</td>\n",
       "      <td id=\"T_3a360_row22_col1\" class=\"data row22 col1\" >object</td>\n",
       "    </tr>\n",
       "    <tr>\n",
       "      <th id=\"T_3a360_level0_row23\" class=\"row_heading level0 row23\" >num_languages</th>\n",
       "      <td id=\"T_3a360_row23_col0\" class=\"data row23 col0\" >2</td>\n",
       "      <td id=\"T_3a360_row23_col1\" class=\"data row23 col1\" >float64</td>\n",
       "    </tr>\n",
       "    <tr>\n",
       "      <th id=\"T_3a360_level0_row24\" class=\"row_heading level0 row24\" >page_num</th>\n",
       "      <td id=\"T_3a360_row24_col0\" class=\"data row24 col0\" >0</td>\n",
       "      <td id=\"T_3a360_row24_col1\" class=\"data row24 col1\" >int64</td>\n",
       "    </tr>\n",
       "    <tr>\n",
       "      <th id=\"T_3a360_level0_row25\" class=\"row_heading level0 row25\" >listing_num</th>\n",
       "      <td id=\"T_3a360_row25_col0\" class=\"data row25 col0\" >0</td>\n",
       "      <td id=\"T_3a360_row25_col1\" class=\"data row25 col1\" >int64</td>\n",
       "    </tr>\n",
       "  </tbody>\n",
       "</table>\n"
      ],
      "text/plain": [
       "<pandas.io.formats.style.Styler at 0x7f241053bee0>"
      ]
     },
     "metadata": {},
     "output_type": "display_data"
    },
    {
     "name": "stdout",
     "output_type": "stream",
     "text": [
      "CPU times: user 1.98 s, sys: 19.3 ms, total: 2 s\n",
      "Wall time: 1.99 s\n"
     ]
    }
   ],
   "source": [
    "%%time\n",
    "df_listings = pd.concat(\n",
    "    [pd.read_csv(f) for f in csv_file_list],\n",
    "    ignore_index=True,\n",
    ").drop_duplicates()\n",
    "cols_to_hide = [\"user_defined_tags\", \"languages\"]\n",
    "show_df(df_listings.drop(columns=cols_to_hide), 1)\n",
    "show_df_dtypes_nans(df_listings)"
   ]
  },
  {
   "cell_type": "markdown",
   "id": "15641f7b-5644-4f4a-bc3d-c41d375f2bff",
   "metadata": {},
   "source": [
    "<a id=\"(optional)-convert-single-page-csv-files-to-`parquet`-file\"></a>\n",
    "\n",
    "## 10. [(Optional) Convert single-page CSV files to `parquet` file](#(optional)-convert-single-page-csv-files-to-`parquet`-file)"
   ]
  },
  {
   "cell_type": "markdown",
   "id": "7449df80-807e-488f-a72c-b975da37c393",
   "metadata": {},
   "source": [
    "Create dictionary of page numbers and `.parquet` filepaths"
   ]
  },
  {
   "cell_type": "code",
   "execution_count": 30,
   "id": "5e49c95a-e8d9-40d7-9acf-528bd41dd898",
   "metadata": {},
   "outputs": [
    {
     "name": "stdout",
     "output_type": "stream",
     "text": [
      "49\n"
     ]
    }
   ],
   "source": [
    "page_nums_available = list(\n",
    "    set(\n",
    "        [\n",
    "            int(re.findall(r\"\\d+\", os.path.basename(f).split(\"_\", 2)[0])[0])\n",
    "            for f in glob(os.path.join(selenium_data_dir, \"p*_*.csv\"))\n",
    "        ]\n",
    "    )\n",
    ")\n",
    "print(len(page_nums_available))"
   ]
  },
  {
   "cell_type": "code",
   "execution_count": 31,
   "id": "df0994d7-8f39-445e-8f8b-0c58ef8b1b0f",
   "metadata": {
    "tags": []
   },
   "outputs": [
    {
     "data": {
      "text/html": [
       "<style type=\"text/css\">\n",
       "</style>\n",
       "<table id=\"T_6117f_\">\n",
       "  <caption>First & Last 2 rows</caption>\n",
       "  <thead>\n",
       "    <tr>\n",
       "      <th class=\"blank level0\" >&nbsp;</th>\n",
       "      <th class=\"col_heading level0 col0\" >review_type_all</th>\n",
       "      <th class=\"col_heading level0 col1\" >overall_review_rating</th>\n",
       "      <th class=\"col_heading level0 col2\" >pct_overall</th>\n",
       "      <th class=\"col_heading level0 col3\" >pct_overall_threshold</th>\n",
       "      <th class=\"col_heading level0 col4\" >pct_overall_lang</th>\n",
       "      <th class=\"col_heading level0 col5\" >pct_overall_threshold_lang</th>\n",
       "      <th class=\"col_heading level0 col6\" >platforms</th>\n",
       "      <th class=\"col_heading level0 col7\" >num_steam_achievements</th>\n",
       "      <th class=\"col_heading level0 col8\" >drm</th>\n",
       "      <th class=\"col_heading level0 col9\" >rating</th>\n",
       "      <th class=\"col_heading level0 col10\" >rating_descriptors</th>\n",
       "      <th class=\"col_heading level0 col11\" >review_type_positive</th>\n",
       "      <th class=\"col_heading level0 col12\" >review_type_negative</th>\n",
       "      <th class=\"col_heading level0 col13\" >review_language_mine</th>\n",
       "      <th class=\"col_heading level0 col14\" >Title</th>\n",
       "      <th class=\"col_heading level0 col15\" >Genre</th>\n",
       "      <th class=\"col_heading level0 col16\" >Release Date</th>\n",
       "      <th class=\"col_heading level0 col17\" >Early Access Release Date</th>\n",
       "      <th class=\"col_heading level0 col18\" >Developer</th>\n",
       "      <th class=\"col_heading level0 col19\" >Publisher</th>\n",
       "      <th class=\"col_heading level0 col20\" >Franchise</th>\n",
       "      <th class=\"col_heading level0 col21\" >num_languages</th>\n",
       "      <th class=\"col_heading level0 col22\" >page_num</th>\n",
       "      <th class=\"col_heading level0 col23\" >listing_num</th>\n",
       "    </tr>\n",
       "  </thead>\n",
       "  <tbody>\n",
       "    <tr>\n",
       "      <th id=\"T_6117f_level0_row0\" class=\"row_heading level0 row0\" >0</th>\n",
       "      <td id=\"T_6117f_row0_col0\" class=\"data row0 col0\" >32144.000000</td>\n",
       "      <td id=\"T_6117f_row0_col1\" class=\"data row0 col1\" >Very Positive</td>\n",
       "      <td id=\"T_6117f_row0_col2\" class=\"data row0 col2\" >90.000000</td>\n",
       "      <td id=\"T_6117f_row0_col3\" class=\"data row0 col3\" >positive</td>\n",
       "      <td id=\"T_6117f_row0_col4\" class=\"data row0 col4\" >91.000000</td>\n",
       "      <td id=\"T_6117f_row0_col5\" class=\"data row0 col5\" >positive</td>\n",
       "      <td id=\"T_6117f_row0_col6\" class=\"data row0 col6\" >win</td>\n",
       "      <td id=\"T_6117f_row0_col7\" class=\"data row0 col7\" >191.000000</td>\n",
       "      <td id=\"T_6117f_row0_col8\" class=\"data row0 col8\" >Requires agreement to a 3rd-party EULA, STAR WARS™: The Old Republic™ EULA</td>\n",
       "      <td id=\"T_6117f_row0_col9\" class=\"data row0 col9\" >t</td>\n",
       "      <td id=\"T_6117f_row0_col10\" class=\"data row0 col10\" >Blood and Gore, Mild Language, Sexual Themes, Violence</td>\n",
       "      <td id=\"T_6117f_row0_col11\" class=\"data row0 col11\" >29223.000000</td>\n",
       "      <td id=\"T_6117f_row0_col12\" class=\"data row0 col12\" >2921.000000</td>\n",
       "      <td id=\"T_6117f_row0_col13\" class=\"data row0 col13\" >22042.000000</td>\n",
       "      <td id=\"T_6117f_row0_col14\" class=\"data row0 col14\" >STAR WARS™: The Old Republic™</td>\n",
       "      <td id=\"T_6117f_row0_col15\" class=\"data row0 col15\" >Free to Play, Massively Multiplayer, RPG</td>\n",
       "      <td id=\"T_6117f_row0_col16\" class=\"data row0 col16\" >20 Dec, 2011</td>\n",
       "      <td id=\"T_6117f_row0_col17\" class=\"data row0 col17\" >nan</td>\n",
       "      <td id=\"T_6117f_row0_col18\" class=\"data row0 col18\" >BioWare</td>\n",
       "      <td id=\"T_6117f_row0_col19\" class=\"data row0 col19\" >Electronic Arts</td>\n",
       "      <td id=\"T_6117f_row0_col20\" class=\"data row0 col20\" >Star Wars</td>\n",
       "      <td id=\"T_6117f_row0_col21\" class=\"data row0 col21\" >3.000000</td>\n",
       "      <td id=\"T_6117f_row0_col22\" class=\"data row0 col22\" >2</td>\n",
       "      <td id=\"T_6117f_row0_col23\" class=\"data row0 col23\" >23</td>\n",
       "    </tr>\n",
       "    <tr>\n",
       "      <th id=\"T_6117f_level0_row1\" class=\"row_heading level0 row1\" >1</th>\n",
       "      <td id=\"T_6117f_row1_col0\" class=\"data row1 col0\" >1014.000000</td>\n",
       "      <td id=\"T_6117f_row1_col1\" class=\"data row1 col1\" >Very Positive</td>\n",
       "      <td id=\"T_6117f_row1_col2\" class=\"data row1 col2\" >93.000000</td>\n",
       "      <td id=\"T_6117f_row1_col3\" class=\"data row1 col3\" >positive</td>\n",
       "      <td id=\"T_6117f_row1_col4\" class=\"data row1 col4\" >92.000000</td>\n",
       "      <td id=\"T_6117f_row1_col5\" class=\"data row1 col5\" >positive</td>\n",
       "      <td id=\"T_6117f_row1_col6\" class=\"data row1 col6\" >win</td>\n",
       "      <td id=\"T_6117f_row1_col7\" class=\"data row1 col7\" >30.000000</td>\n",
       "      <td id=\"T_6117f_row1_col8\" class=\"data row1 col8\" >nan</td>\n",
       "      <td id=\"T_6117f_row1_col9\" class=\"data row1 col9\" >nan</td>\n",
       "      <td id=\"T_6117f_row1_col10\" class=\"data row1 col10\" >nan</td>\n",
       "      <td id=\"T_6117f_row1_col11\" class=\"data row1 col11\" >938.000000</td>\n",
       "      <td id=\"T_6117f_row1_col12\" class=\"data row1 col12\" >76.000000</td>\n",
       "      <td id=\"T_6117f_row1_col13\" class=\"data row1 col13\" >412.000000</td>\n",
       "      <td id=\"T_6117f_row1_col14\" class=\"data row1 col14\" >The Riftbreaker</td>\n",
       "      <td id=\"T_6117f_row1_col15\" class=\"data row1 col15\" >Action, Adventure, Indie, RPG, Simulation, Strategy</td>\n",
       "      <td id=\"T_6117f_row1_col16\" class=\"data row1 col16\" >14 Oct, 2021</td>\n",
       "      <td id=\"T_6117f_row1_col17\" class=\"data row1 col17\" >nan</td>\n",
       "      <td id=\"T_6117f_row1_col18\" class=\"data row1 col18\" >EXOR Studios</td>\n",
       "      <td id=\"T_6117f_row1_col19\" class=\"data row1 col19\" >EXOR Studios, Surefire.Games</td>\n",
       "      <td id=\"T_6117f_row1_col20\" class=\"data row1 col20\" >EXOR Studios, surefiregames</td>\n",
       "      <td id=\"T_6117f_row1_col21\" class=\"data row1 col21\" >10.000000</td>\n",
       "      <td id=\"T_6117f_row1_col22\" class=\"data row1 col22\" >2</td>\n",
       "      <td id=\"T_6117f_row1_col23\" class=\"data row1 col23\" >1</td>\n",
       "    </tr>\n",
       "    <tr>\n",
       "      <th id=\"T_6117f_level0_row2\" class=\"row_heading level0 row2\" >872</th>\n",
       "      <td id=\"T_6117f_row2_col0\" class=\"data row2 col0\" >8726.000000</td>\n",
       "      <td id=\"T_6117f_row2_col1\" class=\"data row2 col1\" >Overwhelmingly Positive</td>\n",
       "      <td id=\"T_6117f_row2_col2\" class=\"data row2 col2\" >99.000000</td>\n",
       "      <td id=\"T_6117f_row2_col3\" class=\"data row2 col3\" >positive</td>\n",
       "      <td id=\"T_6117f_row2_col4\" class=\"data row2 col4\" >99.000000</td>\n",
       "      <td id=\"T_6117f_row2_col5\" class=\"data row2 col5\" >positive</td>\n",
       "      <td id=\"T_6117f_row2_col6\" class=\"data row2 col6\" >win, mac, linux</td>\n",
       "      <td id=\"T_6117f_row2_col7\" class=\"data row2 col7\" >8.000000</td>\n",
       "      <td id=\"T_6117f_row2_col8\" class=\"data row2 col8\" >nan</td>\n",
       "      <td id=\"T_6117f_row2_col9\" class=\"data row2 col9\" >e</td>\n",
       "      <td id=\"T_6117f_row2_col10\" class=\"data row2 col10\" >nan</td>\n",
       "      <td id=\"T_6117f_row2_col11\" class=\"data row2 col11\" >8661.000000</td>\n",
       "      <td id=\"T_6117f_row2_col12\" class=\"data row2 col12\" >65.000000</td>\n",
       "      <td id=\"T_6117f_row2_col13\" class=\"data row2 col13\" >6190.000000</td>\n",
       "      <td id=\"T_6117f_row2_col14\" class=\"data row2 col14\" >A Short Hike</td>\n",
       "      <td id=\"T_6117f_row2_col15\" class=\"data row2 col15\" >Adventure, Indie</td>\n",
       "      <td id=\"T_6117f_row2_col16\" class=\"data row2 col16\" >30 Jul, 2019</td>\n",
       "      <td id=\"T_6117f_row2_col17\" class=\"data row2 col17\" >nan</td>\n",
       "      <td id=\"T_6117f_row2_col18\" class=\"data row2 col18\" >adamgryu</td>\n",
       "      <td id=\"T_6117f_row2_col19\" class=\"data row2 col19\" >adamgryu</td>\n",
       "      <td id=\"T_6117f_row2_col20\" class=\"data row2 col20\" >nan</td>\n",
       "      <td id=\"T_6117f_row2_col21\" class=\"data row2 col21\" >5.000000</td>\n",
       "      <td id=\"T_6117f_row2_col22\" class=\"data row2 col22\" >50</td>\n",
       "      <td id=\"T_6117f_row2_col23\" class=\"data row2 col23\" >20</td>\n",
       "    </tr>\n",
       "    <tr>\n",
       "      <th id=\"T_6117f_level0_row3\" class=\"row_heading level0 row3\" >873</th>\n",
       "      <td id=\"T_6117f_row3_col0\" class=\"data row3 col0\" >3352.000000</td>\n",
       "      <td id=\"T_6117f_row3_col1\" class=\"data row3 col1\" >Mixed</td>\n",
       "      <td id=\"T_6117f_row3_col2\" class=\"data row3 col2\" >83.000000</td>\n",
       "      <td id=\"T_6117f_row3_col3\" class=\"data row3 col3\" >positive</td>\n",
       "      <td id=\"T_6117f_row3_col4\" class=\"data row3 col4\" >80.000000</td>\n",
       "      <td id=\"T_6117f_row3_col5\" class=\"data row3 col5\" >positive</td>\n",
       "      <td id=\"T_6117f_row3_col6\" class=\"data row3 col6\" >win, vr_required</td>\n",
       "      <td id=\"T_6117f_row3_col7\" class=\"data row3 col7\" >nan</td>\n",
       "      <td id=\"T_6117f_row3_col8\" class=\"data row3 col8\" >nan</td>\n",
       "      <td id=\"T_6117f_row3_col9\" class=\"data row3 col9\" >nan</td>\n",
       "      <td id=\"T_6117f_row3_col10\" class=\"data row3 col10\" >nan</td>\n",
       "      <td id=\"T_6117f_row3_col11\" class=\"data row3 col11\" >2713.000000</td>\n",
       "      <td id=\"T_6117f_row3_col12\" class=\"data row3 col12\" >639.000000</td>\n",
       "      <td id=\"T_6117f_row3_col13\" class=\"data row3 col13\" >2747.000000</td>\n",
       "      <td id=\"T_6117f_row3_col14\" class=\"data row3 col14\" >nan</td>\n",
       "      <td id=\"T_6117f_row3_col15\" class=\"data row3 col15\" >nan</td>\n",
       "      <td id=\"T_6117f_row3_col16\" class=\"data row3 col16\" >nan</td>\n",
       "      <td id=\"T_6117f_row3_col17\" class=\"data row3 col17\" >nan</td>\n",
       "      <td id=\"T_6117f_row3_col18\" class=\"data row3 col18\" >nan</td>\n",
       "      <td id=\"T_6117f_row3_col19\" class=\"data row3 col19\" >nan</td>\n",
       "      <td id=\"T_6117f_row3_col20\" class=\"data row3 col20\" >nan</td>\n",
       "      <td id=\"T_6117f_row3_col21\" class=\"data row3 col21\" >1.000000</td>\n",
       "      <td id=\"T_6117f_row3_col22\" class=\"data row3 col22\" >50</td>\n",
       "      <td id=\"T_6117f_row3_col23\" class=\"data row3 col23\" >13</td>\n",
       "    </tr>\n",
       "  </tbody>\n",
       "</table>\n"
      ],
      "text/plain": [
       "<pandas.io.formats.style.Styler at 0x7f24077ae2e0>"
      ]
     },
     "metadata": {},
     "output_type": "display_data"
    },
    {
     "name": "stdout",
     "output_type": "stream",
     "text": [
      "CPU times: user 1.97 s, sys: 24.3 ms, total: 1.99 s\n",
      "Wall time: 1.99 s\n"
     ]
    }
   ],
   "source": [
    "%%time\n",
    "dict_dfs_fpaths = {}\n",
    "for page_num in page_nums_available:\n",
    "    timestr = time.strftime(\"%Y%m%d_%H%M%S\")\n",
    "    parquet_filepath = os.path.join(selenium_data_dir, f\"listings_page_{page_num}_{timestr}.parquet\")\n",
    "    dict_dfs_fpaths[parquet_filepath] = pd.concat(\n",
    "        [pd.read_csv(f) for f in glob(os.path.join(selenium_data_dir, f\"p{page_num}_*.csv\"))],\n",
    "        ignore_index=True,\n",
    "    ).drop_duplicates().astype({\"Publisher\": str})\n",
    "show_df(pd.concat(list(dict_dfs_fpaths.values()), ignore_index=True).drop(columns=cols_to_hide), 2)"
   ]
  },
  {
   "cell_type": "markdown",
   "id": "971e2479-2e6b-4320-a7b3-423e096ec24d",
   "metadata": {},
   "source": [
    "Combine all CSVs for a single page of listings into a single `.parquet` file per page"
   ]
  },
  {
   "cell_type": "code",
   "execution_count": 32,
   "id": "467ba01f-d214-49f1-9da0-ec6aae8de9fa",
   "metadata": {},
   "outputs": [],
   "source": [
    "# save_to_parquet_file(list(dict_dfs_fpaths.values()), list(dict_dfs_fpaths.keys()))"
   ]
  },
  {
   "cell_type": "markdown",
   "id": "92a4c95a-edfe-4b70-bcc0-9827d7c46b06",
   "metadata": {
    "tags": []
   },
   "source": [
    "<a id=\"close-browser\"></a>\n",
    "\n",
    "## 11. [Close Browser](#close-browser)"
   ]
  },
  {
   "cell_type": "markdown",
   "id": "31ce31d1-380e-4500-a21b-ae9a0952398d",
   "metadata": {},
   "source": [
    "(OPTIONAL Post-Scrape action) Option 1/3 - Smoothly scroll up until store homepage logo is visible"
   ]
  },
  {
   "cell_type": "code",
   "execution_count": 33,
   "id": "c3298c29-9c18-4178-b383-f3c304270802",
   "metadata": {},
   "outputs": [
    {
     "name": "stdout",
     "output_type": "stream",
     "text": [
      "CPU times: user 2 µs, sys: 0 ns, total: 2 µs\n",
      "Wall time: 3.34 µs\n"
     ]
    }
   ],
   "source": [
    "%%time\n",
    "if \"click_store_homepage_logo\" in post_scrape_movements:\n",
    "    store_home_button = driver.find_element_by_xpath('.//span[@id=\"logo_holder\"]')\n",
    "    driver = smooth_scroll_until_element_in_view(driver, store_home_button)\n",
    "    time.sleep(uniform(4.8,5.2))"
   ]
  },
  {
   "cell_type": "markdown",
   "id": "2960347b-1a65-4c1b-9dc7-89ffff6a844c",
   "metadata": {},
   "source": [
    "(OPTIONAL Post-Scrape action) Option 1/3 - Move the mouse cursor over the store homepage logo"
   ]
  },
  {
   "cell_type": "code",
   "execution_count": 34,
   "id": "05a8ea04-ddb9-428b-87a6-fa34870cde04",
   "metadata": {},
   "outputs": [
    {
     "name": "stdout",
     "output_type": "stream",
     "text": [
      "CPU times: user 2 µs, sys: 1e+03 ns, total: 3 µs\n",
      "Wall time: 3.34 µs\n"
     ]
    }
   ],
   "source": [
    "%%time\n",
    "if \"click_store_homepage_logo\" in post_scrape_movements:\n",
    "    time.sleep(uniform(2.4, 8.5))\n",
    "    store_home_button = driver.find_element_by_xpath('.//span[@id=\"logo_holder\"]')\n",
    "    actions = ActionChains(driver)\n",
    "    actions.move_to_element(store_home_button).perform()\n",
    "    time.sleep(uniform(4.8,8.6))"
   ]
  },
  {
   "cell_type": "markdown",
   "id": "8299135f-7c14-420a-9018-bc9bf3abcbba",
   "metadata": {},
   "source": [
    "(OPTIONAL Post-Scrape action) Option 1/3 - Click the store homepage logo to go to the Steam store homepage"
   ]
  },
  {
   "cell_type": "code",
   "execution_count": 35,
   "id": "5318d740-6d6b-4205-a17d-90c5c05f1dff",
   "metadata": {},
   "outputs": [
    {
     "name": "stdout",
     "output_type": "stream",
     "text": [
      "CPU times: user 2 µs, sys: 0 ns, total: 2 µs\n",
      "Wall time: 2.86 µs\n"
     ]
    }
   ],
   "source": [
    "%%time\n",
    "if \"click_store_homepage_logo\" in post_scrape_movements:\n",
    "    store_home_button.click()\n",
    "    time.sleep(uniform(5.8, 10.9))"
   ]
  },
  {
   "cell_type": "markdown",
   "id": "f8dddd4c-5cf3-41cf-8017-7368490be16e",
   "metadata": {},
   "source": [
    "(OPTIONAL Post-Scrape action) Option 2/3 - Randomly hover of each of the four sections in the *BROWSE STEAM* section"
   ]
  },
  {
   "cell_type": "code",
   "execution_count": 36,
   "id": "e3a96f5f-7e35-4e2f-9d00-4cdf97850e39",
   "metadata": {},
   "outputs": [
    {
     "name": "stdout",
     "output_type": "stream",
     "text": [
      "CPU times: user 2 µs, sys: 0 ns, total: 2 µs\n",
      "Wall time: 3.1 µs\n"
     ]
    }
   ],
   "source": [
    "%%time\n",
    "if \"click_store_homepage_logo\" in post_scrape_movements:\n",
    "    if \"hover_over_browse_steam_section\" in post_scrape_movements:\n",
    "        browse_steam_section = driver.find_element_by_xpath(\n",
    "            './/div[@class=\"big_buttons home_page_content\"]'\n",
    "        )\n",
    "        driver = smooth_scroll_until_element_in_view(driver, browse_steam_section)\n",
    "        browse_headings = driver.find_element_by_xpath(\n",
    "            './/div[@class=\"big_buttons home_page_content\"]'\n",
    "        ).find_elements_by_xpath('.//div[@class=\"button_container\"]/a')\n",
    "        shuffle(browse_headings)\n",
    "        for browse_heading in browse_headings:\n",
    "            actions = ActionChains(driver)\n",
    "            actions.move_to_element(browse_heading).perform()\n",
    "            hover_duration = uniform(5.2,9.8)\n",
    "            print(f\"Hovering over {browse_heading.text} for {hover_duration:.2f} sec...\", end=\"\")\n",
    "            time.sleep(hover_duration)\n",
    "            print(\"done.\")\n",
    "        time.sleep(uniform(3.2,9.4))"
   ]
  },
  {
   "cell_type": "markdown",
   "id": "e9100b86-e091-4811-a18a-fb1af5be2f40",
   "metadata": {},
   "source": [
    "(OPTIONAL Post-Scrape action) Option 3/3 - Randomly scroll smoothly up until store homepage logo is visible"
   ]
  },
  {
   "cell_type": "code",
   "execution_count": 37,
   "id": "00ce0f30-ae36-4a0f-b984-3ad8eace8a0c",
   "metadata": {},
   "outputs": [
    {
     "name": "stdout",
     "output_type": "stream",
     "text": [
      "CPU times: user 1.54 ms, sys: 114 µs, total: 1.66 ms\n",
      "Wall time: 9.61 s\n"
     ]
    }
   ],
   "source": [
    "%%time\n",
    "if randint(1, 5) == 4 and \"scroll_until_store_homepage_logo_viewable\" in post_scrape_movements:\n",
    "    store_home_button = driver.find_element_by_xpath('.//span[@id=\"logo_holder\"]')\n",
    "    driver = smooth_scroll_until_element_in_view(driver, store_home_button)\n",
    "time.sleep(uniform(7.5,10.9))"
   ]
  },
  {
   "cell_type": "markdown",
   "id": "e690f0a5-f856-485f-9ab6-7e354bc17ce3",
   "metadata": {},
   "source": [
    "Close the browser"
   ]
  },
  {
   "cell_type": "code",
   "execution_count": 38,
   "id": "af6ac169-ce22-4f2b-a100-028601edf7b7",
   "metadata": {},
   "outputs": [],
   "source": [
    "driver.quit()"
   ]
  },
  {
   "cell_type": "markdown",
   "id": "ef1c0cfc-9db9-4363-bffd-0d2dd4a959d1",
   "metadata": {},
   "source": [
    "---"
   ]
  },
  {
   "cell_type": "markdown",
   "id": "0da4c6d0-3df6-4530-8ed9-513d106cdede",
   "metadata": {},
   "source": [
    "<span style=\"float:left\">\n",
    "    <a href=\"./1_eda_aggregated.ipynb\"><< 1 - Exploratory Data Analysis of Aggregated data</a>\n",
    "</span>\n",
    "\n",
    "<span style=\"float:right\">\n",
    "    <a href=\"./3_requests_download.ipynb\">3 - Downloading with requests library >></a>\n",
    "</span>"
   ]
  }
 ],
 "metadata": {
  "kernelspec": {
   "display_name": "Python 3 (ipykernel)",
   "language": "python",
   "name": "python3"
  },
  "language_info": {
   "codemirror_mode": {
    "name": "ipython",
    "version": 3
   },
   "file_extension": ".py",
   "mimetype": "text/x-python",
   "name": "python",
   "nbconvert_exporter": "python",
   "pygments_lexer": "ipython3",
   "version": "3.9.5"
  }
 },
 "nbformat": 4,
 "nbformat_minor": 5
}
