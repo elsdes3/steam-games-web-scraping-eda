{
 "cells": [
  {
   "cell_type": "markdown",
   "id": "e77357a0-e97f-4c9a-95a5-9b67e2766dfd",
   "metadata": {},
   "source": [
    "# Exploratory Data Analysis"
   ]
  },
  {
   "cell_type": "code",
   "execution_count": 1,
   "id": "286bc011-7bc0-4a73-9667-36f580b14782",
   "metadata": {},
   "outputs": [],
   "source": [
    "%load_ext lab_black\n",
    "%load_ext autoreload\n",
    "%autoreload 2"
   ]
  },
  {
   "cell_type": "markdown",
   "id": "541aed38-88a5-449e-92a8-672a352284a1",
   "metadata": {},
   "source": [
    "Import Python modules"
   ]
  },
  {
   "cell_type": "code",
   "execution_count": 2,
   "id": "5700155c-8083-4e6b-99ee-fa4a79869854",
   "metadata": {},
   "outputs": [],
   "source": [
    "import os\n",
    "from datetime import datetime\n",
    "from glob import glob\n",
    "\n",
    "import matplotlib.pyplot as plt\n",
    "import numpy as np\n",
    "import pandas as pd\n",
    "import seaborn as sns\n",
    "from matplotlib.colors import LogNorm\n",
    "from matplotlib.ticker import MaxNLocator"
   ]
  },
  {
   "cell_type": "code",
   "execution_count": 3,
   "id": "9a7366aa-7468-48b6-8580-7a96accb56a2",
   "metadata": {},
   "outputs": [],
   "source": [
    "sns.set_context(\"talk\")"
   ]
  },
  {
   "cell_type": "markdown",
   "id": "701cdd84-692c-47ad-a63b-5a3830981fdc",
   "metadata": {},
   "source": [
    "Import any custom modules"
   ]
  },
  {
   "cell_type": "code",
   "execution_count": 4,
   "id": "31284412-968c-42c8-94e3-317862ab8332",
   "metadata": {},
   "outputs": [],
   "source": [
    "%aimport src.utils\n",
    "from src.utils import (\n",
    "    show_df,  # Display first and last n rows of a DataFrame\n",
    "    show_df_dtypes_nans,  # Show the missing values and column datatypes side-by-side\n",
    ")"
   ]
  },
  {
   "cell_type": "markdown",
   "id": "cac4927b-5763-4969-a380-2d4c07c11334",
   "metadata": {
    "tags": []
   },
   "source": [
    "<a href=\"table-of-contents\"></a>\n",
    "\n",
    "## [Table of Contents](#table-of-contents)\n",
    "0. [About](#about)\n",
    "1. [User Inputs](#user-inputs)\n",
    "2. [Load processed and combined dataset of search results and listings](#load-processed-and-combined-dataset-of-search-results-and-listings)\n",
    "   - 2.1. [Load data](#load-data)\n",
    "3. [Cleaning](#cleaning)\n",
    "   - 3.1. [Publisher](#publisher)\n",
    "   - 3.2. [Rating](#rating)\n",
    "   - 3.3. [Prices](#prices)\n",
    "   - 3.4. [Date Columns](#date-columns)\n",
    "4. [Exploratory Data Analysis](#exploratory-data-analysis)\n",
    "   - 4.1. [Early Access](#early-access)\n",
    "   - 4.2. [Platforms](#platforms)\n",
    "   - 4.3. [Franchises](#franchises)\n",
    "   - 4.4. [Publishers and Platforms](#publishers-and-platforms)\n",
    "   - 4.5. [Publishers and Early Access listings](#publishers-and-early-access-listings)\n",
    "   - 4.6. [Publishers and Multi-Language Support](#publishers-and-multi-language-support)\n",
    "   - 4.7. [Developers](#developers)\n",
    "   - 4.8. [Digital Rights Management](#digital-rights-management)\n",
    "   - 4.9. [Genres and User-Defined Tags](#genres-and-user-defined-tags)\n",
    "   - 4.10. [Ratings](#ratings)\n",
    "   - 4.11. [Publishers](#publishers)\n",
    "   - 4.12. [User Rating](#user-rating)\n",
    "   - 4.13. [Listing Prices](#listing-prices)\n",
    "   - 4.14. [Listing Prices over time](#listing-prices-over-time)"
   ]
  },
  {
   "cell_type": "markdown",
   "id": "2559b2e6-e5b4-4677-a617-2274649b25d6",
   "metadata": {},
   "source": [
    "<a id=\"about\"></a>\n",
    "\n",
    "## 0. [About](#about)"
   ]
  },
  {
   "cell_type": "markdown",
   "id": "20926209-0d2b-4fb6-a24c-3e3674722b45",
   "metadata": {},
   "source": [
    "In this notebook, we'll explore the processed dataset created by merging the scraped search results with the scraped listings. Recall that only the dataset acquired using the `requests` library is being considered for analysis. See section 4, of `6_merge_searches_listings.ipynb` for details about this."
   ]
  },
  {
   "cell_type": "markdown",
   "id": "c96a3c02-fbff-4417-98c6-987cbb9efb1d",
   "metadata": {},
   "source": [
    "<a id=\"user-inputs\"></a>\n",
    "\n",
    "## 1. [User Inputs](#user-inputs)"
   ]
  },
  {
   "cell_type": "markdown",
   "id": "8f9c75f9-7494-4c53-bf1d-4860b5a27b61",
   "metadata": {},
   "source": [
    "Define variables that can be changed when running this notebook"
   ]
  },
  {
   "cell_type": "code",
   "execution_count": 5,
   "id": "5f5c2c33-f1df-41ed-b55b-cc2da70b09a9",
   "metadata": {},
   "outputs": [],
   "source": [
    "PROJ_ROOT_DIR = os.getcwd()"
   ]
  },
  {
   "cell_type": "code",
   "execution_count": 6,
   "id": "780db30a-e1dc-4d10-9b49-080df9e4f1ba",
   "metadata": {
    "tags": [
     "parameters"
    ]
   },
   "outputs": [],
   "source": [
    "proc_data_filename = \"processed_data.csv\""
   ]
  },
  {
   "cell_type": "code",
   "execution_count": 7,
   "id": "51624bc7-69bf-4cb1-a098-9aeb04b94ded",
   "metadata": {
    "tags": []
   },
   "outputs": [],
   "source": [
    "# Path to data\n",
    "data_dir = os.path.join(PROJ_ROOT_DIR, \"data\")\n",
    "\n",
    "# Path to data/processed\n",
    "processed_data_dir = os.path.join(data_dir, \"processed\")\n",
    "\n",
    "# Path to processed data file\n",
    "processed_data_filepath = os.path.join(processed_data_dir, proc_data_filename)\n",
    "\n",
    "# Path to reports directory for saving plots\n",
    "reports_data_dir = os.path.join(PROJ_ROOT_DIR, \"reports\", \"figures\")\n",
    "\n",
    "# Define list of months for heatmap\n",
    "months = [\n",
    "    \"January\",\n",
    "    \"February\",\n",
    "    \"March\",\n",
    "    \"April\",\n",
    "    \"May\",\n",
    "    \"June\",\n",
    "    \"July\",\n",
    "    \"August\",\n",
    "    \"September\",\n",
    "    \"October\",\n",
    "    \"November\",\n",
    "    \"December\",\n",
    "]"
   ]
  },
  {
   "cell_type": "markdown",
   "id": "0cc03ac7-a7e8-4e6c-ad9a-d8279b2a4b7c",
   "metadata": {},
   "source": [
    "<a id=\"load-processed-and-combined-dataset-of-search-results-and-listings\"></a>\n",
    "\n",
    "## 2. [Load processed and combined dataset of search results and listings](#load-processed-and-combined-dataset-of-search-results-and-listings)"
   ]
  },
  {
   "cell_type": "markdown",
   "id": "a4a31e4c-9b13-48be-86cc-ffee7c2cff24",
   "metadata": {},
   "source": [
    "<a id=\"load-data\"></a>\n",
    "\n",
    "### 2.1. [Load data](#load-data)"
   ]
  },
  {
   "cell_type": "markdown",
   "id": "08d8c343-146b-4694-bb6a-a6037da99e81",
   "metadata": {},
   "source": [
    "We'll begin by loading the processed data that was exported in `6_merge_searches_listings.ipynb` to a CSV file. Recall that this is a combination of the scraped search results and listings datasets so there are more columns here than in either of those two datasets"
   ]
  },
  {
   "cell_type": "code",
   "execution_count": 8,
   "id": "7e27a007-c906-4c8c-9b8b-726b4f78da8f",
   "metadata": {
    "tags": []
   },
   "outputs": [
    {
     "name": "stdout",
     "output_type": "stream",
     "text": [
      "10035\n"
     ]
    },
    {
     "data": {
      "text/html": [
       "<style type=\"text/css\">\n",
       "</style>\n",
       "<table id=\"T_b9854_\">\n",
       "  <caption>First & Last 1 rows</caption>\n",
       "  <thead>\n",
       "    <tr>\n",
       "      <th class=\"blank level0\" >&nbsp;</th>\n",
       "      <th class=\"col_heading level0 col0\" >review_type_all</th>\n",
       "      <th class=\"col_heading level0 col1\" >overall_review_rating</th>\n",
       "      <th class=\"col_heading level0 col2\" >pct_overall</th>\n",
       "      <th class=\"col_heading level0 col3\" >pct_overall_threshold</th>\n",
       "      <th class=\"col_heading level0 col4\" >pct_overall_lang</th>\n",
       "      <th class=\"col_heading level0 col5\" >pct_overall_threshold_lang</th>\n",
       "      <th class=\"col_heading level0 col6\" >platforms</th>\n",
       "      <th class=\"col_heading level0 col7\" >user_defined_tags</th>\n",
       "      <th class=\"col_heading level0 col8\" >num_steam_achievements</th>\n",
       "      <th class=\"col_heading level0 col9\" >drm</th>\n",
       "      <th class=\"col_heading level0 col10\" >rating</th>\n",
       "      <th class=\"col_heading level0 col11\" >rating_descriptors</th>\n",
       "      <th class=\"col_heading level0 col12\" >review_type_positive</th>\n",
       "      <th class=\"col_heading level0 col13\" >review_type_negative</th>\n",
       "      <th class=\"col_heading level0 col14\" >review_language_mine</th>\n",
       "      <th class=\"col_heading level0 col15\" >Title</th>\n",
       "      <th class=\"col_heading level0 col16\" >Genre</th>\n",
       "      <th class=\"col_heading level0 col17\" >Release Date</th>\n",
       "      <th class=\"col_heading level0 col18\" >Early Access Release Date</th>\n",
       "      <th class=\"col_heading level0 col19\" >Developer</th>\n",
       "      <th class=\"col_heading level0 col20\" >Publisher</th>\n",
       "      <th class=\"col_heading level0 col21\" >Franchise</th>\n",
       "      <th class=\"col_heading level0 col22\" >languages</th>\n",
       "      <th class=\"col_heading level0 col23\" >num_languages</th>\n",
       "      <th class=\"col_heading level0 col24\" >page_num</th>\n",
       "      <th class=\"col_heading level0 col25\" >listing_num</th>\n",
       "      <th class=\"col_heading level0 col26\" >url</th>\n",
       "      <th class=\"col_heading level0 col27\" >filename</th>\n",
       "      <th class=\"col_heading level0 col28\" >app_id</th>\n",
       "      <th class=\"col_heading level0 col29\" >is_collection</th>\n",
       "      <th class=\"col_heading level0 col30\" >discount_pct</th>\n",
       "      <th class=\"col_heading level0 col31\" >original_price</th>\n",
       "      <th class=\"col_heading level0 col32\" >discount_price</th>\n",
       "    </tr>\n",
       "  </thead>\n",
       "  <tbody>\n",
       "    <tr>\n",
       "      <th id=\"T_b9854_level0_row0\" class=\"row_heading level0 row0\" >0</th>\n",
       "      <td id=\"T_b9854_row0_col0\" class=\"data row0 col0\" >nan</td>\n",
       "      <td id=\"T_b9854_row0_col1\" class=\"data row0 col1\" >Very Positive</td>\n",
       "      <td id=\"T_b9854_row0_col2\" class=\"data row0 col2\" >90.000000</td>\n",
       "      <td id=\"T_b9854_row0_col3\" class=\"data row0 col3\" >positive</td>\n",
       "      <td id=\"T_b9854_row0_col4\" class=\"data row0 col4\" >nan</td>\n",
       "      <td id=\"T_b9854_row0_col5\" class=\"data row0 col5\" >nan</td>\n",
       "      <td id=\"T_b9854_row0_col6\" class=\"data row0 col6\" >win</td>\n",
       "      <td id=\"T_b9854_row0_col7\" class=\"data row0 col7\" >Early Access, Co-op, Naval Combat, Online Co-Op, Character Customization, FPS, Pirates, Historical, Open World, PvP, Fast-Paced, Battle Royale, First-Person, Survival, Team-Based, Competitive, Funny, Shooter, Action, Naval</td>\n",
       "      <td id=\"T_b9854_row0_col8\" class=\"data row0 col8\" >nan</td>\n",
       "      <td id=\"T_b9854_row0_col9\" class=\"data row0 col9\" >Requires agreement to a 3rd-party EULA, Blazing Sails EULA</td>\n",
       "      <td id=\"T_b9854_row0_col10\" class=\"data row0 col10\" >nan</td>\n",
       "      <td id=\"T_b9854_row0_col11\" class=\"data row0 col11\" >nan</td>\n",
       "      <td id=\"T_b9854_row0_col12\" class=\"data row0 col12\" >nan</td>\n",
       "      <td id=\"T_b9854_row0_col13\" class=\"data row0 col13\" >nan</td>\n",
       "      <td id=\"T_b9854_row0_col14\" class=\"data row0 col14\" >nan</td>\n",
       "      <td id=\"T_b9854_row0_col15\" class=\"data row0 col15\" >Blazing Sails</td>\n",
       "      <td id=\"T_b9854_row0_col16\" class=\"data row0 col16\" >Action, Adventure, Casual, Indie, Early Access</td>\n",
       "      <td id=\"T_b9854_row0_col17\" class=\"data row0 col17\" >Nov 5, 2020</td>\n",
       "      <td id=\"T_b9854_row0_col18\" class=\"data row0 col18\" >Sep 9, 2020</td>\n",
       "      <td id=\"T_b9854_row0_col19\" class=\"data row0 col19\" >Get Up Games</td>\n",
       "      <td id=\"T_b9854_row0_col20\" class=\"data row0 col20\" >Iceberg Interactive</td>\n",
       "      <td id=\"T_b9854_row0_col21\" class=\"data row0 col21\" >Iceberg Interactive</td>\n",
       "      <td id=\"T_b9854_row0_col22\" class=\"data row0 col22\" >True</td>\n",
       "      <td id=\"T_b9854_row0_col23\" class=\"data row0 col23\" >15.000000</td>\n",
       "      <td id=\"T_b9854_row0_col24\" class=\"data row0 col24\" >50</td>\n",
       "      <td id=\"T_b9854_row0_col25\" class=\"data row0 col25\" >1</td>\n",
       "      <td id=\"T_b9854_row0_col26\" class=\"data row0 col26\" >https://store.steampowered.com/app/1158940/Blazing_Sails/</td>\n",
       "      <td id=\"T_b9854_row0_col27\" class=\"data row0 col27\" >p50_l1_Blazing_Sails.csv</td>\n",
       "      <td id=\"T_b9854_row0_col28\" class=\"data row0 col28\" >1158940</td>\n",
       "      <td id=\"T_b9854_row0_col29\" class=\"data row0 col29\" >False</td>\n",
       "      <td id=\"T_b9854_row0_col30\" class=\"data row0 col30\" >-30%</td>\n",
       "      <td id=\"T_b9854_row0_col31\" class=\"data row0 col31\" >14.99</td>\n",
       "      <td id=\"T_b9854_row0_col32\" class=\"data row0 col32\" >10.490000</td>\n",
       "    </tr>\n",
       "    <tr>\n",
       "      <th id=\"T_b9854_level0_row1\" class=\"row_heading level0 row1\" >10034</th>\n",
       "      <td id=\"T_b9854_row1_col0\" class=\"data row1 col0\" >nan</td>\n",
       "      <td id=\"T_b9854_row1_col1\" class=\"data row1 col1\" >Mostly Positive</td>\n",
       "      <td id=\"T_b9854_row1_col2\" class=\"data row1 col2\" >73.000000</td>\n",
       "      <td id=\"T_b9854_row1_col3\" class=\"data row1 col3\" >positive</td>\n",
       "      <td id=\"T_b9854_row1_col4\" class=\"data row1 col4\" >nan</td>\n",
       "      <td id=\"T_b9854_row1_col5\" class=\"data row1 col5\" >nan</td>\n",
       "      <td id=\"T_b9854_row1_col6\" class=\"data row1 col6\" >win, mac</td>\n",
       "      <td id=\"T_b9854_row1_col7\" class=\"data row1 col7\" >Survival, Simulation, Strategy, Indie, RPG, Adventure, Management, Crafting, Singleplayer, Casual, Resource Management</td>\n",
       "      <td id=\"T_b9854_row1_col8\" class=\"data row1 col8\" >nan</td>\n",
       "      <td id=\"T_b9854_row1_col9\" class=\"data row1 col9\" >nan</td>\n",
       "      <td id=\"T_b9854_row1_col10\" class=\"data row1 col10\" >nan</td>\n",
       "      <td id=\"T_b9854_row1_col11\" class=\"data row1 col11\" >nan</td>\n",
       "      <td id=\"T_b9854_row1_col12\" class=\"data row1 col12\" >nan</td>\n",
       "      <td id=\"T_b9854_row1_col13\" class=\"data row1 col13\" >nan</td>\n",
       "      <td id=\"T_b9854_row1_col14\" class=\"data row1 col14\" >nan</td>\n",
       "      <td id=\"T_b9854_row1_col15\" class=\"data row1 col15\" >Dead In Bermuda</td>\n",
       "      <td id=\"T_b9854_row1_col16\" class=\"data row1 col16\" >Adventure, Indie, RPG, Simulation, Strategy</td>\n",
       "      <td id=\"T_b9854_row1_col17\" class=\"data row1 col17\" >Aug 27, 2015</td>\n",
       "      <td id=\"T_b9854_row1_col18\" class=\"data row1 col18\" >nan</td>\n",
       "      <td id=\"T_b9854_row1_col19\" class=\"data row1 col19\" >Ishtar Games</td>\n",
       "      <td id=\"T_b9854_row1_col20\" class=\"data row1 col20\" >Dear Villagers</td>\n",
       "      <td id=\"T_b9854_row1_col21\" class=\"data row1 col21\" >Dead In Games, Dear Villagers</td>\n",
       "      <td id=\"T_b9854_row1_col22\" class=\"data row1 col22\" >True</td>\n",
       "      <td id=\"T_b9854_row1_col23\" class=\"data row1 col23\" >5.000000</td>\n",
       "      <td id=\"T_b9854_row1_col24\" class=\"data row1 col24\" >505</td>\n",
       "      <td id=\"T_b9854_row1_col25\" class=\"data row1 col25\" >24</td>\n",
       "      <td id=\"T_b9854_row1_col26\" class=\"data row1 col26\" >https://store.steampowered.com/app/384310/Dead In Bermuda/</td>\n",
       "      <td id=\"T_b9854_row1_col27\" class=\"data row1 col27\" >p505_l24_Dead_In_Bermuda.csv</td>\n",
       "      <td id=\"T_b9854_row1_col28\" class=\"data row1 col28\" >384310</td>\n",
       "      <td id=\"T_b9854_row1_col29\" class=\"data row1 col29\" >False</td>\n",
       "      <td id=\"T_b9854_row1_col30\" class=\"data row1 col30\" >nan</td>\n",
       "      <td id=\"T_b9854_row1_col31\" class=\"data row1 col31\" >14.99</td>\n",
       "      <td id=\"T_b9854_row1_col32\" class=\"data row1 col32\" >nan</td>\n",
       "    </tr>\n",
       "  </tbody>\n",
       "</table>\n"
      ],
      "text/plain": [
       "<pandas.io.formats.style.Styler at 0x7fe0be187460>"
      ]
     },
     "metadata": {},
     "output_type": "display_data"
    },
    {
     "data": {
      "text/html": [
       "<style type=\"text/css\">\n",
       "</style>\n",
       "<table id=\"T_9b091_\">\n",
       "  <caption>Column Datatypes and Missing Values</caption>\n",
       "  <thead>\n",
       "    <tr>\n",
       "      <th class=\"blank level0\" >&nbsp;</th>\n",
       "      <th class=\"col_heading level0 col0\" >num_missing</th>\n",
       "      <th class=\"col_heading level0 col1\" >dtype</th>\n",
       "    </tr>\n",
       "  </thead>\n",
       "  <tbody>\n",
       "    <tr>\n",
       "      <th id=\"T_9b091_level0_row0\" class=\"row_heading level0 row0\" >review_type_all</th>\n",
       "      <td id=\"T_9b091_row0_col0\" class=\"data row0 col0\" >10035</td>\n",
       "      <td id=\"T_9b091_row0_col1\" class=\"data row0 col1\" >float64</td>\n",
       "    </tr>\n",
       "    <tr>\n",
       "      <th id=\"T_9b091_level0_row1\" class=\"row_heading level0 row1\" >overall_review_rating</th>\n",
       "      <td id=\"T_9b091_row1_col0\" class=\"data row1 col0\" >10</td>\n",
       "      <td id=\"T_9b091_row1_col1\" class=\"data row1 col1\" >object</td>\n",
       "    </tr>\n",
       "    <tr>\n",
       "      <th id=\"T_9b091_level0_row2\" class=\"row_heading level0 row2\" >pct_overall</th>\n",
       "      <td id=\"T_9b091_row2_col0\" class=\"data row2 col0\" >14</td>\n",
       "      <td id=\"T_9b091_row2_col1\" class=\"data row2 col1\" >float64</td>\n",
       "    </tr>\n",
       "    <tr>\n",
       "      <th id=\"T_9b091_level0_row3\" class=\"row_heading level0 row3\" >pct_overall_threshold</th>\n",
       "      <td id=\"T_9b091_row3_col0\" class=\"data row3 col0\" >14</td>\n",
       "      <td id=\"T_9b091_row3_col1\" class=\"data row3 col1\" >object</td>\n",
       "    </tr>\n",
       "    <tr>\n",
       "      <th id=\"T_9b091_level0_row4\" class=\"row_heading level0 row4\" >pct_overall_lang</th>\n",
       "      <td id=\"T_9b091_row4_col0\" class=\"data row4 col0\" >10035</td>\n",
       "      <td id=\"T_9b091_row4_col1\" class=\"data row4 col1\" >float64</td>\n",
       "    </tr>\n",
       "    <tr>\n",
       "      <th id=\"T_9b091_level0_row5\" class=\"row_heading level0 row5\" >pct_overall_threshold_lang</th>\n",
       "      <td id=\"T_9b091_row5_col0\" class=\"data row5 col0\" >10035</td>\n",
       "      <td id=\"T_9b091_row5_col1\" class=\"data row5 col1\" >float64</td>\n",
       "    </tr>\n",
       "    <tr>\n",
       "      <th id=\"T_9b091_level0_row6\" class=\"row_heading level0 row6\" >platforms</th>\n",
       "      <td id=\"T_9b091_row6_col0\" class=\"data row6 col0\" >33</td>\n",
       "      <td id=\"T_9b091_row6_col1\" class=\"data row6 col1\" >object</td>\n",
       "    </tr>\n",
       "    <tr>\n",
       "      <th id=\"T_9b091_level0_row7\" class=\"row_heading level0 row7\" >user_defined_tags</th>\n",
       "      <td id=\"T_9b091_row7_col0\" class=\"data row7 col0\" >0</td>\n",
       "      <td id=\"T_9b091_row7_col1\" class=\"data row7 col1\" >object</td>\n",
       "    </tr>\n",
       "    <tr>\n",
       "      <th id=\"T_9b091_level0_row8\" class=\"row_heading level0 row8\" >num_steam_achievements</th>\n",
       "      <td id=\"T_9b091_row8_col0\" class=\"data row8 col0\" >10035</td>\n",
       "      <td id=\"T_9b091_row8_col1\" class=\"data row8 col1\" >float64</td>\n",
       "    </tr>\n",
       "    <tr>\n",
       "      <th id=\"T_9b091_level0_row9\" class=\"row_heading level0 row9\" >drm</th>\n",
       "      <td id=\"T_9b091_row9_col0\" class=\"data row9 col0\" >8854</td>\n",
       "      <td id=\"T_9b091_row9_col1\" class=\"data row9 col1\" >object</td>\n",
       "    </tr>\n",
       "    <tr>\n",
       "      <th id=\"T_9b091_level0_row10\" class=\"row_heading level0 row10\" >rating</th>\n",
       "      <td id=\"T_9b091_row10_col0\" class=\"data row10 col0\" >7686</td>\n",
       "      <td id=\"T_9b091_row10_col1\" class=\"data row10 col1\" >object</td>\n",
       "    </tr>\n",
       "    <tr>\n",
       "      <th id=\"T_9b091_level0_row11\" class=\"row_heading level0 row11\" >rating_descriptors</th>\n",
       "      <td id=\"T_9b091_row11_col0\" class=\"data row11 col0\" >8272</td>\n",
       "      <td id=\"T_9b091_row11_col1\" class=\"data row11 col1\" >object</td>\n",
       "    </tr>\n",
       "    <tr>\n",
       "      <th id=\"T_9b091_level0_row12\" class=\"row_heading level0 row12\" >review_type_positive</th>\n",
       "      <td id=\"T_9b091_row12_col0\" class=\"data row12 col0\" >10035</td>\n",
       "      <td id=\"T_9b091_row12_col1\" class=\"data row12 col1\" >float64</td>\n",
       "    </tr>\n",
       "    <tr>\n",
       "      <th id=\"T_9b091_level0_row13\" class=\"row_heading level0 row13\" >review_type_negative</th>\n",
       "      <td id=\"T_9b091_row13_col0\" class=\"data row13 col0\" >10035</td>\n",
       "      <td id=\"T_9b091_row13_col1\" class=\"data row13 col1\" >float64</td>\n",
       "    </tr>\n",
       "    <tr>\n",
       "      <th id=\"T_9b091_level0_row14\" class=\"row_heading level0 row14\" >review_language_mine</th>\n",
       "      <td id=\"T_9b091_row14_col0\" class=\"data row14 col0\" >10035</td>\n",
       "      <td id=\"T_9b091_row14_col1\" class=\"data row14 col1\" >float64</td>\n",
       "    </tr>\n",
       "    <tr>\n",
       "      <th id=\"T_9b091_level0_row15\" class=\"row_heading level0 row15\" >Title</th>\n",
       "      <td id=\"T_9b091_row15_col0\" class=\"data row15 col0\" >0</td>\n",
       "      <td id=\"T_9b091_row15_col1\" class=\"data row15 col1\" >object</td>\n",
       "    </tr>\n",
       "    <tr>\n",
       "      <th id=\"T_9b091_level0_row16\" class=\"row_heading level0 row16\" >Genre</th>\n",
       "      <td id=\"T_9b091_row16_col0\" class=\"data row16 col0\" >12</td>\n",
       "      <td id=\"T_9b091_row16_col1\" class=\"data row16 col1\" >object</td>\n",
       "    </tr>\n",
       "    <tr>\n",
       "      <th id=\"T_9b091_level0_row17\" class=\"row_heading level0 row17\" >Release Date</th>\n",
       "      <td id=\"T_9b091_row17_col0\" class=\"data row17 col0\" >10</td>\n",
       "      <td id=\"T_9b091_row17_col1\" class=\"data row17 col1\" >object</td>\n",
       "    </tr>\n",
       "    <tr>\n",
       "      <th id=\"T_9b091_level0_row18\" class=\"row_heading level0 row18\" >Early Access Release Date</th>\n",
       "      <td id=\"T_9b091_row18_col0\" class=\"data row18 col0\" >8939</td>\n",
       "      <td id=\"T_9b091_row18_col1\" class=\"data row18 col1\" >object</td>\n",
       "    </tr>\n",
       "    <tr>\n",
       "      <th id=\"T_9b091_level0_row19\" class=\"row_heading level0 row19\" >Developer</th>\n",
       "      <td id=\"T_9b091_row19_col0\" class=\"data row19 col0\" >16</td>\n",
       "      <td id=\"T_9b091_row19_col1\" class=\"data row19 col1\" >object</td>\n",
       "    </tr>\n",
       "    <tr>\n",
       "      <th id=\"T_9b091_level0_row20\" class=\"row_heading level0 row20\" >Publisher</th>\n",
       "      <td id=\"T_9b091_row20_col0\" class=\"data row20 col0\" >36</td>\n",
       "      <td id=\"T_9b091_row20_col1\" class=\"data row20 col1\" >object</td>\n",
       "    </tr>\n",
       "    <tr>\n",
       "      <th id=\"T_9b091_level0_row21\" class=\"row_heading level0 row21\" >Franchise</th>\n",
       "      <td id=\"T_9b091_row21_col0\" class=\"data row21 col0\" >6643</td>\n",
       "      <td id=\"T_9b091_row21_col1\" class=\"data row21 col1\" >object</td>\n",
       "    </tr>\n",
       "    <tr>\n",
       "      <th id=\"T_9b091_level0_row22\" class=\"row_heading level0 row22\" >languages</th>\n",
       "      <td id=\"T_9b091_row22_col0\" class=\"data row22 col0\" >0</td>\n",
       "      <td id=\"T_9b091_row22_col1\" class=\"data row22 col1\" >bool</td>\n",
       "    </tr>\n",
       "    <tr>\n",
       "      <th id=\"T_9b091_level0_row23\" class=\"row_heading level0 row23\" >num_languages</th>\n",
       "      <td id=\"T_9b091_row23_col0\" class=\"data row23 col0\" >0</td>\n",
       "      <td id=\"T_9b091_row23_col1\" class=\"data row23 col1\" >float64</td>\n",
       "    </tr>\n",
       "    <tr>\n",
       "      <th id=\"T_9b091_level0_row24\" class=\"row_heading level0 row24\" >page_num</th>\n",
       "      <td id=\"T_9b091_row24_col0\" class=\"data row24 col0\" >0</td>\n",
       "      <td id=\"T_9b091_row24_col1\" class=\"data row24 col1\" >int64</td>\n",
       "    </tr>\n",
       "    <tr>\n",
       "      <th id=\"T_9b091_level0_row25\" class=\"row_heading level0 row25\" >listing_num</th>\n",
       "      <td id=\"T_9b091_row25_col0\" class=\"data row25 col0\" >0</td>\n",
       "      <td id=\"T_9b091_row25_col1\" class=\"data row25 col1\" >int64</td>\n",
       "    </tr>\n",
       "    <tr>\n",
       "      <th id=\"T_9b091_level0_row26\" class=\"row_heading level0 row26\" >url</th>\n",
       "      <td id=\"T_9b091_row26_col0\" class=\"data row26 col0\" >0</td>\n",
       "      <td id=\"T_9b091_row26_col1\" class=\"data row26 col1\" >object</td>\n",
       "    </tr>\n",
       "    <tr>\n",
       "      <th id=\"T_9b091_level0_row27\" class=\"row_heading level0 row27\" >filename</th>\n",
       "      <td id=\"T_9b091_row27_col0\" class=\"data row27 col0\" >0</td>\n",
       "      <td id=\"T_9b091_row27_col1\" class=\"data row27 col1\" >object</td>\n",
       "    </tr>\n",
       "    <tr>\n",
       "      <th id=\"T_9b091_level0_row28\" class=\"row_heading level0 row28\" >app_id</th>\n",
       "      <td id=\"T_9b091_row28_col0\" class=\"data row28 col0\" >0</td>\n",
       "      <td id=\"T_9b091_row28_col1\" class=\"data row28 col1\" >int64</td>\n",
       "    </tr>\n",
       "    <tr>\n",
       "      <th id=\"T_9b091_level0_row29\" class=\"row_heading level0 row29\" >is_collection</th>\n",
       "      <td id=\"T_9b091_row29_col0\" class=\"data row29 col0\" >0</td>\n",
       "      <td id=\"T_9b091_row29_col1\" class=\"data row29 col1\" >bool</td>\n",
       "    </tr>\n",
       "    <tr>\n",
       "      <th id=\"T_9b091_level0_row30\" class=\"row_heading level0 row30\" >discount_pct</th>\n",
       "      <td id=\"T_9b091_row30_col0\" class=\"data row30 col0\" >9467</td>\n",
       "      <td id=\"T_9b091_row30_col1\" class=\"data row30 col1\" >object</td>\n",
       "    </tr>\n",
       "    <tr>\n",
       "      <th id=\"T_9b091_level0_row31\" class=\"row_heading level0 row31\" >original_price</th>\n",
       "      <td id=\"T_9b091_row31_col0\" class=\"data row31 col0\" >31</td>\n",
       "      <td id=\"T_9b091_row31_col1\" class=\"data row31 col1\" >object</td>\n",
       "    </tr>\n",
       "    <tr>\n",
       "      <th id=\"T_9b091_level0_row32\" class=\"row_heading level0 row32\" >discount_price</th>\n",
       "      <td id=\"T_9b091_row32_col0\" class=\"data row32 col0\" >9467</td>\n",
       "      <td id=\"T_9b091_row32_col1\" class=\"data row32 col1\" >float64</td>\n",
       "    </tr>\n",
       "  </tbody>\n",
       "</table>\n"
      ],
      "text/plain": [
       "<pandas.io.formats.style.Styler at 0x7fe0be15e190>"
      ]
     },
     "metadata": {},
     "output_type": "display_data"
    },
    {
     "name": "stdout",
     "output_type": "stream",
     "text": [
      "CPU times: user 124 ms, sys: 4.17 ms, total: 128 ms\n",
      "Wall time: 126 ms\n"
     ]
    }
   ],
   "source": [
    "%%time\n",
    "df = pd.read_csv(processed_data_filepath)\n",
    "print(len(df))\n",
    "show_df(df, 1)\n",
    "show_df_dtypes_nans(df)"
   ]
  },
  {
   "cell_type": "markdown",
   "id": "dd4d1c4c-f44d-4d43-ba8f-263e1dd8522c",
   "metadata": {},
   "source": [
    "<a id=\"cleaning\"></a>\n",
    "\n",
    "## 3. [Cleaning](#cleaning)"
   ]
  },
  {
   "cell_type": "markdown",
   "id": "b204fe8f-1c38-489d-9041-232cf41c8134",
   "metadata": {},
   "source": [
    "<a id=\"publisher\"></a>\n",
    "\n",
    "### 3.1. [Publisher](#publisher)"
   ]
  },
  {
   "cell_type": "markdown",
   "id": "c92f1d78-9f70-47ca-983b-9b3ddcf35fee",
   "metadata": {},
   "source": [
    "The `Publisher` column consists of comma-separated strings. Replace this by a list where each element in the list is a listing publisher."
   ]
  },
  {
   "cell_type": "code",
   "execution_count": 9,
   "id": "cae4f496-145e-46a0-ab32-eb865b51670d",
   "metadata": {},
   "outputs": [
    {
     "data": {
      "text/html": [
       "<style type=\"text/css\">\n",
       "</style>\n",
       "<table id=\"T_72caa_\">\n",
       "  <caption>First & Last 5 rows</caption>\n",
       "  <thead>\n",
       "    <tr>\n",
       "      <th class=\"blank level0\" >&nbsp;</th>\n",
       "      <th class=\"col_heading level0 col0\" >Publisher</th>\n",
       "      <th class=\"col_heading level0 col1\" >num_listings</th>\n",
       "    </tr>\n",
       "  </thead>\n",
       "  <tbody>\n",
       "    <tr>\n",
       "      <th id=\"T_72caa_level0_row0\" class=\"row_heading level0 row0\" >0</th>\n",
       "      <td id=\"T_72caa_row0_col0\" class=\"data row0 col0\" >THQ Nordic</td>\n",
       "      <td id=\"T_72caa_row0_col1\" class=\"data row0 col1\" >87</td>\n",
       "    </tr>\n",
       "    <tr>\n",
       "      <th id=\"T_72caa_level0_row1\" class=\"row_heading level0 row1\" >1</th>\n",
       "      <td id=\"T_72caa_row1_col0\" class=\"data row1 col0\" >Sekai Project</td>\n",
       "      <td id=\"T_72caa_row1_col1\" class=\"data row1 col1\" >74</td>\n",
       "    </tr>\n",
       "    <tr>\n",
       "      <th id=\"T_72caa_level0_row2\" class=\"row_heading level0 row2\" >2</th>\n",
       "      <td id=\"T_72caa_row2_col0\" class=\"data row2 col0\" >Square Enix</td>\n",
       "      <td id=\"T_72caa_row2_col1\" class=\"data row2 col1\" >74</td>\n",
       "    </tr>\n",
       "    <tr>\n",
       "      <th id=\"T_72caa_level0_row3\" class=\"row_heading level0 row3\" >3</th>\n",
       "      <td id=\"T_72caa_row3_col0\" class=\"data row3 col0\" >Ubisoft</td>\n",
       "      <td id=\"T_72caa_row3_col1\" class=\"data row3 col1\" >66</td>\n",
       "    </tr>\n",
       "    <tr>\n",
       "      <th id=\"T_72caa_level0_row4\" class=\"row_heading level0 row4\" >4</th>\n",
       "      <td id=\"T_72caa_row4_col0\" class=\"data row4 col0\" >Artifex Mundi</td>\n",
       "      <td id=\"T_72caa_row4_col1\" class=\"data row4 col1\" >62</td>\n",
       "    </tr>\n",
       "    <tr>\n",
       "      <th id=\"T_72caa_level0_row5\" class=\"row_heading level0 row5\" >4852</th>\n",
       "      <td id=\"T_72caa_row5_col0\" class=\"data row5 col0\" >ghosthunter</td>\n",
       "      <td id=\"T_72caa_row5_col1\" class=\"data row5 col1\" >1</td>\n",
       "    </tr>\n",
       "    <tr>\n",
       "      <th id=\"T_72caa_level0_row6\" class=\"row_heading level0 row6\" >4853</th>\n",
       "      <td id=\"T_72caa_row6_col0\" class=\"data row6 col0\" >HOBIBOX</td>\n",
       "      <td id=\"T_72caa_row6_col1\" class=\"data row6 col1\" >1</td>\n",
       "    </tr>\n",
       "    <tr>\n",
       "      <th id=\"T_72caa_level0_row7\" class=\"row_heading level0 row7\" >4854</th>\n",
       "      <td id=\"T_72caa_row7_col0\" class=\"data row7 col0\" >Robert Gammon</td>\n",
       "      <td id=\"T_72caa_row7_col1\" class=\"data row7 col1\" >1</td>\n",
       "    </tr>\n",
       "    <tr>\n",
       "      <th id=\"T_72caa_level0_row8\" class=\"row_heading level0 row8\" >4855</th>\n",
       "      <td id=\"T_72caa_row8_col0\" class=\"data row8 col0\" >FOAM Entertainment</td>\n",
       "      <td id=\"T_72caa_row8_col1\" class=\"data row8 col1\" >1</td>\n",
       "    </tr>\n",
       "    <tr>\n",
       "      <th id=\"T_72caa_level0_row9\" class=\"row_heading level0 row9\" >4856</th>\n",
       "      <td id=\"T_72caa_row9_col0\" class=\"data row9 col0\" >oukaein</td>\n",
       "      <td id=\"T_72caa_row9_col1\" class=\"data row9 col1\" >1</td>\n",
       "    </tr>\n",
       "  </tbody>\n",
       "</table>\n"
      ],
      "text/plain": [
       "<pandas.io.formats.style.Styler at 0x7fe0be1d8640>"
      ]
     },
     "metadata": {},
     "output_type": "display_data"
    }
   ],
   "source": [
    "show_df(\n",
    "    df[\"Publisher\"]\n",
    "    .value_counts(dropna=False)\n",
    "    .reset_index()\n",
    "    .rename(columns={\"Publisher\": \"num_listings\", \"index\": \"Publisher\"}),\n",
    "    5,\n",
    ")"
   ]
  },
  {
   "cell_type": "markdown",
   "id": "ae9712bb-ca54-43f7-89f2-08eacfc34a71",
   "metadata": {},
   "source": [
    "Clean listings such as `ABC,Inc.` (replace by `ABC Inc.`) so that we can split unique publishers on commas\n",
    "- considers `NaN` or `(none)` to be zero publishers"
   ]
  },
  {
   "cell_type": "code",
   "execution_count": 10,
   "id": "df718f0d-1f14-4be6-a9f4-4deb4e96e583",
   "metadata": {},
   "outputs": [
    {
     "data": {
      "text/html": [
       "<style type=\"text/css\">\n",
       "</style>\n",
       "<table id=\"T_11e98_\">\n",
       "  <caption>First & Last 10 rows</caption>\n",
       "  <thead>\n",
       "    <tr>\n",
       "      <th class=\"blank level0\" >&nbsp;</th>\n",
       "      <th class=\"col_heading level0 col0\" >Publisher</th>\n",
       "      <th class=\"col_heading level0 col1\" >Publisher_cleaned</th>\n",
       "    </tr>\n",
       "  </thead>\n",
       "  <tbody>\n",
       "    <tr>\n",
       "      <th id=\"T_11e98_level0_row0\" class=\"row_heading level0 row0\" >0</th>\n",
       "      <td id=\"T_11e98_row0_col0\" class=\"data row0 col0\" >Iceberg Interactive</td>\n",
       "      <td id=\"T_11e98_row0_col1\" class=\"data row0 col1\" >iceberg interactive</td>\n",
       "    </tr>\n",
       "    <tr>\n",
       "      <th id=\"T_11e98_level0_row1\" class=\"row_heading level0 row1\" >1</th>\n",
       "      <td id=\"T_11e98_row1_col0\" class=\"data row1 col0\" >Warner Bros. Interactive Entertainment</td>\n",
       "      <td id=\"T_11e98_row1_col1\" class=\"data row1 col1\" >warner bros. interactive entertainment</td>\n",
       "    </tr>\n",
       "    <tr>\n",
       "      <th id=\"T_11e98_level0_row2\" class=\"row_heading level0 row2\" >2</th>\n",
       "      <td id=\"T_11e98_row2_col0\" class=\"data row2 col0\" >Thunderful Publishing</td>\n",
       "      <td id=\"T_11e98_row2_col1\" class=\"data row2 col1\" >thunderful publishing</td>\n",
       "    </tr>\n",
       "    <tr>\n",
       "      <th id=\"T_11e98_level0_row3\" class=\"row_heading level0 row3\" >3</th>\n",
       "      <td id=\"T_11e98_row3_col0\" class=\"data row3 col0\" >Joseph Distler</td>\n",
       "      <td id=\"T_11e98_row3_col1\" class=\"data row3 col1\" >joseph distler</td>\n",
       "    </tr>\n",
       "    <tr>\n",
       "      <th id=\"T_11e98_level0_row4\" class=\"row_heading level0 row4\" >4</th>\n",
       "      <td id=\"T_11e98_row4_col0\" class=\"data row4 col0\" >Noio</td>\n",
       "      <td id=\"T_11e98_row4_col1\" class=\"data row4 col1\" >noio</td>\n",
       "    </tr>\n",
       "    <tr>\n",
       "      <th id=\"T_11e98_level0_row5\" class=\"row_heading level0 row5\" >5</th>\n",
       "      <td id=\"T_11e98_row5_col0\" class=\"data row5 col0\" >NIS America, Inc.</td>\n",
       "      <td id=\"T_11e98_row5_col1\" class=\"data row5 col1\" >nis america inc.</td>\n",
       "    </tr>\n",
       "    <tr>\n",
       "      <th id=\"T_11e98_level0_row6\" class=\"row_heading level0 row6\" >6</th>\n",
       "      <td id=\"T_11e98_row6_col0\" class=\"data row6 col0\" >SEGA</td>\n",
       "      <td id=\"T_11e98_row6_col1\" class=\"data row6 col1\" >sega</td>\n",
       "    </tr>\n",
       "    <tr>\n",
       "      <th id=\"T_11e98_level0_row7\" class=\"row_heading level0 row7\" >7</th>\n",
       "      <td id=\"T_11e98_row7_col0\" class=\"data row7 col0\" >Wales Interactive</td>\n",
       "      <td id=\"T_11e98_row7_col1\" class=\"data row7 col1\" >wales interactive</td>\n",
       "    </tr>\n",
       "    <tr>\n",
       "      <th id=\"T_11e98_level0_row8\" class=\"row_heading level0 row8\" >8</th>\n",
       "      <td id=\"T_11e98_row8_col0\" class=\"data row8 col0\" >Weather Factory</td>\n",
       "      <td id=\"T_11e98_row8_col1\" class=\"data row8 col1\" >weather factory</td>\n",
       "    </tr>\n",
       "    <tr>\n",
       "      <th id=\"T_11e98_level0_row9\" class=\"row_heading level0 row9\" >9</th>\n",
       "      <td id=\"T_11e98_row9_col0\" class=\"data row9 col0\" >XSEED Games, Marvelous USA, Inc.</td>\n",
       "      <td id=\"T_11e98_row9_col1\" class=\"data row9 col1\" >xseed games, marvelous usa inc.</td>\n",
       "    </tr>\n",
       "    <tr>\n",
       "      <th id=\"T_11e98_level0_row10\" class=\"row_heading level0 row10\" >10025</th>\n",
       "      <td id=\"T_11e98_row10_col0\" class=\"data row10 col0\" >DanielDavisGames</td>\n",
       "      <td id=\"T_11e98_row10_col1\" class=\"data row10 col1\" >danieldavisgames</td>\n",
       "    </tr>\n",
       "    <tr>\n",
       "      <th id=\"T_11e98_level0_row11\" class=\"row_heading level0 row11\" >10026</th>\n",
       "      <td id=\"T_11e98_row11_col0\" class=\"data row11 col0\" >Walk Thru Walls Studios</td>\n",
       "      <td id=\"T_11e98_row11_col1\" class=\"data row11 col1\" >walk thru walls studios</td>\n",
       "    </tr>\n",
       "    <tr>\n",
       "      <th id=\"T_11e98_level0_row12\" class=\"row_heading level0 row12\" >10027</th>\n",
       "      <td id=\"T_11e98_row12_col0\" class=\"data row12 col0\" >gridmaniac</td>\n",
       "      <td id=\"T_11e98_row12_col1\" class=\"data row12 col1\" >gridmaniac</td>\n",
       "    </tr>\n",
       "    <tr>\n",
       "      <th id=\"T_11e98_level0_row13\" class=\"row_heading level0 row13\" >10028</th>\n",
       "      <td id=\"T_11e98_row13_col0\" class=\"data row13 col0\" >Yai Gameworks</td>\n",
       "      <td id=\"T_11e98_row13_col1\" class=\"data row13 col1\" >yai gameworks</td>\n",
       "    </tr>\n",
       "    <tr>\n",
       "      <th id=\"T_11e98_level0_row14\" class=\"row_heading level0 row14\" >10029</th>\n",
       "      <td id=\"T_11e98_row14_col0\" class=\"data row14 col0\" >D-Games</td>\n",
       "      <td id=\"T_11e98_row14_col1\" class=\"data row14 col1\" >d-games</td>\n",
       "    </tr>\n",
       "    <tr>\n",
       "      <th id=\"T_11e98_level0_row15\" class=\"row_heading level0 row15\" >10030</th>\n",
       "      <td id=\"T_11e98_row15_col0\" class=\"data row15 col0\" >Way Down Deep</td>\n",
       "      <td id=\"T_11e98_row15_col1\" class=\"data row15 col1\" >way down deep</td>\n",
       "    </tr>\n",
       "    <tr>\n",
       "      <th id=\"T_11e98_level0_row16\" class=\"row_heading level0 row16\" >10031</th>\n",
       "      <td id=\"T_11e98_row16_col0\" class=\"data row16 col0\" >oukaein</td>\n",
       "      <td id=\"T_11e98_row16_col1\" class=\"data row16 col1\" >oukaein</td>\n",
       "    </tr>\n",
       "    <tr>\n",
       "      <th id=\"T_11e98_level0_row17\" class=\"row_heading level0 row17\" >10032</th>\n",
       "      <td id=\"T_11e98_row17_col0\" class=\"data row17 col0\" >Wargaming.net</td>\n",
       "      <td id=\"T_11e98_row17_col1\" class=\"data row17 col1\" >wargaming.net</td>\n",
       "    </tr>\n",
       "    <tr>\n",
       "      <th id=\"T_11e98_level0_row18\" class=\"row_heading level0 row18\" >10033</th>\n",
       "      <td id=\"T_11e98_row18_col0\" class=\"data row18 col0\" >Randumb Studios</td>\n",
       "      <td id=\"T_11e98_row18_col1\" class=\"data row18 col1\" >randumb studios</td>\n",
       "    </tr>\n",
       "    <tr>\n",
       "      <th id=\"T_11e98_level0_row19\" class=\"row_heading level0 row19\" >10034</th>\n",
       "      <td id=\"T_11e98_row19_col0\" class=\"data row19 col0\" >Dear Villagers</td>\n",
       "      <td id=\"T_11e98_row19_col1\" class=\"data row19 col1\" >dear villagers</td>\n",
       "    </tr>\n",
       "  </tbody>\n",
       "</table>\n"
      ],
      "text/plain": [
       "<pandas.io.formats.style.Styler at 0x7fe0bdc2b400>"
      ]
     },
     "metadata": {},
     "output_type": "display_data"
    }
   ],
   "source": [
    "df[\"Publisher_cleaned\"] = (\n",
    "    df[\"Publisher\"]\n",
    "    .fillna(\"(none)\")\n",
    "    .str.replace(\"(none)\", \"None\", regex=False)\n",
    "    .str.lower()\n",
    "    .str.replace(\", i\", \" i\")\n",
    "    .str.replace(\", l\", \" l\")\n",
    "    .str.replace(\",i\", \" i\")\n",
    "    .str.replace(\",l\", \" l\")\n",
    ")\n",
    "show_df(df[[\"Publisher\", \"Publisher_cleaned\"]], 10)"
   ]
  },
  {
   "cell_type": "markdown",
   "id": "5d579904-f7e4-40c3-9c38-44e3f8db8213",
   "metadata": {},
   "source": [
    "<a id=\"rating\"></a>\n",
    "\n",
    "### 3.2. [Rating](#rating)"
   ]
  },
  {
   "cell_type": "code",
   "execution_count": 11,
   "id": "a100b13b-7a3a-46da-a016-0f93f85369d1",
   "metadata": {},
   "outputs": [
    {
     "data": {
      "text/html": [
       "<div>\n",
       "<style scoped>\n",
       "    .dataframe tbody tr th:only-of-type {\n",
       "        vertical-align: middle;\n",
       "    }\n",
       "\n",
       "    .dataframe tbody tr th {\n",
       "        vertical-align: top;\n",
       "    }\n",
       "\n",
       "    .dataframe thead th {\n",
       "        text-align: right;\n",
       "    }\n",
       "</style>\n",
       "<table border=\"1\" class=\"dataframe\">\n",
       "  <thead>\n",
       "    <tr style=\"text-align: right;\">\n",
       "      <th></th>\n",
       "      <th>rating</th>\n",
       "      <th>num_listings</th>\n",
       "    </tr>\n",
       "  </thead>\n",
       "  <tbody>\n",
       "    <tr>\n",
       "      <th>0</th>\n",
       "      <td>No Rating</td>\n",
       "      <td>7686</td>\n",
       "    </tr>\n",
       "    <tr>\n",
       "      <th>1</th>\n",
       "      <td>Teen</td>\n",
       "      <td>812</td>\n",
       "    </tr>\n",
       "    <tr>\n",
       "      <th>2</th>\n",
       "      <td>Everyone</td>\n",
       "      <td>615</td>\n",
       "    </tr>\n",
       "    <tr>\n",
       "      <th>3</th>\n",
       "      <td>Mature</td>\n",
       "      <td>491</td>\n",
       "    </tr>\n",
       "    <tr>\n",
       "      <th>4</th>\n",
       "      <td>10 And Older</td>\n",
       "      <td>395</td>\n",
       "    </tr>\n",
       "    <tr>\n",
       "      <th>5</th>\n",
       "      <td>Pending</td>\n",
       "      <td>27</td>\n",
       "    </tr>\n",
       "    <tr>\n",
       "      <th>6</th>\n",
       "      <td>Early Childhood</td>\n",
       "      <td>6</td>\n",
       "    </tr>\n",
       "    <tr>\n",
       "      <th>7</th>\n",
       "      <td>Adults Only (18+)</td>\n",
       "      <td>3</td>\n",
       "    </tr>\n",
       "  </tbody>\n",
       "</table>\n",
       "</div>"
      ],
      "text/plain": [
       "              rating  num_listings\n",
       "0          No Rating          7686\n",
       "1               Teen           812\n",
       "2           Everyone           615\n",
       "3             Mature           491\n",
       "4       10 And Older           395\n",
       "5            Pending            27\n",
       "6    Early Childhood             6\n",
       "7  Adults Only (18+)             3"
      ]
     },
     "metadata": {},
     "output_type": "display_data"
    }
   ],
   "source": [
    "df_ratings = (\n",
    "    df[\"rating\"]\n",
    "    .replace(\n",
    "        {\n",
    "            \"t\": \"Teen\",\n",
    "            \"e\": \"Everyone\",\n",
    "            \"m\": \"Mature\",\n",
    "            \"rp\": \"Pending\",\n",
    "            \"ec\": \"Early Childhood\",\n",
    "            \"e10\": \"10 and Older\",\n",
    "            \"ao\": \"Adults Only (18+)\",\n",
    "        }\n",
    "    )\n",
    "    .str.title()\n",
    "    .fillna(\"No Rating\")\n",
    "    .value_counts(dropna=False)\n",
    "    .reset_index()\n",
    "    .rename(columns={\"rating\": \"num_listings\", \"index\": \"rating\"})\n",
    ")\n",
    "display(df_ratings)"
   ]
  },
  {
   "cell_type": "markdown",
   "id": "ef8e69e5-fccc-49a9-b88d-c7cea8b101aa",
   "metadata": {},
   "source": [
    "<a id=\"prices\"></a>\n",
    "\n",
    "### 3.3. [Prices](#prices)"
   ]
  },
  {
   "cell_type": "code",
   "execution_count": 12,
   "id": "4b35af28-adef-41fd-bb28-6a029eede95b",
   "metadata": {},
   "outputs": [],
   "source": [
    "# df_price_rating = df.dropna(subset=[\"original_price\", \"discount_pct\"]).copy()\n",
    "# df_price_rating.loc[\n",
    "#     df_price_rating[\"original_price\"].str.lower().str.contains(\"free\"), \"original_price\"\n",
    "# ] = 0"
   ]
  },
  {
   "cell_type": "markdown",
   "id": "df48eceb-0a30-447f-80e7-76fb3c044bb4",
   "metadata": {},
   "source": [
    "Discount percent"
   ]
  },
  {
   "cell_type": "code",
   "execution_count": 13,
   "id": "98bbadc8-8b27-422f-a450-00ed143d267e",
   "metadata": {},
   "outputs": [],
   "source": [
    "df[\"discount_pct_cleaned\"] = (\n",
    "    df[\"discount_pct\"].str.replace(\"%\", \"\").str.replace(\"-\", \"\").astype(float)\n",
    ")"
   ]
  },
  {
   "cell_type": "markdown",
   "id": "05d163e3-66e1-45f6-92b5-33c31a0cd4e8",
   "metadata": {},
   "source": [
    "Original price"
   ]
  },
  {
   "cell_type": "code",
   "execution_count": 14,
   "id": "57cf8942-2506-439d-a9b3-3ae947087634",
   "metadata": {},
   "outputs": [
    {
     "data": {
      "text/html": [
       "<div>\n",
       "<style scoped>\n",
       "    .dataframe tbody tr th:only-of-type {\n",
       "        vertical-align: middle;\n",
       "    }\n",
       "\n",
       "    .dataframe tbody tr th {\n",
       "        vertical-align: top;\n",
       "    }\n",
       "\n",
       "    .dataframe thead th {\n",
       "        text-align: right;\n",
       "    }\n",
       "</style>\n",
       "<table border=\"1\" class=\"dataframe\">\n",
       "  <thead>\n",
       "    <tr style=\"text-align: right;\">\n",
       "      <th></th>\n",
       "      <th>original_price</th>\n",
       "      <th>original_price_cleaned</th>\n",
       "    </tr>\n",
       "  </thead>\n",
       "  <tbody>\n",
       "    <tr>\n",
       "      <th>7022</th>\n",
       "      <td>7.00</td>\n",
       "      <td>7.00</td>\n",
       "    </tr>\n",
       "    <tr>\n",
       "      <th>7167</th>\n",
       "      <td>2.99</td>\n",
       "      <td>2.99</td>\n",
       "    </tr>\n",
       "    <tr>\n",
       "      <th>2833</th>\n",
       "      <td>14.99</td>\n",
       "      <td>14.99</td>\n",
       "    </tr>\n",
       "    <tr>\n",
       "      <th>5593</th>\n",
       "      <td>Free to Play</td>\n",
       "      <td>0.00</td>\n",
       "    </tr>\n",
       "    <tr>\n",
       "      <th>792</th>\n",
       "      <td>Free To Play</td>\n",
       "      <td>0.00</td>\n",
       "    </tr>\n",
       "    <tr>\n",
       "      <th>3587</th>\n",
       "      <td>9.99</td>\n",
       "      <td>9.99</td>\n",
       "    </tr>\n",
       "    <tr>\n",
       "      <th>1195</th>\n",
       "      <td>14.99</td>\n",
       "      <td>14.99</td>\n",
       "    </tr>\n",
       "    <tr>\n",
       "      <th>872</th>\n",
       "      <td>7.99</td>\n",
       "      <td>7.99</td>\n",
       "    </tr>\n",
       "    <tr>\n",
       "      <th>4338</th>\n",
       "      <td>14.99</td>\n",
       "      <td>14.99</td>\n",
       "    </tr>\n",
       "    <tr>\n",
       "      <th>7371</th>\n",
       "      <td>Free To Play</td>\n",
       "      <td>0.00</td>\n",
       "    </tr>\n",
       "    <tr>\n",
       "      <th>4021</th>\n",
       "      <td>9.99</td>\n",
       "      <td>9.99</td>\n",
       "    </tr>\n",
       "    <tr>\n",
       "      <th>757</th>\n",
       "      <td>9.99</td>\n",
       "      <td>9.99</td>\n",
       "    </tr>\n",
       "    <tr>\n",
       "      <th>6659</th>\n",
       "      <td>4.99</td>\n",
       "      <td>4.99</td>\n",
       "    </tr>\n",
       "    <tr>\n",
       "      <th>8273</th>\n",
       "      <td>0.99</td>\n",
       "      <td>0.99</td>\n",
       "    </tr>\n",
       "    <tr>\n",
       "      <th>9477</th>\n",
       "      <td>19.99</td>\n",
       "      <td>19.99</td>\n",
       "    </tr>\n",
       "  </tbody>\n",
       "</table>\n",
       "</div>"
      ],
      "text/plain": [
       "     original_price  original_price_cleaned\n",
       "7022           7.00                    7.00\n",
       "7167           2.99                    2.99\n",
       "2833          14.99                   14.99\n",
       "5593   Free to Play                    0.00\n",
       "792    Free To Play                    0.00\n",
       "3587           9.99                    9.99\n",
       "1195          14.99                   14.99\n",
       "872            7.99                    7.99\n",
       "4338          14.99                   14.99\n",
       "7371   Free To Play                    0.00\n",
       "4021           9.99                    9.99\n",
       "757            9.99                    9.99\n",
       "6659           4.99                    4.99\n",
       "8273           0.99                    0.99\n",
       "9477          19.99                   19.99"
      ]
     },
     "metadata": {},
     "output_type": "display_data"
    }
   ],
   "source": [
    "df[\"original_price_cleaned\"] = df[\"original_price\"]\n",
    "df[\"original_price_cleaned\"] = df[\"original_price_cleaned\"].fillna(\"0\")\n",
    "df.loc[\n",
    "    df[\"original_price_cleaned\"].fillna(\"0\").str.contains(\"Free|Demo\", case=False),\n",
    "    \"original_price_cleaned\",\n",
    "] = \"0\"\n",
    "assert df[\"original_price_cleaned\"][\n",
    "    df[\"original_price_cleaned\"].fillna(\"0\").str.contains(\"Free|Demo\", case=False)\n",
    "].empty\n",
    "df[\"original_price_cleaned\"] = df[\"original_price_cleaned\"].astype(float)\n",
    "display(df[[\"original_price\", \"original_price_cleaned\"]].sample(15))"
   ]
  },
  {
   "cell_type": "markdown",
   "id": "d6b39aec-dc46-4844-b3a9-d5e01ee0262e",
   "metadata": {},
   "source": [
    "<a id=\"date-columns\"></a>\n",
    "\n",
    "### 3.4. [Date Columns](#date-columns)"
   ]
  },
  {
   "cell_type": "code",
   "execution_count": 15,
   "id": "a8d98312-5c17-4e19-8dfe-dc5065780a2f",
   "metadata": {},
   "outputs": [
    {
     "data": {
      "text/html": [
       "<style type=\"text/css\">\n",
       "</style>\n",
       "<table id=\"T_b2c3f_\">\n",
       "  <caption>First & Last 5 rows</caption>\n",
       "  <thead>\n",
       "    <tr>\n",
       "      <th class=\"blank level0\" >&nbsp;</th>\n",
       "      <th class=\"col_heading level0 col0\" >Release Date</th>\n",
       "      <th class=\"col_heading level0 col1\" >Early Access Release Date</th>\n",
       "    </tr>\n",
       "  </thead>\n",
       "  <tbody>\n",
       "    <tr>\n",
       "      <th id=\"T_b2c3f_level0_row0\" class=\"row_heading level0 row0\" >0</th>\n",
       "      <td id=\"T_b2c3f_row0_col0\" class=\"data row0 col0\" >Nov 5, 2020</td>\n",
       "      <td id=\"T_b2c3f_row0_col1\" class=\"data row0 col1\" >Sep 9, 2020</td>\n",
       "    </tr>\n",
       "    <tr>\n",
       "      <th id=\"T_b2c3f_level0_row1\" class=\"row_heading level0 row1\" >1</th>\n",
       "      <td id=\"T_b2c3f_row1_col0\" class=\"data row1 col0\" >Jun 25, 2010</td>\n",
       "      <td id=\"T_b2c3f_row1_col1\" class=\"data row1 col1\" >nan</td>\n",
       "    </tr>\n",
       "    <tr>\n",
       "      <th id=\"T_b2c3f_level0_row2\" class=\"row_heading level0 row2\" >2</th>\n",
       "      <td id=\"T_b2c3f_row2_col0\" class=\"data row2 col0\" >Sep 22, 2021</td>\n",
       "      <td id=\"T_b2c3f_row2_col1\" class=\"data row2 col1\" >Sep 22, 2021</td>\n",
       "    </tr>\n",
       "    <tr>\n",
       "      <th id=\"T_b2c3f_level0_row3\" class=\"row_heading level0 row3\" >3</th>\n",
       "      <td id=\"T_b2c3f_row3_col0\" class=\"data row3 col0\" >May 13, 2021</td>\n",
       "      <td id=\"T_b2c3f_row3_col1\" class=\"data row3 col1\" >nan</td>\n",
       "    </tr>\n",
       "    <tr>\n",
       "      <th id=\"T_b2c3f_level0_row4\" class=\"row_heading level0 row4\" >4</th>\n",
       "      <td id=\"T_b2c3f_row4_col0\" class=\"data row4 col0\" >Sep 1, 2021</td>\n",
       "      <td id=\"T_b2c3f_row4_col1\" class=\"data row4 col1\" >Sep 9, 2020</td>\n",
       "    </tr>\n",
       "    <tr>\n",
       "      <th id=\"T_b2c3f_level0_row5\" class=\"row_heading level0 row5\" >10030</th>\n",
       "      <td id=\"T_b2c3f_row5_col0\" class=\"data row5 col0\" >Feb 14, 2021</td>\n",
       "      <td id=\"T_b2c3f_row5_col1\" class=\"data row5 col1\" >nan</td>\n",
       "    </tr>\n",
       "    <tr>\n",
       "      <th id=\"T_b2c3f_level0_row6\" class=\"row_heading level0 row6\" >10031</th>\n",
       "      <td id=\"T_b2c3f_row6_col0\" class=\"data row6 col0\" >Sep 11, 2019</td>\n",
       "      <td id=\"T_b2c3f_row6_col1\" class=\"data row6 col1\" >nan</td>\n",
       "    </tr>\n",
       "    <tr>\n",
       "      <th id=\"T_b2c3f_level0_row7\" class=\"row_heading level0 row7\" >10032</th>\n",
       "      <td id=\"T_b2c3f_row7_col0\" class=\"data row7 col0\" >Mar 3, 2005</td>\n",
       "      <td id=\"T_b2c3f_row7_col1\" class=\"data row7 col1\" >nan</td>\n",
       "    </tr>\n",
       "    <tr>\n",
       "      <th id=\"T_b2c3f_level0_row8\" class=\"row_heading level0 row8\" >10033</th>\n",
       "      <td id=\"T_b2c3f_row8_col0\" class=\"data row8 col0\" >Jan 24, 2020</td>\n",
       "      <td id=\"T_b2c3f_row8_col1\" class=\"data row8 col1\" >nan</td>\n",
       "    </tr>\n",
       "    <tr>\n",
       "      <th id=\"T_b2c3f_level0_row9\" class=\"row_heading level0 row9\" >10034</th>\n",
       "      <td id=\"T_b2c3f_row9_col0\" class=\"data row9 col0\" >Aug 27, 2015</td>\n",
       "      <td id=\"T_b2c3f_row9_col1\" class=\"data row9 col1\" >nan</td>\n",
       "    </tr>\n",
       "  </tbody>\n",
       "</table>\n"
      ],
      "text/plain": [
       "<pandas.io.formats.style.Styler at 0x7fe0bdc2bbe0>"
      ]
     },
     "metadata": {},
     "output_type": "display_data"
    }
   ],
   "source": [
    "show_df(df[[\"Release Date\", \"Early Access Release Date\"]], 5)"
   ]
  },
  {
   "cell_type": "code",
   "execution_count": 16,
   "id": "6ad590f6-d300-4155-8878-8d4fa2d7abb9",
   "metadata": {},
   "outputs": [
    {
     "name": "stdout",
     "output_type": "stream",
     "text": [
      "CPU times: user 634 ms, sys: 2.67 ms, total: 637 ms\n",
      "Wall time: 636 ms\n"
     ]
    }
   ],
   "source": [
    "%%time\n",
    "df[\"release_date_cleaned\"] = pd.to_datetime(\n",
    "    df[\"Release Date\"].replace(\"Coming Soon\", np.nan, regex=True)\n",
    ")"
   ]
  },
  {
   "cell_type": "code",
   "execution_count": 17,
   "id": "d2f1404d-dbde-47e2-bf3e-70a5d4d60cdf",
   "metadata": {},
   "outputs": [
    {
     "name": "stdout",
     "output_type": "stream",
     "text": [
      "CPU times: user 45.3 ms, sys: 0 ns, total: 45.3 ms\n",
      "Wall time: 44.6 ms\n"
     ]
    }
   ],
   "source": [
    "%%time\n",
    "df[\"early_access_release_date_cleaned\"] = pd.to_datetime(df[\"Early Access Release Date\"])"
   ]
  },
  {
   "cell_type": "markdown",
   "id": "8d5981a6-4b1a-4279-8647-7435dac47fa9",
   "metadata": {},
   "source": [
    "<a id=\"exploratory-data-analysis\"></a>\n",
    "\n",
    "## 4. [Exploratory Data Analysis](#exploratory-data-analysis)"
   ]
  },
  {
   "cell_type": "markdown",
   "id": "f62b1761-4f47-400e-bcb3-d8e200d186f3",
   "metadata": {},
   "source": [
    "<a id=\"early-access\"></a>\n",
    "\n",
    "### 4.1. [Early Access](#early-access)"
   ]
  },
  {
   "cell_type": "markdown",
   "id": "38472731-5d0d-4ca8-acb4-55f7e4a4156c",
   "metadata": {},
   "source": [
    "**Plot the fraction of listings that is offers early access**"
   ]
  },
  {
   "cell_type": "markdown",
   "id": "795926ad-c802-42cc-ab35-6ab15109ff6a",
   "metadata": {},
   "source": [
    "Calculate the fraction of listings that offers early access\n",
    "- if a missing value appears in this column, then we'll consider it to be missing support for early access"
   ]
  },
  {
   "cell_type": "code",
   "execution_count": 18,
   "id": "d4564a8e-254f-4dac-a44a-98210f63de7f",
   "metadata": {},
   "outputs": [
    {
     "name": "stdout",
     "output_type": "stream",
     "text": [
      "Fraction of games that offered early access = 10.92\n"
     ]
    }
   ],
   "source": [
    "print(\n",
    "    f\"Fraction of games that offered early access = \"\n",
    "    f\"{(1 - (df['Early Access Release Date'].isna().sum() / len(df))) * 100:.2f}\"\n",
    ")"
   ]
  },
  {
   "cell_type": "markdown",
   "id": "10194d36-d8a3-41df-9c74-b8a726eebb25",
   "metadata": {},
   "source": [
    "Another approach"
   ]
  },
  {
   "cell_type": "code",
   "execution_count": 19,
   "id": "94d46064-de4c-476d-8caf-8406744b8970",
   "metadata": {},
   "outputs": [
    {
     "data": {
      "text/plain": [
       "10.921773791728949"
      ]
     },
     "execution_count": 19,
     "metadata": {},
     "output_type": "execute_result"
    }
   ],
   "source": [
    "((len(df) - df[\"Early Access Release Date\"].isna().sum()) / len(df)) * 100"
   ]
  },
  {
   "cell_type": "markdown",
   "id": "df84952f-8ff1-4802-8519-a4232f10ae04",
   "metadata": {},
   "source": [
    "Get a `DataFrame` with the fraction of early-access and regular listings"
   ]
  },
  {
   "cell_type": "code",
   "execution_count": 20,
   "id": "37c5230c-5d90-4252-9699-cc073b4917f0",
   "metadata": {},
   "outputs": [
    {
     "data": {
      "text/html": [
       "<div>\n",
       "<style scoped>\n",
       "    .dataframe tbody tr th:only-of-type {\n",
       "        vertical-align: middle;\n",
       "    }\n",
       "\n",
       "    .dataframe tbody tr th {\n",
       "        vertical-align: top;\n",
       "    }\n",
       "\n",
       "    .dataframe thead th {\n",
       "        text-align: right;\n",
       "    }\n",
       "</style>\n",
       "<table border=\"1\" class=\"dataframe\">\n",
       "  <thead>\n",
       "    <tr style=\"text-align: right;\">\n",
       "      <th></th>\n",
       "      <th>index</th>\n",
       "      <th>Early Access Release Date</th>\n",
       "    </tr>\n",
       "  </thead>\n",
       "  <tbody>\n",
       "    <tr>\n",
       "      <th>0</th>\n",
       "      <td>False</td>\n",
       "      <td>0.890782</td>\n",
       "    </tr>\n",
       "    <tr>\n",
       "      <th>1</th>\n",
       "      <td>True</td>\n",
       "      <td>0.109218</td>\n",
       "    </tr>\n",
       "  </tbody>\n",
       "</table>\n",
       "</div>"
      ],
      "text/plain": [
       "   index  Early Access Release Date\n",
       "0  False                   0.890782\n",
       "1   True                   0.109218"
      ]
     },
     "execution_count": 20,
     "metadata": {},
     "output_type": "execute_result"
    }
   ],
   "source": [
    "(~df[\"Early Access Release Date\"].isna()).value_counts(normalize=True).reset_index()"
   ]
  },
  {
   "cell_type": "code",
   "execution_count": 21,
   "id": "1c69258e-cb45-4429-89f4-0cede0c491d6",
   "metadata": {},
   "outputs": [
    {
     "data": {
      "text/html": [
       "<div>\n",
       "<style scoped>\n",
       "    .dataframe tbody tr th:only-of-type {\n",
       "        vertical-align: middle;\n",
       "    }\n",
       "\n",
       "    .dataframe tbody tr th {\n",
       "        vertical-align: top;\n",
       "    }\n",
       "\n",
       "    .dataframe thead th {\n",
       "        text-align: right;\n",
       "    }\n",
       "</style>\n",
       "<table border=\"1\" class=\"dataframe\">\n",
       "  <thead>\n",
       "    <tr style=\"text-align: right;\">\n",
       "      <th></th>\n",
       "      <th>index</th>\n",
       "      <th>Early Access Release Date</th>\n",
       "    </tr>\n",
       "  </thead>\n",
       "  <tbody>\n",
       "    <tr>\n",
       "      <th>0</th>\n",
       "      <td>Regular</td>\n",
       "      <td>89.078226</td>\n",
       "    </tr>\n",
       "    <tr>\n",
       "      <th>1</th>\n",
       "      <td>Early Release</td>\n",
       "      <td>10.921774</td>\n",
       "    </tr>\n",
       "  </tbody>\n",
       "</table>\n",
       "</div>"
      ],
      "text/plain": [
       "           index  Early Access Release Date\n",
       "0        Regular                  89.078226\n",
       "1  Early Release                  10.921774"
      ]
     },
     "metadata": {},
     "output_type": "display_data"
    }
   ],
   "source": [
    "df_early_release = (\n",
    "    (~df[\"Early Access Release Date\"].isna()).value_counts(normalize=True) * 100\n",
    ").reset_index()\n",
    "df_early_release[\"index\"] = (\n",
    "    df_early_release[\"index\"].replace(True, \"Early Release\").replace(False, \"Regular\")\n",
    ")\n",
    "display(df_early_release)"
   ]
  },
  {
   "cell_type": "markdown",
   "id": "fd56dd84-da8a-4548-938d-ade996205281",
   "metadata": {},
   "source": [
    "Plot the number of listings that support and do not support early access"
   ]
  },
  {
   "cell_type": "code",
   "execution_count": 22,
   "id": "baafb4b0-d75d-455b-aa49-b555a265777e",
   "metadata": {},
   "outputs": [
    {
     "data": {
      "image/png": "[encoded data removed]",
      "text/plain": [
       "<Figure size 576x576 with 1 Axes>"
      ]
     },
     "metadata": {},
     "output_type": "display_data"
    }
   ],
   "source": [
    "with sns.axes_style(\"ticks\"):\n",
    "    ax = sns.barplot(\n",
    "        x=\"index\",\n",
    "        y=\"Early Access Release Date\",\n",
    "        data=df_early_release,\n",
    "        color=\"steelblue\",\n",
    "        saturation=0.5,\n",
    "    )\n",
    "    ax.set_title(\n",
    "        \"Fraction of Listings by Accessibility Options\", loc=\"left\", fontweight=\"bold\"\n",
    "    )\n",
    "    ax.set_xlabel(None)\n",
    "    ax.set_ylabel(None)\n",
    "    sns.despine()\n",
    "    fig = plt.gcf()\n",
    "    fig.set_figheight(8)\n",
    "    fig.set_figwidth(8)\n",
    "    # fig.savefig(\n",
    "    #     os.path.join(reports_data_dir, \"1_access_time.png\"),\n",
    "    #     bbox_inches=\"tight\",\n",
    "    #     dpi=300,\n",
    "    # )"
   ]
  },
  {
   "cell_type": "markdown",
   "id": "d63d8536-35c8-47c3-85f4-b65d115a7650",
   "metadata": {},
   "source": [
    "<a id=\"platforms\"></a>\n",
    "\n",
    "### 4.2. [Platforms](#platforms)"
   ]
  },
  {
   "cell_type": "markdown",
   "id": "21dd38a5-a1fd-403d-bbdd-970f13fd726a",
   "metadata": {},
   "source": [
    "**What fraction of games are supported on all platforms?**"
   ]
  },
  {
   "cell_type": "code",
   "execution_count": 23,
   "id": "06f0040e-fe7c-445f-9806-0006bdc9aebc",
   "metadata": {},
   "outputs": [],
   "source": [
    "platforms_wanted = [\"win\", \"mac\", \"linux\"]"
   ]
  },
  {
   "cell_type": "code",
   "execution_count": 24,
   "id": "0c946d3f-a6a3-4fb3-a31e-d851e5a55935",
   "metadata": {},
   "outputs": [],
   "source": [
    "for platform in platforms_wanted:\n",
    "    df[platform] = df[\"platforms\"].str.contains(platform)"
   ]
  },
  {
   "cell_type": "code",
   "execution_count": 25,
   "id": "9d5a7c78-6232-4a46-acb0-d3da828e4e2f",
   "metadata": {
    "tags": []
   },
   "outputs": [
    {
     "name": "stdout",
     "output_type": "stream",
     "text": [
      "Fraction of games with support on all platforms = 20.80\n"
     ]
    }
   ],
   "source": [
    "all_platforms = df[(df[\"linux\"] == True) & ((df[\"mac\"] == True)) & (df[\"win\"] == True)]\n",
    "print(\n",
    "    f\"Fraction of games with support on all platforms = \"\n",
    "    f\"{(len(all_platforms) / len(df)) * 100:.2f}\"\n",
    ")"
   ]
  },
  {
   "cell_type": "markdown",
   "id": "c348594a-9d75-4b68-902b-35e3283c9970",
   "metadata": {},
   "source": [
    "**Plot the fraction of all listings that are supported on each platform?**"
   ]
  },
  {
   "cell_type": "markdown",
   "id": "bda86ff7-f986-4028-8e6f-18e863e78539",
   "metadata": {},
   "source": [
    "Reshape the original data, using the added columns (`win`, `mac`, `linux`)"
   ]
  },
  {
   "cell_type": "code",
   "execution_count": 26,
   "id": "3d042c44-ded9-492b-9021-d4294bf5de94",
   "metadata": {},
   "outputs": [
    {
     "data": {
      "text/html": [
       "<div>\n",
       "<style scoped>\n",
       "    .dataframe tbody tr th:only-of-type {\n",
       "        vertical-align: middle;\n",
       "    }\n",
       "\n",
       "    .dataframe tbody tr th {\n",
       "        vertical-align: top;\n",
       "    }\n",
       "\n",
       "    .dataframe thead th {\n",
       "        text-align: right;\n",
       "    }\n",
       "</style>\n",
       "<table border=\"1\" class=\"dataframe\">\n",
       "  <thead>\n",
       "    <tr style=\"text-align: right;\">\n",
       "      <th></th>\n",
       "      <th>platform</th>\n",
       "      <th>url</th>\n",
       "      <th>has_support</th>\n",
       "    </tr>\n",
       "  </thead>\n",
       "  <tbody>\n",
       "    <tr>\n",
       "      <th>0</th>\n",
       "      <td>win</td>\n",
       "      <td>https://store.steampowered.com/app/1158940/Bla...</td>\n",
       "      <td>True</td>\n",
       "    </tr>\n",
       "    <tr>\n",
       "      <th>1</th>\n",
       "      <td>win</td>\n",
       "      <td>https://store.steampowered.com/app/21130/LEGO_...</td>\n",
       "      <td>True</td>\n",
       "    </tr>\n",
       "    <tr>\n",
       "      <th>2</th>\n",
       "      <td>win</td>\n",
       "      <td>https://store.steampowered.com/app/1315610/Sou...</td>\n",
       "      <td>True</td>\n",
       "    </tr>\n",
       "    <tr>\n",
       "      <th>3</th>\n",
       "      <td>win</td>\n",
       "      <td>https://store.steampowered.com/app/1585910/Roll/</td>\n",
       "      <td>True</td>\n",
       "    </tr>\n",
       "    <tr>\n",
       "      <th>4</th>\n",
       "      <td>win</td>\n",
       "      <td>https://store.steampowered.com/app/1372320/Clo...</td>\n",
       "      <td>True</td>\n",
       "    </tr>\n",
       "    <tr>\n",
       "      <th>5</th>\n",
       "      <td>win</td>\n",
       "      <td>https://store.steampowered.com/app/1535610/Sou...</td>\n",
       "      <td>True</td>\n",
       "    </tr>\n",
       "    <tr>\n",
       "      <th>6</th>\n",
       "      <td>win</td>\n",
       "      <td>https://store.steampowered.com/app/1105510/Yak...</td>\n",
       "      <td>True</td>\n",
       "    </tr>\n",
       "    <tr>\n",
       "      <th>7</th>\n",
       "      <td>win</td>\n",
       "      <td>https://store.steampowered.com/app/826940/Maid...</td>\n",
       "      <td>True</td>\n",
       "    </tr>\n",
       "    <tr>\n",
       "      <th>8</th>\n",
       "      <td>win</td>\n",
       "      <td>https://store.steampowered.com/app/718670/Cult...</td>\n",
       "      <td>True</td>\n",
       "    </tr>\n",
       "    <tr>\n",
       "      <th>9</th>\n",
       "      <td>win</td>\n",
       "      <td>https://store.steampowered.com/app/1356670/Sak...</td>\n",
       "      <td>True</td>\n",
       "    </tr>\n",
       "  </tbody>\n",
       "</table>\n",
       "</div>"
      ],
      "text/plain": [
       "  platform                                                url has_support\n",
       "0      win  https://store.steampowered.com/app/1158940/Bla...        True\n",
       "1      win  https://store.steampowered.com/app/21130/LEGO_...        True\n",
       "2      win  https://store.steampowered.com/app/1315610/Sou...        True\n",
       "3      win   https://store.steampowered.com/app/1585910/Roll/        True\n",
       "4      win  https://store.steampowered.com/app/1372320/Clo...        True\n",
       "5      win  https://store.steampowered.com/app/1535610/Sou...        True\n",
       "6      win  https://store.steampowered.com/app/1105510/Yak...        True\n",
       "7      win  https://store.steampowered.com/app/826940/Maid...        True\n",
       "8      win  https://store.steampowered.com/app/718670/Cult...        True\n",
       "9      win  https://store.steampowered.com/app/1356670/Sak...        True"
      ]
     },
     "metadata": {},
     "output_type": "display_data"
    }
   ],
   "source": [
    "listings_platforms_reshaped = (\n",
    "    df[[\"win\", \"mac\", \"linux\", \"url\"]]\n",
    "    .set_index(\"url\")\n",
    "    .unstack()\n",
    "    .reset_index()\n",
    "    .rename(columns={0: \"has_support\", \"level_0\": \"platform\"})\n",
    ")\n",
    "listings_platforms_reshaped = listings_platforms_reshaped[\n",
    "    listings_platforms_reshaped[\"has_support\"] == True\n",
    "]\n",
    "display(listings_platforms_reshaped.head(10))"
   ]
  },
  {
   "cell_type": "markdown",
   "id": "7334989c-bd6a-4535-8663-7795e6165d69",
   "metadata": {},
   "source": [
    "Get the number of listings that are either listed as unsupported on a given platform or for which there is a missing value for the same platform"
   ]
  },
  {
   "cell_type": "code",
   "execution_count": 27,
   "id": "1019673f-99b4-4ef5-9f50-d7f076fbbc31",
   "metadata": {},
   "outputs": [
    {
     "name": "stdout",
     "output_type": "stream",
     "text": [
      "{'win': 45, 'mac': 6459, 'linux': 7695}\n"
     ]
    }
   ],
   "source": [
    "unsupported_missing_val = {}\n",
    "for p in [\"win\", \"mac\", \"linux\"]:\n",
    "    unsupported_missing_val[p] = df[df[p] == False].shape[0] + df[p].isna().sum()\n",
    "print(unsupported_missing_val)"
   ]
  },
  {
   "cell_type": "code",
   "execution_count": 28,
   "id": "be90c048-0a79-4324-a92d-30a9df2700cc",
   "metadata": {},
   "outputs": [
    {
     "data": {
      "text/html": [
       "<div>\n",
       "<style scoped>\n",
       "    .dataframe tbody tr th:only-of-type {\n",
       "        vertical-align: middle;\n",
       "    }\n",
       "\n",
       "    .dataframe tbody tr th {\n",
       "        vertical-align: top;\n",
       "    }\n",
       "\n",
       "    .dataframe thead th {\n",
       "        text-align: right;\n",
       "    }\n",
       "</style>\n",
       "<table border=\"1\" class=\"dataframe\">\n",
       "  <thead>\n",
       "    <tr style=\"text-align: right;\">\n",
       "      <th></th>\n",
       "      <th>platform</th>\n",
       "      <th>num_unsupported_and_missing</th>\n",
       "    </tr>\n",
       "  </thead>\n",
       "  <tbody>\n",
       "    <tr>\n",
       "      <th>0</th>\n",
       "      <td>win</td>\n",
       "      <td>45</td>\n",
       "    </tr>\n",
       "    <tr>\n",
       "      <th>1</th>\n",
       "      <td>mac</td>\n",
       "      <td>6459</td>\n",
       "    </tr>\n",
       "    <tr>\n",
       "      <th>2</th>\n",
       "      <td>linux</td>\n",
       "      <td>7695</td>\n",
       "    </tr>\n",
       "  </tbody>\n",
       "</table>\n",
       "</div>"
      ],
      "text/plain": [
       "  platform  num_unsupported_and_missing\n",
       "0      win                           45\n",
       "1      mac                         6459\n",
       "2    linux                         7695"
      ]
     },
     "metadata": {},
     "output_type": "display_data"
    }
   ],
   "source": [
    "df_unsupported_missing_val = pd.DataFrame.from_dict(\n",
    "    unsupported_missing_val, orient=\"index\"\n",
    ").reset_index()\n",
    "df_unsupported_missing_val.columns = [\"platform\", \"num_unsupported_and_missing\"]\n",
    "display(df_unsupported_missing_val)"
   ]
  },
  {
   "cell_type": "markdown",
   "id": "bd996a4e-156f-497e-bd62-9865f414756d",
   "metadata": {},
   "source": [
    "Get the number of listings supported by a given platform"
   ]
  },
  {
   "cell_type": "code",
   "execution_count": 29,
   "id": "2386e892-22e2-449a-9a3a-a1080be025e2",
   "metadata": {},
   "outputs": [],
   "source": [
    "df_supported = (\n",
    "    listings_platforms_reshaped.groupby(\"platform\")[\"url\"]\n",
    "    .count()\n",
    "    .reset_index()\n",
    "    .rename(columns={\"url\": \"num_listings\"})\n",
    "    .assign(num_rows=len(df))\n",
    ")"
   ]
  },
  {
   "cell_type": "markdown",
   "id": "206f0eaa-60ce-46a7-b7a4-ba5e13e180ba",
   "metadata": {},
   "source": [
    "Merge number of listings supported and those for which support is not available or unlisted, by platform"
   ]
  },
  {
   "cell_type": "code",
   "execution_count": 30,
   "id": "55be82f8-94aa-44df-8ed7-9e9094ba7213",
   "metadata": {},
   "outputs": [],
   "source": [
    "df_supported = df_supported.merge(\n",
    "    df_unsupported_missing_val, on=\"platform\", how=\"inner\"\n",
    ")"
   ]
  },
  {
   "cell_type": "markdown",
   "id": "35ad1cb9-c8b4-4750-bce5-b9e331ffe0fb",
   "metadata": {},
   "source": [
    "Calculate the fraction of supported adn unsupported/unlisted listings as a percentage"
   ]
  },
  {
   "cell_type": "code",
   "execution_count": 31,
   "id": "c57e782c-9520-46f3-89c5-b076cdae2c27",
   "metadata": {},
   "outputs": [
    {
     "data": {
      "text/html": [
       "<div>\n",
       "<style scoped>\n",
       "    .dataframe tbody tr th:only-of-type {\n",
       "        vertical-align: middle;\n",
       "    }\n",
       "\n",
       "    .dataframe tbody tr th {\n",
       "        vertical-align: top;\n",
       "    }\n",
       "\n",
       "    .dataframe thead th {\n",
       "        text-align: right;\n",
       "    }\n",
       "</style>\n",
       "<table border=\"1\" class=\"dataframe\">\n",
       "  <thead>\n",
       "    <tr style=\"text-align: right;\">\n",
       "      <th></th>\n",
       "      <th>platform</th>\n",
       "      <th>num_listings</th>\n",
       "      <th>num_rows</th>\n",
       "      <th>num_unsupported_and_missing</th>\n",
       "      <th>pct_support</th>\n",
       "    </tr>\n",
       "  </thead>\n",
       "  <tbody>\n",
       "    <tr>\n",
       "      <th>0</th>\n",
       "      <td>Linux</td>\n",
       "      <td>2340</td>\n",
       "      <td>10035</td>\n",
       "      <td>7695</td>\n",
       "      <td>23.318386</td>\n",
       "    </tr>\n",
       "    <tr>\n",
       "      <th>1</th>\n",
       "      <td>Mac OS</td>\n",
       "      <td>3576</td>\n",
       "      <td>10035</td>\n",
       "      <td>6459</td>\n",
       "      <td>35.635277</td>\n",
       "    </tr>\n",
       "    <tr>\n",
       "      <th>2</th>\n",
       "      <td>Windows</td>\n",
       "      <td>9990</td>\n",
       "      <td>10035</td>\n",
       "      <td>45</td>\n",
       "      <td>99.551570</td>\n",
       "    </tr>\n",
       "  </tbody>\n",
       "</table>\n",
       "</div>"
      ],
      "text/plain": [
       "  platform  num_listings  num_rows  num_unsupported_and_missing  pct_support\n",
       "0    Linux          2340     10035                         7695    23.318386\n",
       "1   Mac OS          3576     10035                         6459    35.635277\n",
       "2  Windows          9990     10035                           45    99.551570"
      ]
     },
     "metadata": {},
     "output_type": "display_data"
    }
   ],
   "source": [
    "df_supported[\"pct_support\"] = (\n",
    "    df_supported[\"num_listings\"] / df_supported[\"num_rows\"]\n",
    ") * 100\n",
    "df_supported[\"platform\"] = (\n",
    "    df_supported[\"platform\"]\n",
    "    .str.title()\n",
    "    .str.replace(\"Mac\", \"Mac OS\")\n",
    "    .str.replace(\"Win\", \"Windows\")\n",
    ")\n",
    "display(df_supported)"
   ]
  },
  {
   "cell_type": "markdown",
   "id": "c9a27b8e-de0b-4822-80cb-1820ffedb32f",
   "metadata": {},
   "source": [
    "Plot fractions on a chart"
   ]
  },
  {
   "cell_type": "code",
   "execution_count": 32,
   "id": "e13e0040-fc11-4c70-91f5-624a31d725ff",
   "metadata": {},
   "outputs": [
    {
     "data": {
      "image/png": "[encoded data removed]",
      "text/plain": [
       "<Figure size 576x576 with 1 Axes>"
      ]
     },
     "metadata": {},
     "output_type": "display_data"
    }
   ],
   "source": [
    "with sns.axes_style(\"ticks\"):\n",
    "    ax = sns.barplot(\n",
    "        y=\"pct_support\",\n",
    "        x=\"platform\",\n",
    "        data=df_supported.sort_values(by=\"pct_support\", ascending=False),\n",
    "        color=\"steelblue\",\n",
    "        saturation=0.5,\n",
    "    )\n",
    "    ax.set_title(\"Fraction of Listings Supported\", loc=\"left\", fontweight=\"bold\")\n",
    "    ax.set_xlabel(None)\n",
    "    ax.set_ylabel(None)\n",
    "    sns.despine()\n",
    "    fig = plt.gcf()\n",
    "    fig.set_figheight(8)\n",
    "    fig.set_figwidth(8)\n",
    "    # fig.savefig(\n",
    "    #     os.path.join(reports_data_dir, \"2_platforms.png\"),\n",
    "    #     bbox_inches=\"tight\",\n",
    "    #     dpi=300,\n",
    "    # )"
   ]
  },
  {
   "cell_type": "markdown",
   "id": "92ccd5b9-d441-41ba-97e7-5fb1a96ddd29",
   "metadata": {},
   "source": [
    "<a id=\"franchises\"></a>\n",
    "\n",
    "### 4.3. [Franchises](#franchises)"
   ]
  },
  {
   "cell_type": "markdown",
   "id": "3be2fa4e-22ce-4a96-a8d0-11b48915cd88",
   "metadata": {},
   "source": [
    "**What fraction of games are part of by a Franchise?**"
   ]
  },
  {
   "cell_type": "code",
   "execution_count": 33,
   "id": "15216758-a82e-45b4-b8cb-ecb96cf7d0a9",
   "metadata": {},
   "outputs": [],
   "source": [
    "def calculate_frac_part_of_franchise(df):\n",
    "    no_franchise = (len(df) - df[\"Franchise\"].isna().sum()) / len(df)\n",
    "    print(\n",
    "        f\"Number of games part of a Franchise = {100 * no_franchise:.2f}\\n\"\n",
    "        f\"Number of games not part of a franchise = {100*(1 - no_franchise):.2f}\"\n",
    "    )"
   ]
  },
  {
   "cell_type": "code",
   "execution_count": 34,
   "id": "08186105-36d0-4f2c-86b7-3d0d6a1402d5",
   "metadata": {},
   "outputs": [
    {
     "name": "stdout",
     "output_type": "stream",
     "text": [
      "Number of games part of a Franchise = 33.80\n",
      "Number of games not part of a franchise = 66.20\n"
     ]
    }
   ],
   "source": [
    "calculate_frac_part_of_franchise(df)"
   ]
  },
  {
   "cell_type": "markdown",
   "id": "555e3fd9-c02a-4cc6-9c59-1be32c0ecd90",
   "metadata": {},
   "source": [
    "**What fraction of games on each platform are part of a Franchise?**"
   ]
  },
  {
   "cell_type": "code",
   "execution_count": 35,
   "id": "63bae768-7439-4389-885a-726ecc6e8099",
   "metadata": {},
   "outputs": [
    {
     "name": "stdout",
     "output_type": "stream",
     "text": [
      "Number of games part of a Franchise = 33.69\n",
      "Number of games not part of a franchise = 66.31\n"
     ]
    }
   ],
   "source": [
    "calculate_frac_part_of_franchise(df[df[\"win\"] == True])"
   ]
  },
  {
   "cell_type": "code",
   "execution_count": 36,
   "id": "0a04e96c-1038-4ff7-9b4a-999f99d7d3c0",
   "metadata": {},
   "outputs": [
    {
     "name": "stdout",
     "output_type": "stream",
     "text": [
      "Number of games part of a Franchise = 31.96\n",
      "Number of games not part of a franchise = 68.04\n"
     ]
    }
   ],
   "source": [
    "calculate_frac_part_of_franchise(df[df[\"mac\"] == True])"
   ]
  },
  {
   "cell_type": "code",
   "execution_count": 37,
   "id": "eb512149-1263-469e-8d83-c2cb65846d63",
   "metadata": {},
   "outputs": [
    {
     "name": "stdout",
     "output_type": "stream",
     "text": [
      "Number of games part of a Franchise = 31.79\n",
      "Number of games not part of a franchise = 68.21\n"
     ]
    }
   ],
   "source": [
    "calculate_frac_part_of_franchise(df[df[\"linux\"] == True])"
   ]
  },
  {
   "cell_type": "markdown",
   "id": "895af4c5-c6b9-49c8-b2c1-5f361d15b26a",
   "metadata": {},
   "source": [
    "<a id=\"publishers-and-platforms\"></a>\n",
    "\n",
    "### 4.4. [Publishers and Platforms](#publishers-and-platforms)"
   ]
  },
  {
   "cell_type": "markdown",
   "id": "c5719f2b-44f2-48a7-b95e-61ae6565a250",
   "metadata": {},
   "source": [
    "**What fraction of Linux games are offered through a publisher? What is the fraction without a publisher?**"
   ]
  },
  {
   "cell_type": "code",
   "execution_count": 38,
   "id": "d0b458bd-31a3-4c6d-b079-ac9cd1d227e1",
   "metadata": {},
   "outputs": [
    {
     "name": "stdout",
     "output_type": "stream",
     "text": [
      "Fraction of listings by a publisher with Linux support = 23.229\n",
      "Fraction of listings without a publisher with Linux support = 0.090\n"
     ]
    }
   ],
   "source": [
    "linux_by_pubs = len(df[(df[\"linux\"] == True) & (~df[\"Publisher\"].isna())])\n",
    "print(\n",
    "    \"Fraction of listings by a publisher with Linux support = \"\n",
    "    f\"{(linux_by_pubs / len(df)) * 100:.3f}\"\n",
    ")\n",
    "linux_no_pubs = len(df[(df[\"linux\"] == True) & (df[\"Publisher\"].isna())])\n",
    "print(\n",
    "    \"Fraction of listings without a publisher with Linux support = \"\n",
    "    f\"{(linux_no_pubs / len(df)) * 100:.3f}\"\n",
    ")"
   ]
  },
  {
   "cell_type": "markdown",
   "id": "c6e9a2db-4128-4006-baa8-6c6096b3073b",
   "metadata": {},
   "source": [
    "**What fraction of all games on all platforms are offered through a publisher? What is the fraction without a publisher?**"
   ]
  },
  {
   "cell_type": "markdown",
   "id": "ba3ef06b-5dad-408b-9f20-df35a4bfa4a9",
   "metadata": {},
   "source": [
    "Calculate the fraction of listings by platform with and without a publisher\n",
    "- with a publisher\n",
    "  - the `Publisher` column is not missing a value\n",
    "- without a publisher\n",
    "  - the `Publisher` column is missing a value"
   ]
  },
  {
   "cell_type": "code",
   "execution_count": 39,
   "id": "cf0791f8-ce7b-4240-bc97-6091dc1f1cef",
   "metadata": {},
   "outputs": [
    {
     "data": {
      "text/html": [
       "<div>\n",
       "<style scoped>\n",
       "    .dataframe tbody tr th:only-of-type {\n",
       "        vertical-align: middle;\n",
       "    }\n",
       "\n",
       "    .dataframe tbody tr th {\n",
       "        vertical-align: top;\n",
       "    }\n",
       "\n",
       "    .dataframe thead th {\n",
       "        text-align: right;\n",
       "    }\n",
       "</style>\n",
       "<table border=\"1\" class=\"dataframe\">\n",
       "  <thead>\n",
       "    <tr style=\"text-align: right;\">\n",
       "      <th></th>\n",
       "      <th>index</th>\n",
       "      <th>pct_of_all_listings</th>\n",
       "    </tr>\n",
       "  </thead>\n",
       "  <tbody>\n",
       "    <tr>\n",
       "      <th>0</th>\n",
       "      <td>win__True</td>\n",
       "      <td>99.192825</td>\n",
       "    </tr>\n",
       "    <tr>\n",
       "      <th>1</th>\n",
       "      <td>win__False</td>\n",
       "      <td>0.358744</td>\n",
       "    </tr>\n",
       "    <tr>\n",
       "      <th>2</th>\n",
       "      <td>mac__True</td>\n",
       "      <td>35.465869</td>\n",
       "    </tr>\n",
       "    <tr>\n",
       "      <th>3</th>\n",
       "      <td>mac__False</td>\n",
       "      <td>0.169407</td>\n",
       "    </tr>\n",
       "    <tr>\n",
       "      <th>4</th>\n",
       "      <td>linux__True</td>\n",
       "      <td>23.228700</td>\n",
       "    </tr>\n",
       "    <tr>\n",
       "      <th>5</th>\n",
       "      <td>linux__False</td>\n",
       "      <td>0.089686</td>\n",
       "    </tr>\n",
       "  </tbody>\n",
       "</table>\n",
       "</div>"
      ],
      "text/plain": [
       "          index  pct_of_all_listings\n",
       "0     win__True            99.192825\n",
       "1    win__False             0.358744\n",
       "2     mac__True            35.465869\n",
       "3    mac__False             0.169407\n",
       "4   linux__True            23.228700\n",
       "5  linux__False             0.089686"
      ]
     },
     "metadata": {},
     "output_type": "display_data"
    }
   ],
   "source": [
    "d_platform_pub = {}\n",
    "for p in [\"win\", \"mac\", \"linux\"]:\n",
    "    d_platform_pub[p + \"__True\"] = (\n",
    "        len(df[(df[p] == True) & (~df[\"Publisher\"].isna())]) / len(df)\n",
    "    ) * 100\n",
    "    d_platform_pub[p + \"__False\"] = (\n",
    "        len(df[(df[p] == True) & (df[\"Publisher\"].isna())]) / len(df)\n",
    "    ) * 100\n",
    "df_platform_pub = (\n",
    "    pd.DataFrame.from_dict(d_platform_pub, orient=\"index\")\n",
    "    .reset_index()\n",
    "    .rename(columns={0: \"pct_of_all_listings\"})\n",
    ")\n",
    "display(df_platform_pub)"
   ]
  },
  {
   "cell_type": "markdown",
   "id": "1b8e262a-3bdc-4078-a48a-fced07884fb9",
   "metadata": {},
   "source": [
    "Split the `index` column into `platform` and `publisher`"
   ]
  },
  {
   "cell_type": "code",
   "execution_count": 40,
   "id": "219d80fa-c874-42e7-a940-fe95aca91cef",
   "metadata": {},
   "outputs": [
    {
     "data": {
      "text/html": [
       "<div>\n",
       "<style scoped>\n",
       "    .dataframe tbody tr th:only-of-type {\n",
       "        vertical-align: middle;\n",
       "    }\n",
       "\n",
       "    .dataframe tbody tr th {\n",
       "        vertical-align: top;\n",
       "    }\n",
       "\n",
       "    .dataframe thead th {\n",
       "        text-align: right;\n",
       "    }\n",
       "</style>\n",
       "<table border=\"1\" class=\"dataframe\">\n",
       "  <thead>\n",
       "    <tr style=\"text-align: right;\">\n",
       "      <th></th>\n",
       "      <th>index</th>\n",
       "      <th>pct_of_all_listings</th>\n",
       "      <th>platform</th>\n",
       "      <th>publisher</th>\n",
       "    </tr>\n",
       "  </thead>\n",
       "  <tbody>\n",
       "    <tr>\n",
       "      <th>0</th>\n",
       "      <td>win__True</td>\n",
       "      <td>99.192825</td>\n",
       "      <td>Windows</td>\n",
       "      <td>Yes</td>\n",
       "    </tr>\n",
       "    <tr>\n",
       "      <th>1</th>\n",
       "      <td>win__False</td>\n",
       "      <td>0.358744</td>\n",
       "      <td>Windows</td>\n",
       "      <td>No</td>\n",
       "    </tr>\n",
       "    <tr>\n",
       "      <th>2</th>\n",
       "      <td>mac__True</td>\n",
       "      <td>35.465869</td>\n",
       "      <td>Mac OS</td>\n",
       "      <td>Yes</td>\n",
       "    </tr>\n",
       "    <tr>\n",
       "      <th>3</th>\n",
       "      <td>mac__False</td>\n",
       "      <td>0.169407</td>\n",
       "      <td>Mac OS</td>\n",
       "      <td>No</td>\n",
       "    </tr>\n",
       "    <tr>\n",
       "      <th>4</th>\n",
       "      <td>linux__True</td>\n",
       "      <td>23.228700</td>\n",
       "      <td>Linux</td>\n",
       "      <td>Yes</td>\n",
       "    </tr>\n",
       "    <tr>\n",
       "      <th>5</th>\n",
       "      <td>linux__False</td>\n",
       "      <td>0.089686</td>\n",
       "      <td>Linux</td>\n",
       "      <td>No</td>\n",
       "    </tr>\n",
       "  </tbody>\n",
       "</table>\n",
       "</div>"
      ],
      "text/plain": [
       "          index  pct_of_all_listings platform publisher\n",
       "0     win__True            99.192825  Windows       Yes\n",
       "1    win__False             0.358744  Windows        No\n",
       "2     mac__True            35.465869   Mac OS       Yes\n",
       "3    mac__False             0.169407   Mac OS        No\n",
       "4   linux__True            23.228700    Linux       Yes\n",
       "5  linux__False             0.089686    Linux        No"
      ]
     },
     "metadata": {},
     "output_type": "display_data"
    }
   ],
   "source": [
    "df_platform_pub[[\"platform\", \"publisher\"]] = df_platform_pub[\"index\"].str.split(\n",
    "    \"__\", expand=True\n",
    ")\n",
    "df_platform_pub[\"publisher\"] = df_platform_pub[\"publisher\"].map(\n",
    "    {\"True\": \"Yes\", \"False\": \"No\"}\n",
    ")\n",
    "df_platform_pub[\"platform\"] = (\n",
    "    df_platform_pub[\"platform\"]\n",
    "    .str.title()\n",
    "    .str.replace(\"Mac\", \"Mac OS\")\n",
    "    .str.replace(\"Win\", \"Windows\")\n",
    ")\n",
    "display(df_platform_pub)"
   ]
  },
  {
   "cell_type": "markdown",
   "id": "2d78426f-d45e-4c72-86f2-653ed10e5511",
   "metadata": {},
   "source": [
    "Plot the fractions of listings through a publisher, by platform"
   ]
  },
  {
   "cell_type": "code",
   "execution_count": 41,
   "id": "ff51f8e9-b11b-4fb1-8a74-1be6d4055c07",
   "metadata": {},
   "outputs": [
    {
     "data": {
      "image/png": "[encoded data removed]",
      "text/plain": [
       "<Figure size 576x576 with 1 Axes>"
      ]
     },
     "metadata": {},
     "output_type": "display_data"
    }
   ],
   "source": [
    "with sns.axes_style(\"ticks\"):\n",
    "    ax = sns.catplot(\n",
    "        data=df_platform_pub.sort_values(by=\"publisher\"),\n",
    "        kind=\"bar\",\n",
    "        x=\"platform\",\n",
    "        y=\"pct_of_all_listings\",\n",
    "        hue=\"publisher\",\n",
    "        palette=\"husl\",\n",
    "        alpha=0.9,\n",
    "        height=6,\n",
    "        saturation=0.25,\n",
    "    )\n",
    "    ax.despine(left=True)\n",
    "    ax = plt.gca()\n",
    "    ax.set_title(\"Fraction of Listings\", loc=\"left\", fontweight=\"bold\")\n",
    "    ax.set_xlabel(None)\n",
    "    ax.set_ylabel(None)\n",
    "    sns.despine()\n",
    "    fig = plt.gcf()\n",
    "    fig.set_figheight(8)\n",
    "    fig.set_figwidth(8)\n",
    "    # fig.savefig(\n",
    "    #     os.path.join(reports_data_dir, \"3_platforms_publishers.png\"),\n",
    "    #     bbox_inches=\"tight\",\n",
    "    #     dpi=300,\n",
    "    # )"
   ]
  },
  {
   "cell_type": "markdown",
   "id": "370ab743-3049-4d8f-9144-3a8225d19ecd",
   "metadata": {},
   "source": [
    "The ratio of istings in each platform going through a publisher to those not going through one is shown below"
   ]
  },
  {
   "cell_type": "code",
   "execution_count": 42,
   "id": "97dadf7d-aae4-42e2-bd15-6b5b0eeea0bc",
   "metadata": {
    "tags": []
   },
   "outputs": [
    {
     "data": {
      "text/html": [
       "<div>\n",
       "<style scoped>\n",
       "    .dataframe tbody tr th:only-of-type {\n",
       "        vertical-align: middle;\n",
       "    }\n",
       "\n",
       "    .dataframe tbody tr th {\n",
       "        vertical-align: top;\n",
       "    }\n",
       "\n",
       "    .dataframe thead th {\n",
       "        text-align: right;\n",
       "    }\n",
       "</style>\n",
       "<table border=\"1\" class=\"dataframe\">\n",
       "  <thead>\n",
       "    <tr style=\"text-align: right;\">\n",
       "      <th></th>\n",
       "      <th>Windows_ratio__pub_no_pub</th>\n",
       "      <th>Mac OS_ratio__pub_no_pub</th>\n",
       "      <th>Linux_ratio__pub_no_pub</th>\n",
       "    </tr>\n",
       "  </thead>\n",
       "  <tbody>\n",
       "    <tr>\n",
       "      <th>0</th>\n",
       "      <td>276.5</td>\n",
       "      <td>209.352941</td>\n",
       "      <td>259.0</td>\n",
       "    </tr>\n",
       "  </tbody>\n",
       "</table>\n",
       "</div>"
      ],
      "text/plain": [
       "   Windows_ratio__pub_no_pub  Mac OS_ratio__pub_no_pub  \\\n",
       "0                      276.5                209.352941   \n",
       "\n",
       "   Linux_ratio__pub_no_pub  \n",
       "0                    259.0  "
      ]
     },
     "metadata": {},
     "output_type": "display_data"
    }
   ],
   "source": [
    "d_relative_pub_no_pub = {}\n",
    "for p in [\"Windows\", \"Mac OS\", \"Linux\"]:\n",
    "    thru_pubs = df_platform_pub[\n",
    "        (df_platform_pub[\"platform\"] == p) & (df_platform_pub[\"publisher\"] == \"Yes\")\n",
    "    ][\"pct_of_all_listings\"].iloc[0]\n",
    "    no_pubs = df_platform_pub[\n",
    "        (df_platform_pub[\"platform\"] == p) & (df_platform_pub[\"publisher\"] == \"No\")\n",
    "    ][\"pct_of_all_listings\"].iloc[0]\n",
    "    d_relative_pub_no_pub[p + \"_ratio__pub_no_pub\"] = thru_pubs / no_pubs\n",
    "df_relative_pub_no_pub = pd.DataFrame.from_dict(d_relative_pub_no_pub, orient=\"index\").T\n",
    "display(df_relative_pub_no_pub)"
   ]
  },
  {
   "cell_type": "markdown",
   "id": "51848108-540a-49c1-8659-4610fa38a4c5",
   "metadata": {},
   "source": [
    "**Observations**\n",
    "1. Linux-compatible games require expertise due to the dearth of drivers/software to allow a Linux system to support a game. This expertise is more likely to be found at a publishing company than through a standalone developer."
   ]
  },
  {
   "cell_type": "markdown",
   "id": "4462a4a6-9021-4f1e-bd4f-67bfe78cd8db",
   "metadata": {},
   "source": [
    "<a id=\"publishers-and-early-access-listings\"></a>\n",
    "\n",
    "### 4.5. [Publishers and Early Access listings](#publishers-and-early-access-listings)"
   ]
  },
  {
   "cell_type": "code",
   "execution_count": 43,
   "id": "5ff3af14-7529-4e8c-a8c4-9c5392eb18bd",
   "metadata": {},
   "outputs": [
    {
     "name": "stdout",
     "output_type": "stream",
     "text": [
      "36\n"
     ]
    }
   ],
   "source": [
    "print(df[\"Publisher\"].isna().sum())"
   ]
  },
  {
   "cell_type": "markdown",
   "id": "787c1bc0-8ced-48a3-a264-92a4cd85abad",
   "metadata": {},
   "source": [
    "**What fraction of early-access games are offered through a publisher? What is the fraction without a publisher?**"
   ]
  },
  {
   "cell_type": "markdown",
   "id": "916a4009-d042-4a10-a457-f94fcefecb3e",
   "metadata": {},
   "source": [
    "Count the number of listings with early access with and without a publisher\n",
    "- early access, without a publisher\n",
    "  - the `Publisher` column is missing a value\n",
    "  - the `Early Access...` column is not missing a value\n",
    "- early access, with a publisher\n",
    "  - the `Publisher` column is not missing a value\n",
    "  - the `Early Access...` column is not missing a value\n",
    "- no early access, without a publisher\n",
    "  - the `Publisher` column is missing a value\n",
    "  - the `Early Access...` column is missing a value\n",
    "- no early access, with a publisher\n",
    "  - the `Publisher` column is not missing a value\n",
    "  - the `Early Access...` column is missing a value"
   ]
  },
  {
   "cell_type": "code",
   "execution_count": 44,
   "id": "1ddaf1ed-595a-4539-b7e2-f6ff659b3458",
   "metadata": {},
   "outputs": [],
   "source": [
    "early_access_no_pubs = len(\n",
    "    df[(~df[\"Early Access Release Date\"].isna()) & (df[\"Publisher\"].isna())]\n",
    ")\n",
    "early_access_pubs = len(\n",
    "    df[(~df[\"Early Access Release Date\"].isna()) & (~df[\"Publisher\"].isna())]\n",
    ")\n",
    "no_early_access_no_pubs = len(\n",
    "    df[(df[\"Early Access Release Date\"].isna()) & (df[\"Publisher\"].isna())]\n",
    ")\n",
    "no_early_access_pubs = len(\n",
    "    df[(df[\"Early Access Release Date\"].isna()) & (~df[\"Publisher\"].isna())]\n",
    ")"
   ]
  },
  {
   "cell_type": "markdown",
   "id": "a34f37ac-69c1-4542-bb6c-9dbb3b9dcb02",
   "metadata": {},
   "source": [
    "Convert each count of listings to a fraction"
   ]
  },
  {
   "cell_type": "code",
   "execution_count": 45,
   "id": "dce432b6-f017-4cc4-9cf0-d883bc06f582",
   "metadata": {},
   "outputs": [],
   "source": [
    "d_no_early_acc_pubs = {\n",
    "    \"no_early_access__no_pubs\": (no_early_access_no_pubs / len(df)) * 100,\n",
    "    \"no_early_access__pubs\": (no_early_access_pubs / len(df)) * 100,\n",
    "}\n",
    "d_early_acc_pubs = {\n",
    "    \"early_access__no_pubs\": (early_access_no_pubs / len(df)) * 100,\n",
    "    \"early_access__pubs\": (early_access_pubs / len(df)) * 100,\n",
    "}"
   ]
  },
  {
   "cell_type": "markdown",
   "id": "284fd80b-47eb-4bb8-a123-a159cbb91ac1",
   "metadata": {},
   "source": [
    "Put all fractions into `DataFrame`s"
   ]
  },
  {
   "cell_type": "code",
   "execution_count": 46,
   "id": "da616264-4b80-41aa-9471-98d5790c1c68",
   "metadata": {},
   "outputs": [
    {
     "data": {
      "text/html": [
       "<div>\n",
       "<style scoped>\n",
       "    .dataframe tbody tr th:only-of-type {\n",
       "        vertical-align: middle;\n",
       "    }\n",
       "\n",
       "    .dataframe tbody tr th {\n",
       "        vertical-align: top;\n",
       "    }\n",
       "\n",
       "    .dataframe thead th {\n",
       "        text-align: right;\n",
       "    }\n",
       "</style>\n",
       "<table border=\"1\" class=\"dataframe\">\n",
       "  <thead>\n",
       "    <tr style=\"text-align: right;\">\n",
       "      <th></th>\n",
       "      <th>index</th>\n",
       "      <th>pct_of_all_listings</th>\n",
       "    </tr>\n",
       "  </thead>\n",
       "  <tbody>\n",
       "    <tr>\n",
       "      <th>0</th>\n",
       "      <td>no_early_access__no_pubs</td>\n",
       "      <td>0.308919</td>\n",
       "    </tr>\n",
       "    <tr>\n",
       "      <th>1</th>\n",
       "      <td>no_early_access__pubs</td>\n",
       "      <td>88.769307</td>\n",
       "    </tr>\n",
       "  </tbody>\n",
       "</table>\n",
       "</div>"
      ],
      "text/plain": [
       "                      index  pct_of_all_listings\n",
       "0  no_early_access__no_pubs             0.308919\n",
       "1     no_early_access__pubs            88.769307"
      ]
     },
     "metadata": {},
     "output_type": "display_data"
    },
    {
     "data": {
      "text/html": [
       "<div>\n",
       "<style scoped>\n",
       "    .dataframe tbody tr th:only-of-type {\n",
       "        vertical-align: middle;\n",
       "    }\n",
       "\n",
       "    .dataframe tbody tr th {\n",
       "        vertical-align: top;\n",
       "    }\n",
       "\n",
       "    .dataframe thead th {\n",
       "        text-align: right;\n",
       "    }\n",
       "</style>\n",
       "<table border=\"1\" class=\"dataframe\">\n",
       "  <thead>\n",
       "    <tr style=\"text-align: right;\">\n",
       "      <th></th>\n",
       "      <th>index</th>\n",
       "      <th>pct_of_all_listings</th>\n",
       "    </tr>\n",
       "  </thead>\n",
       "  <tbody>\n",
       "    <tr>\n",
       "      <th>0</th>\n",
       "      <td>early_access__no_pubs</td>\n",
       "      <td>0.049826</td>\n",
       "    </tr>\n",
       "    <tr>\n",
       "      <th>1</th>\n",
       "      <td>early_access__pubs</td>\n",
       "      <td>10.871948</td>\n",
       "    </tr>\n",
       "  </tbody>\n",
       "</table>\n",
       "</div>"
      ],
      "text/plain": [
       "                   index  pct_of_all_listings\n",
       "0  early_access__no_pubs             0.049826\n",
       "1     early_access__pubs            10.871948"
      ]
     },
     "metadata": {},
     "output_type": "display_data"
    }
   ],
   "source": [
    "df_no_early_acc_pubs = (\n",
    "    pd.DataFrame.from_dict(d_no_early_acc_pubs, orient=\"index\")\n",
    "    .reset_index()\n",
    "    .rename(columns={0: \"pct_of_all_listings\"})\n",
    ")\n",
    "df_early_acc_pubs = (\n",
    "    pd.DataFrame.from_dict(d_early_acc_pubs, orient=\"index\")\n",
    "    .reset_index()\n",
    "    .rename(columns={0: \"pct_of_all_listings\"})\n",
    ")\n",
    "display(df_no_early_acc_pubs)\n",
    "display(df_early_acc_pubs)"
   ]
  },
  {
   "cell_type": "markdown",
   "id": "4f3c1930-3983-47e9-940a-b84a1229f974",
   "metadata": {},
   "source": [
    "Split `index` column of `DataFrame`s"
   ]
  },
  {
   "cell_type": "code",
   "execution_count": 47,
   "id": "f58f149b-e150-484b-951d-5d5487a8fcc2",
   "metadata": {},
   "outputs": [
    {
     "data": {
      "text/html": [
       "<div>\n",
       "<style scoped>\n",
       "    .dataframe tbody tr th:only-of-type {\n",
       "        vertical-align: middle;\n",
       "    }\n",
       "\n",
       "    .dataframe tbody tr th {\n",
       "        vertical-align: top;\n",
       "    }\n",
       "\n",
       "    .dataframe thead th {\n",
       "        text-align: right;\n",
       "    }\n",
       "</style>\n",
       "<table border=\"1\" class=\"dataframe\">\n",
       "  <thead>\n",
       "    <tr style=\"text-align: right;\">\n",
       "      <th></th>\n",
       "      <th>index</th>\n",
       "      <th>pct_of_all_listings</th>\n",
       "      <th>early_access</th>\n",
       "      <th>publisher</th>\n",
       "    </tr>\n",
       "  </thead>\n",
       "  <tbody>\n",
       "    <tr>\n",
       "      <th>0</th>\n",
       "      <td>no_early_access__no_pubs</td>\n",
       "      <td>0.308919</td>\n",
       "      <td>no_early_access</td>\n",
       "      <td>no_pubs</td>\n",
       "    </tr>\n",
       "    <tr>\n",
       "      <th>1</th>\n",
       "      <td>no_early_access__pubs</td>\n",
       "      <td>88.769307</td>\n",
       "      <td>no_early_access</td>\n",
       "      <td>pubs</td>\n",
       "    </tr>\n",
       "  </tbody>\n",
       "</table>\n",
       "</div>"
      ],
      "text/plain": [
       "                      index  pct_of_all_listings     early_access publisher\n",
       "0  no_early_access__no_pubs             0.308919  no_early_access   no_pubs\n",
       "1     no_early_access__pubs            88.769307  no_early_access      pubs"
      ]
     },
     "metadata": {},
     "output_type": "display_data"
    },
    {
     "data": {
      "text/html": [
       "<div>\n",
       "<style scoped>\n",
       "    .dataframe tbody tr th:only-of-type {\n",
       "        vertical-align: middle;\n",
       "    }\n",
       "\n",
       "    .dataframe tbody tr th {\n",
       "        vertical-align: top;\n",
       "    }\n",
       "\n",
       "    .dataframe thead th {\n",
       "        text-align: right;\n",
       "    }\n",
       "</style>\n",
       "<table border=\"1\" class=\"dataframe\">\n",
       "  <thead>\n",
       "    <tr style=\"text-align: right;\">\n",
       "      <th></th>\n",
       "      <th>index</th>\n",
       "      <th>pct_of_all_listings</th>\n",
       "      <th>early_access</th>\n",
       "      <th>publisher</th>\n",
       "    </tr>\n",
       "  </thead>\n",
       "  <tbody>\n",
       "    <tr>\n",
       "      <th>0</th>\n",
       "      <td>early_access__no_pubs</td>\n",
       "      <td>0.049826</td>\n",
       "      <td>early_access</td>\n",
       "      <td>no_pubs</td>\n",
       "    </tr>\n",
       "    <tr>\n",
       "      <th>1</th>\n",
       "      <td>early_access__pubs</td>\n",
       "      <td>10.871948</td>\n",
       "      <td>early_access</td>\n",
       "      <td>pubs</td>\n",
       "    </tr>\n",
       "  </tbody>\n",
       "</table>\n",
       "</div>"
      ],
      "text/plain": [
       "                   index  pct_of_all_listings  early_access publisher\n",
       "0  early_access__no_pubs             0.049826  early_access   no_pubs\n",
       "1     early_access__pubs            10.871948  early_access      pubs"
      ]
     },
     "metadata": {},
     "output_type": "display_data"
    }
   ],
   "source": [
    "df_no_early_acc_pubs[[\"early_access\", \"publisher\"]] = df_no_early_acc_pubs[\n",
    "    \"index\"\n",
    "].str.split(\"__\", expand=True)\n",
    "df_early_acc_pubs[[\"early_access\", \"publisher\"]] = df_early_acc_pubs[\"index\"].str.split(\n",
    "    \"__\", expand=True\n",
    ")\n",
    "display(df_no_early_acc_pubs)\n",
    "display(df_early_acc_pubs)"
   ]
  },
  {
   "cell_type": "markdown",
   "id": "aefbe73c-80ce-427c-968c-b17f254ec850",
   "metadata": {},
   "source": [
    "Vertically concatenate `DataFrame`s"
   ]
  },
  {
   "cell_type": "code",
   "execution_count": 48,
   "id": "5ffc62fc-f11d-4cfe-8b34-35b493cd1dad",
   "metadata": {},
   "outputs": [
    {
     "data": {
      "text/html": [
       "<div>\n",
       "<style scoped>\n",
       "    .dataframe tbody tr th:only-of-type {\n",
       "        vertical-align: middle;\n",
       "    }\n",
       "\n",
       "    .dataframe tbody tr th {\n",
       "        vertical-align: top;\n",
       "    }\n",
       "\n",
       "    .dataframe thead th {\n",
       "        text-align: right;\n",
       "    }\n",
       "</style>\n",
       "<table border=\"1\" class=\"dataframe\">\n",
       "  <thead>\n",
       "    <tr style=\"text-align: right;\">\n",
       "      <th></th>\n",
       "      <th>index</th>\n",
       "      <th>pct_of_all_listings</th>\n",
       "      <th>early_access</th>\n",
       "      <th>publisher</th>\n",
       "    </tr>\n",
       "  </thead>\n",
       "  <tbody>\n",
       "    <tr>\n",
       "      <th>0</th>\n",
       "      <td>early_access__no_pubs</td>\n",
       "      <td>0.049826</td>\n",
       "      <td>Early Access</td>\n",
       "      <td>No</td>\n",
       "    </tr>\n",
       "    <tr>\n",
       "      <th>1</th>\n",
       "      <td>early_access__pubs</td>\n",
       "      <td>10.871948</td>\n",
       "      <td>Early Access</td>\n",
       "      <td>Yes</td>\n",
       "    </tr>\n",
       "    <tr>\n",
       "      <th>0</th>\n",
       "      <td>no_early_access__no_pubs</td>\n",
       "      <td>0.308919</td>\n",
       "      <td>No Early Access</td>\n",
       "      <td>No</td>\n",
       "    </tr>\n",
       "    <tr>\n",
       "      <th>1</th>\n",
       "      <td>no_early_access__pubs</td>\n",
       "      <td>88.769307</td>\n",
       "      <td>No Early Access</td>\n",
       "      <td>Yes</td>\n",
       "    </tr>\n",
       "  </tbody>\n",
       "</table>\n",
       "</div>"
      ],
      "text/plain": [
       "                      index  pct_of_all_listings     early_access publisher\n",
       "0     early_access__no_pubs             0.049826     Early Access        No\n",
       "1        early_access__pubs            10.871948     Early Access       Yes\n",
       "0  no_early_access__no_pubs             0.308919  No Early Access        No\n",
       "1     no_early_access__pubs            88.769307  No Early Access       Yes"
      ]
     },
     "metadata": {},
     "output_type": "display_data"
    }
   ],
   "source": [
    "df_early_no_early_acc_pubs = pd.concat([df_early_acc_pubs, df_no_early_acc_pubs])\n",
    "df_early_no_early_acc_pubs[\"early_access\"] = df_early_no_early_acc_pubs[\n",
    "    \"early_access\"\n",
    "].map({\"early_access\": \"Early Access\", \"no_early_access\": \"No Early Access\"})\n",
    "df_early_no_early_acc_pubs[\"publisher\"] = df_early_no_early_acc_pubs[\"publisher\"].map(\n",
    "    {\"pubs\": \"Yes\", \"no_pubs\": \"No\"}\n",
    ")\n",
    "display(df_early_no_early_acc_pubs)"
   ]
  },
  {
   "cell_type": "markdown",
   "id": "5c1159dc-3f12-45cc-b176-fd34b9c0af36",
   "metadata": {},
   "source": [
    "Plot fractions"
   ]
  },
  {
   "cell_type": "code",
   "execution_count": 49,
   "id": "015fdb5f-af0b-4235-8fb6-7c01ccfc599d",
   "metadata": {},
   "outputs": [
    {
     "data": {
      "image/png": "[encoded data removed]",
      "text/plain": [
       "<Figure size 576x576 with 1 Axes>"
      ]
     },
     "metadata": {},
     "output_type": "display_data"
    }
   ],
   "source": [
    "with sns.axes_style(\"ticks\"):\n",
    "    ax = sns.catplot(\n",
    "        data=df_early_no_early_acc_pubs,\n",
    "        kind=\"bar\",\n",
    "        x=\"early_access\",\n",
    "        y=\"pct_of_all_listings\",\n",
    "        hue=\"publisher\",\n",
    "        palette=\"husl\",\n",
    "        alpha=0.9,\n",
    "        height=6,\n",
    "        saturation=0.25,\n",
    "    )\n",
    "    ax.despine(left=True)\n",
    "    # ax.set_axis_labels(\"\", \"Early Access Listings through a Publisher\")\n",
    "    ax = plt.gca()\n",
    "    ax.set_title(\"Fraction of Listings\", loc=\"left\", fontweight=\"bold\")\n",
    "    ax.set_xlabel(None)\n",
    "    ax.set_ylabel(None)\n",
    "    sns.despine()\n",
    "    fig = plt.gcf()\n",
    "    fig.set_figheight(8)\n",
    "    fig.set_figwidth(8)\n",
    "    # fig.savefig(\n",
    "    #     os.path.join(reports_data_dir, \"4_publisher_early_release.png\"),\n",
    "    #     bbox_inches=\"tight\",\n",
    "    #     dpi=300,\n",
    "    # )"
   ]
  },
  {
   "cell_type": "markdown",
   "id": "ebdba069-fcd4-4559-9979-b68f0fc804c7",
   "metadata": {},
   "source": [
    "(OPTIONAL) Calculate the ratio of listings with a publisher to those without a publisher, depending on whether or not they support early-access"
   ]
  },
  {
   "cell_type": "code",
   "execution_count": 50,
   "id": "55d0c771-3b9e-4c0d-8b80-84b1dce451f5",
   "metadata": {},
   "outputs": [
    {
     "data": {
      "text/html": [
       "<div>\n",
       "<style scoped>\n",
       "    .dataframe tbody tr th:only-of-type {\n",
       "        vertical-align: middle;\n",
       "    }\n",
       "\n",
       "    .dataframe tbody tr th {\n",
       "        vertical-align: top;\n",
       "    }\n",
       "\n",
       "    .dataframe thead th {\n",
       "        text-align: right;\n",
       "    }\n",
       "</style>\n",
       "<table border=\"1\" class=\"dataframe\">\n",
       "  <thead>\n",
       "    <tr style=\"text-align: right;\">\n",
       "      <th></th>\n",
       "      <th>ratio_pub__no_pub</th>\n",
       "    </tr>\n",
       "  </thead>\n",
       "  <tbody>\n",
       "    <tr>\n",
       "      <th>No Early Access</th>\n",
       "      <td>287.354839</td>\n",
       "    </tr>\n",
       "    <tr>\n",
       "      <th>Early Access</th>\n",
       "      <td>218.200000</td>\n",
       "    </tr>\n",
       "  </tbody>\n",
       "</table>\n",
       "</div>"
      ],
      "text/plain": [
       "                 ratio_pub__no_pub\n",
       "No Early Access         287.354839\n",
       "Early Access            218.200000"
      ]
     },
     "metadata": {},
     "output_type": "display_data"
    }
   ],
   "source": [
    "pub_no_early = (df_early_no_early_acc_pubs[\"publisher\"] == \"Yes\") & (\n",
    "    df_early_no_early_acc_pubs[\"early_access\"] == \"No Early Access\"\n",
    ")\n",
    "pub_early = (df_early_no_early_acc_pubs[\"publisher\"] == \"Yes\") & (\n",
    "    df_early_no_early_acc_pubs[\"early_access\"] == \"Early Access\"\n",
    ")\n",
    "no_pub_no_early = (df_early_no_early_acc_pubs[\"publisher\"] == \"No\") & (\n",
    "    df_early_no_early_acc_pubs[\"early_access\"] == \"No Early Access\"\n",
    ")\n",
    "no_pub_early = (df_early_no_early_acc_pubs[\"publisher\"] == \"No\") & (\n",
    "    df_early_no_early_acc_pubs[\"early_access\"] == \"Early Access\"\n",
    ")\n",
    "\n",
    "d_relative_pub_no_pub_for_early_acc = {\n",
    "    \"No Early Access\": (\n",
    "        df_early_no_early_acc_pubs[pub_no_early][\"pct_of_all_listings\"].iloc[0]\n",
    "        / df_early_no_early_acc_pubs[no_pub_no_early][\"pct_of_all_listings\"].iloc[0]\n",
    "    ),\n",
    "    \"Early Access\": (\n",
    "        df_early_no_early_acc_pubs[pub_early][\"pct_of_all_listings\"].iloc[0]\n",
    "        / df_early_no_early_acc_pubs[no_pub_early][\"pct_of_all_listings\"].iloc[0]\n",
    "    ),\n",
    "}\n",
    "df_relative_pub_no_pub_for_early_acc = pd.DataFrame.from_dict(\n",
    "    d_relative_pub_no_pub_for_early_acc, orient=\"index\"\n",
    ").rename(columns={0: \"ratio_pub__no_pub\"})\n",
    "display(df_relative_pub_no_pub_for_early_acc)"
   ]
  },
  {
   "cell_type": "markdown",
   "id": "2bb5bd17-83d6-48f8-b9d6-2bde2cab768f",
   "metadata": {},
   "source": [
    "<a id=\"publishers-and-multi-language-support\"></a>\n",
    "\n",
    "### 4.6. [Publishers and Multi-Language Support](#publishers-and-multi-language-support)"
   ]
  },
  {
   "cell_type": "markdown",
   "id": "e1e13765-d73d-4dd7-bbbf-7202a6c108a1",
   "metadata": {},
   "source": [
    "**What fraction of multi-language supported listings are offered through a publisher? What is the fraction without going through a publisher?**"
   ]
  },
  {
   "cell_type": "code",
   "execution_count": 51,
   "id": "b00721f7-c2aa-4eed-9515-24ed3edefe36",
   "metadata": {},
   "outputs": [
    {
     "name": "stdout",
     "output_type": "stream",
     "text": [
      "Fraction of listings with multi-language support that are offered by a publisher = 63.82\n"
     ]
    }
   ],
   "source": [
    "multi_lang_pubs = len(df[(df[\"num_languages\"] > 1) & (~df[\"Publisher\"].isna())])\n",
    "print(\n",
    "    \"Fraction of listings with multi-language support that are \"\n",
    "    f\"offered by a publisher = {(multi_lang_pubs / len(df)) * 100:.2f}\"\n",
    ")"
   ]
  },
  {
   "cell_type": "code",
   "execution_count": 52,
   "id": "81759897-e09d-429b-b03d-914e64c8d9f6",
   "metadata": {},
   "outputs": [
    {
     "name": "stdout",
     "output_type": "stream",
     "text": [
      "Fraction of listings with multi-language support that are not offered by a publisher = 0.24\n"
     ]
    }
   ],
   "source": [
    "multi_lang_no_pubs = len(df[(df[\"num_languages\"] > 1) & (df[\"Publisher\"].isna())])\n",
    "print(\n",
    "    \"Fraction of listings with multi-language support that are not \"\n",
    "    f\"offered by a publisher = {(multi_lang_no_pubs / len(df)) * 100:.2f}\"\n",
    ")"
   ]
  },
  {
   "cell_type": "markdown",
   "id": "bec84560-21db-49ac-aecd-8419ccbbaf1d",
   "metadata": {},
   "source": [
    "<a id=\"developers\"></a>\n",
    "\n",
    "### 4.7. [Developers](#developers)"
   ]
  },
  {
   "cell_type": "markdown",
   "id": "6d964f44-0cdf-4b1a-8653-57aaa23aca47",
   "metadata": {},
   "source": [
    "**Show a table with each of the top 15 developers by the number of listings they support on Windows. Include the number of their supported listings on mac and linux as well. For any occurrences where multiple developers collaborated, consider each separately.**"
   ]
  },
  {
   "cell_type": "markdown",
   "id": "4d3cc6c1-361d-481c-9d98-005a5bf46977",
   "metadata": {},
   "source": [
    "For every listing, get the developer and a separate row showing each supported platform"
   ]
  },
  {
   "cell_type": "code",
   "execution_count": 53,
   "id": "a1cb6d94-26d1-4ca0-8c74-c20603e30458",
   "metadata": {},
   "outputs": [],
   "source": [
    "def extract_platforms_counts(data):\n",
    "    return pd.DataFrame.from_dict(\n",
    "        {\n",
    "            \"win_support\": (data[\"platform\"] == \"win\").sum(),\n",
    "            \"mac_support\": (data[\"platform\"] == \"mac\").sum(),\n",
    "            \"linux_support\": (data[\"platform\"] == \"linux\").sum(),\n",
    "        },\n",
    "        orient=\"index\",\n",
    "    ).T"
   ]
  },
  {
   "cell_type": "code",
   "execution_count": 54,
   "id": "9c7f1183-6264-489b-8288-fad481bcb36a",
   "metadata": {},
   "outputs": [
    {
     "data": {
      "text/html": [
       "<style type=\"text/css\">\n",
       "</style>\n",
       "<table id=\"T_5a98c_\">\n",
       "  <caption>First & Last 5 rows</caption>\n",
       "  <thead>\n",
       "    <tr>\n",
       "      <th class=\"blank level0\" >&nbsp;</th>\n",
       "      <th class=\"col_heading level0 col0\" >url</th>\n",
       "      <th class=\"col_heading level0 col1\" >Developer</th>\n",
       "      <th class=\"col_heading level0 col2\" >platform</th>\n",
       "      <th class=\"col_heading level0 col3\" >support</th>\n",
       "    </tr>\n",
       "  </thead>\n",
       "  <tbody>\n",
       "    <tr>\n",
       "      <th id=\"T_5a98c_level0_row0\" class=\"row_heading level0 row0\" >1833</th>\n",
       "      <td id=\"T_5a98c_row0_col0\" class=\"data row0 col0\" >https://store.steampowered.com/app/1000010/Crown_Trick/</td>\n",
       "      <td id=\"T_5a98c_row0_col1\" class=\"data row0 col1\" >NEXT Studios</td>\n",
       "      <td id=\"T_5a98c_row0_col2\" class=\"data row0 col2\" >win</td>\n",
       "      <td id=\"T_5a98c_row0_col3\" class=\"data row0 col3\" >True</td>\n",
       "    </tr>\n",
       "    <tr>\n",
       "      <th id=\"T_5a98c_level0_row1\" class=\"row_heading level0 row1\" >1866</th>\n",
       "      <td id=\"T_5a98c_row1_col0\" class=\"data row1 col0\" >https://store.steampowered.com/app/1000030/Cook_Serve_Delicious_3/</td>\n",
       "      <td id=\"T_5a98c_row1_col1\" class=\"data row1 col1\" >Vertigo Gaming Inc.</td>\n",
       "      <td id=\"T_5a98c_row1_col2\" class=\"data row1 col2\" >win</td>\n",
       "      <td id=\"T_5a98c_row1_col3\" class=\"data row1 col3\" >True</td>\n",
       "    </tr>\n",
       "    <tr>\n",
       "      <th id=\"T_5a98c_level0_row2\" class=\"row_heading level0 row2\" >1867</th>\n",
       "      <td id=\"T_5a98c_row2_col0\" class=\"data row2 col0\" >https://store.steampowered.com/app/1000030/Cook_Serve_Delicious_3/</td>\n",
       "      <td id=\"T_5a98c_row2_col1\" class=\"data row2 col1\" >Vertigo Gaming Inc.</td>\n",
       "      <td id=\"T_5a98c_row2_col2\" class=\"data row2 col2\" >mac</td>\n",
       "      <td id=\"T_5a98c_row2_col3\" class=\"data row2 col3\" >True</td>\n",
       "    </tr>\n",
       "    <tr>\n",
       "      <th id=\"T_5a98c_level0_row3\" class=\"row_heading level0 row3\" >19633</th>\n",
       "      <td id=\"T_5a98c_row3_col0\" class=\"data row3 col0\" >https://store.steampowered.com/app/1000080/Zengeon/</td>\n",
       "      <td id=\"T_5a98c_row3_col1\" class=\"data row3 col1\" >IndieLeague Studio</td>\n",
       "      <td id=\"T_5a98c_row3_col2\" class=\"data row3 col2\" >mac</td>\n",
       "      <td id=\"T_5a98c_row3_col3\" class=\"data row3 col3\" >True</td>\n",
       "    </tr>\n",
       "    <tr>\n",
       "      <th id=\"T_5a98c_level0_row4\" class=\"row_heading level0 row4\" >19632</th>\n",
       "      <td id=\"T_5a98c_row4_col0\" class=\"data row4 col0\" >https://store.steampowered.com/app/1000080/Zengeon/</td>\n",
       "      <td id=\"T_5a98c_row4_col1\" class=\"data row4 col1\" >IndieLeague Studio</td>\n",
       "      <td id=\"T_5a98c_row4_col2\" class=\"data row4 col2\" >win</td>\n",
       "      <td id=\"T_5a98c_row4_col3\" class=\"data row4 col3\" >True</td>\n",
       "    </tr>\n",
       "    <tr>\n",
       "      <th id=\"T_5a98c_level0_row5\" class=\"row_heading level0 row5\" >333</th>\n",
       "      <td id=\"T_5a98c_row5_col0\" class=\"data row5 col0\" >https://store.steampowered.com/app/99900/Spiral_Knights/</td>\n",
       "      <td id=\"T_5a98c_row5_col1\" class=\"data row5 col1\" >Grey Havens, LLC</td>\n",
       "      <td id=\"T_5a98c_row5_col2\" class=\"data row5 col2\" >win</td>\n",
       "      <td id=\"T_5a98c_row5_col3\" class=\"data row5 col3\" >True</td>\n",
       "    </tr>\n",
       "    <tr>\n",
       "      <th id=\"T_5a98c_level0_row6\" class=\"row_heading level0 row6\" >334</th>\n",
       "      <td id=\"T_5a98c_row6_col0\" class=\"data row6 col0\" >https://store.steampowered.com/app/99900/Spiral_Knights/</td>\n",
       "      <td id=\"T_5a98c_row6_col1\" class=\"data row6 col1\" >Grey Havens, LLC</td>\n",
       "      <td id=\"T_5a98c_row6_col2\" class=\"data row6 col2\" >mac</td>\n",
       "      <td id=\"T_5a98c_row6_col3\" class=\"data row6 col3\" >True</td>\n",
       "    </tr>\n",
       "    <tr>\n",
       "      <th id=\"T_5a98c_level0_row7\" class=\"row_heading level0 row7\" >93</th>\n",
       "      <td id=\"T_5a98c_row7_col0\" class=\"data row7 col0\" >https://store.steampowered.com/app/99910/Puzzle_Pirates/</td>\n",
       "      <td id=\"T_5a98c_row7_col1\" class=\"data row7 col1\" >Grey Havens, LLC</td>\n",
       "      <td id=\"T_5a98c_row7_col2\" class=\"data row7 col2\" >win</td>\n",
       "      <td id=\"T_5a98c_row7_col3\" class=\"data row7 col3\" >True</td>\n",
       "    </tr>\n",
       "    <tr>\n",
       "      <th id=\"T_5a98c_level0_row8\" class=\"row_heading level0 row8\" >94</th>\n",
       "      <td id=\"T_5a98c_row8_col0\" class=\"data row8 col0\" >https://store.steampowered.com/app/99910/Puzzle_Pirates/</td>\n",
       "      <td id=\"T_5a98c_row8_col1\" class=\"data row8 col1\" >Grey Havens, LLC</td>\n",
       "      <td id=\"T_5a98c_row8_col2\" class=\"data row8 col2\" >mac</td>\n",
       "      <td id=\"T_5a98c_row8_col3\" class=\"data row8 col3\" >True</td>\n",
       "    </tr>\n",
       "    <tr>\n",
       "      <th id=\"T_5a98c_level0_row9\" class=\"row_heading level0 row9\" >8202</th>\n",
       "      <td id=\"T_5a98c_row9_col0\" class=\"data row9 col0\" >https://store.steampowered.com/app/999660/SAMURAI_SHODOWN_NEOGEO_COLLECTION/</td>\n",
       "      <td id=\"T_5a98c_row9_col1\" class=\"data row9 col1\" >DIGITAL ECLIPSE</td>\n",
       "      <td id=\"T_5a98c_row9_col2\" class=\"data row9 col2\" >win</td>\n",
       "      <td id=\"T_5a98c_row9_col3\" class=\"data row9 col3\" >True</td>\n",
       "    </tr>\n",
       "  </tbody>\n",
       "</table>\n"
      ],
      "text/plain": [
       "<pandas.io.formats.style.Styler at 0x7fe0bd49ecd0>"
      ]
     },
     "metadata": {},
     "output_type": "display_data"
    },
    {
     "name": "stdout",
     "output_type": "stream",
     "text": [
      "CPU times: user 48.6 ms, sys: 101 µs, total: 48.7 ms\n",
      "Wall time: 47.9 ms\n"
     ]
    }
   ],
   "source": [
    "%%time\n",
    "df_platforms = (\n",
    "    df[[p for p in platforms_wanted] + [\"url\", \"Developer\"]]\n",
    "    .set_index([\"url\", \"Developer\"])\n",
    "    .stack()\n",
    "    .reset_index()\n",
    "    .rename(columns={\"level_2\": \"platform\", 0: \"support\"})\n",
    "    .astype({\"Developer\": \"str\"})\n",
    "    .sort_values(by=[\"url\"], ascending=True)\n",
    "    .query(\"support == True\")\n",
    ")\n",
    "show_df(df_platforms, 5)"
   ]
  },
  {
   "cell_type": "markdown",
   "id": "887a3314-deab-4b38-9172-2c523a2a22df",
   "metadata": {},
   "source": [
    "Aggregate over each developer and count the number of their listings with support for each of the platforms (sorting results based on the number Windows listings)"
   ]
  },
  {
   "cell_type": "code",
   "execution_count": 55,
   "id": "b7a64afa-1ed6-47db-ac3e-eb2b2337e59a",
   "metadata": {},
   "outputs": [
    {
     "data": {
      "text/html": [
       "<style type=\"text/css\">\n",
       "</style>\n",
       "<table id=\"T_d8a35_\">\n",
       "  <caption>First & Last 5 rows</caption>\n",
       "  <thead>\n",
       "    <tr>\n",
       "      <th class=\"blank level0\" >&nbsp;</th>\n",
       "      <th class=\"col_heading level0 col0\" >win_support</th>\n",
       "      <th class=\"col_heading level0 col1\" >mac_support</th>\n",
       "      <th class=\"col_heading level0 col2\" >linux_support</th>\n",
       "    </tr>\n",
       "    <tr>\n",
       "      <th class=\"index_name level0\" >Developer</th>\n",
       "      <th class=\"blank col0\" >&nbsp;</th>\n",
       "      <th class=\"blank col1\" >&nbsp;</th>\n",
       "      <th class=\"blank col2\" >&nbsp;</th>\n",
       "    </tr>\n",
       "  </thead>\n",
       "  <tbody>\n",
       "    <tr>\n",
       "      <th id=\"T_d8a35_level0_row0\" class=\"row_heading level0 row0\" >Choice of Games</th>\n",
       "      <td id=\"T_d8a35_row0_col0\" class=\"data row0 col0\" >44</td>\n",
       "      <td id=\"T_d8a35_row0_col1\" class=\"data row0 col1\" >44</td>\n",
       "      <td id=\"T_d8a35_row0_col2\" class=\"data row0 col2\" >44</td>\n",
       "    </tr>\n",
       "    <tr>\n",
       "      <th id=\"T_d8a35_level0_row1\" class=\"row_heading level0 row1\" >Humongous Entertainment</th>\n",
       "      <td id=\"T_d8a35_row1_col0\" class=\"data row1 col0\" >33</td>\n",
       "      <td id=\"T_d8a35_row1_col1\" class=\"data row1 col1\" >30</td>\n",
       "      <td id=\"T_d8a35_row1_col2\" class=\"data row1 col2\" >30</td>\n",
       "    </tr>\n",
       "    <tr>\n",
       "      <th id=\"T_d8a35_level0_row2\" class=\"row_heading level0 row2\" >HeR Interactive</th>\n",
       "      <td id=\"T_d8a35_row2_col0\" class=\"data row2 col0\" >30</td>\n",
       "      <td id=\"T_d8a35_row2_col1\" class=\"data row2 col1\" >6</td>\n",
       "      <td id=\"T_d8a35_row2_col2\" class=\"data row2 col2\" >0</td>\n",
       "    </tr>\n",
       "    <tr>\n",
       "      <th id=\"T_d8a35_level0_row3\" class=\"row_heading level0 row3\" >Winged Cloud</th>\n",
       "      <td id=\"T_d8a35_row3_col0\" class=\"data row3 col0\" >29</td>\n",
       "      <td id=\"T_d8a35_row3_col1\" class=\"data row3 col1\" >16</td>\n",
       "      <td id=\"T_d8a35_row3_col2\" class=\"data row3 col2\" >25</td>\n",
       "    </tr>\n",
       "    <tr>\n",
       "      <th id=\"T_d8a35_level0_row4\" class=\"row_heading level0 row4\" >Hosted Games</th>\n",
       "      <td id=\"T_d8a35_row4_col0\" class=\"data row4 col0\" >27</td>\n",
       "      <td id=\"T_d8a35_row4_col1\" class=\"data row4 col1\" >27</td>\n",
       "      <td id=\"T_d8a35_row4_col2\" class=\"data row4 col2\" >27</td>\n",
       "    </tr>\n",
       "    <tr>\n",
       "      <th id=\"T_d8a35_level0_row5\" class=\"row_heading level0 row5\" >Quiet River</th>\n",
       "      <td id=\"T_d8a35_row5_col0\" class=\"data row5 col0\" >21</td>\n",
       "      <td id=\"T_d8a35_row5_col1\" class=\"data row5 col1\" >0</td>\n",
       "      <td id=\"T_d8a35_row5_col2\" class=\"data row5 col2\" >0</td>\n",
       "    </tr>\n",
       "    <tr>\n",
       "      <th id=\"T_d8a35_level0_row6\" class=\"row_heading level0 row6\" >Daedalic Entertainment</th>\n",
       "      <td id=\"T_d8a35_row6_col0\" class=\"data row6 col0\" >18</td>\n",
       "      <td id=\"T_d8a35_row6_col1\" class=\"data row6 col1\" >14</td>\n",
       "      <td id=\"T_d8a35_row6_col2\" class=\"data row6 col2\" >11</td>\n",
       "    </tr>\n",
       "    <tr>\n",
       "      <th id=\"T_d8a35_level0_row7\" class=\"row_heading level0 row7\" >Minimol Games</th>\n",
       "      <td id=\"T_d8a35_row7_col0\" class=\"data row7 col0\" >17</td>\n",
       "      <td id=\"T_d8a35_row7_col1\" class=\"data row7 col1\" >14</td>\n",
       "      <td id=\"T_d8a35_row7_col2\" class=\"data row7 col2\" >0</td>\n",
       "    </tr>\n",
       "    <tr>\n",
       "      <th id=\"T_d8a35_level0_row8\" class=\"row_heading level0 row8\" >Nihon Falcom</th>\n",
       "      <td id=\"T_d8a35_row8_col0\" class=\"data row8 col0\" >16</td>\n",
       "      <td id=\"T_d8a35_row8_col1\" class=\"data row8 col1\" >0</td>\n",
       "      <td id=\"T_d8a35_row8_col2\" class=\"data row8 col2\" >0</td>\n",
       "    </tr>\n",
       "    <tr>\n",
       "      <th id=\"T_d8a35_level0_row9\" class=\"row_heading level0 row9\" >PopCap Games, Inc.</th>\n",
       "      <td id=\"T_d8a35_row9_col0\" class=\"data row9 col0\" >16</td>\n",
       "      <td id=\"T_d8a35_row9_col1\" class=\"data row9 col1\" >0</td>\n",
       "      <td id=\"T_d8a35_row9_col2\" class=\"data row9 col2\" >0</td>\n",
       "    </tr>\n",
       "  </tbody>\n",
       "</table>\n"
      ],
      "text/plain": [
       "<pandas.io.formats.style.Styler at 0x7fe1381488b0>"
      ]
     },
     "metadata": {},
     "output_type": "display_data"
    },
    {
     "name": "stdout",
     "output_type": "stream",
     "text": [
      "CPU times: user 5.02 s, sys: 143 ms, total: 5.17 s\n",
      "Wall time: 4.77 s\n"
     ]
    }
   ],
   "source": [
    "%%time\n",
    "df_platforms_by_developer = (\n",
    "    df_platforms.groupby(\"Developer\").apply(\n",
    "        extract_platforms_counts\n",
    "    ).reset_index(level=1, drop=True).nlargest(15, \"win_support\")\n",
    ")\n",
    "show_df(df_platforms_by_developer, 5)"
   ]
  },
  {
   "cell_type": "markdown",
   "id": "42bf0a48-86fc-4e6b-b1e9-aed86d512dfc",
   "metadata": {},
   "source": [
    "<a id=\"digital-rights-management\"></a>\n",
    "\n",
    "### 4.8. [Digital Rights Management](#digital-rights-management)"
   ]
  },
  {
   "cell_type": "markdown",
   "id": "d9f6d314-bc33-42ad-8176-9cccb035be06",
   "metadata": {},
   "source": [
    "**What fraction of listings doesn't involve a DRM?**"
   ]
  },
  {
   "cell_type": "markdown",
   "id": "d28b6cfd-14e7-47b9-bdcb-61d984c34c57",
   "metadata": {},
   "source": [
    "We'll assume that a missing value in the DRM column indicates that a DRM is not required"
   ]
  },
  {
   "cell_type": "code",
   "execution_count": 56,
   "id": "af86959f-344b-4121-a049-db5ee36e36f1",
   "metadata": {},
   "outputs": [
    {
     "name": "stdout",
     "output_type": "stream",
     "text": [
      "Fraction of listings without a DRM = 88.23\n"
     ]
    }
   ],
   "source": [
    "drm_missing_frac = (df[\"drm\"].isna().sum() / len(df)) * 100\n",
    "print(f\"Fraction of listings without a DRM = {drm_missing_frac:.2f}\")"
   ]
  },
  {
   "cell_type": "markdown",
   "id": "2ecff941-832e-4f55-a125-95323acef7c4",
   "metadata": {},
   "source": [
    "**Observations**\n",
    "1. Some games are free of DRMs ([1](https://www.digitaltrends.com/gaming/what-is-drm-in-video-games/)), but taking missing values in this column as being valid results in quite a large fraction of listings that don't require a DRM. We likely can't draw too many conclusions about this dataset that involves use of this column."
   ]
  },
  {
   "cell_type": "markdown",
   "id": "3594c24c-811b-4963-9b4d-29ceb9b3de3a",
   "metadata": {},
   "source": [
    "**What are the top 10 Genres that includes a DRM?**"
   ]
  },
  {
   "cell_type": "code",
   "execution_count": 57,
   "id": "6d634a0f-83dd-48a2-83a7-efdcd62055e8",
   "metadata": {},
   "outputs": [
    {
     "data": {
      "text/html": [
       "<style type=\"text/css\">\n",
       "</style>\n",
       "<table id=\"T_69a97_\">\n",
       "  <caption>All rows</caption>\n",
       "  <thead>\n",
       "    <tr>\n",
       "      <th class=\"blank level0\" >&nbsp;</th>\n",
       "      <th class=\"col_heading level0 col0\" >Genre</th>\n",
       "      <th class=\"col_heading level0 col1\" >url</th>\n",
       "    </tr>\n",
       "  </thead>\n",
       "  <tbody>\n",
       "    <tr>\n",
       "      <th id=\"T_69a97_level0_row0\" class=\"row_heading level0 row0\" >348</th>\n",
       "      <td id=\"T_69a97_row0_col0\" class=\"data row0 col0\" >Adventure, Indie</td>\n",
       "      <td id=\"T_69a97_row0_col1\" class=\"data row0 col1\" >550</td>\n",
       "    </tr>\n",
       "    <tr>\n",
       "      <th id=\"T_69a97_level0_row1\" class=\"row_heading level0 row1\" >217</th>\n",
       "      <td id=\"T_69a97_row1_col0\" class=\"data row1 col0\" >Action, Indie</td>\n",
       "      <td id=\"T_69a97_row1_col1\" class=\"data row1 col1\" >494</td>\n",
       "    </tr>\n",
       "    <tr>\n",
       "      <th id=\"T_69a97_level0_row2\" class=\"row_heading level0 row2\" >86</th>\n",
       "      <td id=\"T_69a97_row2_col0\" class=\"data row2 col0\" >Action, Adventure, Indie</td>\n",
       "      <td id=\"T_69a97_row2_col1\" class=\"data row2 col1\" >423</td>\n",
       "    </tr>\n",
       "    <tr>\n",
       "      <th id=\"T_69a97_level0_row3\" class=\"row_heading level0 row3\" >0</th>\n",
       "      <td id=\"T_69a97_row3_col0\" class=\"data row3 col0\" >Action</td>\n",
       "      <td id=\"T_69a97_row3_col1\" class=\"data row3 col1\" >364</td>\n",
       "    </tr>\n",
       "    <tr>\n",
       "      <th id=\"T_69a97_level0_row4\" class=\"row_heading level0 row4\" >419</th>\n",
       "      <td id=\"T_69a97_row4_col0\" class=\"data row4 col0\" >Casual, Indie</td>\n",
       "      <td id=\"T_69a97_row4_col1\" class=\"data row4 col1\" >356</td>\n",
       "    </tr>\n",
       "    <tr>\n",
       "      <th id=\"T_69a97_level0_row5\" class=\"row_heading level0 row5\" >301</th>\n",
       "      <td id=\"T_69a97_row5_col0\" class=\"data row5 col0\" >Adventure, Casual, Indie</td>\n",
       "      <td id=\"T_69a97_row5_col1\" class=\"data row5 col1\" >353</td>\n",
       "    </tr>\n",
       "    <tr>\n",
       "      <th id=\"T_69a97_level0_row6\" class=\"row_heading level0 row6\" >287</th>\n",
       "      <td id=\"T_69a97_row6_col0\" class=\"data row6 col0\" >Adventure</td>\n",
       "      <td id=\"T_69a97_row6_col1\" class=\"data row6 col1\" >294</td>\n",
       "    </tr>\n",
       "    <tr>\n",
       "      <th id=\"T_69a97_level0_row7\" class=\"row_heading level0 row7\" >355</th>\n",
       "      <td id=\"T_69a97_row7_col0\" class=\"data row7 col0\" >Adventure, Indie, RPG</td>\n",
       "      <td id=\"T_69a97_row7_col1\" class=\"data row7 col1\" >202</td>\n",
       "    </tr>\n",
       "    <tr>\n",
       "      <th id=\"T_69a97_level0_row8\" class=\"row_heading level0 row8\" >155</th>\n",
       "      <td id=\"T_69a97_row8_col0\" class=\"data row8 col0\" >Action, Casual, Indie</td>\n",
       "      <td id=\"T_69a97_row8_col1\" class=\"data row8 col1\" >199</td>\n",
       "    </tr>\n",
       "    <tr>\n",
       "      <th id=\"T_69a97_level0_row9\" class=\"row_heading level0 row9\" >96</th>\n",
       "      <td id=\"T_69a97_row9_col0\" class=\"data row9 col0\" >Action, Adventure, Indie, RPG</td>\n",
       "      <td id=\"T_69a97_row9_col1\" class=\"data row9 col1\" >194</td>\n",
       "    </tr>\n",
       "  </tbody>\n",
       "</table>\n"
      ],
      "text/plain": [
       "<pandas.io.formats.style.Styler at 0x7fe0be15e8b0>"
      ]
     },
     "metadata": {},
     "output_type": "display_data"
    }
   ],
   "source": [
    "drm_reqd = df[df[\"drm\"].isna()]\n",
    "listings_by_genre = (\n",
    "    drm_reqd.groupby(\"Genre\", as_index=False)[\"url\"].count().nlargest(10, \"url\")\n",
    ")\n",
    "show_df(listings_by_genre)"
   ]
  },
  {
   "cell_type": "markdown",
   "id": "7675cbb9-2692-4ea0-8253-8cee1afd2cae",
   "metadata": {},
   "source": [
    "<a id=\"genres-and-user-defined-tags\"></a>\n",
    "\n",
    "### 4.9. [Genres and User-Defined Tags](#genres-and-user-defined-tags)"
   ]
  },
  {
   "cell_type": "markdown",
   "id": "dbf14745-e7b6-4637-b5c5-aefaadce9c9b",
   "metadata": {},
   "source": [
    "**What fraction of listings are missing a Genre? a user-defined tag?**"
   ]
  },
  {
   "cell_type": "code",
   "execution_count": 58,
   "id": "f65dab00-7572-41c3-aa39-36dec6b59755",
   "metadata": {},
   "outputs": [
    {
     "name": "stdout",
     "output_type": "stream",
     "text": [
      "Fraction of listings without a Genre = 0.12, without a User-Defined Tag = 0.00\n"
     ]
    }
   ],
   "source": [
    "genre_missing = (df[\"Genre\"].isna().sum() / len(df)) * 100\n",
    "tag_missing = (df[\"user_defined_tags\"].isna().sum() / len(df)) * 100\n",
    "print(\n",
    "    f\"Fraction of listings without a Genre = {genre_missing:.2f}, \"\n",
    "    f\"without a User-Defined Tag = {tag_missing:.2f}\"\n",
    ")"
   ]
  },
  {
   "cell_type": "markdown",
   "id": "9dbdc3e7-5773-4259-8dd9-ebd34c5fc344",
   "metadata": {},
   "source": [
    "**How many Genres are covered by the retrieved listings?**"
   ]
  },
  {
   "cell_type": "code",
   "execution_count": 59,
   "id": "321b5e1e-7627-40aa-adb8-336ed8c3ec4f",
   "metadata": {},
   "outputs": [
    {
     "name": "stdout",
     "output_type": "stream",
     "text": [
      "Number of unique Genres in the scraped data = 660\n"
     ]
    }
   ],
   "source": [
    "print(f\"Number of unique Genres in the scraped data = {df['Genre'].nunique():,}\")"
   ]
  },
  {
   "cell_type": "markdown",
   "id": "f41a7b2e-e021-4f8e-bd31-846ce98decde",
   "metadata": {},
   "source": [
    "**Reshape the data to have all Genres as separate rows for a given listing**"
   ]
  },
  {
   "cell_type": "markdown",
   "id": "6c4ac9fe-09e3-44d0-a999-df6871ef2b68",
   "metadata": {},
   "source": [
    "Create a [messy dataset](https://cran.r-project.org/web/packages/tidyr/vignettes/tidy-data.html) showing URL and Genre\n",
    "- for each listing, this will split all the genres from a single row to having a single genre per row"
   ]
  },
  {
   "cell_type": "code",
   "execution_count": 60,
   "id": "30201e84-bc1e-4fa9-8342-0de367301e77",
   "metadata": {},
   "outputs": [
    {
     "data": {
      "text/html": [
       "<style type=\"text/css\">\n",
       "</style>\n",
       "<table id=\"T_e5af2_\">\n",
       "  <caption>First & Last 5 rows</caption>\n",
       "  <thead>\n",
       "    <tr>\n",
       "      <th class=\"blank level0\" >&nbsp;</th>\n",
       "      <th class=\"col_heading level0 col0\" >url</th>\n",
       "      <th class=\"col_heading level0 col1\" >Genre</th>\n",
       "    </tr>\n",
       "  </thead>\n",
       "  <tbody>\n",
       "    <tr>\n",
       "      <th id=\"T_e5af2_level0_row0\" class=\"row_heading level0 row0\" >0</th>\n",
       "      <td id=\"T_e5af2_row0_col0\" class=\"data row0 col0\" >https://store.steampowered.com/app/1158940/Blazing_Sails/</td>\n",
       "      <td id=\"T_e5af2_row0_col1\" class=\"data row0 col1\" >Action</td>\n",
       "    </tr>\n",
       "    <tr>\n",
       "      <th id=\"T_e5af2_level0_row1\" class=\"row_heading level0 row1\" >1</th>\n",
       "      <td id=\"T_e5af2_row1_col0\" class=\"data row1 col0\" >https://store.steampowered.com/app/21130/LEGO_Harry_Potter_Years_14/</td>\n",
       "      <td id=\"T_e5af2_row1_col1\" class=\"data row1 col1\" >Action</td>\n",
       "    </tr>\n",
       "    <tr>\n",
       "      <th id=\"T_e5af2_level0_row2\" class=\"row_heading level0 row2\" >2</th>\n",
       "      <td id=\"T_e5af2_row2_col0\" class=\"data row2 col0\" >https://store.steampowered.com/app/1315610/Source_of_Madness/</td>\n",
       "      <td id=\"T_e5af2_row2_col1\" class=\"data row2 col1\" >Action</td>\n",
       "    </tr>\n",
       "    <tr>\n",
       "      <th id=\"T_e5af2_level0_row3\" class=\"row_heading level0 row3\" >3</th>\n",
       "      <td id=\"T_e5af2_row3_col0\" class=\"data row3 col0\" >https://store.steampowered.com/app/1585910/Roll/</td>\n",
       "      <td id=\"T_e5af2_row3_col1\" class=\"data row3 col1\" >Casual</td>\n",
       "    </tr>\n",
       "    <tr>\n",
       "      <th id=\"T_e5af2_level0_row4\" class=\"row_heading level0 row4\" >4</th>\n",
       "      <td id=\"T_e5af2_row4_col0\" class=\"data row4 col0\" >https://store.steampowered.com/app/1372320/Cloud_Gardens/</td>\n",
       "      <td id=\"T_e5af2_row4_col1\" class=\"data row4 col1\" >Casual</td>\n",
       "    </tr>\n",
       "    <tr>\n",
       "      <th id=\"T_e5af2_level0_row5\" class=\"row_heading level0 row5\" >98072</th>\n",
       "      <td id=\"T_e5af2_row5_col0\" class=\"data row5 col0\" >https://store.steampowered.com/app/1396890/Boss_of_this_gym/</td>\n",
       "      <td id=\"T_e5af2_row5_col1\" class=\"data row5 col1\" >Sports</td>\n",
       "    </tr>\n",
       "    <tr>\n",
       "      <th id=\"T_e5af2_level0_row6\" class=\"row_heading level0 row6\" >103229</th>\n",
       "      <td id=\"T_e5af2_row6_col0\" class=\"data row6 col0\" >https://store.steampowered.com/app/1048100/Peekaboo_Online_Hide_and_Seek/</td>\n",
       "      <td id=\"T_e5af2_row6_col1\" class=\"data row6 col1\" >Strategy</td>\n",
       "    </tr>\n",
       "    <tr>\n",
       "      <th id=\"T_e5af2_level0_row7\" class=\"row_heading level0 row7\" >106431</th>\n",
       "      <td id=\"T_e5af2_row7_col0\" class=\"data row7 col0\" >https://store.steampowered.com/app/1514690/Peekaboo_Lite_Prop_Hunt/</td>\n",
       "      <td id=\"T_e5af2_row7_col1\" class=\"data row7 col1\" >Strategy</td>\n",
       "    </tr>\n",
       "    <tr>\n",
       "      <th id=\"T_e5af2_level0_row8\" class=\"row_heading level0 row8\" >108107</th>\n",
       "      <td id=\"T_e5af2_row8_col0\" class=\"data row8 col0\" >https://store.steampowered.com/app/1396890/Boss_of_this_gym/</td>\n",
       "      <td id=\"T_e5af2_row8_col1\" class=\"data row8 col1\" >Strategy</td>\n",
       "    </tr>\n",
       "    <tr>\n",
       "      <th id=\"T_e5af2_level0_row9\" class=\"row_heading level0 row9\" >116466</th>\n",
       "      <td id=\"T_e5af2_row9_col0\" class=\"data row9 col0\" >https://store.steampowered.com/app/1514690/Peekaboo_Lite_Prop_Hunt/</td>\n",
       "      <td id=\"T_e5af2_row9_col1\" class=\"data row9 col1\" >Early Access</td>\n",
       "    </tr>\n",
       "  </tbody>\n",
       "</table>\n"
      ],
      "text/plain": [
       "<pandas.io.formats.style.Styler at 0x7fe0bd9fd550>"
      ]
     },
     "metadata": {},
     "output_type": "display_data"
    },
    {
     "name": "stdout",
     "output_type": "stream",
     "text": [
      "CPU times: user 161 ms, sys: 6.95 ms, total: 168 ms\n",
      "Wall time: 167 ms\n"
     ]
    }
   ],
   "source": [
    "%%time\n",
    "df_genres_messy = (\n",
    "    df[\"Genre\"]\n",
    "    .str.split(\", \", expand=True)\n",
    "    .assign(url=df[\"url\"])\n",
    "    .set_index(\"url\")\n",
    "    .unstack()\n",
    "    .reset_index()\n",
    "    .drop(columns=[\"level_0\"])\n",
    "    .dropna()\n",
    "    .rename(columns={0: \"Genre\"})\n",
    ")\n",
    "show_df(df_genres_messy, 5)"
   ]
  },
  {
   "cell_type": "markdown",
   "id": "f87a0305-ef40-44a6-893e-2878f73c5d63",
   "metadata": {},
   "source": [
    "Aggregate over Genre and count the number of listings"
   ]
  },
  {
   "cell_type": "code",
   "execution_count": 61,
   "id": "c4a7f92e-6d3d-4803-9268-70558631b75d",
   "metadata": {},
   "outputs": [
    {
     "data": {
      "text/html": [
       "<div>\n",
       "<style scoped>\n",
       "    .dataframe tbody tr th:only-of-type {\n",
       "        vertical-align: middle;\n",
       "    }\n",
       "\n",
       "    .dataframe tbody tr th {\n",
       "        vertical-align: top;\n",
       "    }\n",
       "\n",
       "    .dataframe thead th {\n",
       "        text-align: right;\n",
       "    }\n",
       "</style>\n",
       "<table border=\"1\" class=\"dataframe\">\n",
       "  <thead>\n",
       "    <tr style=\"text-align: right;\">\n",
       "      <th></th>\n",
       "      <th>Genre</th>\n",
       "      <th>url</th>\n",
       "    </tr>\n",
       "  </thead>\n",
       "  <tbody>\n",
       "    <tr>\n",
       "      <th>5</th>\n",
       "      <td>Indie</td>\n",
       "      <td>6582</td>\n",
       "    </tr>\n",
       "    <tr>\n",
       "      <th>1</th>\n",
       "      <td>Adventure</td>\n",
       "      <td>4178</td>\n",
       "    </tr>\n",
       "    <tr>\n",
       "      <th>0</th>\n",
       "      <td>Action</td>\n",
       "      <td>3978</td>\n",
       "    </tr>\n",
       "    <tr>\n",
       "      <th>2</th>\n",
       "      <td>Casual</td>\n",
       "      <td>3118</td>\n",
       "    </tr>\n",
       "    <tr>\n",
       "      <th>11</th>\n",
       "      <td>Strategy</td>\n",
       "      <td>2340</td>\n",
       "    </tr>\n",
       "    <tr>\n",
       "      <th>9</th>\n",
       "      <td>Simulation</td>\n",
       "      <td>2220</td>\n",
       "    </tr>\n",
       "    <tr>\n",
       "      <th>7</th>\n",
       "      <td>RPG</td>\n",
       "      <td>2131</td>\n",
       "    </tr>\n",
       "    <tr>\n",
       "      <th>3</th>\n",
       "      <td>Early Access</td>\n",
       "      <td>818</td>\n",
       "    </tr>\n",
       "    <tr>\n",
       "      <th>4</th>\n",
       "      <td>Free to Play</td>\n",
       "      <td>502</td>\n",
       "    </tr>\n",
       "    <tr>\n",
       "      <th>10</th>\n",
       "      <td>Sports</td>\n",
       "      <td>458</td>\n",
       "    </tr>\n",
       "    <tr>\n",
       "      <th>8</th>\n",
       "      <td>Racing</td>\n",
       "      <td>362</td>\n",
       "    </tr>\n",
       "    <tr>\n",
       "      <th>6</th>\n",
       "      <td>Massively Multiplayer</td>\n",
       "      <td>297</td>\n",
       "    </tr>\n",
       "    <tr>\n",
       "      <th>12</th>\n",
       "      <td>Utilities</td>\n",
       "      <td>1</td>\n",
       "    </tr>\n",
       "  </tbody>\n",
       "</table>\n",
       "</div>"
      ],
      "text/plain": [
       "                    Genre   url\n",
       "5                   Indie  6582\n",
       "1               Adventure  4178\n",
       "0                  Action  3978\n",
       "2                  Casual  3118\n",
       "11               Strategy  2340\n",
       "9              Simulation  2220\n",
       "7                     RPG  2131\n",
       "3            Early Access   818\n",
       "4            Free to Play   502\n",
       "10                 Sports   458\n",
       "8                  Racing   362\n",
       "6   Massively Multiplayer   297\n",
       "12              Utilities     1"
      ]
     },
     "metadata": {},
     "output_type": "display_data"
    },
    {
     "name": "stdout",
     "output_type": "stream",
     "text": [
      "CPU times: user 9 ms, sys: 219 µs, total: 9.21 ms\n",
      "Wall time: 8.36 ms\n"
     ]
    }
   ],
   "source": [
    "%%time\n",
    "df_genres_messy_grouped = (\n",
    "    df_genres_messy.groupby(\"Genre\", as_index=False)[\"url\"]\n",
    "    .count()\n",
    "    .sort_values(by=\"url\", ascending=False)\n",
    ")\n",
    "display(df_genres_messy_grouped)"
   ]
  },
  {
   "cell_type": "markdown",
   "id": "cade92c1-8512-4105-b403-afc1e46e6563",
   "metadata": {},
   "source": [
    "Plot the aggregation output"
   ]
  },
  {
   "cell_type": "code",
   "execution_count": 62,
   "id": "88b27a53-6973-4953-95f4-7c1c8794d84d",
   "metadata": {},
   "outputs": [
    {
     "data": {
      "image/png": "[encoded data removed]",
      "text/plain": [
       "<Figure size 576x576 with 1 Axes>"
      ]
     },
     "metadata": {},
     "output_type": "display_data"
    }
   ],
   "source": [
    "with sns.axes_style(\"ticks\"):\n",
    "    ax = sns.barplot(\n",
    "        y=\"Genre\",\n",
    "        x=\"url\",\n",
    "        data=df_genres_messy_grouped,\n",
    "        color=\"steelblue\",\n",
    "        saturation=0.5,\n",
    "    )\n",
    "    ax.set_title(\"Popularity of Fun and Adventure Games\", loc=\"left\", fontweight=\"bold\")\n",
    "    ax.set_xlabel(None)\n",
    "    ax.set_ylabel(None)\n",
    "    sns.despine()\n",
    "    fig = plt.gcf()\n",
    "    fig.set_figheight(8)\n",
    "    fig.set_figwidth(8)\n",
    "    # fig.savefig(\n",
    "    #     os.path.join(reports_data_dir, \"5_genres.png\"),\n",
    "    #     bbox_inches=\"tight\",\n",
    "    #     dpi=300,\n",
    "    # )"
   ]
  },
  {
   "cell_type": "markdown",
   "id": "8ff71223-fd0f-4790-9a1d-9fe41a53dc68",
   "metadata": {},
   "source": [
    "**Count the number of listings with exactly 20 tags (the maximum allowed on the Steam store) and less than 20 tags.**"
   ]
  },
  {
   "cell_type": "markdown",
   "id": "907ef9b0-eafe-4894-8bcc-74d7c95598d4",
   "metadata": {},
   "source": [
    "Reshape the data to have all tags as separate rows for a given listing."
   ]
  },
  {
   "cell_type": "markdown",
   "id": "bdb979b0-d940-48ec-a99a-c71645ab3c3c",
   "metadata": {},
   "source": [
    "Get a list of all unique tags for a given listing"
   ]
  },
  {
   "cell_type": "code",
   "execution_count": 63,
   "id": "8322a117-a9af-4363-b1e5-6443247abacd",
   "metadata": {},
   "outputs": [
    {
     "data": {
      "text/html": [
       "<style type=\"text/css\">\n",
       "</style>\n",
       "<table id=\"T_ea461_\">\n",
       "  <caption>First & Last 5 rows</caption>\n",
       "  <thead>\n",
       "    <tr>\n",
       "      <th class=\"blank level0\" >&nbsp;</th>\n",
       "      <th class=\"col_heading level0 col0\" >user_defined_tags</th>\n",
       "      <th class=\"col_heading level0 col1\" >num_tags</th>\n",
       "    </tr>\n",
       "  </thead>\n",
       "  <tbody>\n",
       "    <tr>\n",
       "      <th id=\"T_ea461_level0_row0\" class=\"row_heading level0 row0\" >0</th>\n",
       "      <td id=\"T_ea461_row0_col0\" class=\"data row0 col0\" >Early Access, Co-op, Naval Combat, Online Co-Op, Character Customization, FPS, Pirates, Historical, Open World, PvP, Fast-Paced, Battle Royale, First-Person, Survival, Team-Based, Competitive, Funny, Shooter, Action, Naval</td>\n",
       "      <td id=\"T_ea461_row0_col1\" class=\"data row0 col1\" >20</td>\n",
       "    </tr>\n",
       "    <tr>\n",
       "      <th id=\"T_ea461_level0_row1\" class=\"row_heading level0 row1\" >1</th>\n",
       "      <td id=\"T_ea461_row1_col0\" class=\"data row1 col0\" >LEGO, Adventure, Local Co-Op, Action, Magic, Family Friendly, Multiplayer, Singleplayer, Fantasy, Comedy, Split Screen, Open World, Funny, Puzzle, Co-op, Controller, Local Multiplayer, Third Person, 3D Platformer, Atmospheric</td>\n",
       "      <td id=\"T_ea461_row1_col1\" class=\"data row1 col1\" >20</td>\n",
       "    </tr>\n",
       "    <tr>\n",
       "      <th id=\"T_ea461_level0_row2\" class=\"row_heading level0 row2\" >2</th>\n",
       "      <td id=\"T_ea461_row2_col0\" class=\"data row2 col0\" >Early Access, Action RPG, Lovecraftian, Action, Roguelite, Magic, Souls-like, 2D, Dark Fantasy, Atmospheric, Fantasy, Dark, Mystery, Action Roguelike, Action-Adventure, Combat, Procedural Generation, Singleplayer, Roguevania, Physics</td>\n",
       "      <td id=\"T_ea461_row2_col1\" class=\"data row2 col1\" >20</td>\n",
       "    </tr>\n",
       "    <tr>\n",
       "      <th id=\"T_ea461_level0_row3\" class=\"row_heading level0 row3\" >3</th>\n",
       "      <td id=\"T_ea461_row3_col0\" class=\"data row3 col0\" >Deckbuilding, Strategy, Score Attack, Relaxing, Clicker, Procedural Generation, Minimalist, Replay Value, Casual, Modern, Choices Matter, Indie, Solitaire, Arcade, Family Friendly, 2D, Board Game, Resource Management, Singleplayer, Roguelike Deckbuilder</td>\n",
       "      <td id=\"T_ea461_row3_col1\" class=\"data row3 col1\" >20</td>\n",
       "    </tr>\n",
       "    <tr>\n",
       "      <th id=\"T_ea461_level0_row4\" class=\"row_heading level0 row4\" >4</th>\n",
       "      <td id=\"T_ea461_row4_col0\" class=\"data row4 col0\" >Nature, Sandbox, Atmospheric, Experimental, Procedural Generation, Relaxing, Casual, Simulation, Building, Singleplayer, Surreal, Indie, Early Access, Level Editor, 3D, Post-apocalyptic, Short, City Builder, Family Friendly, Puzzle</td>\n",
       "      <td id=\"T_ea461_row4_col1\" class=\"data row4 col1\" >20</td>\n",
       "    </tr>\n",
       "    <tr>\n",
       "      <th id=\"T_ea461_level0_row5\" class=\"row_heading level0 row5\" >10030</th>\n",
       "      <td id=\"T_ea461_row5_col0\" class=\"data row5 col0\" >Casual, Dating Sim, Romance, 2.5D, Cute, Pixel Graphics, Text-Based, Emotional, Visual Novel, Choices Matter, Multiple Endings, Conversation, Interactive Fiction, Choose Your Own Adventure, Relaxing, Story Rich, Linear, Colorful, Singleplayer, Indie</td>\n",
       "      <td id=\"T_ea461_row5_col1\" class=\"data row5 col1\" >20</td>\n",
       "    </tr>\n",
       "    <tr>\n",
       "      <th id=\"T_ea461_level0_row6\" class=\"row_heading level0 row6\" >10031</th>\n",
       "      <td id=\"T_ea461_row6_col0\" class=\"data row6 col0\" >Action, Casual, Indie</td>\n",
       "      <td id=\"T_ea461_row6_col1\" class=\"data row6 col1\" >3</td>\n",
       "    </tr>\n",
       "    <tr>\n",
       "      <th id=\"T_ea461_level0_row7\" class=\"row_heading level0 row7\" >10032</th>\n",
       "      <td id=\"T_ea461_row7_col0\" class=\"data row7 col0\" >Strategy, Turn-Based</td>\n",
       "      <td id=\"T_ea461_row7_col1\" class=\"data row7 col1\" >2</td>\n",
       "    </tr>\n",
       "    <tr>\n",
       "      <th id=\"T_ea461_level0_row8\" class=\"row_heading level0 row8\" >10033</th>\n",
       "      <td id=\"T_ea461_row8_col0\" class=\"data row8 col0\" >Horror, Choose Your Own Adventure, Immersive Sim, Survival Horror, Life Sim, Visual Novel, Hidden Object, Interactive Fiction, Open World, Tabletop, Experimental, 2D, Comic Book, Cute, Isometric, Top-Down, Choices Matter, Linear, Narration, Procedural Generation</td>\n",
       "      <td id=\"T_ea461_row8_col1\" class=\"data row8 col1\" >20</td>\n",
       "    </tr>\n",
       "    <tr>\n",
       "      <th id=\"T_ea461_level0_row9\" class=\"row_heading level0 row9\" >10034</th>\n",
       "      <td id=\"T_ea461_row9_col0\" class=\"data row9 col0\" >Survival, Simulation, Strategy, Indie, RPG, Adventure, Management, Crafting, Singleplayer, Casual, Resource Management</td>\n",
       "      <td id=\"T_ea461_row9_col1\" class=\"data row9 col1\" >11</td>\n",
       "    </tr>\n",
       "  </tbody>\n",
       "</table>\n"
      ],
      "text/plain": [
       "<pandas.io.formats.style.Styler at 0x7fe0bd450400>"
      ]
     },
     "metadata": {},
     "output_type": "display_data"
    },
    {
     "name": "stdout",
     "output_type": "stream",
     "text": [
      "CPU times: user 30.7 ms, sys: 0 ns, total: 30.7 ms\n",
      "Wall time: 30.5 ms\n"
     ]
    }
   ],
   "source": [
    "%%time\n",
    "df[\"num_tags\"] = (\n",
    "    df[\"user_defined_tags\"]\n",
    "    .dropna()\n",
    "    .str.split(\", \", expand=False)\n",
    "    .apply(lambda x: len(x))\n",
    ")\n",
    "show_df(df[[\"user_defined_tags\", \"num_tags\"]], 5)"
   ]
  },
  {
   "cell_type": "markdown",
   "id": "045a12c9-59d7-48bc-a7e6-a74896a68430",
   "metadata": {},
   "source": [
    "Count the number of listins with 20 or less than 20 tags"
   ]
  },
  {
   "cell_type": "code",
   "execution_count": 64,
   "id": "c13d4fe0-ca2c-4199-80e6-d6af4b8c09d5",
   "metadata": {},
   "outputs": [
    {
     "data": {
      "text/html": [
       "<style type=\"text/css\">\n",
       "</style>\n",
       "<table id=\"T_086b5_\">\n",
       "  <caption>All rows</caption>\n",
       "  <thead>\n",
       "    <tr>\n",
       "      <th class=\"blank level0\" >&nbsp;</th>\n",
       "      <th class=\"col_heading level0 col0\" >index</th>\n",
       "      <th class=\"col_heading level0 col1\" >num_tags</th>\n",
       "    </tr>\n",
       "  </thead>\n",
       "  <tbody>\n",
       "    <tr>\n",
       "      <th id=\"T_086b5_level0_row0\" class=\"row_heading level0 row0\" >0</th>\n",
       "      <td id=\"T_086b5_row0_col0\" class=\"data row0 col0\" >Less than 20</td>\n",
       "      <td id=\"T_086b5_row0_col1\" class=\"data row0 col1\" >5855</td>\n",
       "    </tr>\n",
       "    <tr>\n",
       "      <th id=\"T_086b5_level0_row1\" class=\"row_heading level0 row1\" >1</th>\n",
       "      <td id=\"T_086b5_row1_col0\" class=\"data row1 col0\" >20 (max. allowed)</td>\n",
       "      <td id=\"T_086b5_row1_col1\" class=\"data row1 col1\" >4180</td>\n",
       "    </tr>\n",
       "  </tbody>\n",
       "</table>\n"
      ],
      "text/plain": [
       "<pandas.io.formats.style.Styler at 0x7fe0bd9f60d0>"
      ]
     },
     "metadata": {},
     "output_type": "display_data"
    },
    {
     "name": "stdout",
     "output_type": "stream",
     "text": [
      "CPU times: user 3.91 ms, sys: 0 ns, total: 3.91 ms\n",
      "Wall time: 3.17 ms\n"
     ]
    }
   ],
   "source": [
    "%%time\n",
    "df_numtags_lt_twenty = (df[\"num_tags\"] < 20).value_counts().reset_index()\n",
    "df_numtags_lt_twenty[\"index\"] = df_numtags_lt_twenty[\"index\"].map(\n",
    "    {True: \"Less than 20\", False: \"20 (max. allowed)\"}\n",
    ")\n",
    "show_df(df_numtags_lt_twenty)"
   ]
  },
  {
   "cell_type": "markdown",
   "id": "f0293086-7ca8-4f8f-bbfa-9529018ed8b9",
   "metadata": {},
   "source": [
    "Plot the number of listings with 20 or less than 20 tags"
   ]
  },
  {
   "cell_type": "code",
   "execution_count": 65,
   "id": "5a9a12fd-4abf-4cb8-ac4b-ae5eb3585d48",
   "metadata": {},
   "outputs": [
    {
     "data": {
      "image/png": "[encoded data removed]",
      "text/plain": [
       "<Figure size 576x576 with 1 Axes>"
      ]
     },
     "metadata": {},
     "output_type": "display_data"
    }
   ],
   "source": [
    "with sns.axes_style(\"ticks\"):\n",
    "    ax = sns.barplot(\n",
    "        y=\"num_tags\",\n",
    "        x=\"index\",\n",
    "        data=df_numtags_lt_twenty,\n",
    "        color=\"steelblue\",\n",
    "        saturation=0.5,\n",
    "    )\n",
    "    ax.set_title(\"Large number of listings with 20 tags\", loc=\"left\", fontweight=\"bold\")\n",
    "    ax.set_xlabel(None)\n",
    "    ax.set_ylabel(None)\n",
    "    sns.despine()\n",
    "    fig = plt.gcf()\n",
    "    fig.set_figheight(8)\n",
    "    fig.set_figwidth(8)\n",
    "    # fig.savefig(\n",
    "    #     os.path.join(reports_data_dir, \"6_user_defined_tags.png\"),\n",
    "    #     bbox_inches=\"tight\",\n",
    "    #     dpi=300,\n",
    "    # )"
   ]
  },
  {
   "cell_type": "markdown",
   "id": "513d695b-f9bc-4c99-a07a-025d41d67d06",
   "metadata": {},
   "source": [
    "**Observations**\n",
    "1. A Steam listing can be assigned a [minimum of 5 tags and a maximum of 20](https://www.askgamedev.com/everything-we-know-about-steam-tags-2020/)."
   ]
  },
  {
   "cell_type": "markdown",
   "id": "ff8780d0-81de-4bd1-a2b0-4f9b8cbde196",
   "metadata": {},
   "source": [
    "Plot the distribution of the number of tags"
   ]
  },
  {
   "cell_type": "code",
   "execution_count": 66,
   "id": "b38f23b2-41fc-4704-af0c-0f52d7684035",
   "metadata": {},
   "outputs": [
    {
     "data": {
      "image/png": "[encoded data removed]",
      "text/plain": [
       "<Figure size 720x576 with 1 Axes>"
      ]
     },
     "metadata": {},
     "output_type": "display_data"
    }
   ],
   "source": [
    "with sns.axes_style(\"ticks\"):\n",
    "    ax = sns.histplot(\n",
    "        data=df[[\"num_tags\"]],\n",
    "        x=\"num_tags\",\n",
    "        log_scale=(False, True),\n",
    "        color=\"steelblue\",\n",
    "    )\n",
    "    ax.set_title(\n",
    "        \"Max. allowed user-defined tags assigned to listings\",\n",
    "        loc=\"left\",\n",
    "        fontweight=\"bold\",\n",
    "    )\n",
    "    ax.set_xlabel(None)\n",
    "    ax.set_ylabel(None)\n",
    "    sns.despine()\n",
    "    fig = plt.gcf()\n",
    "    fig.set_figheight(8)\n",
    "    fig.set_figwidth(10)\n",
    "    # fig.savefig(\n",
    "    #     os.path.join(reports_data_dir, \"7_distribution_of_num_tags.png\"),\n",
    "    #     bbox_inches=\"tight\",\n",
    "    #     dpi=300,\n",
    "    # )"
   ]
  },
  {
   "cell_type": "markdown",
   "id": "5fd7acaf-c989-4503-a162-33ecd4667e07",
   "metadata": {},
   "source": [
    "<a id=\"ratings\"></a>\n",
    "\n",
    "### 4.10. [Ratings](#ratings)"
   ]
  },
  {
   "cell_type": "markdown",
   "id": "218d0bcb-1b65-473b-9992-461a746b9dd6",
   "metadata": {},
   "source": [
    "**What fraction of listings are missing a rating?**"
   ]
  },
  {
   "cell_type": "code",
   "execution_count": 67,
   "id": "2c3683d3-e78c-4176-91d4-2a9b0c92b26e",
   "metadata": {},
   "outputs": [
    {
     "name": "stdout",
     "output_type": "stream",
     "text": [
      "Fraction of listings without a rating = 76.59\n"
     ]
    }
   ],
   "source": [
    "rating_missing = (df[\"rating\"].isna().sum() / len(df)) * 100\n",
    "print(f\"Fraction of listings without a rating = {rating_missing:.2f}\")"
   ]
  },
  {
   "cell_type": "markdown",
   "id": "22ad8c85-b419-4ab0-a590-1c2faa03bba5",
   "metadata": {},
   "source": [
    "**What are the possible ratings?**"
   ]
  },
  {
   "cell_type": "markdown",
   "id": "bfdcc26e-ab22-4bc1-b518-082a15005115",
   "metadata": {},
   "source": [
    "We'll assign more human-readable names to the ratings"
   ]
  },
  {
   "cell_type": "code",
   "execution_count": 68,
   "id": "9526113b-6528-411e-9ee8-7a7757d7e6c5",
   "metadata": {},
   "outputs": [],
   "source": [
    "ratings_mapper = {\n",
    "    \"t\": \"Teen\",\n",
    "    \"e\": \"Everyone\",\n",
    "    \"m\": \"Mature\",\n",
    "    \"rp\": \"Pending\",\n",
    "    \"ec\": \"Early Childhood\",\n",
    "    \"e10\": \"10 and Older\",\n",
    "    \"ao\": \"Adults Only (18+)\",\n",
    "}"
   ]
  },
  {
   "cell_type": "code",
   "execution_count": 69,
   "id": "2eb6d100-23ad-427a-b675-a5e4f941cb52",
   "metadata": {},
   "outputs": [
    {
     "data": {
      "text/html": [
       "<style type=\"text/css\">\n",
       "</style>\n",
       "<table id=\"T_4dbc4_\">\n",
       "  <caption>All rows</caption>\n",
       "  <thead>\n",
       "    <tr>\n",
       "      <th class=\"blank level0\" >&nbsp;</th>\n",
       "      <th class=\"col_heading level0 col0\" >rating</th>\n",
       "      <th class=\"col_heading level0 col1\" >num_listings</th>\n",
       "    </tr>\n",
       "  </thead>\n",
       "  <tbody>\n",
       "    <tr>\n",
       "      <th id=\"T_4dbc4_level0_row0\" class=\"row_heading level0 row0\" >0</th>\n",
       "      <td id=\"T_4dbc4_row0_col0\" class=\"data row0 col0\" >No Rating</td>\n",
       "      <td id=\"T_4dbc4_row0_col1\" class=\"data row0 col1\" >7686</td>\n",
       "    </tr>\n",
       "    <tr>\n",
       "      <th id=\"T_4dbc4_level0_row1\" class=\"row_heading level0 row1\" >1</th>\n",
       "      <td id=\"T_4dbc4_row1_col0\" class=\"data row1 col0\" >Teen</td>\n",
       "      <td id=\"T_4dbc4_row1_col1\" class=\"data row1 col1\" >812</td>\n",
       "    </tr>\n",
       "    <tr>\n",
       "      <th id=\"T_4dbc4_level0_row2\" class=\"row_heading level0 row2\" >2</th>\n",
       "      <td id=\"T_4dbc4_row2_col0\" class=\"data row2 col0\" >Everyone</td>\n",
       "      <td id=\"T_4dbc4_row2_col1\" class=\"data row2 col1\" >615</td>\n",
       "    </tr>\n",
       "    <tr>\n",
       "      <th id=\"T_4dbc4_level0_row3\" class=\"row_heading level0 row3\" >3</th>\n",
       "      <td id=\"T_4dbc4_row3_col0\" class=\"data row3 col0\" >Mature</td>\n",
       "      <td id=\"T_4dbc4_row3_col1\" class=\"data row3 col1\" >491</td>\n",
       "    </tr>\n",
       "    <tr>\n",
       "      <th id=\"T_4dbc4_level0_row4\" class=\"row_heading level0 row4\" >4</th>\n",
       "      <td id=\"T_4dbc4_row4_col0\" class=\"data row4 col0\" >10 And Older</td>\n",
       "      <td id=\"T_4dbc4_row4_col1\" class=\"data row4 col1\" >395</td>\n",
       "    </tr>\n",
       "    <tr>\n",
       "      <th id=\"T_4dbc4_level0_row5\" class=\"row_heading level0 row5\" >5</th>\n",
       "      <td id=\"T_4dbc4_row5_col0\" class=\"data row5 col0\" >Pending</td>\n",
       "      <td id=\"T_4dbc4_row5_col1\" class=\"data row5 col1\" >27</td>\n",
       "    </tr>\n",
       "    <tr>\n",
       "      <th id=\"T_4dbc4_level0_row6\" class=\"row_heading level0 row6\" >6</th>\n",
       "      <td id=\"T_4dbc4_row6_col0\" class=\"data row6 col0\" >Early Childhood</td>\n",
       "      <td id=\"T_4dbc4_row6_col1\" class=\"data row6 col1\" >6</td>\n",
       "    </tr>\n",
       "    <tr>\n",
       "      <th id=\"T_4dbc4_level0_row7\" class=\"row_heading level0 row7\" >7</th>\n",
       "      <td id=\"T_4dbc4_row7_col0\" class=\"data row7 col0\" >Adults Only (18+)</td>\n",
       "      <td id=\"T_4dbc4_row7_col1\" class=\"data row7 col1\" >3</td>\n",
       "    </tr>\n",
       "  </tbody>\n",
       "</table>\n"
      ],
      "text/plain": [
       "<pandas.io.formats.style.Styler at 0x7fe0bd84c670>"
      ]
     },
     "metadata": {},
     "output_type": "display_data"
    },
    {
     "name": "stdout",
     "output_type": "stream",
     "text": [
      "CPU times: user 7.23 ms, sys: 0 ns, total: 7.23 ms\n",
      "Wall time: 6.52 ms\n"
     ]
    }
   ],
   "source": [
    "%%time\n",
    "df_ratings = (\n",
    "    df[\"rating\"]\n",
    "    .replace(ratings_mapper)\n",
    "    .str.title()\n",
    "    .fillna(\"No Rating\")\n",
    "    .value_counts(dropna=False)\n",
    "    .reset_index()\n",
    "    .rename(columns={\"rating\": \"num_listings\", \"index\": \"rating\"})\n",
    ")\n",
    "show_df(df_ratings)"
   ]
  },
  {
   "cell_type": "markdown",
   "id": "7085445e-09e6-4ea1-a3aa-16f4962c28b7",
   "metadata": {},
   "source": [
    "Plot the number of listings by rating"
   ]
  },
  {
   "cell_type": "code",
   "execution_count": 70,
   "id": "4277506c-4036-4a0e-991b-520b3d9b5c9b",
   "metadata": {},
   "outputs": [
    {
     "data": {
      "image/png": "[encoded data removed]",
      "text/plain": [
       "<Figure size 576x576 with 1 Axes>"
      ]
     },
     "metadata": {},
     "output_type": "display_data"
    }
   ],
   "source": [
    "with sns.axes_style(\"ticks\"):\n",
    "    ax = sns.barplot(\n",
    "        y=\"rating\",\n",
    "        x=\"num_listings\",\n",
    "        data=df_ratings,\n",
    "        color=\"steelblue\",\n",
    "        saturation=0.5,\n",
    "    )\n",
    "    ax.set_title(\n",
    "        \"Prevalence of missing rating among listings\",\n",
    "        loc=\"left\",\n",
    "        fontweight=\"bold\",\n",
    "    )\n",
    "    ax.set_xlabel(None)\n",
    "    ax.set_ylabel(None)\n",
    "    sns.despine()\n",
    "    fig = plt.gcf()\n",
    "    fig.set_figheight(8)\n",
    "    fig.set_figwidth(8)\n",
    "    # fig.savefig(\n",
    "    #     os.path.join(processed_data_dir, \"8_listing_ratings.png\"),\n",
    "    #     bbox_inches=\"tight\",\n",
    "    #     dpi=300,\n",
    "    # )"
   ]
  },
  {
   "cell_type": "markdown",
   "id": "d424dcde-5bf2-4604-a3a0-4d634329a40b",
   "metadata": {},
   "source": [
    "**What is the distribution of rating descriptors?**"
   ]
  },
  {
   "cell_type": "markdown",
   "id": "31c59dcd-10fc-4e08-a2ef-89589536857d",
   "metadata": {},
   "source": [
    "Create a messy dataset showing URL and `rating_descriptors`"
   ]
  },
  {
   "cell_type": "code",
   "execution_count": 71,
   "id": "565053f9-d047-4052-a60f-33b377d1c82a",
   "metadata": {},
   "outputs": [
    {
     "data": {
      "text/html": [
       "<style type=\"text/css\">\n",
       "</style>\n",
       "<table id=\"T_bf228_\">\n",
       "  <caption>First & Last 5 rows</caption>\n",
       "  <thead>\n",
       "    <tr>\n",
       "      <th class=\"blank level0\" >&nbsp;</th>\n",
       "      <th class=\"col_heading level0 col0\" >url</th>\n",
       "      <th class=\"col_heading level0 col1\" >rating_descriptor</th>\n",
       "    </tr>\n",
       "  </thead>\n",
       "  <tbody>\n",
       "    <tr>\n",
       "      <th id=\"T_bf228_level0_row0\" class=\"row_heading level0 row0\" >1</th>\n",
       "      <td id=\"T_bf228_row0_col0\" class=\"data row0 col0\" >https://store.steampowered.com/app/21130/LEGO_Harry_Potter_Years_14/</td>\n",
       "      <td id=\"T_bf228_row0_col1\" class=\"data row0 col1\" >Cartoon Violence</td>\n",
       "    </tr>\n",
       "    <tr>\n",
       "      <th id=\"T_bf228_level0_row1\" class=\"row_heading level0 row1\" >5</th>\n",
       "      <td id=\"T_bf228_row1_col0\" class=\"data row1 col0\" >https://store.steampowered.com/app/1535610/Soul_Nomad__the_World_Eaters/</td>\n",
       "      <td id=\"T_bf228_row1_col1\" class=\"data row1 col1\" >Fantasy Violence</td>\n",
       "    </tr>\n",
       "    <tr>\n",
       "      <th id=\"T_bf228_level0_row2\" class=\"row_heading level0 row2\" >6</th>\n",
       "      <td id=\"T_bf228_row2_col0\" class=\"data row2 col0\" >https://store.steampowered.com/app/1105510/Yakuza_5_Remastered/</td>\n",
       "      <td id=\"T_bf228_row2_col1\" class=\"data row2 col1\" >Blood</td>\n",
       "    </tr>\n",
       "    <tr>\n",
       "      <th id=\"T_bf228_level0_row3\" class=\"row_heading level0 row3\" >7</th>\n",
       "      <td id=\"T_bf228_row3_col0\" class=\"data row3 col0\" >https://store.steampowered.com/app/826940/Maid_of_Sker/</td>\n",
       "      <td id=\"T_bf228_row3_col1\" class=\"data row3 col1\" >Intense Violence</td>\n",
       "    </tr>\n",
       "    <tr>\n",
       "      <th id=\"T_bf228_level0_row4\" class=\"row_heading level0 row4\" >9</th>\n",
       "      <td id=\"T_bf228_row4_col0\" class=\"data row4 col0\" >https://store.steampowered.com/app/1356670/Sakuna_Of_Rice_and_Ruin/</td>\n",
       "      <td id=\"T_bf228_row4_col1\" class=\"data row4 col1\" >Fantasy Violence</td>\n",
       "    </tr>\n",
       "    <tr>\n",
       "      <th id=\"T_bf228_level0_row5\" class=\"row_heading level0 row5\" >64374</th>\n",
       "      <td id=\"T_bf228_row5_col0\" class=\"data row5 col0\" >https://store.steampowered.com/app/361300/Mother_Russia_Bleeds/</td>\n",
       "      <td id=\"T_bf228_row5_col1\" class=\"data row5 col1\" >Use of Drugs</td>\n",
       "    </tr>\n",
       "    <tr>\n",
       "      <th id=\"T_bf228_level0_row6\" class=\"row_heading level0 row6\" >64479</th>\n",
       "      <td id=\"T_bf228_row6_col0\" class=\"data row6 col0\" >https://store.steampowered.com/app/461700/Seduce_Me_2_The_Demon_War/</td>\n",
       "      <td id=\"T_bf228_row6_col1\" class=\"data row6 col1\" >Comic Mischief</td>\n",
       "    </tr>\n",
       "    <tr>\n",
       "      <th id=\"T_bf228_level0_row7\" class=\"row_heading level0 row7\" >66869</th>\n",
       "      <td id=\"T_bf228_row7_col0\" class=\"data row7 col0\" >https://store.steampowered.com/app/2450/Bloody_Good_Time/</td>\n",
       "      <td id=\"T_bf228_row7_col1\" class=\"data row7 col1\" >Violence</td>\n",
       "    </tr>\n",
       "    <tr>\n",
       "      <th id=\"T_bf228_level0_row8\" class=\"row_heading level0 row8\" >74514</th>\n",
       "      <td id=\"T_bf228_row8_col0\" class=\"data row8 col0\" >https://store.steampowered.com/app/461700/Seduce_Me_2_The_Demon_War/</td>\n",
       "      <td id=\"T_bf228_row8_col1\" class=\"data row8 col1\" >Crude Humor</td>\n",
       "    </tr>\n",
       "    <tr>\n",
       "      <th id=\"T_bf228_level0_row9\" class=\"row_heading level0 row9\" >84549</th>\n",
       "      <td id=\"T_bf228_row9_col0\" class=\"data row9 col0\" >https://store.steampowered.com/app/461700/Seduce_Me_2_The_Demon_War/</td>\n",
       "      <td id=\"T_bf228_row9_col1\" class=\"data row9 col1\" >Mature Humor</td>\n",
       "    </tr>\n",
       "  </tbody>\n",
       "</table>\n"
      ],
      "text/plain": [
       "<pandas.io.formats.style.Styler at 0x7fe0bdaa2d00>"
      ]
     },
     "metadata": {},
     "output_type": "display_data"
    }
   ],
   "source": [
    "df_rd_messy = (\n",
    "    df[\"rating_descriptors\"]\n",
    "    .str.replace(\", ,\", \",\")\n",
    "    .str.split(\", \", expand=True)\n",
    "    .assign(url=df[\"url\"])\n",
    "    .set_index(\"url\")\n",
    "    .unstack()\n",
    "    .reset_index()\n",
    "    .drop(columns=[\"level_0\"])\n",
    "    .dropna()\n",
    "    .rename(columns={0: \"rating_descriptor\"})\n",
    ")\n",
    "show_df(df_rd_messy, 5)"
   ]
  },
  {
   "cell_type": "markdown",
   "id": "b1d37205-f2c6-431a-ab9e-f6f79da86a33",
   "metadata": {},
   "source": [
    "Aggregate by `rating_descriptor` and count the number of listings"
   ]
  },
  {
   "cell_type": "code",
   "execution_count": 72,
   "id": "557b79e4-b151-40f2-91c5-391948166594",
   "metadata": {},
   "outputs": [
    {
     "data": {
      "text/html": [
       "<style type=\"text/css\">\n",
       "</style>\n",
       "<table id=\"T_40909_\">\n",
       "  <caption>All rows</caption>\n",
       "  <thead>\n",
       "    <tr>\n",
       "      <th class=\"blank level0\" >&nbsp;</th>\n",
       "      <th class=\"col_heading level0 col0\" >rating_descriptor</th>\n",
       "      <th class=\"col_heading level0 col1\" >url</th>\n",
       "    </tr>\n",
       "  </thead>\n",
       "  <tbody>\n",
       "    <tr>\n",
       "      <th id=\"T_40909_level0_row0\" class=\"row_heading level0 row0\" >168</th>\n",
       "      <td id=\"T_40909_row0_col0\" class=\"data row0 col0\" >Violence</td>\n",
       "      <td id=\"T_40909_row0_col1\" class=\"data row0 col1\" >662</td>\n",
       "    </tr>\n",
       "    <tr>\n",
       "      <th id=\"T_40909_level0_row1\" class=\"row_heading level0 row1\" >26</th>\n",
       "      <td id=\"T_40909_row1_col0\" class=\"data row1 col0\" >Blood</td>\n",
       "      <td id=\"T_40909_row1_col1\" class=\"data row1 col1\" >436</td>\n",
       "    </tr>\n",
       "    <tr>\n",
       "      <th id=\"T_40909_level0_row2\" class=\"row_heading level0 row2\" >62</th>\n",
       "      <td id=\"T_40909_row2_col0\" class=\"data row2 col0\" >Fantasy Violence</td>\n",
       "      <td id=\"T_40909_row2_col1\" class=\"data row2 col1\" >333</td>\n",
       "    </tr>\n",
       "    <tr>\n",
       "      <th id=\"T_40909_level0_row3\" class=\"row_heading level0 row3\" >32</th>\n",
       "      <td id=\"T_40909_row3_col0\" class=\"data row3 col0\" >Blood and Gore</td>\n",
       "      <td id=\"T_40909_row3_col1\" class=\"data row3 col1\" >249</td>\n",
       "    </tr>\n",
       "    <tr>\n",
       "      <th id=\"T_40909_level0_row4\" class=\"row_heading level0 row4\" >95</th>\n",
       "      <td id=\"T_40909_row4_col0\" class=\"data row4 col0\" >Mild Language</td>\n",
       "      <td id=\"T_40909_row4_col1\" class=\"data row4 col1\" >247</td>\n",
       "    </tr>\n",
       "    <tr>\n",
       "      <th id=\"T_40909_level0_row5\" class=\"row_heading level0 row5\" >147</th>\n",
       "      <td id=\"T_40909_row5_col0\" class=\"data row5 col0\" >Strong Language</td>\n",
       "      <td id=\"T_40909_row5_col1\" class=\"data row5 col1\" >235</td>\n",
       "    </tr>\n",
       "    <tr>\n",
       "      <th id=\"T_40909_level0_row6\" class=\"row_heading level0 row6\" >77</th>\n",
       "      <td id=\"T_40909_row6_col0\" class=\"data row6 col0\" >Language</td>\n",
       "      <td id=\"T_40909_row6_col1\" class=\"data row6 col1\" >210</td>\n",
       "    </tr>\n",
       "    <tr>\n",
       "      <th id=\"T_40909_level0_row7\" class=\"row_heading level0 row7\" >154</th>\n",
       "      <td id=\"T_40909_row7_col0\" class=\"data row7 col0\" >Suggestive Themes</td>\n",
       "      <td id=\"T_40909_row7_col1\" class=\"data row7 col1\" >198</td>\n",
       "    </tr>\n",
       "    <tr>\n",
       "      <th id=\"T_40909_level0_row8\" class=\"row_heading level0 row8\" >75</th>\n",
       "      <td id=\"T_40909_row8_col0\" class=\"data row8 col0\" >Intense Violence</td>\n",
       "      <td id=\"T_40909_row8_col1\" class=\"data row8 col1\" >149</td>\n",
       "    </tr>\n",
       "    <tr>\n",
       "      <th id=\"T_40909_level0_row9\" class=\"row_heading level0 row9\" >141</th>\n",
       "      <td id=\"T_40909_row9_col0\" class=\"data row9 col0\" >Sexual Themes</td>\n",
       "      <td id=\"T_40909_row9_col1\" class=\"data row9 col1\" >126</td>\n",
       "    </tr>\n",
       "    <tr>\n",
       "      <th id=\"T_40909_level0_row10\" class=\"row_heading level0 row10\" >105</th>\n",
       "      <td id=\"T_40909_row10_col0\" class=\"data row10 col0\" >Mild Violence</td>\n",
       "      <td id=\"T_40909_row10_col1\" class=\"data row10 col1\" >107</td>\n",
       "    </tr>\n",
       "    <tr>\n",
       "      <th id=\"T_40909_level0_row11\" class=\"row_heading level0 row11\" >132</th>\n",
       "      <td id=\"T_40909_row11_col0\" class=\"data row11 col0\" >Partial Nudity</td>\n",
       "      <td id=\"T_40909_row11_col1\" class=\"data row11 col1\" >103</td>\n",
       "    </tr>\n",
       "    <tr>\n",
       "      <th id=\"T_40909_level0_row12\" class=\"row_heading level0 row12\" >160</th>\n",
       "      <td id=\"T_40909_row12_col0\" class=\"data row12 col0\" >Use of Alcohol</td>\n",
       "      <td id=\"T_40909_row12_col1\" class=\"data row12 col1\" >100</td>\n",
       "    </tr>\n",
       "    <tr>\n",
       "      <th id=\"T_40909_level0_row13\" class=\"row_heading level0 row13\" >9</th>\n",
       "      <td id=\"T_40909_row13_col0\" class=\"data row13 col0\" >Alcohol Reference</td>\n",
       "      <td id=\"T_40909_row13_col1\" class=\"data row13 col1\" >98</td>\n",
       "    </tr>\n",
       "    <tr>\n",
       "      <th id=\"T_40909_level0_row14\" class=\"row_heading level0 row14\" >50</th>\n",
       "      <td id=\"T_40909_row14_col0\" class=\"data row14 col0\" >Drug Reference</td>\n",
       "      <td id=\"T_40909_row14_col1\" class=\"data row14 col1\" >96</td>\n",
       "    </tr>\n",
       "    <tr>\n",
       "      <th id=\"T_40909_level0_row15\" class=\"row_heading level0 row15\" >88</th>\n",
       "      <td id=\"T_40909_row15_col0\" class=\"data row15 col0\" >Mild Blood</td>\n",
       "      <td id=\"T_40909_row15_col1\" class=\"data row15 col1\" >96</td>\n",
       "    </tr>\n",
       "    <tr>\n",
       "      <th id=\"T_40909_level0_row16\" class=\"row_heading level0 row16\" >91</th>\n",
       "      <td id=\"T_40909_row16_col0\" class=\"data row16 col0\" >Mild Fantasy Violence</td>\n",
       "      <td id=\"T_40909_row16_col1\" class=\"data row16 col1\" >92</td>\n",
       "    </tr>\n",
       "    <tr>\n",
       "      <th id=\"T_40909_level0_row17\" class=\"row_heading level0 row17\" >36</th>\n",
       "      <td id=\"T_40909_row17_col0\" class=\"data row17 col0\" >Cartoon Violence</td>\n",
       "      <td id=\"T_40909_row17_col1\" class=\"data row17 col1\" >86</td>\n",
       "    </tr>\n",
       "    <tr>\n",
       "      <th id=\"T_40909_level0_row18\" class=\"row_heading level0 row18\" >44</th>\n",
       "      <td id=\"T_40909_row18_col0\" class=\"data row18 col0\" >Crude Humor</td>\n",
       "      <td id=\"T_40909_row18_col1\" class=\"data row18 col1\" >84</td>\n",
       "    </tr>\n",
       "    <tr>\n",
       "      <th id=\"T_40909_level0_row19\" class=\"row_heading level0 row19\" >102</th>\n",
       "      <td id=\"T_40909_row19_col0\" class=\"data row19 col0\" >Mild Suggestive Themes</td>\n",
       "      <td id=\"T_40909_row19_col1\" class=\"data row19 col1\" >73</td>\n",
       "    </tr>\n",
       "  </tbody>\n",
       "</table>\n"
      ],
      "text/plain": [
       "<pandas.io.formats.style.Styler at 0x7fe0bd5f0520>"
      ]
     },
     "metadata": {},
     "output_type": "display_data"
    },
    {
     "name": "stdout",
     "output_type": "stream",
     "text": [
      "CPU times: user 3.84 ms, sys: 2.63 ms, total: 6.47 ms\n",
      "Wall time: 5.74 ms\n"
     ]
    }
   ],
   "source": [
    "%%time\n",
    "df_rd_messy_grouped = (\n",
    "    df_rd_messy.groupby(\"rating_descriptor\", as_index=False)[\"url\"]\n",
    "    .count()\n",
    "    .nlargest(20, \"url\")\n",
    ")\n",
    "show_df(df_rd_messy_grouped)"
   ]
  },
  {
   "cell_type": "markdown",
   "id": "c17af1d6-f193-47c5-b3d0-f9d4a3fb07e1",
   "metadata": {},
   "source": [
    "Plot the number of listings by rating descriptor"
   ]
  },
  {
   "cell_type": "code",
   "execution_count": 73,
   "id": "625834cc-7aca-45cb-acc8-79b6928dee02",
   "metadata": {},
   "outputs": [
    {
     "data": {
      "image/png": "[encoded data removed]",
      "text/plain": [
       "<Figure size 864x864 with 1 Axes>"
      ]
     },
     "metadata": {},
     "output_type": "display_data"
    }
   ],
   "source": [
    "with sns.axes_style(\"ticks\"):\n",
    "    ax = sns.barplot(\n",
    "        y=\"rating_descriptor\",\n",
    "        x=\"url\",\n",
    "        data=df_rd_messy_grouped,\n",
    "        color=\"steelblue\",\n",
    "        saturation=0.5,\n",
    "    )\n",
    "    ax.set_title(\n",
    "        \"Dominance of mature themes among rating descriptors\",\n",
    "        loc=\"left\",\n",
    "        fontweight=\"bold\",\n",
    "    )\n",
    "    ax.set_xlabel(None)\n",
    "    ax.set_ylabel(None)\n",
    "    sns.despine()\n",
    "    fig = plt.gcf()\n",
    "    fig.set_figheight(12)\n",
    "    fig.set_figwidth(12)\n",
    "    # fig.savefig(\n",
    "    #     os.path.join(processed_data_dir, \"9_rating_descriptors.png\"),\n",
    "    #     bbox_inches=\"tight\",\n",
    "    #     dpi=300,\n",
    "    # )"
   ]
  },
  {
   "cell_type": "markdown",
   "id": "4d23796b-c126-418f-9d8e-a962c1f20200",
   "metadata": {},
   "source": [
    "<a id=\"publishers\"></a>\n",
    "\n",
    "### 4.11. [Publishers](#publishers)"
   ]
  },
  {
   "cell_type": "markdown",
   "id": "d3701886-9e74-418e-b0d6-087054f21e9d",
   "metadata": {},
   "source": [
    "**Add a column with the number of publishers for each listing**"
   ]
  },
  {
   "cell_type": "code",
   "execution_count": 74,
   "id": "ff6772d5-103b-431d-a05e-7e9370eeaa2a",
   "metadata": {},
   "outputs": [],
   "source": [
    "df[\"num_publishers\"] = (\n",
    "    df[\"Publisher_cleaned\"].str.split(\", \", expand=False).apply(lambda x: len(x))\n",
    ")"
   ]
  },
  {
   "cell_type": "markdown",
   "id": "12134c74-90ca-48be-8dd0-fe6fd6026ae5",
   "metadata": {},
   "source": [
    "**Count the number of listings by the single and multiple publishers**"
   ]
  },
  {
   "cell_type": "markdown",
   "id": "364c441c-aebf-4fa7-b3fa-8078aef341f9",
   "metadata": {},
   "source": [
    "Aggregate over the number of publishers and count the number of listings"
   ]
  },
  {
   "cell_type": "code",
   "execution_count": 75,
   "id": "892d5090-1ee6-4434-ae78-c969e302863a",
   "metadata": {},
   "outputs": [
    {
     "data": {
      "text/html": [
       "<style type=\"text/css\">\n",
       "</style>\n",
       "<table id=\"T_9d1b3_\">\n",
       "  <caption>All rows</caption>\n",
       "  <thead>\n",
       "    <tr>\n",
       "      <th class=\"blank level0\" >&nbsp;</th>\n",
       "      <th class=\"col_heading level0 col0\" >num_publishers</th>\n",
       "      <th class=\"col_heading level0 col1\" >url</th>\n",
       "      <th class=\"col_heading level0 col2\" >multiple_pubs</th>\n",
       "    </tr>\n",
       "  </thead>\n",
       "  <tbody>\n",
       "    <tr>\n",
       "      <th id=\"T_9d1b3_level0_row0\" class=\"row_heading level0 row0\" >0</th>\n",
       "      <td id=\"T_9d1b3_row0_col0\" class=\"data row0 col0\" >1</td>\n",
       "      <td id=\"T_9d1b3_row0_col1\" class=\"data row0 col1\" >9444</td>\n",
       "      <td id=\"T_9d1b3_row0_col2\" class=\"data row0 col2\" >False</td>\n",
       "    </tr>\n",
       "    <tr>\n",
       "      <th id=\"T_9d1b3_level0_row1\" class=\"row_heading level0 row1\" >1</th>\n",
       "      <td id=\"T_9d1b3_row1_col0\" class=\"data row1 col0\" >2</td>\n",
       "      <td id=\"T_9d1b3_row1_col1\" class=\"data row1 col1\" >543</td>\n",
       "      <td id=\"T_9d1b3_row1_col2\" class=\"data row1 col2\" >True</td>\n",
       "    </tr>\n",
       "    <tr>\n",
       "      <th id=\"T_9d1b3_level0_row2\" class=\"row_heading level0 row2\" >2</th>\n",
       "      <td id=\"T_9d1b3_row2_col0\" class=\"data row2 col0\" >3</td>\n",
       "      <td id=\"T_9d1b3_row2_col1\" class=\"data row2 col1\" >44</td>\n",
       "      <td id=\"T_9d1b3_row2_col2\" class=\"data row2 col2\" >True</td>\n",
       "    </tr>\n",
       "    <tr>\n",
       "      <th id=\"T_9d1b3_level0_row3\" class=\"row_heading level0 row3\" >3</th>\n",
       "      <td id=\"T_9d1b3_row3_col0\" class=\"data row3 col0\" >4</td>\n",
       "      <td id=\"T_9d1b3_row3_col1\" class=\"data row3 col1\" >4</td>\n",
       "      <td id=\"T_9d1b3_row3_col2\" class=\"data row3 col2\" >True</td>\n",
       "    </tr>\n",
       "  </tbody>\n",
       "</table>\n"
      ],
      "text/plain": [
       "<pandas.io.formats.style.Styler at 0x7fe0bdaeb4f0>"
      ]
     },
     "metadata": {},
     "output_type": "display_data"
    }
   ],
   "source": [
    "df_num_pubs = df.groupby(\"num_publishers\", as_index=False)[\"url\"].count()\n",
    "df_num_pubs[\"multiple_pubs\"] = df_num_pubs[\"num_publishers\"] > 1\n",
    "show_df(df_num_pubs)"
   ]
  },
  {
   "cell_type": "markdown",
   "id": "c0aa531e-82b0-4182-ab94-ec41484f58d0",
   "metadata": {},
   "source": [
    "Count the number of listings for a single and multiple publishers"
   ]
  },
  {
   "cell_type": "code",
   "execution_count": 76,
   "id": "1c3ab9d9-1b6f-42fa-a1d4-39185d8a28cb",
   "metadata": {},
   "outputs": [
    {
     "data": {
      "text/html": [
       "<style type=\"text/css\">\n",
       "</style>\n",
       "<table id=\"T_7d163_\">\n",
       "  <caption>All rows</caption>\n",
       "  <thead>\n",
       "    <tr>\n",
       "      <th class=\"blank level0\" >&nbsp;</th>\n",
       "      <th class=\"col_heading level0 col0\" >multiple_pubs</th>\n",
       "      <th class=\"col_heading level0 col1\" >url</th>\n",
       "    </tr>\n",
       "  </thead>\n",
       "  <tbody>\n",
       "    <tr>\n",
       "      <th id=\"T_7d163_level0_row0\" class=\"row_heading level0 row0\" >0</th>\n",
       "      <td id=\"T_7d163_row0_col0\" class=\"data row0 col0\" >Single</td>\n",
       "      <td id=\"T_7d163_row0_col1\" class=\"data row0 col1\" >9444</td>\n",
       "    </tr>\n",
       "    <tr>\n",
       "      <th id=\"T_7d163_level0_row1\" class=\"row_heading level0 row1\" >1</th>\n",
       "      <td id=\"T_7d163_row1_col0\" class=\"data row1 col0\" >Multiple</td>\n",
       "      <td id=\"T_7d163_row1_col1\" class=\"data row1 col1\" >591</td>\n",
       "    </tr>\n",
       "  </tbody>\n",
       "</table>\n"
      ],
      "text/plain": [
       "<pandas.io.formats.style.Styler at 0x7fe0bd57b280>"
      ]
     },
     "metadata": {},
     "output_type": "display_data"
    }
   ],
   "source": [
    "single_multi_pubs = df_num_pubs.groupby(\"multiple_pubs\", as_index=False)[\"url\"].sum()\n",
    "single_multi_pubs[\"multiple_pubs\"] = single_multi_pubs[\"multiple_pubs\"].map(\n",
    "    {True: \"Multiple\", False: \"Single\"}\n",
    ")\n",
    "show_df(single_multi_pubs)"
   ]
  },
  {
   "cell_type": "markdown",
   "id": "1891838c-9c1d-4e87-afe7-c8bb4587224f",
   "metadata": {},
   "source": [
    "Plot the number of listings for single and multiple publishers"
   ]
  },
  {
   "cell_type": "code",
   "execution_count": 77,
   "id": "c2b59a7a-08f7-42fe-ae71-89e61c23c4fe",
   "metadata": {},
   "outputs": [
    {
     "data": {
      "image/png": "[encoded data removed]",
      "text/plain": [
       "<Figure size 576x576 with 1 Axes>"
      ]
     },
     "metadata": {},
     "output_type": "display_data"
    }
   ],
   "source": [
    "with sns.axes_style(\"ticks\"):\n",
    "    ax = sns.barplot(\n",
    "        y=\"url\",\n",
    "        x=\"multiple_pubs\",\n",
    "        data=single_multi_pubs,\n",
    "        color=\"steelblue\",\n",
    "        saturation=0.5,\n",
    "    )\n",
    "    ax.set_title(\n",
    "        \"Nearly all listings are released by a single publisher\",\n",
    "        loc=\"left\",\n",
    "        fontweight=\"bold\",\n",
    "    )\n",
    "    ax.set_xlabel(None)\n",
    "    ax.set_ylabel(None)\n",
    "    sns.despine()\n",
    "    ax.set_xticklabels(ax.get_xticklabels(), fontsize=22)\n",
    "    fig = plt.gcf()\n",
    "    fig.set_figheight(8)\n",
    "    fig.set_figwidth(8)\n",
    "    # fig.savefig(\n",
    "    #     os.path.join(reports_data_dir, \"10_number_of_publishers.png\"),\n",
    "    #     bbox_inches=\"tight\",\n",
    "    #     dpi=300,\n",
    "    # )"
   ]
  },
  {
   "cell_type": "markdown",
   "id": "d9ed4e7c-fae9-4b88-b938-e693e6e95ac8",
   "metadata": {},
   "source": [
    "**What fraction of all available listings are offerred by a single publisher?**"
   ]
  },
  {
   "cell_type": "code",
   "execution_count": 78,
   "id": "3f907bbc-c3b9-4342-b399-934e4e6cf3cc",
   "metadata": {},
   "outputs": [
    {
     "name": "stdout",
     "output_type": "stream",
     "text": [
      "Fraction by a single publisher = 94.11\n"
     ]
    }
   ],
   "source": [
    "frac_single_pub = (\n",
    "    df_num_pubs[df_num_pubs[\"num_publishers\"] == 1][\"url\"].iloc[0]\n",
    "    / df_num_pubs[\"url\"].sum()\n",
    ") * 100\n",
    "print(f\"Fraction by a single publisher = {frac_single_pub:.2f}\")"
   ]
  },
  {
   "cell_type": "markdown",
   "id": "aba3bcff-40ad-4796-be3c-2d6aea2b6e58",
   "metadata": {},
   "source": [
    "**For each listing, the cleaned publishers column has all publisher names on the same row. For each listing, get every publisher on separate row (i.e. create a messy dataset for URL and publisher).**"
   ]
  },
  {
   "cell_type": "markdown",
   "id": "6ed39d54-227e-4bfd-b6ae-acb802fe3c91",
   "metadata": {},
   "source": [
    "Split each publisher into a separate column, per listing"
   ]
  },
  {
   "cell_type": "code",
   "execution_count": 79,
   "id": "d53a2dc9-64c1-40bd-9d97-3155a95dcc7a",
   "metadata": {},
   "outputs": [
    {
     "data": {
      "text/html": [
       "<style type=\"text/css\">\n",
       "</style>\n",
       "<table id=\"T_d140d_\">\n",
       "  <caption>First & Last 5 rows</caption>\n",
       "  <thead>\n",
       "    <tr>\n",
       "      <th class=\"blank level0\" >&nbsp;</th>\n",
       "      <th class=\"col_heading level0 col0\" >0</th>\n",
       "      <th class=\"col_heading level0 col1\" >1</th>\n",
       "      <th class=\"col_heading level0 col2\" >2</th>\n",
       "      <th class=\"col_heading level0 col3\" >3</th>\n",
       "      <th class=\"col_heading level0 col4\" >url</th>\n",
       "    </tr>\n",
       "  </thead>\n",
       "  <tbody>\n",
       "    <tr>\n",
       "      <th id=\"T_d140d_level0_row0\" class=\"row_heading level0 row0\" >0</th>\n",
       "      <td id=\"T_d140d_row0_col0\" class=\"data row0 col0\" >iceberg interactive</td>\n",
       "      <td id=\"T_d140d_row0_col1\" class=\"data row0 col1\" >None</td>\n",
       "      <td id=\"T_d140d_row0_col2\" class=\"data row0 col2\" >None</td>\n",
       "      <td id=\"T_d140d_row0_col3\" class=\"data row0 col3\" >None</td>\n",
       "      <td id=\"T_d140d_row0_col4\" class=\"data row0 col4\" >https://store.steampowered.com/app/1158940/Blazing_Sails/</td>\n",
       "    </tr>\n",
       "    <tr>\n",
       "      <th id=\"T_d140d_level0_row1\" class=\"row_heading level0 row1\" >1</th>\n",
       "      <td id=\"T_d140d_row1_col0\" class=\"data row1 col0\" >warner bros. interactive entertainment</td>\n",
       "      <td id=\"T_d140d_row1_col1\" class=\"data row1 col1\" >None</td>\n",
       "      <td id=\"T_d140d_row1_col2\" class=\"data row1 col2\" >None</td>\n",
       "      <td id=\"T_d140d_row1_col3\" class=\"data row1 col3\" >None</td>\n",
       "      <td id=\"T_d140d_row1_col4\" class=\"data row1 col4\" >https://store.steampowered.com/app/21130/LEGO_Harry_Potter_Years_14/</td>\n",
       "    </tr>\n",
       "    <tr>\n",
       "      <th id=\"T_d140d_level0_row2\" class=\"row_heading level0 row2\" >2</th>\n",
       "      <td id=\"T_d140d_row2_col0\" class=\"data row2 col0\" >thunderful publishing</td>\n",
       "      <td id=\"T_d140d_row2_col1\" class=\"data row2 col1\" >None</td>\n",
       "      <td id=\"T_d140d_row2_col2\" class=\"data row2 col2\" >None</td>\n",
       "      <td id=\"T_d140d_row2_col3\" class=\"data row2 col3\" >None</td>\n",
       "      <td id=\"T_d140d_row2_col4\" class=\"data row2 col4\" >https://store.steampowered.com/app/1315610/Source_of_Madness/</td>\n",
       "    </tr>\n",
       "    <tr>\n",
       "      <th id=\"T_d140d_level0_row3\" class=\"row_heading level0 row3\" >3</th>\n",
       "      <td id=\"T_d140d_row3_col0\" class=\"data row3 col0\" >joseph distler</td>\n",
       "      <td id=\"T_d140d_row3_col1\" class=\"data row3 col1\" >None</td>\n",
       "      <td id=\"T_d140d_row3_col2\" class=\"data row3 col2\" >None</td>\n",
       "      <td id=\"T_d140d_row3_col3\" class=\"data row3 col3\" >None</td>\n",
       "      <td id=\"T_d140d_row3_col4\" class=\"data row3 col4\" >https://store.steampowered.com/app/1585910/Roll/</td>\n",
       "    </tr>\n",
       "    <tr>\n",
       "      <th id=\"T_d140d_level0_row4\" class=\"row_heading level0 row4\" >4</th>\n",
       "      <td id=\"T_d140d_row4_col0\" class=\"data row4 col0\" >noio</td>\n",
       "      <td id=\"T_d140d_row4_col1\" class=\"data row4 col1\" >None</td>\n",
       "      <td id=\"T_d140d_row4_col2\" class=\"data row4 col2\" >None</td>\n",
       "      <td id=\"T_d140d_row4_col3\" class=\"data row4 col3\" >None</td>\n",
       "      <td id=\"T_d140d_row4_col4\" class=\"data row4 col4\" >https://store.steampowered.com/app/1372320/Cloud_Gardens/</td>\n",
       "    </tr>\n",
       "    <tr>\n",
       "      <th id=\"T_d140d_level0_row5\" class=\"row_heading level0 row5\" >10030</th>\n",
       "      <td id=\"T_d140d_row5_col0\" class=\"data row5 col0\" >way down deep</td>\n",
       "      <td id=\"T_d140d_row5_col1\" class=\"data row5 col1\" >None</td>\n",
       "      <td id=\"T_d140d_row5_col2\" class=\"data row5 col2\" >None</td>\n",
       "      <td id=\"T_d140d_row5_col3\" class=\"data row5 col3\" >None</td>\n",
       "      <td id=\"T_d140d_row5_col4\" class=\"data row5 col4\" >https://store.steampowered.com/app/1492480/Half Past Fate: Romantic Distancing/</td>\n",
       "    </tr>\n",
       "    <tr>\n",
       "      <th id=\"T_d140d_level0_row6\" class=\"row_heading level0 row6\" >10031</th>\n",
       "      <td id=\"T_d140d_row6_col0\" class=\"data row6 col0\" >oukaein</td>\n",
       "      <td id=\"T_d140d_row6_col1\" class=\"data row6 col1\" >None</td>\n",
       "      <td id=\"T_d140d_row6_col2\" class=\"data row6 col2\" >None</td>\n",
       "      <td id=\"T_d140d_row6_col3\" class=\"data row6 col3\" >None</td>\n",
       "      <td id=\"T_d140d_row6_col4\" class=\"data row6 col4\" >https://store.steampowered.com/app/1144280/Ain Dodo/</td>\n",
       "    </tr>\n",
       "    <tr>\n",
       "      <th id=\"T_d140d_level0_row7\" class=\"row_heading level0 row7\" >10032</th>\n",
       "      <td id=\"T_d140d_row7_col0\" class=\"data row7 col0\" >wargaming.net</td>\n",
       "      <td id=\"T_d140d_row7_col1\" class=\"data row7 col1\" >None</td>\n",
       "      <td id=\"T_d140d_row7_col2\" class=\"data row7 col2\" >None</td>\n",
       "      <td id=\"T_d140d_row7_col3\" class=\"data row7 col3\" >None</td>\n",
       "      <td id=\"T_d140d_row7_col4\" class=\"data row7 col4\" >https://store.steampowered.com/app/34640/Massive Assault: Phantom Renaissance/</td>\n",
       "    </tr>\n",
       "    <tr>\n",
       "      <th id=\"T_d140d_level0_row8\" class=\"row_heading level0 row8\" >10033</th>\n",
       "      <td id=\"T_d140d_row8_col0\" class=\"data row8 col0\" >randumb studios</td>\n",
       "      <td id=\"T_d140d_row8_col1\" class=\"data row8 col1\" >None</td>\n",
       "      <td id=\"T_d140d_row8_col2\" class=\"data row8 col2\" >None</td>\n",
       "      <td id=\"T_d140d_row8_col3\" class=\"data row8 col3\" >None</td>\n",
       "      <td id=\"T_d140d_row8_col4\" class=\"data row8 col4\" >https://store.steampowered.com/app/1218570/The Twins/</td>\n",
       "    </tr>\n",
       "    <tr>\n",
       "      <th id=\"T_d140d_level0_row9\" class=\"row_heading level0 row9\" >10034</th>\n",
       "      <td id=\"T_d140d_row9_col0\" class=\"data row9 col0\" >dear villagers</td>\n",
       "      <td id=\"T_d140d_row9_col1\" class=\"data row9 col1\" >None</td>\n",
       "      <td id=\"T_d140d_row9_col2\" class=\"data row9 col2\" >None</td>\n",
       "      <td id=\"T_d140d_row9_col3\" class=\"data row9 col3\" >None</td>\n",
       "      <td id=\"T_d140d_row9_col4\" class=\"data row9 col4\" >https://store.steampowered.com/app/384310/Dead In Bermuda/</td>\n",
       "    </tr>\n",
       "  </tbody>\n",
       "</table>\n"
      ],
      "text/plain": [
       "<pandas.io.formats.style.Styler at 0x7fe0bd86cfd0>"
      ]
     },
     "metadata": {},
     "output_type": "display_data"
    }
   ],
   "source": [
    "pubs_url = df[\"Publisher_cleaned\"].str.split(\", \", expand=True).assign(url=df[\"url\"])\n",
    "show_df(pubs_url, 5)"
   ]
  },
  {
   "cell_type": "markdown",
   "id": "cfe09230-eb25-4b6e-b056-a7589fd6abed",
   "metadata": {},
   "source": [
    "Create a messy dataset of URL and publisher"
   ]
  },
  {
   "cell_type": "code",
   "execution_count": 80,
   "id": "5b642045-a316-4b25-a73f-17b9ff1c1d6f",
   "metadata": {},
   "outputs": [
    {
     "data": {
      "text/html": [
       "<style type=\"text/css\">\n",
       "</style>\n",
       "<table id=\"T_95f54_\">\n",
       "  <caption>First & Last 5 rows</caption>\n",
       "  <thead>\n",
       "    <tr>\n",
       "      <th class=\"blank level0\" >&nbsp;</th>\n",
       "      <th class=\"col_heading level0 col0\" >url</th>\n",
       "      <th class=\"col_heading level0 col1\" >Publisher_cleaned</th>\n",
       "    </tr>\n",
       "  </thead>\n",
       "  <tbody>\n",
       "    <tr>\n",
       "      <th id=\"T_95f54_level0_row0\" class=\"row_heading level0 row0\" >0</th>\n",
       "      <td id=\"T_95f54_row0_col0\" class=\"data row0 col0\" >https://store.steampowered.com/app/1158940/Blazing_Sails/</td>\n",
       "      <td id=\"T_95f54_row0_col1\" class=\"data row0 col1\" >iceberg interactive</td>\n",
       "    </tr>\n",
       "    <tr>\n",
       "      <th id=\"T_95f54_level0_row1\" class=\"row_heading level0 row1\" >1</th>\n",
       "      <td id=\"T_95f54_row1_col0\" class=\"data row1 col0\" >https://store.steampowered.com/app/21130/LEGO_Harry_Potter_Years_14/</td>\n",
       "      <td id=\"T_95f54_row1_col1\" class=\"data row1 col1\" >warner bros. interactive entertainment</td>\n",
       "    </tr>\n",
       "    <tr>\n",
       "      <th id=\"T_95f54_level0_row2\" class=\"row_heading level0 row2\" >2</th>\n",
       "      <td id=\"T_95f54_row2_col0\" class=\"data row2 col0\" >https://store.steampowered.com/app/1315610/Source_of_Madness/</td>\n",
       "      <td id=\"T_95f54_row2_col1\" class=\"data row2 col1\" >thunderful publishing</td>\n",
       "    </tr>\n",
       "    <tr>\n",
       "      <th id=\"T_95f54_level0_row3\" class=\"row_heading level0 row3\" >3</th>\n",
       "      <td id=\"T_95f54_row3_col0\" class=\"data row3 col0\" >https://store.steampowered.com/app/1585910/Roll/</td>\n",
       "      <td id=\"T_95f54_row3_col1\" class=\"data row3 col1\" >joseph distler</td>\n",
       "    </tr>\n",
       "    <tr>\n",
       "      <th id=\"T_95f54_level0_row4\" class=\"row_heading level0 row4\" >4</th>\n",
       "      <td id=\"T_95f54_row4_col0\" class=\"data row4 col0\" >https://store.steampowered.com/app/1372320/Cloud_Gardens/</td>\n",
       "      <td id=\"T_95f54_row4_col1\" class=\"data row4 col1\" >noio</td>\n",
       "    </tr>\n",
       "    <tr>\n",
       "      <th id=\"T_95f54_level0_row5\" class=\"row_heading level0 row5\" >29522</th>\n",
       "      <td id=\"T_95f54_row5_col0\" class=\"data row5 col0\" >https://store.steampowered.com/app/1210490/YesterMorrow/</td>\n",
       "      <td id=\"T_95f54_row5_col1\" class=\"data row5 col1\" >orenda (asia)</td>\n",
       "    </tr>\n",
       "    <tr>\n",
       "      <th id=\"T_95f54_level0_row6\" class=\"row_heading level0 row6\" >30879</th>\n",
       "      <td id=\"T_95f54_row6_col0\" class=\"data row6 col0\" >https://store.steampowered.com/app/421020/DiRT_4/</td>\n",
       "      <td id=\"T_95f54_row6_col1\" class=\"data row6 col1\" >electronic arts</td>\n",
       "    </tr>\n",
       "    <tr>\n",
       "      <th id=\"T_95f54_level0_row7\" class=\"row_heading level0 row7\" >31171</th>\n",
       "      <td id=\"T_95f54_row7_col0\" class=\"data row7 col0\" >https://store.steampowered.com/app/515220/F1_2017/</td>\n",
       "      <td id=\"T_95f54_row7_col1\" class=\"data row7 col1\" >electronic arts</td>\n",
       "    </tr>\n",
       "    <tr>\n",
       "      <th id=\"T_95f54_level0_row8\" class=\"row_heading level0 row8\" >36211</th>\n",
       "      <td id=\"T_95f54_row8_col0\" class=\"data row8 col0\" >https://store.steampowered.com/app/589670/Double_Kick_Heroes/</td>\n",
       "      <td id=\"T_95f54_row8_col1\" class=\"data row8 col1\" >kakehashi</td>\n",
       "    </tr>\n",
       "    <tr>\n",
       "      <th id=\"T_95f54_level0_row9\" class=\"row_heading level0 row9\" >39007</th>\n",
       "      <td id=\"T_95f54_row9_col0\" class=\"data row9 col0\" >https://store.steampowered.com/app/41740/Cargo_The_Quest_for_Gravity/</td>\n",
       "      <td id=\"T_95f54_row9_col1\" class=\"data row9 col1\" >nordic games</td>\n",
       "    </tr>\n",
       "  </tbody>\n",
       "</table>\n"
      ],
      "text/plain": [
       "<pandas.io.formats.style.Styler at 0x7fe0bd5c76d0>"
      ]
     },
     "metadata": {},
     "output_type": "display_data"
    }
   ],
   "source": [
    "pubs_url_reshaped = (\n",
    "    pubs_url.set_index(\"url\")\n",
    "    .unstack()\n",
    "    .reset_index()\n",
    "    .drop(columns=[\"level_0\"])\n",
    "    .rename(columns={0: \"Publisher_cleaned\"})\n",
    "    .dropna()\n",
    ")\n",
    "show_df(pubs_url_reshaped, 5)"
   ]
  },
  {
   "cell_type": "markdown",
   "id": "f4319135-14a1-4337-8bdf-91be79b3a4d4",
   "metadata": {},
   "source": [
    "**How many unique publishers contribute games?**"
   ]
  },
  {
   "cell_type": "code",
   "execution_count": 81,
   "id": "49f0e8a9-0a32-48cd-b4c2-4b759323da90",
   "metadata": {},
   "outputs": [
    {
     "name": "stdout",
     "output_type": "stream",
     "text": [
      "4,804 publishers contributed listings\n"
     ]
    }
   ],
   "source": [
    "print(\n",
    "    f\"{pubs_url_reshaped['Publisher_cleaned'].nunique():,} publishers contributed listings\"\n",
    ")"
   ]
  },
  {
   "cell_type": "markdown",
   "id": "d2692973-7320-4b4c-bf24-e5f43b5f4484",
   "metadata": {},
   "source": [
    "**Create a list of well-known video game publishers and count the number of listings by each of them.**\n",
    "- Lists of well-known publishers ([1](https://en.wikipedia.org/wiki/Video_game_publisher), [2](), [3](https://www.alltopeverything.com/top-10-biggest-video-game-companies/), [4](https://dfdnews.com/2021/04/23/2021-console-and-pc-game-publisher-sales-report-spend-grew-36-across-all-publishers-over-2020/))"
   ]
  },
  {
   "cell_type": "code",
   "execution_count": 82,
   "id": "3744c2a0-f6fb-4819-817b-ae7e896a1742",
   "metadata": {},
   "outputs": [],
   "source": [
    "top_pubs = [\n",
    "    \"sony\",\n",
    "    \"tencent\",\n",
    "    \"activision\",\n",
    "    \"electronic\",\n",
    "    \"bandai\",\n",
    "    \"microsoft\",\n",
    "    \"netease\",\n",
    "    \"rockstar\",\n",
    "    \"valve\",\n",
    "    \"ubisoft\",\n",
    "    \"apple\",\n",
    "    \"insomniac\",\n",
    "    \"epic\",\n",
    "    \"take-two\",\n",
    "    \"aquaplus\",\n",
    "]"
   ]
  },
  {
   "cell_type": "markdown",
   "id": "6e53db99-9c75-4cc1-b2e2-27b495a8fe40",
   "metadata": {},
   "source": [
    "Filter the cleaned publisher column to only include rows for the above list of publishers"
   ]
  },
  {
   "cell_type": "code",
   "execution_count": 83,
   "id": "75e10c99-6131-4e4e-a292-9f5a09094f5d",
   "metadata": {},
   "outputs": [
    {
     "data": {
      "text/html": [
       "<style type=\"text/css\">\n",
       "</style>\n",
       "<table id=\"T_4ddfe_\">\n",
       "  <caption>First & Last 5 rows</caption>\n",
       "  <thead>\n",
       "    <tr>\n",
       "      <th class=\"blank level0\" >&nbsp;</th>\n",
       "      <th class=\"col_heading level0 col0\" >url</th>\n",
       "      <th class=\"col_heading level0 col1\" >Publisher_cleaned</th>\n",
       "    </tr>\n",
       "  </thead>\n",
       "  <tbody>\n",
       "    <tr>\n",
       "      <th id=\"T_4ddfe_level0_row0\" class=\"row_heading level0 row0\" >11</th>\n",
       "      <td id=\"T_4ddfe_row0_col0\" class=\"data row0 col0\" >https://store.steampowered.com/app/204100/Max_Payne_3/</td>\n",
       "      <td id=\"T_4ddfe_row0_col1\" class=\"data row0 col1\" >rockstar games</td>\n",
       "    </tr>\n",
       "    <tr>\n",
       "      <th id=\"T_4ddfe_level0_row1\" class=\"row_heading level0 row1\" >24</th>\n",
       "      <td id=\"T_4ddfe_row1_col0\" class=\"data row1 col0\" >https://store.steampowered.com/app/551170/Onmyoji/</td>\n",
       "      <td id=\"T_4ddfe_row1_col1\" class=\"data row1 col1\" >netease games</td>\n",
       "    </tr>\n",
       "    <tr>\n",
       "      <th id=\"T_4ddfe_level0_row2\" class=\"row_heading level0 row2\" >50</th>\n",
       "      <td id=\"T_4ddfe_row2_col0\" class=\"data row2 col0\" >https://store.steampowered.com/app/798460/Ni_no_Kuni_Wrath_of_the_White_Witch_Remastered/</td>\n",
       "      <td id=\"T_4ddfe_row2_col1\" class=\"data row2 col1\" >bandai namco entertainment</td>\n",
       "    </tr>\n",
       "    <tr>\n",
       "      <th id=\"T_4ddfe_level0_row3\" class=\"row_heading level0 row3\" >79</th>\n",
       "      <td id=\"T_4ddfe_row3_col0\" class=\"data row3 col0\" >https://store.steampowered.com/app/738540/Tales_of_Vesperia_Definitive_Edition/</td>\n",
       "      <td id=\"T_4ddfe_row3_col1\" class=\"data row3 col1\" >bandai namco entertainment</td>\n",
       "    </tr>\n",
       "    <tr>\n",
       "      <th id=\"T_4ddfe_level0_row4\" class=\"row_heading level0 row4\" >89</th>\n",
       "      <td id=\"T_4ddfe_row4_col0\" class=\"data row4 col0\" >https://store.steampowered.com/app/24790/Command__Conquer_3_Tiberium_Wars/</td>\n",
       "      <td id=\"T_4ddfe_row4_col1\" class=\"data row4 col1\" >electronic arts</td>\n",
       "    </tr>\n",
       "    <tr>\n",
       "      <th id=\"T_4ddfe_level0_row5\" class=\"row_heading level0 row5\" >16016</th>\n",
       "      <td id=\"T_4ddfe_row5_col0\" class=\"data row5 col0\" >https://store.steampowered.com/app/3350/Bejeweled_Deluxe/</td>\n",
       "      <td id=\"T_4ddfe_row5_col1\" class=\"data row5 col1\" >electronic arts</td>\n",
       "    </tr>\n",
       "    <tr>\n",
       "      <th id=\"T_4ddfe_level0_row6\" class=\"row_heading level0 row6\" >16176</th>\n",
       "      <td id=\"T_4ddfe_row6_col0\" class=\"data row6 col0\" >https://store.steampowered.com/app/12770/Rise_of_the_Argonauts/</td>\n",
       "      <td id=\"T_4ddfe_row6_col1\" class=\"data row6 col1\" >electronic arts</td>\n",
       "    </tr>\n",
       "    <tr>\n",
       "      <th id=\"T_4ddfe_level0_row7\" class=\"row_heading level0 row7\" >22850</th>\n",
       "      <td id=\"T_4ddfe_row7_col0\" class=\"data row7 col0\" >https://store.steampowered.com/app/391040/F1_2016/</td>\n",
       "      <td id=\"T_4ddfe_row7_col1\" class=\"data row7 col1\" >electronic arts</td>\n",
       "    </tr>\n",
       "    <tr>\n",
       "      <th id=\"T_4ddfe_level0_row8\" class=\"row_heading level0 row8\" >30879</th>\n",
       "      <td id=\"T_4ddfe_row8_col0\" class=\"data row8 col0\" >https://store.steampowered.com/app/421020/DiRT_4/</td>\n",
       "      <td id=\"T_4ddfe_row8_col1\" class=\"data row8 col1\" >electronic arts</td>\n",
       "    </tr>\n",
       "    <tr>\n",
       "      <th id=\"T_4ddfe_level0_row9\" class=\"row_heading level0 row9\" >31171</th>\n",
       "      <td id=\"T_4ddfe_row9_col0\" class=\"data row9 col0\" >https://store.steampowered.com/app/515220/F1_2017/</td>\n",
       "      <td id=\"T_4ddfe_row9_col1\" class=\"data row9 col1\" >electronic arts</td>\n",
       "    </tr>\n",
       "  </tbody>\n",
       "</table>\n"
      ],
      "text/plain": [
       "<pandas.io.formats.style.Styler at 0x7fe0bcbe9400>"
      ]
     },
     "metadata": {},
     "output_type": "display_data"
    },
    {
     "name": "stdout",
     "output_type": "stream",
     "text": [
      "CPU times: user 10.9 ms, sys: 945 µs, total: 11.9 ms\n",
      "Wall time: 11.5 ms\n"
     ]
    }
   ],
   "source": [
    "%%time\n",
    "df_well_pubs_url_reshaped = pubs_url_reshaped[\n",
    "    pubs_url_reshaped[\"Publisher_cleaned\"].str.contains(\"|\".join(top_pubs))\n",
    "]\n",
    "show_df(df_well_pubs_url_reshaped, 5)"
   ]
  },
  {
   "cell_type": "markdown",
   "id": "cbe524dd-c3bb-430e-8bcf-e0087dce9e50",
   "metadata": {},
   "source": [
    "Count the number of listings associated with the above specified list of publishers"
   ]
  },
  {
   "cell_type": "code",
   "execution_count": 84,
   "id": "9a17eeaa-0263-4f74-91b0-518000839e74",
   "metadata": {},
   "outputs": [
    {
     "data": {
      "text/html": [
       "<style type=\"text/css\">\n",
       "</style>\n",
       "<table id=\"T_76d97_\">\n",
       "  <caption>All rows</caption>\n",
       "  <thead>\n",
       "    <tr>\n",
       "      <th class=\"blank level0\" >&nbsp;</th>\n",
       "      <th class=\"col_heading level0 col0\" >Publisher_cleaned</th>\n",
       "      <th class=\"col_heading level0 col1\" >num_listings</th>\n",
       "    </tr>\n",
       "  </thead>\n",
       "  <tbody>\n",
       "    <tr>\n",
       "      <th id=\"T_76d97_level0_row0\" class=\"row_heading level0 row0\" >22</th>\n",
       "      <td id=\"T_76d97_row0_col0\" class=\"data row0 col0\" >ubisoft</td>\n",
       "      <td id=\"T_76d97_row0_col1\" class=\"data row0 col1\" >67</td>\n",
       "    </tr>\n",
       "    <tr>\n",
       "      <th id=\"T_76d97_level0_row1\" class=\"row_heading level0 row1\" >7</th>\n",
       "      <td id=\"T_76d97_row1_col0\" class=\"data row1 col0\" >electronic arts</td>\n",
       "      <td id=\"T_76d97_row1_col1\" class=\"data row1 col1\" >53</td>\n",
       "    </tr>\n",
       "    <tr>\n",
       "      <th id=\"T_76d97_level0_row2\" class=\"row_heading level0 row2\" >4</th>\n",
       "      <td id=\"T_76d97_row2_col0\" class=\"data row2 col0\" >bandai namco entertainment</td>\n",
       "      <td id=\"T_76d97_row2_col1\" class=\"data row2 col1\" >44</td>\n",
       "    </tr>\n",
       "    <tr>\n",
       "      <th id=\"T_76d97_level0_row3\" class=\"row_heading level0 row3\" >1</th>\n",
       "      <td id=\"T_76d97_row3_col0\" class=\"data row3 col0\" >activision</td>\n",
       "      <td id=\"T_76d97_row3_col1\" class=\"data row3 col1\" >30</td>\n",
       "    </tr>\n",
       "    <tr>\n",
       "      <th id=\"T_76d97_level0_row4\" class=\"row_heading level0 row4\" >24</th>\n",
       "      <td id=\"T_76d97_row4_col0\" class=\"data row4 col0\" >valve</td>\n",
       "      <td id=\"T_76d97_row4_col1\" class=\"data row4 col1\" >12</td>\n",
       "    </tr>\n",
       "    <tr>\n",
       "      <th id=\"T_76d97_level0_row5\" class=\"row_heading level0 row5\" >10</th>\n",
       "      <td id=\"T_76d97_row5_col0\" class=\"data row5 col0\" >epic games inc.</td>\n",
       "      <td id=\"T_76d97_row5_col1\" class=\"data row5 col1\" >5</td>\n",
       "    </tr>\n",
       "    <tr>\n",
       "      <th id=\"T_76d97_level0_row6\" class=\"row_heading level0 row6\" >18</th>\n",
       "      <td id=\"T_76d97_row6_col0\" class=\"data row6 col0\" >netease games</td>\n",
       "      <td id=\"T_76d97_row6_col1\" class=\"data row6 col1\" >4</td>\n",
       "    </tr>\n",
       "    <tr>\n",
       "      <th id=\"T_76d97_level0_row7\" class=\"row_heading level0 row7\" >0</th>\n",
       "      <td id=\"T_76d97_row7_col0\" class=\"data row7 col0\" >@unepic_fran</td>\n",
       "      <td id=\"T_76d97_row7_col1\" class=\"data row7 col1\" >3</td>\n",
       "    </tr>\n",
       "    <tr>\n",
       "      <th id=\"T_76d97_level0_row8\" class=\"row_heading level0 row8\" >20</th>\n",
       "      <td id=\"T_76d97_row8_col0\" class=\"data row8 col0\" >rockstar games</td>\n",
       "      <td id=\"T_76d97_row8_col1\" class=\"data row8 col1\" >3</td>\n",
       "    </tr>\n",
       "    <tr>\n",
       "      <th id=\"T_76d97_level0_row9\" class=\"row_heading level0 row9\" >23</th>\n",
       "      <td id=\"T_76d97_row9_col0\" class=\"data row9 col0\" >ubisoft entertainment</td>\n",
       "      <td id=\"T_76d97_row9_col1\" class=\"data row9 col1\" >3</td>\n",
       "    </tr>\n",
       "    <tr>\n",
       "      <th id=\"T_76d97_level0_row10\" class=\"row_heading level0 row10\" >14</th>\n",
       "      <td id=\"T_76d97_row10_col0\" class=\"data row10 col0\" >fireapples inc.</td>\n",
       "      <td id=\"T_76d97_row10_col1\" class=\"data row10 col1\" >2</td>\n",
       "    </tr>\n",
       "    <tr>\n",
       "      <th id=\"T_76d97_level0_row11\" class=\"row_heading level0 row11\" >21</th>\n",
       "      <td id=\"T_76d97_row11_col0\" class=\"data row11 col0\" >sony music entertainment (japan) inc. / unties</td>\n",
       "      <td id=\"T_76d97_row11_col1\" class=\"data row11 col1\" >2</td>\n",
       "    </tr>\n",
       "    <tr>\n",
       "      <th id=\"T_76d97_level0_row12\" class=\"row_heading level0 row12\" >2</th>\n",
       "      <td id=\"T_76d97_row12_col0\" class=\"data row12 col0\" >activision value inc. imagecode</td>\n",
       "      <td id=\"T_76d97_row12_col1\" class=\"data row12 col1\" >1</td>\n",
       "    </tr>\n",
       "    <tr>\n",
       "      <th id=\"T_76d97_level0_row13\" class=\"row_heading level0 row13\" >3</th>\n",
       "      <td id=\"T_76d97_row13_col0\" class=\"data row13 col0\" >bandai namco</td>\n",
       "      <td id=\"T_76d97_row13_col1\" class=\"data row13 col1\" >1</td>\n",
       "    </tr>\n",
       "    <tr>\n",
       "      <th id=\"T_76d97_level0_row14\" class=\"row_heading level0 row14\" >5</th>\n",
       "      <td id=\"T_76d97_row14_col0\" class=\"data row14 col0\" >bandai namco entertainment america inc.</td>\n",
       "      <td id=\"T_76d97_row14_col1\" class=\"data row14 col1\" >1</td>\n",
       "    </tr>\n",
       "    <tr>\n",
       "      <th id=\"T_76d97_level0_row15\" class=\"row_heading level0 row15\" >6</th>\n",
       "      <td id=\"T_76d97_row15_col0\" class=\"data row15 col0\" >bandai namco entertainment europe</td>\n",
       "      <td id=\"T_76d97_row15_col1\" class=\"data row15 col1\" >1</td>\n",
       "    </tr>\n",
       "    <tr>\n",
       "      <th id=\"T_76d97_level0_row16\" class=\"row_heading level0 row16\" >8</th>\n",
       "      <td id=\"T_76d97_row16_col0\" class=\"data row16 col0\" >epic banana games llc</td>\n",
       "      <td id=\"T_76d97_row16_col1\" class=\"data row16 col1\" >1</td>\n",
       "    </tr>\n",
       "    <tr>\n",
       "      <th id=\"T_76d97_level0_row17\" class=\"row_heading level0 row17\" >9</th>\n",
       "      <td id=\"T_76d97_row17_col0\" class=\"data row17 col0\" >epic games</td>\n",
       "      <td id=\"T_76d97_row17_col1\" class=\"data row17 col1\" >1</td>\n",
       "    </tr>\n",
       "    <tr>\n",
       "      <th id=\"T_76d97_level0_row18\" class=\"row_heading level0 row18\" >11</th>\n",
       "      <td id=\"T_76d97_row18_col0\" class=\"data row18 col0\" >epic llama</td>\n",
       "      <td id=\"T_76d97_row18_col1\" class=\"data row18 col1\" >1</td>\n",
       "    </tr>\n",
       "    <tr>\n",
       "      <th id=\"T_76d97_level0_row19\" class=\"row_heading level0 row19\" >12</th>\n",
       "      <td id=\"T_76d97_row19_col0\" class=\"data row19 col0\" >epic tavern holdings</td>\n",
       "      <td id=\"T_76d97_row19_col1\" class=\"data row19 col1\" >1</td>\n",
       "    </tr>\n",
       "  </tbody>\n",
       "</table>\n"
      ],
      "text/plain": [
       "<pandas.io.formats.style.Styler at 0x7fe0bd9c0a00>"
      ]
     },
     "metadata": {},
     "output_type": "display_data"
    }
   ],
   "source": [
    "df_num_listings_by_known_pubs = (\n",
    "    df_well_pubs_url_reshaped.groupby(\"Publisher_cleaned\", as_index=False)[\"url\"]\n",
    "    .count()\n",
    "    .rename(columns={\"url\": \"num_listings\"})\n",
    "    .nlargest(20, \"num_listings\")\n",
    ")\n",
    "show_df(df_num_listings_by_known_pubs)"
   ]
  },
  {
   "cell_type": "markdown",
   "id": "a7a879f0-70cb-450f-9632-30f2eadd16e2",
   "metadata": {},
   "source": [
    "**Find the top 21 publishers overall (exclude collaborations between publishers)**"
   ]
  },
  {
   "cell_type": "code",
   "execution_count": 85,
   "id": "7bb2035e-1e39-4068-aca3-ea9053d879dc",
   "metadata": {},
   "outputs": [
    {
     "data": {
      "text/html": [
       "<style type=\"text/css\">\n",
       "</style>\n",
       "<table id=\"T_cb187_\">\n",
       "  <caption>All rows</caption>\n",
       "  <thead>\n",
       "    <tr>\n",
       "      <th class=\"blank level0\" >&nbsp;</th>\n",
       "      <th class=\"col_heading level0 col0\" >Publisher_cleaned</th>\n",
       "      <th class=\"col_heading level0 col1\" >num_listings</th>\n",
       "    </tr>\n",
       "  </thead>\n",
       "  <tbody>\n",
       "    <tr>\n",
       "      <th id=\"T_cb187_level0_row0\" class=\"row_heading level0 row0\" >4260</th>\n",
       "      <td id=\"T_cb187_row0_col0\" class=\"data row0 col0\" >Thq Nordic</td>\n",
       "      <td id=\"T_cb187_row0_col1\" class=\"data row0 col1\" >103</td>\n",
       "    </tr>\n",
       "    <tr>\n",
       "      <th id=\"T_cb187_level0_row1\" class=\"row_heading level0 row1\" >3945</th>\n",
       "      <td id=\"T_cb187_row1_col0\" class=\"data row1 col0\" >Square Enix</td>\n",
       "      <td id=\"T_cb187_row1_col1\" class=\"data row1 col1\" >79</td>\n",
       "    </tr>\n",
       "    <tr>\n",
       "      <th id=\"T_cb187_level0_row2\" class=\"row_heading level0 row2\" >3722</th>\n",
       "      <td id=\"T_cb187_row2_col0\" class=\"data row2 col0\" >Sekai Project</td>\n",
       "      <td id=\"T_cb187_row2_col1\" class=\"data row2 col1\" >76</td>\n",
       "    </tr>\n",
       "    <tr>\n",
       "      <th id=\"T_cb187_level0_row3\" class=\"row_heading level0 row3\" >1142</th>\n",
       "      <td id=\"T_cb187_row3_col0\" class=\"data row3 col0\" >Disney</td>\n",
       "      <td id=\"T_cb187_row3_col1\" class=\"data row3 col1\" >68</td>\n",
       "    </tr>\n",
       "    <tr>\n",
       "      <th id=\"T_cb187_level0_row4\" class=\"row_heading level0 row4\" >4417</th>\n",
       "      <td id=\"T_cb187_row4_col0\" class=\"data row4 col0\" >Ubisoft</td>\n",
       "      <td id=\"T_cb187_row4_col1\" class=\"data row4 col1\" >67</td>\n",
       "    </tr>\n",
       "    <tr>\n",
       "      <th id=\"T_cb187_level0_row5\" class=\"row_heading level0 row5\" >2918</th>\n",
       "      <td id=\"T_cb187_row5_col0\" class=\"data row5 col0\" >Nightdive Studios</td>\n",
       "      <td id=\"T_cb187_row5_col1\" class=\"data row5 col1\" >65</td>\n",
       "    </tr>\n",
       "    <tr>\n",
       "      <th id=\"T_cb187_level0_row6\" class=\"row_heading level0 row6\" >2224</th>\n",
       "      <td id=\"T_cb187_row6_col0\" class=\"data row6 col0\" >Kagura Games</td>\n",
       "      <td id=\"T_cb187_row6_col1\" class=\"data row6 col1\" >63</td>\n",
       "    </tr>\n",
       "    <tr>\n",
       "      <th id=\"T_cb187_level0_row7\" class=\"row_heading level0 row7\" >361</th>\n",
       "      <td id=\"T_cb187_row7_col0\" class=\"data row7 col0\" >Artifex Mundi</td>\n",
       "      <td id=\"T_cb187_row7_col1\" class=\"data row7 col1\" >62</td>\n",
       "    </tr>\n",
       "    <tr>\n",
       "      <th id=\"T_cb187_level0_row8\" class=\"row_heading level0 row8\" >1095</th>\n",
       "      <td id=\"T_cb187_row8_col0\" class=\"data row8 col0\" >Devolver Digital</td>\n",
       "      <td id=\"T_cb187_row8_col1\" class=\"data row8 col1\" >61</td>\n",
       "    </tr>\n",
       "    <tr>\n",
       "      <th id=\"T_cb187_level0_row9\" class=\"row_heading level0 row9\" >3277</th>\n",
       "      <td id=\"T_cb187_row9_col0\" class=\"data row9 col0\" >Playism</td>\n",
       "      <td id=\"T_cb187_row9_col1\" class=\"data row9 col1\" >59</td>\n",
       "    </tr>\n",
       "    <tr>\n",
       "      <th id=\"T_cb187_level0_row10\" class=\"row_heading level0 row10\" >3719</th>\n",
       "      <td id=\"T_cb187_row10_col0\" class=\"data row10 col0\" >Sega</td>\n",
       "      <td id=\"T_cb187_row10_col1\" class=\"data row10 col1\" >59</td>\n",
       "    </tr>\n",
       "    <tr>\n",
       "      <th id=\"T_cb187_level0_row11\" class=\"row_heading level0 row11\" >3835</th>\n",
       "      <td id=\"T_cb187_row11_col0\" class=\"data row11 col0\" >Slitherine Ltd.</td>\n",
       "      <td id=\"T_cb187_row11_col1\" class=\"data row11 col1\" >57</td>\n",
       "    </tr>\n",
       "    <tr>\n",
       "      <th id=\"T_cb187_level0_row12\" class=\"row_heading level0 row12\" >59</th>\n",
       "      <td id=\"T_cb187_row12_col0\" class=\"data row12 col0\" >1C Entertainment</td>\n",
       "      <td id=\"T_cb187_row12_col1\" class=\"data row12 col1\" >54</td>\n",
       "    </tr>\n",
       "    <tr>\n",
       "      <th id=\"T_cb187_level0_row13\" class=\"row_heading level0 row13\" >1290</th>\n",
       "      <td id=\"T_cb187_row13_col0\" class=\"data row13 col0\" >Electronic Arts</td>\n",
       "      <td id=\"T_cb187_row13_col1\" class=\"data row13 col1\" >53</td>\n",
       "    </tr>\n",
       "    <tr>\n",
       "      <th id=\"T_cb187_level0_row14\" class=\"row_heading level0 row14\" >984</th>\n",
       "      <td id=\"T_cb187_row14_col0\" class=\"data row14 col0\" >Daedalic Entertainment</td>\n",
       "      <td id=\"T_cb187_row14_col1\" class=\"data row14 col1\" >49</td>\n",
       "    </tr>\n",
       "    <tr>\n",
       "      <th id=\"T_cb187_level0_row15\" class=\"row_heading level0 row15\" >448</th>\n",
       "      <td id=\"T_cb187_row15_col0\" class=\"data row15 col0\" >Bandai Namco Entertainment</td>\n",
       "      <td id=\"T_cb187_row15_col1\" class=\"data row15 col1\" >44</td>\n",
       "    </tr>\n",
       "    <tr>\n",
       "      <th id=\"T_cb187_level0_row16\" class=\"row_heading level0 row16\" >776</th>\n",
       "      <td id=\"T_cb187_row16_col0\" class=\"data row16 col0\" >Choice Of Games</td>\n",
       "      <td id=\"T_cb187_row16_col1\" class=\"data row16 col1\" >44</td>\n",
       "    </tr>\n",
       "    <tr>\n",
       "      <th id=\"T_cb187_level0_row17\" class=\"row_heading level0 row17\" >2569</th>\n",
       "      <td id=\"T_cb187_row17_col0\" class=\"data row17 col0\" >Mangagamer</td>\n",
       "      <td id=\"T_cb187_row17_col1\" class=\"data row17 col1\" >43</td>\n",
       "    </tr>\n",
       "    <tr>\n",
       "      <th id=\"T_cb187_level0_row18\" class=\"row_heading level0 row18\" >514</th>\n",
       "      <td id=\"T_cb187_row18_col0\" class=\"data row18 col0\" >Big Fish Games</td>\n",
       "      <td id=\"T_cb187_row18_col1\" class=\"data row18 col1\" >42</td>\n",
       "    </tr>\n",
       "    <tr>\n",
       "      <th id=\"T_cb187_level0_row19\" class=\"row_heading level0 row19\" >1521</th>\n",
       "      <td id=\"T_cb187_row19_col0\" class=\"data row19 col0\" >Focus Home Interactive</td>\n",
       "      <td id=\"T_cb187_row19_col1\" class=\"data row19 col1\" >39</td>\n",
       "    </tr>\n",
       "    <tr>\n",
       "      <th id=\"T_cb187_level0_row20\" class=\"row_heading level0 row20\" >73</th>\n",
       "      <td id=\"T_cb187_row20_col0\" class=\"data row20 col0\" >2K</td>\n",
       "      <td id=\"T_cb187_row20_col1\" class=\"data row20 col1\" >38</td>\n",
       "    </tr>\n",
       "  </tbody>\n",
       "</table>\n"
      ],
      "text/plain": [
       "<pandas.io.formats.style.Styler at 0x7fe0bcbe9190>"
      ]
     },
     "metadata": {},
     "output_type": "display_data"
    }
   ],
   "source": [
    "df_num_listings_by_all_pubs = (\n",
    "    pubs_url_reshaped.groupby(\"Publisher_cleaned\", as_index=False)[\"url\"]\n",
    "    .count()\n",
    "    .rename(columns={\"url\": \"num_listings\"})\n",
    ")\n",
    "df_num_listings_by_all_pubs[\"Publisher_cleaned\"] = df_num_listings_by_all_pubs[\n",
    "    \"Publisher_cleaned\"\n",
    "].str.title()\n",
    "show_df(df_num_listings_by_all_pubs.nlargest(21, \"num_listings\"))"
   ]
  },
  {
   "cell_type": "markdown",
   "id": "4cf8eaa6-ca2d-47f4-b8d6-ad8eb74cad4e",
   "metadata": {},
   "source": [
    "Plot the number of listings by the top 21 publishers"
   ]
  },
  {
   "cell_type": "code",
   "execution_count": 86,
   "id": "a5a1a913-f75f-4cb3-84ca-4f635a77982b",
   "metadata": {},
   "outputs": [
    {
     "data": {
      "image/png": "[encoded data removed]",
      "text/plain": [
       "<Figure size 864x864 with 1 Axes>"
      ]
     },
     "metadata": {},
     "output_type": "display_data"
    }
   ],
   "source": [
    "with sns.axes_style(\"ticks\"):\n",
    "    ax = sns.barplot(\n",
    "        y=\"Publisher_cleaned\",\n",
    "        x=\"num_listings\",\n",
    "        data=df_num_listings_by_all_pubs.nlargest(20, \"num_listings\"),\n",
    "        color=\"steelblue\",\n",
    "        saturation=0.5,\n",
    "    )\n",
    "    ax.set_title(\n",
    "        \"Small number of listings released by top publishers\",\n",
    "        loc=\"left\",\n",
    "        fontweight=\"bold\",\n",
    "    )\n",
    "    ax.set_xlabel(None)\n",
    "    ax.set_ylabel(None)\n",
    "    sns.despine()\n",
    "    fig = plt.gcf()\n",
    "    fig.set_figheight(12)\n",
    "    fig.set_figwidth(12)\n",
    "    # fig.savefig(\n",
    "    #     os.path.join(reports_data_dir, \"11_top_publishers_by_num_listings.png\"),\n",
    "    #     bbox_inches=\"tight\",\n",
    "    #     dpi=300,\n",
    "    # )"
   ]
  },
  {
   "cell_type": "markdown",
   "id": "b10340a4-1451-4d09-b11a-eaba4639d89f",
   "metadata": {},
   "source": [
    "<a id=\"user-rating\"></a>\n",
    "\n",
    "### 4.12. [User Rating](#user-rating)"
   ]
  },
  {
   "cell_type": "markdown",
   "id": "e07b83cb-0cfd-4af9-b5f6-1d2ed3ed89f2",
   "metadata": {},
   "source": [
    "**Find the top 10 publishers with the most number of Very Positive user-ratings**"
   ]
  },
  {
   "cell_type": "markdown",
   "id": "1a4fd4e4-2ab4-48ec-98e9-fe601da9c5f3",
   "metadata": {},
   "source": [
    "Merge the reshaped publishers `DataFrame` with the original data"
   ]
  },
  {
   "cell_type": "code",
   "execution_count": 87,
   "id": "8d2f88cd-1410-4c39-9324-27b7a6418f15",
   "metadata": {},
   "outputs": [
    {
     "data": {
      "text/html": [
       "<div>\n",
       "<style scoped>\n",
       "    .dataframe tbody tr th:only-of-type {\n",
       "        vertical-align: middle;\n",
       "    }\n",
       "\n",
       "    .dataframe tbody tr th {\n",
       "        vertical-align: top;\n",
       "    }\n",
       "\n",
       "    .dataframe thead th {\n",
       "        text-align: right;\n",
       "    }\n",
       "</style>\n",
       "<table border=\"1\" class=\"dataframe\">\n",
       "  <thead>\n",
       "    <tr style=\"text-align: right;\">\n",
       "      <th></th>\n",
       "      <th>url</th>\n",
       "      <th>Publisher_cleaned</th>\n",
       "      <th>overall_review_rating</th>\n",
       "    </tr>\n",
       "  </thead>\n",
       "  <tbody>\n",
       "    <tr>\n",
       "      <th>4752</th>\n",
       "      <td>https://store.steampowered.com/app/508980/Cras...</td>\n",
       "      <td>2tainment gmbh</td>\n",
       "      <td>Very Positive</td>\n",
       "    </tr>\n",
       "    <tr>\n",
       "      <th>5108</th>\n",
       "      <td>https://store.steampowered.com/app/252150/Grimm/</td>\n",
       "      <td>spicyhorse games</td>\n",
       "      <td>Very Positive</td>\n",
       "    </tr>\n",
       "    <tr>\n",
       "      <th>8638</th>\n",
       "      <td>https://store.steampowered.com/app/1000470/Dra...</td>\n",
       "      <td>darkdes labs</td>\n",
       "      <td>Very Positive</td>\n",
       "    </tr>\n",
       "    <tr>\n",
       "      <th>7707</th>\n",
       "      <td>https://store.steampowered.com/app/298560/Capt...</td>\n",
       "      <td>pixelsaurus games</td>\n",
       "      <td>Mostly Positive</td>\n",
       "    </tr>\n",
       "    <tr>\n",
       "      <th>10658</th>\n",
       "      <td>https://store.steampowered.com/app/795760/UPPERS/</td>\n",
       "      <td>marvelous usa inc.</td>\n",
       "      <td>Very Positive</td>\n",
       "    </tr>\n",
       "    <tr>\n",
       "      <th>10321</th>\n",
       "      <td>https://store.steampowered.com/app/680030/Gone...</td>\n",
       "      <td>surefire.games</td>\n",
       "      <td>Positive</td>\n",
       "    </tr>\n",
       "    <tr>\n",
       "      <th>9917</th>\n",
       "      <td>https://store.steampowered.com/app/1026380/Ove...</td>\n",
       "      <td>battlesquatch</td>\n",
       "      <td>Mostly Positive</td>\n",
       "    </tr>\n",
       "    <tr>\n",
       "      <th>5598</th>\n",
       "      <td>https://store.steampowered.com/app/585180/Open...</td>\n",
       "      <td>open sorcery games</td>\n",
       "      <td>Very Positive</td>\n",
       "    </tr>\n",
       "    <tr>\n",
       "      <th>7629</th>\n",
       "      <td>https://store.steampowered.com/app/58570/The_N...</td>\n",
       "      <td>focus home interactive</td>\n",
       "      <td>Very Positive</td>\n",
       "    </tr>\n",
       "    <tr>\n",
       "      <th>9361</th>\n",
       "      <td>https://store.steampowered.com/app/1011830/Roc...</td>\n",
       "      <td>openlab games</td>\n",
       "      <td>Very Positive</td>\n",
       "    </tr>\n",
       "  </tbody>\n",
       "</table>\n",
       "</div>"
      ],
      "text/plain": [
       "                                                     url  \\\n",
       "4752   https://store.steampowered.com/app/508980/Cras...   \n",
       "5108    https://store.steampowered.com/app/252150/Grimm/   \n",
       "8638   https://store.steampowered.com/app/1000470/Dra...   \n",
       "7707   https://store.steampowered.com/app/298560/Capt...   \n",
       "10658  https://store.steampowered.com/app/795760/UPPERS/   \n",
       "10321  https://store.steampowered.com/app/680030/Gone...   \n",
       "9917   https://store.steampowered.com/app/1026380/Ove...   \n",
       "5598   https://store.steampowered.com/app/585180/Open...   \n",
       "7629   https://store.steampowered.com/app/58570/The_N...   \n",
       "9361   https://store.steampowered.com/app/1011830/Roc...   \n",
       "\n",
       "            Publisher_cleaned overall_review_rating  \n",
       "4752           2tainment gmbh         Very Positive  \n",
       "5108         spicyhorse games         Very Positive  \n",
       "8638             darkdes labs         Very Positive  \n",
       "7707        pixelsaurus games       Mostly Positive  \n",
       "10658      marvelous usa inc.         Very Positive  \n",
       "10321          surefire.games              Positive  \n",
       "9917            battlesquatch       Mostly Positive  \n",
       "5598       open sorcery games         Very Positive  \n",
       "7629   focus home interactive         Very Positive  \n",
       "9361            openlab games         Very Positive  "
      ]
     },
     "metadata": {},
     "output_type": "display_data"
    }
   ],
   "source": [
    "pubs_url_reshaped_rating = pubs_url_reshaped.merge(\n",
    "    df[[\"url\", \"overall_review_rating\"]], on=\"url\", how=\"left\"\n",
    ")\n",
    "display(pubs_url_reshaped_rating.sample(10))"
   ]
  },
  {
   "cell_type": "markdown",
   "id": "e895d05e-b89e-4368-9eab-6250b4543add",
   "metadata": {},
   "source": [
    "Get the top 10 publishers as required"
   ]
  },
  {
   "cell_type": "code",
   "execution_count": 88,
   "id": "30fae517-974d-44ea-9b06-2be96375eca9",
   "metadata": {},
   "outputs": [
    {
     "data": {
      "text/html": [
       "<div>\n",
       "<style scoped>\n",
       "    .dataframe tbody tr th:only-of-type {\n",
       "        vertical-align: middle;\n",
       "    }\n",
       "\n",
       "    .dataframe tbody tr th {\n",
       "        vertical-align: top;\n",
       "    }\n",
       "\n",
       "    .dataframe thead th {\n",
       "        text-align: right;\n",
       "    }\n",
       "</style>\n",
       "<table border=\"1\" class=\"dataframe\">\n",
       "  <thead>\n",
       "    <tr style=\"text-align: right;\">\n",
       "      <th></th>\n",
       "      <th>overall_review_rating</th>\n",
       "      <th>url</th>\n",
       "      <th>positive</th>\n",
       "    </tr>\n",
       "  </thead>\n",
       "  <tbody>\n",
       "    <tr>\n",
       "      <th>10</th>\n",
       "      <td>Very Positive</td>\n",
       "      <td>5551</td>\n",
       "      <td>True</td>\n",
       "    </tr>\n",
       "    <tr>\n",
       "      <th>5</th>\n",
       "      <td>Mostly Positive</td>\n",
       "      <td>1622</td>\n",
       "      <td>True</td>\n",
       "    </tr>\n",
       "    <tr>\n",
       "      <th>8</th>\n",
       "      <td>Positive</td>\n",
       "      <td>1388</td>\n",
       "      <td>True</td>\n",
       "    </tr>\n",
       "    <tr>\n",
       "      <th>7</th>\n",
       "      <td>Overwhelmingly Positive</td>\n",
       "      <td>146</td>\n",
       "      <td>True</td>\n",
       "    </tr>\n",
       "    <tr>\n",
       "      <th>4</th>\n",
       "      <td>Mostly Negative</td>\n",
       "      <td>23</td>\n",
       "      <td>False</td>\n",
       "    </tr>\n",
       "    <tr>\n",
       "      <th>9</th>\n",
       "      <td>Very Negative</td>\n",
       "      <td>3</td>\n",
       "      <td>False</td>\n",
       "    </tr>\n",
       "    <tr>\n",
       "      <th>6</th>\n",
       "      <td>Overwhelmingly Negative</td>\n",
       "      <td>1</td>\n",
       "      <td>False</td>\n",
       "    </tr>\n",
       "  </tbody>\n",
       "</table>\n",
       "</div>"
      ],
      "text/plain": [
       "      overall_review_rating   url  positive\n",
       "10            Very Positive  5551      True\n",
       "5           Mostly Positive  1622      True\n",
       "8                  Positive  1388      True\n",
       "7   Overwhelmingly Positive   146      True\n",
       "4           Mostly Negative    23     False\n",
       "9             Very Negative     3     False\n",
       "6   Overwhelmingly Negative     1     False"
      ]
     },
     "metadata": {},
     "output_type": "display_data"
    }
   ],
   "source": [
    "df_user_ratings = (\n",
    "    df.groupby(\"overall_review_rating\", as_index=False)[\"url\"]\n",
    "    .count()\n",
    "    .sort_values(by=\"url\", ascending=False)\n",
    ")\n",
    "df_user_ratings = df_user_ratings[\n",
    "    df_user_ratings[\"overall_review_rating\"].str.contains(\"Positive|Negative\")\n",
    "]\n",
    "df_user_ratings[\"positive\"] = df_user_ratings[\"overall_review_rating\"].str.contains(\n",
    "    \"Positive\"\n",
    ")\n",
    "display(df_user_ratings)"
   ]
  },
  {
   "cell_type": "markdown",
   "id": "a600c0d6-9899-4680-9f8b-d24c5d99f805",
   "metadata": {},
   "source": [
    "**Notes**\n",
    "1. The user-ratings distribution is skewed. There are almost no negative ratings for the scraped listings. This might not a good question to ask. There might be other issues related to the user rating on Steam if they are almost all very positive."
   ]
  },
  {
   "cell_type": "markdown",
   "id": "100abbdd-715b-40d1-85f5-e9f27941bb76",
   "metadata": {},
   "source": [
    "Get the total number of ratings that are positive and those that are not positive"
   ]
  },
  {
   "cell_type": "code",
   "execution_count": 89,
   "id": "84262bab-a0a4-494b-ba3b-b787dd7ee733",
   "metadata": {},
   "outputs": [
    {
     "data": {
      "text/html": [
       "<div>\n",
       "<style scoped>\n",
       "    .dataframe tbody tr th:only-of-type {\n",
       "        vertical-align: middle;\n",
       "    }\n",
       "\n",
       "    .dataframe tbody tr th {\n",
       "        vertical-align: top;\n",
       "    }\n",
       "\n",
       "    .dataframe thead th {\n",
       "        text-align: right;\n",
       "    }\n",
       "</style>\n",
       "<table border=\"1\" class=\"dataframe\">\n",
       "  <thead>\n",
       "    <tr style=\"text-align: right;\">\n",
       "      <th></th>\n",
       "      <th>positive</th>\n",
       "      <th>url</th>\n",
       "    </tr>\n",
       "  </thead>\n",
       "  <tbody>\n",
       "    <tr>\n",
       "      <th>0</th>\n",
       "      <td>No</td>\n",
       "      <td>27</td>\n",
       "    </tr>\n",
       "    <tr>\n",
       "      <th>1</th>\n",
       "      <td>Yes</td>\n",
       "      <td>8707</td>\n",
       "    </tr>\n",
       "  </tbody>\n",
       "</table>\n",
       "</div>"
      ],
      "text/plain": [
       "  positive   url\n",
       "0       No    27\n",
       "1      Yes  8707"
      ]
     },
     "metadata": {},
     "output_type": "display_data"
    }
   ],
   "source": [
    "df_user_ratings_grouped = df_user_ratings.groupby(\"positive\", as_index=False)[\n",
    "    \"url\"\n",
    "].sum()\n",
    "df_user_ratings_grouped[\"positive\"] = (\n",
    "    df_user_ratings_grouped[\"positive\"].replace(True, \"Yes\").replace(False, \"No\")\n",
    ")\n",
    "display(df_user_ratings_grouped)"
   ]
  },
  {
   "cell_type": "markdown",
   "id": "c69464ad-790f-43eb-90b4-5b14630a681e",
   "metadata": {},
   "source": [
    "Plot a chart of the total number of positive and non-positive ratings"
   ]
  },
  {
   "cell_type": "code",
   "execution_count": 90,
   "id": "a4c1af07-7577-4118-bb98-84547e651b88",
   "metadata": {},
   "outputs": [
    {
     "data": {
      "image/png": "[encoded data removed]",
      "text/plain": [
       "<Figure size 720x720 with 1 Axes>"
      ]
     },
     "metadata": {},
     "output_type": "display_data"
    }
   ],
   "source": [
    "with sns.axes_style(\"ticks\"):\n",
    "    ax = sns.barplot(\n",
    "        y=\"url\",\n",
    "        x=\"positive\",\n",
    "        data=df_user_ratings_grouped.groupby(\"positive\", as_index=False)[\"url\"].sum(),\n",
    "        color=\"steelblue\",\n",
    "        saturation=0.5,\n",
    "    )\n",
    "    ax.set_title(\n",
    "        \"Strong bias towards positive user-ratings Steam web store\",\n",
    "        loc=\"left\",\n",
    "        fontweight=\"bold\",\n",
    "    )\n",
    "    ax.set_xlabel(None)\n",
    "    ax.set_ylabel(None)\n",
    "    sns.despine()\n",
    "    fig = plt.gcf()\n",
    "    fig.set_figheight(10)\n",
    "    fig.set_figwidth(10)\n",
    "    # fig.savefig(\n",
    "    #     os.path.join(reports_data_dir, \"12_user_review_score.png\"),\n",
    "    #     bbox_inches=\"tight\",\n",
    "    #     dpi=300,\n",
    "    # )"
   ]
  },
  {
   "cell_type": "markdown",
   "id": "ce0144e3-8579-4a02-bdde-1cd53b92f604",
   "metadata": {
    "tags": []
   },
   "source": [
    "<a id=\"listing-prices\"></a>\n",
    "\n",
    "### 4.13. [Listing Prices](#listing-prices)"
   ]
  },
  {
   "cell_type": "markdown",
   "id": "f67fea83-0dbe-43a2-b3ca-69343833fea9",
   "metadata": {},
   "source": [
    "**Plot the distribution of (a) original listing price, (b) discount percentage and (c) discounted price**"
   ]
  },
  {
   "cell_type": "markdown",
   "id": "99a8640f-29a1-4129-8aef-10d86c5ce325",
   "metadata": {},
   "source": [
    "Histogram of original listing price"
   ]
  },
  {
   "cell_type": "code",
   "execution_count": 91,
   "id": "588cfbc8-b7cf-4c47-a576-7bfbf2f9db96",
   "metadata": {},
   "outputs": [
    {
     "data": {
      "image/png": "[encoded data removed]",
      "text/plain": [
       "<Figure size 576x576 with 1 Axes>"
      ]
     },
     "metadata": {},
     "output_type": "display_data"
    }
   ],
   "source": [
    "with sns.axes_style(\"ticks\"):\n",
    "    ax = sns.histplot(\n",
    "        data=df[[\"original_price_cleaned\"]],\n",
    "        x=\"original_price_cleaned\",\n",
    "        log_scale=(False, True),\n",
    "        color=\"steelblue\",\n",
    "    )\n",
    "    ax.set_title(\n",
    "        \"Sub-$25 listings dominate Steam web store\",\n",
    "        loc=\"left\",\n",
    "        fontweight=\"bold\",\n",
    "    )\n",
    "    ax.set_xlabel(None)\n",
    "    ax.set_ylabel(None)\n",
    "    ax.grid(color=\"lightgrey\")\n",
    "    sns.despine()\n",
    "    fig = plt.gcf()\n",
    "    fig.set_figheight(8)\n",
    "    fig.set_figwidth(8)\n",
    "    # fig.savefig(\n",
    "    #     os.path.join(reports_data_dir, \"13_num_listings_below_25_dollars.png\"),\n",
    "    #     bbox_inches=\"tight\",\n",
    "    #     dpi=300,\n",
    "    # )"
   ]
  },
  {
   "cell_type": "markdown",
   "id": "1bea6144-7b24-4465-95a7-5a5cdaaf6f79",
   "metadata": {},
   "source": [
    "Histogram of listing discounts (as a percentage)"
   ]
  },
  {
   "cell_type": "code",
   "execution_count": 92,
   "id": "e0c90dc3-a27f-4d4a-8f57-ad0bdf54aa44",
   "metadata": {},
   "outputs": [
    {
     "data": {
      "image/png": "[encoded data removed]",
      "text/plain": [
       "<Figure size 576x576 with 1 Axes>"
      ]
     },
     "metadata": {},
     "output_type": "display_data"
    }
   ],
   "source": [
    "with sns.axes_style(\"ticks\"):\n",
    "    ax = sns.histplot(\n",
    "        data=df[[\"discount_pct_cleaned\"]],\n",
    "        x=\"discount_pct_cleaned\",\n",
    "        log_scale=(False, True),\n",
    "        color=\"steelblue\",\n",
    "    )\n",
    "    ax.set_title(\n",
    "        \"Distribution of available discounts\",\n",
    "        loc=\"left\",\n",
    "        fontweight=\"bold\",\n",
    "    )\n",
    "    ax.set_xlabel(None)\n",
    "    ax.set_ylabel(None)\n",
    "    sns.despine()\n",
    "    fig = plt.gcf()\n",
    "    fig.set_figheight(8)\n",
    "    fig.set_figwidth(8)\n",
    "    # fig.savefig(\n",
    "    #     os.path.join(reports_data_dir, \"14_distribution_of_discount_pct.png\"),\n",
    "    #     bbox_inches=\"tight\",\n",
    "    #     dpi=300,\n",
    "    # )"
   ]
  },
  {
   "cell_type": "markdown",
   "id": "601e3a5f-1097-42f8-9c33-39cee8bf65e5",
   "metadata": {},
   "source": [
    "Histogram of discounted listing price"
   ]
  },
  {
   "cell_type": "code",
   "execution_count": 93,
   "id": "cd6a9f0b-8ef7-4ea6-a27b-e94bda363f97",
   "metadata": {},
   "outputs": [
    {
     "data": {
      "image/png": "[encoded data removed]",
      "text/plain": [
       "<Figure size 576x576 with 1 Axes>"
      ]
     },
     "metadata": {},
     "output_type": "display_data"
    }
   ],
   "source": [
    "with sns.axes_style(\"ticks\"):\n",
    "    ax = sns.histplot(\n",
    "        data=df[[\"discount_price\"]],\n",
    "        x=\"discount_price\",\n",
    "        log_scale=(False, True),\n",
    "        color=\"steelblue\",\n",
    "    )\n",
    "    ax.set_title(\"Distribution of discounted prices\", loc=\"left\", fontweight=\"bold\")\n",
    "    ax.set_xlabel(None)\n",
    "    ax.set_ylabel(None)\n",
    "    ax.grid(color=\"lightgrey\")\n",
    "    sns.despine()\n",
    "    fig = plt.gcf()\n",
    "    fig.set_figheight(8)\n",
    "    fig.set_figwidth(8)\n",
    "    # fig.savefig(\n",
    "    #     os.path.join(reports_data_dir, \"15_distribution_of_discount_price.png\"),\n",
    "    #     bbox_inches=\"tight\",\n",
    "    #     dpi=300,\n",
    "    # )"
   ]
  },
  {
   "cell_type": "markdown",
   "id": "8e240a75-5a8a-4789-904d-1a3ec67b89ab",
   "metadata": {
    "tags": []
   },
   "source": [
    "<a id=\"listing-prices-over-time\"></a>\n",
    "\n",
    "### 4.14. [Listing Prices over time](#listing-prices-over-time)"
   ]
  },
  {
   "cell_type": "markdown",
   "id": "ee2f1a0b-f1e6-4b69-a06a-e60bf3ef49be",
   "metadata": {},
   "source": [
    "**Show a heatmap of the median listing price by year and month since 2003. Do not include months of the year beyond the current month.**"
   ]
  },
  {
   "cell_type": "markdown",
   "id": "257d4fbb-b9bf-4064-8648-d005debcd716",
   "metadata": {},
   "source": [
    "Append columns to the cleaned data to get the year and month (by name)"
   ]
  },
  {
   "cell_type": "code",
   "execution_count": 94,
   "id": "8de62379-f71a-438c-a7bb-dfd3c1da31c9",
   "metadata": {},
   "outputs": [],
   "source": [
    "df[\"release_year\"] = df[\"release_date_cleaned\"].dt.year\n",
    "df[\"release_month\"] = df[\"release_date_cleaned\"].dt.month_name()"
   ]
  },
  {
   "cell_type": "markdown",
   "id": "233e4ddc-187f-43a4-8ef4-d5e9a1776202",
   "metadata": {},
   "source": [
    "Get\n",
    "- current year\n",
    "- all months of the current year excluding future months"
   ]
  },
  {
   "cell_type": "code",
   "execution_count": 95,
   "id": "7d4dbeb8-5148-4e71-a843-e0d8ff45d85d",
   "metadata": {},
   "outputs": [
    {
     "name": "stdout",
     "output_type": "stream",
     "text": [
      "2021 ['January', 'February', 'March', 'April', 'May', 'June', 'July', 'August', 'September']\n"
     ]
    }
   ],
   "source": [
    "curr_year = datetime.now().year\n",
    "curr_month = datetime.now().month - 1\n",
    "months_upto_curr_month = months[:(curr_month)]\n",
    "print(curr_year, months_upto_curr_month)"
   ]
  },
  {
   "cell_type": "markdown",
   "id": "5554ef9b-b6c5-43e4-96dc-db1f269b00fe",
   "metadata": {},
   "source": [
    "Count the number of listings by year and month\n",
    "- filter to only keep listings for the years from 2003 onwards upto the current year"
   ]
  },
  {
   "cell_type": "code",
   "execution_count": 96,
   "id": "fba5a7d2-4c04-4bd9-ab33-68c2fe0c4819",
   "metadata": {
    "tags": []
   },
   "outputs": [
    {
     "data": {
      "text/html": [
       "<style type=\"text/css\">\n",
       "</style>\n",
       "<table id=\"T_82688_\">\n",
       "  <caption>First & Last 5 rows</caption>\n",
       "  <thead>\n",
       "    <tr>\n",
       "      <th class=\"blank level0\" >&nbsp;</th>\n",
       "      <th class=\"col_heading level0 col0\" >release_year</th>\n",
       "      <th class=\"col_heading level0 col1\" >release_month</th>\n",
       "      <th class=\"col_heading level0 col2\" >original_price_cleaned</th>\n",
       "    </tr>\n",
       "  </thead>\n",
       "  <tbody>\n",
       "    <tr>\n",
       "      <th id=\"T_82688_level0_row0\" class=\"row_heading level0 row0\" >0</th>\n",
       "      <td id=\"T_82688_row0_col0\" class=\"data row0 col0\" >2003</td>\n",
       "      <td id=\"T_82688_row0_col1\" class=\"data row0 col1\" >April</td>\n",
       "      <td id=\"T_82688_row0_col2\" class=\"data row0 col2\" >9.990000</td>\n",
       "    </tr>\n",
       "    <tr>\n",
       "      <th id=\"T_82688_level0_row1\" class=\"row_heading level0 row1\" >1</th>\n",
       "      <td id=\"T_82688_row1_col0\" class=\"data row1 col0\" >2003</td>\n",
       "      <td id=\"T_82688_row1_col1\" class=\"data row1 col1\" >August</td>\n",
       "      <td id=\"T_82688_row1_col2\" class=\"data row1 col2\" >6.990000</td>\n",
       "    </tr>\n",
       "    <tr>\n",
       "      <th id=\"T_82688_level0_row2\" class=\"row_heading level0 row2\" >2</th>\n",
       "      <td id=\"T_82688_row2_col0\" class=\"data row2 col0\" >2003</td>\n",
       "      <td id=\"T_82688_row2_col1\" class=\"data row2 col1\" >December</td>\n",
       "      <td id=\"T_82688_row2_col2\" class=\"data row2 col2\" >6.490000</td>\n",
       "    </tr>\n",
       "    <tr>\n",
       "      <th id=\"T_82688_level0_row3\" class=\"row_heading level0 row3\" >3</th>\n",
       "      <td id=\"T_82688_row3_col0\" class=\"data row3 col0\" >2003</td>\n",
       "      <td id=\"T_82688_row3_col1\" class=\"data row3 col1\" >February</td>\n",
       "      <td id=\"T_82688_row3_col2\" class=\"data row3 col2\" >7.990000</td>\n",
       "    </tr>\n",
       "    <tr>\n",
       "      <th id=\"T_82688_level0_row4\" class=\"row_heading level0 row4\" >4</th>\n",
       "      <td id=\"T_82688_row4_col0\" class=\"data row4 col0\" >2003</td>\n",
       "      <td id=\"T_82688_row4_col1\" class=\"data row4 col1\" >January</td>\n",
       "      <td id=\"T_82688_row4_col2\" class=\"data row4 col2\" >9.990000</td>\n",
       "    </tr>\n",
       "    <tr>\n",
       "      <th id=\"T_82688_level0_row5\" class=\"row_heading level0 row5\" >220</th>\n",
       "      <td id=\"T_82688_row5_col0\" class=\"data row5 col0\" >2021</td>\n",
       "      <td id=\"T_82688_row5_col1\" class=\"data row5 col1\" >March</td>\n",
       "      <td id=\"T_82688_row5_col2\" class=\"data row5 col2\" >12.990000</td>\n",
       "    </tr>\n",
       "    <tr>\n",
       "      <th id=\"T_82688_level0_row6\" class=\"row_heading level0 row6\" >221</th>\n",
       "      <td id=\"T_82688_row6_col0\" class=\"data row6 col0\" >2021</td>\n",
       "      <td id=\"T_82688_row6_col1\" class=\"data row6 col1\" >May</td>\n",
       "      <td id=\"T_82688_row6_col2\" class=\"data row6 col2\" >11.990000</td>\n",
       "    </tr>\n",
       "    <tr>\n",
       "      <th id=\"T_82688_level0_row7\" class=\"row_heading level0 row7\" >222</th>\n",
       "      <td id=\"T_82688_row7_col0\" class=\"data row7 col0\" >2021</td>\n",
       "      <td id=\"T_82688_row7_col1\" class=\"data row7 col1\" >November</td>\n",
       "      <td id=\"T_82688_row7_col2\" class=\"data row7 col2\" >52.490000</td>\n",
       "    </tr>\n",
       "    <tr>\n",
       "      <th id=\"T_82688_level0_row8\" class=\"row_heading level0 row8\" >223</th>\n",
       "      <td id=\"T_82688_row8_col0\" class=\"data row8 col0\" >2021</td>\n",
       "      <td id=\"T_82688_row8_col1\" class=\"data row8 col1\" >October</td>\n",
       "      <td id=\"T_82688_row8_col2\" class=\"data row8 col2\" >7.990000</td>\n",
       "    </tr>\n",
       "    <tr>\n",
       "      <th id=\"T_82688_level0_row9\" class=\"row_heading level0 row9\" >224</th>\n",
       "      <td id=\"T_82688_row9_col0\" class=\"data row9 col0\" >2021</td>\n",
       "      <td id=\"T_82688_row9_col1\" class=\"data row9 col1\" >September</td>\n",
       "      <td id=\"T_82688_row9_col2\" class=\"data row9 col2\" >9.990000</td>\n",
       "    </tr>\n",
       "  </tbody>\n",
       "</table>\n"
      ],
      "text/plain": [
       "<pandas.io.formats.style.Styler at 0x7fe0bdaa27c0>"
      ]
     },
     "metadata": {},
     "output_type": "display_data"
    }
   ],
   "source": [
    "df_dt_agg = (\n",
    "    df.dropna(subset=[\"release_year\", \"release_month\"])\n",
    "    .astype({\"release_year\": int})\n",
    "    .query(\"release_year >= 2003 \" \"and release_year <= @curr_year\")\n",
    "    .groupby([\"release_year\", \"release_month\"], as_index=False)[\n",
    "        \"original_price_cleaned\"\n",
    "    ]\n",
    "    .median()\n",
    ")\n",
    "show_df(df_dt_agg, 5)"
   ]
  },
  {
   "cell_type": "markdown",
   "id": "56618323-a357-428e-96e7-0fefb7919a6d",
   "metadata": {},
   "source": [
    "Set all future months of the current year to `None`"
   ]
  },
  {
   "cell_type": "code",
   "execution_count": 97,
   "id": "48ecf0fb-7d5e-44f6-83bb-9e2f72238932",
   "metadata": {},
   "outputs": [],
   "source": [
    "df_dt_agg.loc[\n",
    "    df_dt_agg.query(\n",
    "        \"release_year == @curr_year and release_month not in @months_upto_curr_month\"\n",
    "    ).index,\n",
    "    \"original_price_cleaned\",\n",
    "] = np.nan"
   ]
  },
  {
   "cell_type": "markdown",
   "id": "83688a4b-9ade-4c7e-af83-a2fd6e59480f",
   "metadata": {},
   "source": [
    "Pivot the aggregated data"
   ]
  },
  {
   "cell_type": "code",
   "execution_count": 98,
   "id": "30b55cbd-076f-4fed-82b4-52c43aba7e53",
   "metadata": {
    "tags": []
   },
   "outputs": [
    {
     "data": {
      "text/html": [
       "<style type=\"text/css\">\n",
       "</style>\n",
       "<table id=\"T_afaa6_\">\n",
       "  <caption>All rows</caption>\n",
       "  <thead>\n",
       "    <tr>\n",
       "      <th class=\"index_name level0\" >release_year</th>\n",
       "      <th class=\"col_heading level0 col0\" >2003</th>\n",
       "      <th class=\"col_heading level0 col1\" >2004</th>\n",
       "      <th class=\"col_heading level0 col2\" >2005</th>\n",
       "      <th class=\"col_heading level0 col3\" >2006</th>\n",
       "      <th class=\"col_heading level0 col4\" >2007</th>\n",
       "      <th class=\"col_heading level0 col5\" >2008</th>\n",
       "      <th class=\"col_heading level0 col6\" >2009</th>\n",
       "      <th class=\"col_heading level0 col7\" >2010</th>\n",
       "      <th class=\"col_heading level0 col8\" >2011</th>\n",
       "      <th class=\"col_heading level0 col9\" >2012</th>\n",
       "      <th class=\"col_heading level0 col10\" >2013</th>\n",
       "      <th class=\"col_heading level0 col11\" >2014</th>\n",
       "      <th class=\"col_heading level0 col12\" >2015</th>\n",
       "      <th class=\"col_heading level0 col13\" >2016</th>\n",
       "      <th class=\"col_heading level0 col14\" >2017</th>\n",
       "      <th class=\"col_heading level0 col15\" >2018</th>\n",
       "      <th class=\"col_heading level0 col16\" >2019</th>\n",
       "      <th class=\"col_heading level0 col17\" >2020</th>\n",
       "      <th class=\"col_heading level0 col18\" >2021</th>\n",
       "    </tr>\n",
       "    <tr>\n",
       "      <th class=\"index_name level0\" >release_month</th>\n",
       "      <th class=\"blank col0\" >&nbsp;</th>\n",
       "      <th class=\"blank col1\" >&nbsp;</th>\n",
       "      <th class=\"blank col2\" >&nbsp;</th>\n",
       "      <th class=\"blank col3\" >&nbsp;</th>\n",
       "      <th class=\"blank col4\" >&nbsp;</th>\n",
       "      <th class=\"blank col5\" >&nbsp;</th>\n",
       "      <th class=\"blank col6\" >&nbsp;</th>\n",
       "      <th class=\"blank col7\" >&nbsp;</th>\n",
       "      <th class=\"blank col8\" >&nbsp;</th>\n",
       "      <th class=\"blank col9\" >&nbsp;</th>\n",
       "      <th class=\"blank col10\" >&nbsp;</th>\n",
       "      <th class=\"blank col11\" >&nbsp;</th>\n",
       "      <th class=\"blank col12\" >&nbsp;</th>\n",
       "      <th class=\"blank col13\" >&nbsp;</th>\n",
       "      <th class=\"blank col14\" >&nbsp;</th>\n",
       "      <th class=\"blank col15\" >&nbsp;</th>\n",
       "      <th class=\"blank col16\" >&nbsp;</th>\n",
       "      <th class=\"blank col17\" >&nbsp;</th>\n",
       "      <th class=\"blank col18\" >&nbsp;</th>\n",
       "    </tr>\n",
       "  </thead>\n",
       "  <tbody>\n",
       "    <tr>\n",
       "      <th id=\"T_afaa6_level0_row0\" class=\"row_heading level0 row0\" >April</th>\n",
       "      <td id=\"T_afaa6_row0_col0\" class=\"data row0 col0\" >9.990000</td>\n",
       "      <td id=\"T_afaa6_row0_col1\" class=\"data row0 col1\" >9.990000</td>\n",
       "      <td id=\"T_afaa6_row0_col2\" class=\"data row0 col2\" >4.990000</td>\n",
       "      <td id=\"T_afaa6_row0_col3\" class=\"data row0 col3\" >9.990000</td>\n",
       "      <td id=\"T_afaa6_row0_col4\" class=\"data row0 col4\" >5.490000</td>\n",
       "      <td id=\"T_afaa6_row0_col5\" class=\"data row0 col5\" >14.990000</td>\n",
       "      <td id=\"T_afaa6_row0_col6\" class=\"data row0 col6\" >9.990000</td>\n",
       "      <td id=\"T_afaa6_row0_col7\" class=\"data row0 col7\" >9.990000</td>\n",
       "      <td id=\"T_afaa6_row0_col8\" class=\"data row0 col8\" >9.990000</td>\n",
       "      <td id=\"T_afaa6_row0_col9\" class=\"data row0 col9\" >9.990000</td>\n",
       "      <td id=\"T_afaa6_row0_col10\" class=\"data row0 col10\" >9.990000</td>\n",
       "      <td id=\"T_afaa6_row0_col11\" class=\"data row0 col11\" >9.990000</td>\n",
       "      <td id=\"T_afaa6_row0_col12\" class=\"data row0 col12\" >9.990000</td>\n",
       "      <td id=\"T_afaa6_row0_col13\" class=\"data row0 col13\" >9.990000</td>\n",
       "      <td id=\"T_afaa6_row0_col14\" class=\"data row0 col14\" >9.990000</td>\n",
       "      <td id=\"T_afaa6_row0_col15\" class=\"data row0 col15\" >9.990000</td>\n",
       "      <td id=\"T_afaa6_row0_col16\" class=\"data row0 col16\" >11.490000</td>\n",
       "      <td id=\"T_afaa6_row0_col17\" class=\"data row0 col17\" >13.490000</td>\n",
       "      <td id=\"T_afaa6_row0_col18\" class=\"data row0 col18\" >9.990000</td>\n",
       "    </tr>\n",
       "    <tr>\n",
       "      <th id=\"T_afaa6_level0_row1\" class=\"row_heading level0 row1\" >August</th>\n",
       "      <td id=\"T_afaa6_row1_col0\" class=\"data row1 col0\" >6.990000</td>\n",
       "      <td id=\"T_afaa6_row1_col1\" class=\"data row1 col1\" >6.990000</td>\n",
       "      <td id=\"T_afaa6_row1_col2\" class=\"data row1 col2\" >9.990000</td>\n",
       "      <td id=\"T_afaa6_row1_col3\" class=\"data row1 col3\" >4.990000</td>\n",
       "      <td id=\"T_afaa6_row1_col4\" class=\"data row1 col4\" >4.990000</td>\n",
       "      <td id=\"T_afaa6_row1_col5\" class=\"data row1 col5\" >6.490000</td>\n",
       "      <td id=\"T_afaa6_row1_col6\" class=\"data row1 col6\" >9.990000</td>\n",
       "      <td id=\"T_afaa6_row1_col7\" class=\"data row1 col7\" >9.990000</td>\n",
       "      <td id=\"T_afaa6_row1_col8\" class=\"data row1 col8\" >9.990000</td>\n",
       "      <td id=\"T_afaa6_row1_col9\" class=\"data row1 col9\" >7.990000</td>\n",
       "      <td id=\"T_afaa6_row1_col10\" class=\"data row1 col10\" >9.990000</td>\n",
       "      <td id=\"T_afaa6_row1_col11\" class=\"data row1 col11\" >9.990000</td>\n",
       "      <td id=\"T_afaa6_row1_col12\" class=\"data row1 col12\" >9.990000</td>\n",
       "      <td id=\"T_afaa6_row1_col13\" class=\"data row1 col13\" >9.990000</td>\n",
       "      <td id=\"T_afaa6_row1_col14\" class=\"data row1 col14\" >11.990000</td>\n",
       "      <td id=\"T_afaa6_row1_col15\" class=\"data row1 col15\" >11.990000</td>\n",
       "      <td id=\"T_afaa6_row1_col16\" class=\"data row1 col16\" >11.990000</td>\n",
       "      <td id=\"T_afaa6_row1_col17\" class=\"data row1 col17\" >9.990000</td>\n",
       "      <td id=\"T_afaa6_row1_col18\" class=\"data row1 col18\" >9.990000</td>\n",
       "    </tr>\n",
       "    <tr>\n",
       "      <th id=\"T_afaa6_level0_row2\" class=\"row_heading level0 row2\" >December</th>\n",
       "      <td id=\"T_afaa6_row2_col0\" class=\"data row2 col0\" >6.490000</td>\n",
       "      <td id=\"T_afaa6_row2_col1\" class=\"data row2 col1\" >nan</td>\n",
       "      <td id=\"T_afaa6_row2_col2\" class=\"data row2 col2\" >9.990000</td>\n",
       "      <td id=\"T_afaa6_row2_col3\" class=\"data row2 col3\" >9.990000</td>\n",
       "      <td id=\"T_afaa6_row2_col4\" class=\"data row2 col4\" >6.490000</td>\n",
       "      <td id=\"T_afaa6_row2_col5\" class=\"data row2 col5\" >9.990000</td>\n",
       "      <td id=\"T_afaa6_row2_col6\" class=\"data row2 col6\" >5.990000</td>\n",
       "      <td id=\"T_afaa6_row2_col7\" class=\"data row2 col7\" >7.990000</td>\n",
       "      <td id=\"T_afaa6_row2_col8\" class=\"data row2 col8\" >8.990000</td>\n",
       "      <td id=\"T_afaa6_row2_col9\" class=\"data row2 col9\" >8.990000</td>\n",
       "      <td id=\"T_afaa6_row2_col10\" class=\"data row2 col10\" >9.990000</td>\n",
       "      <td id=\"T_afaa6_row2_col11\" class=\"data row2 col11\" >9.990000</td>\n",
       "      <td id=\"T_afaa6_row2_col12\" class=\"data row2 col12\" >8.990000</td>\n",
       "      <td id=\"T_afaa6_row2_col13\" class=\"data row2 col13\" >9.490000</td>\n",
       "      <td id=\"T_afaa6_row2_col14\" class=\"data row2 col14\" >9.990000</td>\n",
       "      <td id=\"T_afaa6_row2_col15\" class=\"data row2 col15\" >9.990000</td>\n",
       "      <td id=\"T_afaa6_row2_col16\" class=\"data row2 col16\" >9.990000</td>\n",
       "      <td id=\"T_afaa6_row2_col17\" class=\"data row2 col17\" >10.990000</td>\n",
       "      <td id=\"T_afaa6_row2_col18\" class=\"data row2 col18\" >nan</td>\n",
       "    </tr>\n",
       "    <tr>\n",
       "      <th id=\"T_afaa6_level0_row3\" class=\"row_heading level0 row3\" >February</th>\n",
       "      <td id=\"T_afaa6_row3_col0\" class=\"data row3 col0\" >7.990000</td>\n",
       "      <td id=\"T_afaa6_row3_col1\" class=\"data row3 col1\" >3.495000</td>\n",
       "      <td id=\"T_afaa6_row3_col2\" class=\"data row3 col2\" >6.990000</td>\n",
       "      <td id=\"T_afaa6_row3_col3\" class=\"data row3 col3\" >9.990000</td>\n",
       "      <td id=\"T_afaa6_row3_col4\" class=\"data row3 col4\" >9.990000</td>\n",
       "      <td id=\"T_afaa6_row3_col5\" class=\"data row3 col5\" >9.990000</td>\n",
       "      <td id=\"T_afaa6_row3_col6\" class=\"data row3 col6\" >9.990000</td>\n",
       "      <td id=\"T_afaa6_row3_col7\" class=\"data row3 col7\" >9.990000</td>\n",
       "      <td id=\"T_afaa6_row3_col8\" class=\"data row3 col8\" >9.990000</td>\n",
       "      <td id=\"T_afaa6_row3_col9\" class=\"data row3 col9\" >9.990000</td>\n",
       "      <td id=\"T_afaa6_row3_col10\" class=\"data row3 col10\" >9.990000</td>\n",
       "      <td id=\"T_afaa6_row3_col11\" class=\"data row3 col11\" >9.990000</td>\n",
       "      <td id=\"T_afaa6_row3_col12\" class=\"data row3 col12\" >9.990000</td>\n",
       "      <td id=\"T_afaa6_row3_col13\" class=\"data row3 col13\" >9.990000</td>\n",
       "      <td id=\"T_afaa6_row3_col14\" class=\"data row3 col14\" >9.990000</td>\n",
       "      <td id=\"T_afaa6_row3_col15\" class=\"data row3 col15\" >9.990000</td>\n",
       "      <td id=\"T_afaa6_row3_col16\" class=\"data row3 col16\" >11.990000</td>\n",
       "      <td id=\"T_afaa6_row3_col17\" class=\"data row3 col17\" >11.990000</td>\n",
       "      <td id=\"T_afaa6_row3_col18\" class=\"data row3 col18\" >9.990000</td>\n",
       "    </tr>\n",
       "    <tr>\n",
       "      <th id=\"T_afaa6_level0_row4\" class=\"row_heading level0 row4\" >January</th>\n",
       "      <td id=\"T_afaa6_row4_col0\" class=\"data row4 col0\" >9.990000</td>\n",
       "      <td id=\"T_afaa6_row4_col1\" class=\"data row4 col1\" >9.990000</td>\n",
       "      <td id=\"T_afaa6_row4_col2\" class=\"data row4 col2\" >9.990000</td>\n",
       "      <td id=\"T_afaa6_row4_col3\" class=\"data row4 col3\" >11.490000</td>\n",
       "      <td id=\"T_afaa6_row4_col4\" class=\"data row4 col4\" >7.490000</td>\n",
       "      <td id=\"T_afaa6_row4_col5\" class=\"data row4 col5\" >nan</td>\n",
       "      <td id=\"T_afaa6_row4_col6\" class=\"data row4 col6\" >14.990000</td>\n",
       "      <td id=\"T_afaa6_row4_col7\" class=\"data row4 col7\" >5.990000</td>\n",
       "      <td id=\"T_afaa6_row4_col8\" class=\"data row4 col8\" >9.990000</td>\n",
       "      <td id=\"T_afaa6_row4_col9\" class=\"data row4 col9\" >8.490000</td>\n",
       "      <td id=\"T_afaa6_row4_col10\" class=\"data row4 col10\" >9.990000</td>\n",
       "      <td id=\"T_afaa6_row4_col11\" class=\"data row4 col11\" >9.990000</td>\n",
       "      <td id=\"T_afaa6_row4_col12\" class=\"data row4 col12\" >7.990000</td>\n",
       "      <td id=\"T_afaa6_row4_col13\" class=\"data row4 col13\" >9.990000</td>\n",
       "      <td id=\"T_afaa6_row4_col14\" class=\"data row4 col14\" >6.990000</td>\n",
       "      <td id=\"T_afaa6_row4_col15\" class=\"data row4 col15\" >7.990000</td>\n",
       "      <td id=\"T_afaa6_row4_col16\" class=\"data row4 col16\" >12.990000</td>\n",
       "      <td id=\"T_afaa6_row4_col17\" class=\"data row4 col17\" >11.990000</td>\n",
       "      <td id=\"T_afaa6_row4_col18\" class=\"data row4 col18\" >13.490000</td>\n",
       "    </tr>\n",
       "    <tr>\n",
       "      <th id=\"T_afaa6_level0_row5\" class=\"row_heading level0 row5\" >July</th>\n",
       "      <td id=\"T_afaa6_row5_col0\" class=\"data row5 col0\" >nan</td>\n",
       "      <td id=\"T_afaa6_row5_col1\" class=\"data row5 col1\" >9.990000</td>\n",
       "      <td id=\"T_afaa6_row5_col2\" class=\"data row5 col2\" >9.990000</td>\n",
       "      <td id=\"T_afaa6_row5_col3\" class=\"data row5 col3\" >6.990000</td>\n",
       "      <td id=\"T_afaa6_row5_col4\" class=\"data row5 col4\" >9.990000</td>\n",
       "      <td id=\"T_afaa6_row5_col5\" class=\"data row5 col5\" >8.990000</td>\n",
       "      <td id=\"T_afaa6_row5_col6\" class=\"data row5 col6\" >9.990000</td>\n",
       "      <td id=\"T_afaa6_row5_col7\" class=\"data row5 col7\" >9.990000</td>\n",
       "      <td id=\"T_afaa6_row5_col8\" class=\"data row5 col8\" >9.990000</td>\n",
       "      <td id=\"T_afaa6_row5_col9\" class=\"data row5 col9\" >9.990000</td>\n",
       "      <td id=\"T_afaa6_row5_col10\" class=\"data row5 col10\" >9.990000</td>\n",
       "      <td id=\"T_afaa6_row5_col11\" class=\"data row5 col11\" >9.990000</td>\n",
       "      <td id=\"T_afaa6_row5_col12\" class=\"data row5 col12\" >9.990000</td>\n",
       "      <td id=\"T_afaa6_row5_col13\" class=\"data row5 col13\" >9.990000</td>\n",
       "      <td id=\"T_afaa6_row5_col14\" class=\"data row5 col14\" >9.990000</td>\n",
       "      <td id=\"T_afaa6_row5_col15\" class=\"data row5 col15\" >11.990000</td>\n",
       "      <td id=\"T_afaa6_row5_col16\" class=\"data row5 col16\" >13.490000</td>\n",
       "      <td id=\"T_afaa6_row5_col17\" class=\"data row5 col17\" >9.990000</td>\n",
       "      <td id=\"T_afaa6_row5_col18\" class=\"data row5 col18\" >9.990000</td>\n",
       "    </tr>\n",
       "    <tr>\n",
       "      <th id=\"T_afaa6_level0_row6\" class=\"row_heading level0 row6\" >June</th>\n",
       "      <td id=\"T_afaa6_row6_col0\" class=\"data row6 col0\" >0.000000</td>\n",
       "      <td id=\"T_afaa6_row6_col1\" class=\"data row6 col1\" >8.990000</td>\n",
       "      <td id=\"T_afaa6_row6_col2\" class=\"data row6 col2\" >7.990000</td>\n",
       "      <td id=\"T_afaa6_row6_col3\" class=\"data row6 col3\" >8.990000</td>\n",
       "      <td id=\"T_afaa6_row6_col4\" class=\"data row6 col4\" >9.490000</td>\n",
       "      <td id=\"T_afaa6_row6_col5\" class=\"data row6 col5\" >9.990000</td>\n",
       "      <td id=\"T_afaa6_row6_col6\" class=\"data row6 col6\" >14.990000</td>\n",
       "      <td id=\"T_afaa6_row6_col7\" class=\"data row6 col7\" >9.990000</td>\n",
       "      <td id=\"T_afaa6_row6_col8\" class=\"data row6 col8\" >14.990000</td>\n",
       "      <td id=\"T_afaa6_row6_col9\" class=\"data row6 col9\" >9.990000</td>\n",
       "      <td id=\"T_afaa6_row6_col10\" class=\"data row6 col10\" >14.990000</td>\n",
       "      <td id=\"T_afaa6_row6_col11\" class=\"data row6 col11\" >9.990000</td>\n",
       "      <td id=\"T_afaa6_row6_col12\" class=\"data row6 col12\" >7.990000</td>\n",
       "      <td id=\"T_afaa6_row6_col13\" class=\"data row6 col13\" >9.990000</td>\n",
       "      <td id=\"T_afaa6_row6_col14\" class=\"data row6 col14\" >9.990000</td>\n",
       "      <td id=\"T_afaa6_row6_col15\" class=\"data row6 col15\" >8.490000</td>\n",
       "      <td id=\"T_afaa6_row6_col16\" class=\"data row6 col16\" >10.990000</td>\n",
       "      <td id=\"T_afaa6_row6_col17\" class=\"data row6 col17\" >9.990000</td>\n",
       "      <td id=\"T_afaa6_row6_col18\" class=\"data row6 col18\" >9.990000</td>\n",
       "    </tr>\n",
       "    <tr>\n",
       "      <th id=\"T_afaa6_level0_row7\" class=\"row_heading level0 row7\" >March</th>\n",
       "      <td id=\"T_afaa6_row7_col0\" class=\"data row7 col0\" >6.640000</td>\n",
       "      <td id=\"T_afaa6_row7_col1\" class=\"data row7 col1\" >8.490000</td>\n",
       "      <td id=\"T_afaa6_row7_col2\" class=\"data row7 col2\" >9.990000</td>\n",
       "      <td id=\"T_afaa6_row7_col3\" class=\"data row7 col3\" >0.990000</td>\n",
       "      <td id=\"T_afaa6_row7_col4\" class=\"data row7 col4\" >9.990000</td>\n",
       "      <td id=\"T_afaa6_row7_col5\" class=\"data row7 col5\" >9.990000</td>\n",
       "      <td id=\"T_afaa6_row7_col6\" class=\"data row7 col6\" >9.990000</td>\n",
       "      <td id=\"T_afaa6_row7_col7\" class=\"data row7 col7\" >9.990000</td>\n",
       "      <td id=\"T_afaa6_row7_col8\" class=\"data row7 col8\" >9.990000</td>\n",
       "      <td id=\"T_afaa6_row7_col9\" class=\"data row7 col9\" >9.990000</td>\n",
       "      <td id=\"T_afaa6_row7_col10\" class=\"data row7 col10\" >9.990000</td>\n",
       "      <td id=\"T_afaa6_row7_col11\" class=\"data row7 col11\" >9.990000</td>\n",
       "      <td id=\"T_afaa6_row7_col12\" class=\"data row7 col12\" >9.990000</td>\n",
       "      <td id=\"T_afaa6_row7_col13\" class=\"data row7 col13\" >9.990000</td>\n",
       "      <td id=\"T_afaa6_row7_col14\" class=\"data row7 col14\" >9.990000</td>\n",
       "      <td id=\"T_afaa6_row7_col15\" class=\"data row7 col15\" >9.990000</td>\n",
       "      <td id=\"T_afaa6_row7_col16\" class=\"data row7 col16\" >9.990000</td>\n",
       "      <td id=\"T_afaa6_row7_col17\" class=\"data row7 col17\" >11.990000</td>\n",
       "      <td id=\"T_afaa6_row7_col18\" class=\"data row7 col18\" >12.990000</td>\n",
       "    </tr>\n",
       "    <tr>\n",
       "      <th id=\"T_afaa6_level0_row8\" class=\"row_heading level0 row8\" >May</th>\n",
       "      <td id=\"T_afaa6_row8_col0\" class=\"data row8 col0\" >6.990000</td>\n",
       "      <td id=\"T_afaa6_row8_col1\" class=\"data row8 col1\" >9.990000</td>\n",
       "      <td id=\"T_afaa6_row8_col2\" class=\"data row8 col2\" >7.990000</td>\n",
       "      <td id=\"T_afaa6_row8_col3\" class=\"data row8 col3\" >9.990000</td>\n",
       "      <td id=\"T_afaa6_row8_col4\" class=\"data row8 col4\" >9.990000</td>\n",
       "      <td id=\"T_afaa6_row8_col5\" class=\"data row8 col5\" >9.990000</td>\n",
       "      <td id=\"T_afaa6_row8_col6\" class=\"data row8 col6\" >7.990000</td>\n",
       "      <td id=\"T_afaa6_row8_col7\" class=\"data row8 col7\" >9.990000</td>\n",
       "      <td id=\"T_afaa6_row8_col8\" class=\"data row8 col8\" >9.990000</td>\n",
       "      <td id=\"T_afaa6_row8_col9\" class=\"data row8 col9\" >9.990000</td>\n",
       "      <td id=\"T_afaa6_row8_col10\" class=\"data row8 col10\" >9.990000</td>\n",
       "      <td id=\"T_afaa6_row8_col11\" class=\"data row8 col11\" >9.990000</td>\n",
       "      <td id=\"T_afaa6_row8_col12\" class=\"data row8 col12\" >9.990000</td>\n",
       "      <td id=\"T_afaa6_row8_col13\" class=\"data row8 col13\" >8.490000</td>\n",
       "      <td id=\"T_afaa6_row8_col14\" class=\"data row8 col14\" >9.990000</td>\n",
       "      <td id=\"T_afaa6_row8_col15\" class=\"data row8 col15\" >9.990000</td>\n",
       "      <td id=\"T_afaa6_row8_col16\" class=\"data row8 col16\" >9.990000</td>\n",
       "      <td id=\"T_afaa6_row8_col17\" class=\"data row8 col17\" >9.990000</td>\n",
       "      <td id=\"T_afaa6_row8_col18\" class=\"data row8 col18\" >11.990000</td>\n",
       "    </tr>\n",
       "    <tr>\n",
       "      <th id=\"T_afaa6_level0_row9\" class=\"row_heading level0 row9\" >November</th>\n",
       "      <td id=\"T_afaa6_row9_col0\" class=\"data row9 col0\" >9.990000</td>\n",
       "      <td id=\"T_afaa6_row9_col1\" class=\"data row9 col1\" >9.990000</td>\n",
       "      <td id=\"T_afaa6_row9_col2\" class=\"data row9 col2\" >9.990000</td>\n",
       "      <td id=\"T_afaa6_row9_col3\" class=\"data row9 col3\" >12.490000</td>\n",
       "      <td id=\"T_afaa6_row9_col4\" class=\"data row9 col4\" >9.990000</td>\n",
       "      <td id=\"T_afaa6_row9_col5\" class=\"data row9 col5\" >9.990000</td>\n",
       "      <td id=\"T_afaa6_row9_col6\" class=\"data row9 col6\" >12.490000</td>\n",
       "      <td id=\"T_afaa6_row9_col7\" class=\"data row9 col7\" >9.990000</td>\n",
       "      <td id=\"T_afaa6_row9_col8\" class=\"data row9 col8\" >9.990000</td>\n",
       "      <td id=\"T_afaa6_row9_col9\" class=\"data row9 col9\" >12.490000</td>\n",
       "      <td id=\"T_afaa6_row9_col10\" class=\"data row9 col10\" >6.990000</td>\n",
       "      <td id=\"T_afaa6_row9_col11\" class=\"data row9 col11\" >14.990000</td>\n",
       "      <td id=\"T_afaa6_row9_col12\" class=\"data row9 col12\" >9.990000</td>\n",
       "      <td id=\"T_afaa6_row9_col13\" class=\"data row9 col13\" >9.990000</td>\n",
       "      <td id=\"T_afaa6_row9_col14\" class=\"data row9 col14\" >9.990000</td>\n",
       "      <td id=\"T_afaa6_row9_col15\" class=\"data row9 col15\" >9.990000</td>\n",
       "      <td id=\"T_afaa6_row9_col16\" class=\"data row9 col16\" >11.990000</td>\n",
       "      <td id=\"T_afaa6_row9_col17\" class=\"data row9 col17\" >9.990000</td>\n",
       "      <td id=\"T_afaa6_row9_col18\" class=\"data row9 col18\" >nan</td>\n",
       "    </tr>\n",
       "    <tr>\n",
       "      <th id=\"T_afaa6_level0_row10\" class=\"row_heading level0 row10\" >October</th>\n",
       "      <td id=\"T_afaa6_row10_col0\" class=\"data row10 col0\" >8.490000</td>\n",
       "      <td id=\"T_afaa6_row10_col1\" class=\"data row10 col1\" >8.490000</td>\n",
       "      <td id=\"T_afaa6_row10_col2\" class=\"data row10 col2\" >9.990000</td>\n",
       "      <td id=\"T_afaa6_row10_col3\" class=\"data row10 col3\" >9.990000</td>\n",
       "      <td id=\"T_afaa6_row10_col4\" class=\"data row10 col4\" >7.990000</td>\n",
       "      <td id=\"T_afaa6_row10_col5\" class=\"data row10 col5\" >9.990000</td>\n",
       "      <td id=\"T_afaa6_row10_col6\" class=\"data row10 col6\" >9.990000</td>\n",
       "      <td id=\"T_afaa6_row10_col7\" class=\"data row10 col7\" >9.990000</td>\n",
       "      <td id=\"T_afaa6_row10_col8\" class=\"data row10 col8\" >9.990000</td>\n",
       "      <td id=\"T_afaa6_row10_col9\" class=\"data row10 col9\" >9.990000</td>\n",
       "      <td id=\"T_afaa6_row10_col10\" class=\"data row10 col10\" >14.990000</td>\n",
       "      <td id=\"T_afaa6_row10_col11\" class=\"data row10 col11\" >11.990000</td>\n",
       "      <td id=\"T_afaa6_row10_col12\" class=\"data row10 col12\" >9.990000</td>\n",
       "      <td id=\"T_afaa6_row10_col13\" class=\"data row10 col13\" >9.990000</td>\n",
       "      <td id=\"T_afaa6_row10_col14\" class=\"data row10 col14\" >9.990000</td>\n",
       "      <td id=\"T_afaa6_row10_col15\" class=\"data row10 col15\" >13.990000</td>\n",
       "      <td id=\"T_afaa6_row10_col16\" class=\"data row10 col16\" >14.990000</td>\n",
       "      <td id=\"T_afaa6_row10_col17\" class=\"data row10 col17\" >12.990000</td>\n",
       "      <td id=\"T_afaa6_row10_col18\" class=\"data row10 col18\" >nan</td>\n",
       "    </tr>\n",
       "    <tr>\n",
       "      <th id=\"T_afaa6_level0_row11\" class=\"row_heading level0 row11\" >September</th>\n",
       "      <td id=\"T_afaa6_row11_col0\" class=\"data row11 col0\" >4.990000</td>\n",
       "      <td id=\"T_afaa6_row11_col1\" class=\"data row11 col1\" >9.990000</td>\n",
       "      <td id=\"T_afaa6_row11_col2\" class=\"data row11 col2\" >7.990000</td>\n",
       "      <td id=\"T_afaa6_row11_col3\" class=\"data row11 col3\" >7.990000</td>\n",
       "      <td id=\"T_afaa6_row11_col4\" class=\"data row11 col4\" >9.990000</td>\n",
       "      <td id=\"T_afaa6_row11_col5\" class=\"data row11 col5\" >9.990000</td>\n",
       "      <td id=\"T_afaa6_row11_col6\" class=\"data row11 col6\" >9.990000</td>\n",
       "      <td id=\"T_afaa6_row11_col7\" class=\"data row11 col7\" >9.990000</td>\n",
       "      <td id=\"T_afaa6_row11_col8\" class=\"data row11 col8\" >9.990000</td>\n",
       "      <td id=\"T_afaa6_row11_col9\" class=\"data row11 col9\" >9.990000</td>\n",
       "      <td id=\"T_afaa6_row11_col10\" class=\"data row11 col10\" >14.990000</td>\n",
       "      <td id=\"T_afaa6_row11_col11\" class=\"data row11 col11\" >12.680000</td>\n",
       "      <td id=\"T_afaa6_row11_col12\" class=\"data row11 col12\" >9.990000</td>\n",
       "      <td id=\"T_afaa6_row11_col13\" class=\"data row11 col13\" >9.990000</td>\n",
       "      <td id=\"T_afaa6_row11_col14\" class=\"data row11 col14\" >10.990000</td>\n",
       "      <td id=\"T_afaa6_row11_col15\" class=\"data row11 col15\" >12.990000</td>\n",
       "      <td id=\"T_afaa6_row11_col16\" class=\"data row11 col16\" >11.990000</td>\n",
       "      <td id=\"T_afaa6_row11_col17\" class=\"data row11 col17\" >11.990000</td>\n",
       "      <td id=\"T_afaa6_row11_col18\" class=\"data row11 col18\" >9.990000</td>\n",
       "    </tr>\n",
       "  </tbody>\n",
       "</table>\n"
      ],
      "text/plain": [
       "<pandas.io.formats.style.Styler at 0x7fe0bcc18be0>"
      ]
     },
     "metadata": {},
     "output_type": "display_data"
    }
   ],
   "source": [
    "year_month_price = df_dt_agg.pivot(\n",
    "    index=\"release_month\", columns=\"release_year\", values=\"original_price_cleaned\"\n",
    ")\n",
    "show_df(year_month_price)"
   ]
  },
  {
   "cell_type": "markdown",
   "id": "cb6d98bd-df27-48b3-9aff-8525fdd74c55",
   "metadata": {},
   "source": [
    "Plot a heatmap of the orginal listing price by year and month, excluding year-month combinations from the future"
   ]
  },
  {
   "cell_type": "code",
   "execution_count": 99,
   "id": "ec93cef7-4a38-4dc2-928e-ca530d7dd7be",
   "metadata": {},
   "outputs": [
    {
     "data": {
      "image/png": "[encoded data removed]",
      "text/plain": [
       "<Figure size 864x576 with 2 Axes>"
      ]
     },
     "metadata": {},
     "output_type": "display_data"
    }
   ],
   "source": [
    "with sns.axes_style(\"ticks\"):\n",
    "    ax = sns.heatmap(\n",
    "        data=year_month_price.loc[months],\n",
    "        linewidths=0.5,\n",
    "        cmap=\"YlOrRd\",\n",
    "    )\n",
    "    ax.set_title(\n",
    "        \"Median listing prices by year and month\", loc=\"left\", fontweight=\"bold\"\n",
    "    )\n",
    "    ax.set_xlabel(None)\n",
    "    ax.set_ylabel(None)\n",
    "    sns.despine()\n",
    "    fig = plt.gcf()\n",
    "    fig.set_figheight(8)\n",
    "    fig.set_figwidth(12)\n",
    "    # fig.savefig(\n",
    "    #     os.path.join(reports_data_dir, \"16_datetime_heatmap_price.png\"),\n",
    "    #     bbox_inches=\"tight\",\n",
    "    #     dpi=300,\n",
    "    # )"
   ]
  },
  {
   "cell_type": "markdown",
   "id": "e4cebf66-9033-4fdd-8b18-2b2ed2245140",
   "metadata": {},
   "source": [
    "**Plot the number of times each month the year has the most expensive median listing price.**"
   ]
  },
  {
   "cell_type": "code",
   "execution_count": 100,
   "id": "aa2c0b09-c1ef-4c78-8ccf-253ce4ecc500",
   "metadata": {},
   "outputs": [],
   "source": [
    "def get_max_index_in_group(\n",
    "    df, index_col=\"release_month\", colname=\"original_price_cleaned\"\n",
    "):\n",
    "    return df.set_index(index_col)[colname].idxmax()"
   ]
  },
  {
   "cell_type": "markdown",
   "id": "c588684a-50e3-4739-b7b9-d66713cf21fd",
   "metadata": {},
   "source": [
    "Do the following\n",
    "- get the median listing price by year and month\n",
    "- for each year, find the month with the highest median price"
   ]
  },
  {
   "cell_type": "code",
   "execution_count": 101,
   "id": "45f35a76-077a-4a8a-8060-ef7c4e5c1fdc",
   "metadata": {},
   "outputs": [
    {
     "data": {
      "text/html": [
       "<style type=\"text/css\">\n",
       "</style>\n",
       "<table id=\"T_2737d_\">\n",
       "  <caption>All rows</caption>\n",
       "  <thead>\n",
       "    <tr>\n",
       "      <th class=\"blank level0\" >&nbsp;</th>\n",
       "      <th class=\"col_heading level0 col0\" >release_year</th>\n",
       "      <th class=\"col_heading level0 col1\" >max_month</th>\n",
       "    </tr>\n",
       "  </thead>\n",
       "  <tbody>\n",
       "    <tr>\n",
       "      <th id=\"T_2737d_level0_row0\" class=\"row_heading level0 row0\" >0</th>\n",
       "      <td id=\"T_2737d_row0_col0\" class=\"data row0 col0\" >2003</td>\n",
       "      <td id=\"T_2737d_row0_col1\" class=\"data row0 col1\" >April</td>\n",
       "    </tr>\n",
       "    <tr>\n",
       "      <th id=\"T_2737d_level0_row1\" class=\"row_heading level0 row1\" >1</th>\n",
       "      <td id=\"T_2737d_row1_col0\" class=\"data row1 col0\" >2004</td>\n",
       "      <td id=\"T_2737d_row1_col1\" class=\"data row1 col1\" >April</td>\n",
       "    </tr>\n",
       "    <tr>\n",
       "      <th id=\"T_2737d_level0_row2\" class=\"row_heading level0 row2\" >2</th>\n",
       "      <td id=\"T_2737d_row2_col0\" class=\"data row2 col0\" >2005</td>\n",
       "      <td id=\"T_2737d_row2_col1\" class=\"data row2 col1\" >August</td>\n",
       "    </tr>\n",
       "    <tr>\n",
       "      <th id=\"T_2737d_level0_row3\" class=\"row_heading level0 row3\" >3</th>\n",
       "      <td id=\"T_2737d_row3_col0\" class=\"data row3 col0\" >2006</td>\n",
       "      <td id=\"T_2737d_row3_col1\" class=\"data row3 col1\" >November</td>\n",
       "    </tr>\n",
       "    <tr>\n",
       "      <th id=\"T_2737d_level0_row4\" class=\"row_heading level0 row4\" >4</th>\n",
       "      <td id=\"T_2737d_row4_col0\" class=\"data row4 col0\" >2007</td>\n",
       "      <td id=\"T_2737d_row4_col1\" class=\"data row4 col1\" >February</td>\n",
       "    </tr>\n",
       "    <tr>\n",
       "      <th id=\"T_2737d_level0_row5\" class=\"row_heading level0 row5\" >5</th>\n",
       "      <td id=\"T_2737d_row5_col0\" class=\"data row5 col0\" >2008</td>\n",
       "      <td id=\"T_2737d_row5_col1\" class=\"data row5 col1\" >April</td>\n",
       "    </tr>\n",
       "    <tr>\n",
       "      <th id=\"T_2737d_level0_row6\" class=\"row_heading level0 row6\" >6</th>\n",
       "      <td id=\"T_2737d_row6_col0\" class=\"data row6 col0\" >2009</td>\n",
       "      <td id=\"T_2737d_row6_col1\" class=\"data row6 col1\" >January</td>\n",
       "    </tr>\n",
       "    <tr>\n",
       "      <th id=\"T_2737d_level0_row7\" class=\"row_heading level0 row7\" >7</th>\n",
       "      <td id=\"T_2737d_row7_col0\" class=\"data row7 col0\" >2010</td>\n",
       "      <td id=\"T_2737d_row7_col1\" class=\"data row7 col1\" >April</td>\n",
       "    </tr>\n",
       "    <tr>\n",
       "      <th id=\"T_2737d_level0_row8\" class=\"row_heading level0 row8\" >8</th>\n",
       "      <td id=\"T_2737d_row8_col0\" class=\"data row8 col0\" >2011</td>\n",
       "      <td id=\"T_2737d_row8_col1\" class=\"data row8 col1\" >June</td>\n",
       "    </tr>\n",
       "    <tr>\n",
       "      <th id=\"T_2737d_level0_row9\" class=\"row_heading level0 row9\" >9</th>\n",
       "      <td id=\"T_2737d_row9_col0\" class=\"data row9 col0\" >2012</td>\n",
       "      <td id=\"T_2737d_row9_col1\" class=\"data row9 col1\" >November</td>\n",
       "    </tr>\n",
       "    <tr>\n",
       "      <th id=\"T_2737d_level0_row10\" class=\"row_heading level0 row10\" >10</th>\n",
       "      <td id=\"T_2737d_row10_col0\" class=\"data row10 col0\" >2013</td>\n",
       "      <td id=\"T_2737d_row10_col1\" class=\"data row10 col1\" >June</td>\n",
       "    </tr>\n",
       "    <tr>\n",
       "      <th id=\"T_2737d_level0_row11\" class=\"row_heading level0 row11\" >11</th>\n",
       "      <td id=\"T_2737d_row11_col0\" class=\"data row11 col0\" >2014</td>\n",
       "      <td id=\"T_2737d_row11_col1\" class=\"data row11 col1\" >November</td>\n",
       "    </tr>\n",
       "    <tr>\n",
       "      <th id=\"T_2737d_level0_row12\" class=\"row_heading level0 row12\" >12</th>\n",
       "      <td id=\"T_2737d_row12_col0\" class=\"data row12 col0\" >2015</td>\n",
       "      <td id=\"T_2737d_row12_col1\" class=\"data row12 col1\" >April</td>\n",
       "    </tr>\n",
       "    <tr>\n",
       "      <th id=\"T_2737d_level0_row13\" class=\"row_heading level0 row13\" >13</th>\n",
       "      <td id=\"T_2737d_row13_col0\" class=\"data row13 col0\" >2016</td>\n",
       "      <td id=\"T_2737d_row13_col1\" class=\"data row13 col1\" >April</td>\n",
       "    </tr>\n",
       "    <tr>\n",
       "      <th id=\"T_2737d_level0_row14\" class=\"row_heading level0 row14\" >14</th>\n",
       "      <td id=\"T_2737d_row14_col0\" class=\"data row14 col0\" >2017</td>\n",
       "      <td id=\"T_2737d_row14_col1\" class=\"data row14 col1\" >August</td>\n",
       "    </tr>\n",
       "    <tr>\n",
       "      <th id=\"T_2737d_level0_row15\" class=\"row_heading level0 row15\" >15</th>\n",
       "      <td id=\"T_2737d_row15_col0\" class=\"data row15 col0\" >2018</td>\n",
       "      <td id=\"T_2737d_row15_col1\" class=\"data row15 col1\" >October</td>\n",
       "    </tr>\n",
       "    <tr>\n",
       "      <th id=\"T_2737d_level0_row16\" class=\"row_heading level0 row16\" >16</th>\n",
       "      <td id=\"T_2737d_row16_col0\" class=\"data row16 col0\" >2019</td>\n",
       "      <td id=\"T_2737d_row16_col1\" class=\"data row16 col1\" >October</td>\n",
       "    </tr>\n",
       "    <tr>\n",
       "      <th id=\"T_2737d_level0_row17\" class=\"row_heading level0 row17\" >17</th>\n",
       "      <td id=\"T_2737d_row17_col0\" class=\"data row17 col0\" >2020</td>\n",
       "      <td id=\"T_2737d_row17_col1\" class=\"data row17 col1\" >April</td>\n",
       "    </tr>\n",
       "  </tbody>\n",
       "</table>\n"
      ],
      "text/plain": [
       "<pandas.io.formats.style.Styler at 0x7fe0be1bd730>"
      ]
     },
     "metadata": {},
     "output_type": "display_data"
    }
   ],
   "source": [
    "df_max_month_by_year = (\n",
    "    df.query(\"release_year >= 2003 and release_year <= 2020\")\n",
    "    .dropna(subset=[\"release_year\"])\n",
    "    .astype({\"release_year\": int})\n",
    "    .groupby([\"release_year\", \"release_month\"], as_index=False)[\n",
    "        \"original_price_cleaned\"\n",
    "    ]\n",
    "    .median()\n",
    "    .groupby(\"release_year\", as_index=False)\n",
    "    .apply(\n",
    "        get_max_index_in_group,\n",
    "        index_col=\"release_month\",\n",
    "        colname=\"original_price_cleaned\",\n",
    "    )\n",
    "    .rename(columns={None: \"max_month\"})\n",
    ")\n",
    "show_df(df_max_month_by_year)"
   ]
  },
  {
   "cell_type": "markdown",
   "id": "9a1861e4-593a-463d-92f4-dda72b4e0d27",
   "metadata": {},
   "source": [
    "Merge the above aggregated results with the full list of months of the year in order to get numbers for all 12 calendar months (fill months that do not appear on this list of most expensive median price months with zeros)"
   ]
  },
  {
   "cell_type": "code",
   "execution_count": 102,
   "id": "37526526-11b0-4d9b-8b7a-bca65e93ba1e",
   "metadata": {
    "tags": []
   },
   "outputs": [
    {
     "data": {
      "text/html": [
       "<style type=\"text/css\">\n",
       "</style>\n",
       "<table id=\"T_28397_\">\n",
       "  <caption>All rows</caption>\n",
       "  <thead>\n",
       "    <tr>\n",
       "      <th class=\"blank level0\" >&nbsp;</th>\n",
       "      <th class=\"col_heading level0 col0\" >index</th>\n",
       "      <th class=\"col_heading level0 col1\" >max_month</th>\n",
       "    </tr>\n",
       "  </thead>\n",
       "  <tbody>\n",
       "    <tr>\n",
       "      <th id=\"T_28397_level0_row0\" class=\"row_heading level0 row0\" >3</th>\n",
       "      <td id=\"T_28397_row0_col0\" class=\"data row0 col0\" >April</td>\n",
       "      <td id=\"T_28397_row0_col1\" class=\"data row0 col1\" >7</td>\n",
       "    </tr>\n",
       "    <tr>\n",
       "      <th id=\"T_28397_level0_row1\" class=\"row_heading level0 row1\" >10</th>\n",
       "      <td id=\"T_28397_row1_col0\" class=\"data row1 col0\" >November</td>\n",
       "      <td id=\"T_28397_row1_col1\" class=\"data row1 col1\" >3</td>\n",
       "    </tr>\n",
       "    <tr>\n",
       "      <th id=\"T_28397_level0_row2\" class=\"row_heading level0 row2\" >5</th>\n",
       "      <td id=\"T_28397_row2_col0\" class=\"data row2 col0\" >June</td>\n",
       "      <td id=\"T_28397_row2_col1\" class=\"data row2 col1\" >2</td>\n",
       "    </tr>\n",
       "    <tr>\n",
       "      <th id=\"T_28397_level0_row3\" class=\"row_heading level0 row3\" >7</th>\n",
       "      <td id=\"T_28397_row3_col0\" class=\"data row3 col0\" >August</td>\n",
       "      <td id=\"T_28397_row3_col1\" class=\"data row3 col1\" >2</td>\n",
       "    </tr>\n",
       "    <tr>\n",
       "      <th id=\"T_28397_level0_row4\" class=\"row_heading level0 row4\" >9</th>\n",
       "      <td id=\"T_28397_row4_col0\" class=\"data row4 col0\" >October</td>\n",
       "      <td id=\"T_28397_row4_col1\" class=\"data row4 col1\" >2</td>\n",
       "    </tr>\n",
       "    <tr>\n",
       "      <th id=\"T_28397_level0_row5\" class=\"row_heading level0 row5\" >0</th>\n",
       "      <td id=\"T_28397_row5_col0\" class=\"data row5 col0\" >January</td>\n",
       "      <td id=\"T_28397_row5_col1\" class=\"data row5 col1\" >1</td>\n",
       "    </tr>\n",
       "    <tr>\n",
       "      <th id=\"T_28397_level0_row6\" class=\"row_heading level0 row6\" >1</th>\n",
       "      <td id=\"T_28397_row6_col0\" class=\"data row6 col0\" >February</td>\n",
       "      <td id=\"T_28397_row6_col1\" class=\"data row6 col1\" >1</td>\n",
       "    </tr>\n",
       "    <tr>\n",
       "      <th id=\"T_28397_level0_row7\" class=\"row_heading level0 row7\" >2</th>\n",
       "      <td id=\"T_28397_row7_col0\" class=\"data row7 col0\" >March</td>\n",
       "      <td id=\"T_28397_row7_col1\" class=\"data row7 col1\" >0</td>\n",
       "    </tr>\n",
       "    <tr>\n",
       "      <th id=\"T_28397_level0_row8\" class=\"row_heading level0 row8\" >4</th>\n",
       "      <td id=\"T_28397_row8_col0\" class=\"data row8 col0\" >May</td>\n",
       "      <td id=\"T_28397_row8_col1\" class=\"data row8 col1\" >0</td>\n",
       "    </tr>\n",
       "    <tr>\n",
       "      <th id=\"T_28397_level0_row9\" class=\"row_heading level0 row9\" >6</th>\n",
       "      <td id=\"T_28397_row9_col0\" class=\"data row9 col0\" >July</td>\n",
       "      <td id=\"T_28397_row9_col1\" class=\"data row9 col1\" >0</td>\n",
       "    </tr>\n",
       "    <tr>\n",
       "      <th id=\"T_28397_level0_row10\" class=\"row_heading level0 row10\" >8</th>\n",
       "      <td id=\"T_28397_row10_col0\" class=\"data row10 col0\" >September</td>\n",
       "      <td id=\"T_28397_row10_col1\" class=\"data row10 col1\" >0</td>\n",
       "    </tr>\n",
       "    <tr>\n",
       "      <th id=\"T_28397_level0_row11\" class=\"row_heading level0 row11\" >11</th>\n",
       "      <td id=\"T_28397_row11_col0\" class=\"data row11 col0\" >December</td>\n",
       "      <td id=\"T_28397_row11_col1\" class=\"data row11 col1\" >0</td>\n",
       "    </tr>\n",
       "  </tbody>\n",
       "</table>\n"
      ],
      "text/plain": [
       "<pandas.io.formats.style.Styler at 0x7fe0bcd70070>"
      ]
     },
     "metadata": {},
     "output_type": "display_data"
    }
   ],
   "source": [
    "df_max_months = (\n",
    "    df_max_month_by_year[\"max_month\"]\n",
    "    .value_counts()\n",
    "    .reset_index()\n",
    "    .merge(pd.Series(months, name=\"index\").reset_index(), on=\"index\", how=\"right\")\n",
    "    .drop(columns=[\"level_0\"])\n",
    "    .fillna(0)\n",
    "    .astype({\"max_month\": int})\n",
    "    .sort_values(by=[\"max_month\"], ascending=False)\n",
    ")\n",
    "show_df(df_max_months)"
   ]
  },
  {
   "cell_type": "markdown",
   "id": "65e512f9-9b1c-49a8-8830-0032c587fb71",
   "metadata": {},
   "source": [
    "Plot the number of years for which each month has the the highest median price"
   ]
  },
  {
   "cell_type": "code",
   "execution_count": 103,
   "id": "6e6bcbcb-e8bf-444e-922a-f560caf69ca2",
   "metadata": {},
   "outputs": [
    {
     "data": {
      "image/png": "[encoded data removed]",
      "text/plain": [
       "<Figure size 720x720 with 1 Axes>"
      ]
     },
     "metadata": {},
     "output_type": "display_data"
    }
   ],
   "source": [
    "with sns.axes_style(\"ticks\"):\n",
    "    ax = sns.barplot(\n",
    "        y=\"index\",\n",
    "        x=\"max_month\",\n",
    "        data=df_max_months,\n",
    "        color=\"steelblue\",\n",
    "        saturation=0.5,\n",
    "    )\n",
    "    ax.set_title(\n",
    "        \"Most expensive months of the year (2003 - 2020)\",\n",
    "        loc=\"left\",\n",
    "        fontweight=\"bold\",\n",
    "    )\n",
    "    ax.xaxis.set_major_locator(MaxNLocator(integer=True))\n",
    "    ax.set_xlabel(\"Number of years as most expensive month\")\n",
    "    ax.set_ylabel(None)\n",
    "    sns.despine()\n",
    "    fig = plt.gcf()\n",
    "    fig.set_figheight(10)\n",
    "    fig.set_figwidth(10)\n",
    "    # fig.savefig(\n",
    "    #     os.path.join(reports_data_dir, \"17_prices_by_month.png\"),\n",
    "    #     bbox_inches=\"tight\",\n",
    "    #     dpi=300,\n",
    "    # )"
   ]
  },
  {
   "cell_type": "markdown",
   "id": "a4d848f3-587c-426e-8c34-d0417abc4841",
   "metadata": {},
   "source": [
    "---"
   ]
  },
  {
   "cell_type": "markdown",
   "id": "9c7dda24-e96c-453f-9b1a-c00a50bc2589",
   "metadata": {},
   "source": [
    "<span style=\"float:left\">\n",
    "    <a href=\"./6_merge_searches_listings.ipynb\"><< 6 - Merge scraped Search Results Dataset with Listings Dataset</a>\n",
    "</span>\n",
    "\n",
    "<span style=\"float:right\">\n",
    "    <a href=\"./8_upload_cloud.ipynb\">8 - Upload all scraped data (with requests and selenium) to cloud storage >></a>\n",
    "</span>"
   ]
  }
 ],
 "metadata": {
  "kernelspec": {
   "display_name": "Python 3 (ipykernel)",
   "language": "python",
   "name": "python3"
  },
  "language_info": {
   "codemirror_mode": {
    "name": "ipython",
    "version": 3
   },
   "file_extension": ".py",
   "mimetype": "text/x-python",
   "name": "python",
   "nbconvert_exporter": "python",
   "pygments_lexer": "ipython3",
   "version": "3.9.5"
  }
 },
 "nbformat": 4,
 "nbformat_minor": 5
}
