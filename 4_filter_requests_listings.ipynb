{
 "cells": [
  {
   "cell_type": "markdown",
   "id": "3e31ecca-ac87-47d4-88ac-5c7bcd008fd0",
   "metadata": {},
   "source": [
    "# Filtering `requests` Search Results"
   ]
  },
  {
   "cell_type": "code",
   "execution_count": 1,
   "id": "86be718e-9763-4160-9af2-351f63e32652",
   "metadata": {},
   "outputs": [],
   "source": [
    "%load_ext lab_black\n",
    "%load_ext autoreload\n",
    "%autoreload 2"
   ]
  },
  {
   "cell_type": "code",
   "execution_count": 2,
   "id": "42b99995-08a7-4b70-9fef-92e6c5269438",
   "metadata": {},
   "outputs": [],
   "source": [
    "import os\n",
    "import time\n",
    "from glob import glob\n",
    "\n",
    "import pandas as pd"
   ]
  },
  {
   "cell_type": "code",
   "execution_count": 3,
   "id": "d7ccb38c-40f9-4aac-81c7-68f83a3b5f65",
   "metadata": {},
   "outputs": [],
   "source": [
    "%aimport src.utils\n",
    "from src.utils import show_df, show_df_dtypes_nans"
   ]
  },
  {
   "cell_type": "markdown",
   "id": "526c6f0f-d6c7-47ae-9c94-77b35148905e",
   "metadata": {
    "tags": []
   },
   "source": [
    "<a href=\"table-of-contents\"></a>\n",
    "\n",
    "## [Table of Contents](#table-of-contents)\n",
    "0. [About](#about)\n",
    "1. [User Inputs](#user-inputs)\n",
    "2. [`selenium`-based files](#`selenium`-based-files)\n",
    "   - 2.1. [Load and Process all Listings files acquired using `selenium`](#load-and-process-all-listings-files-acquired-using-`selenium`)\n",
    "   - 2.2. [Load and Process all Search Results files acquired using `selenium`](#load-and-process-all-search-results-files-acquired-using-`selenium`)\n",
    "   - 2.3. [Merge listings with search results acquired using `selenium`](#merge-listings-with-search-results-acquired-using-`selenium`)\n",
    "3. [`requests`-based files](#`requests`-based-files)\n",
    "   - 3.1. [Load and Process all Search Results files acquired using `requests`](#load-and-process-all-search-results-files-acquired-using-`requests`)\n",
    "   - 3.2. [Slice columns to use for scraping with `requests` and export to file](#slice-columns-to-use-for-scraping-with-using-`requests`-and-export-to-file)"
   ]
  },
  {
   "cell_type": "markdown",
   "id": "ec7abe3f-96b0-4dde-a25a-c31f39e3836a",
   "metadata": {},
   "source": [
    "<a id=\"about\"></a>\n",
    "\n",
    "## 0. [About](#about)"
   ]
  },
  {
   "cell_type": "markdown",
   "id": "1c005dd9-71d6-497e-a11d-c592783f88a1",
   "metadata": {},
   "source": [
    "In this notebook, our primary objective will be to create a list of game listings that will be scraped using the `requests` library. It is not known if the scraped search results (using `requests`, in `3_requests_download.ipynb`) contain any duplicated game listings. Since it is not desired to scrape a listing more than once, we'll need to remove any duplicated listings from the search results dataset scraped with `requests` before scraping those listings to get additional attributes beyond platform and price. This will be discussed in [section 3.](#`requests`-based-files) of this notebook.\n",
    "\n",
    "A secondary objective is to briefly explore the presence of duplicates in the search results scraped using the `selenium` library in `2_selenium.ipynb`. This will not result in creating a new dataset but will provide a means of comparing the possible presence of duplicated search results in this dataset to those in the search results scraped using `requests`. This will be discussed in [section 2.](#`selenium`-based-files) of this notebook. This choice will help us to decide how to merge the search results (which contains information about supported platforms and price) and listings (which does not include platform or price)."
   ]
  },
  {
   "cell_type": "markdown",
   "id": "3ca16ade-5d32-4d52-a647-87b43176abfe",
   "metadata": {},
   "source": [
    "<a id=\"user-inputs\"></a>\n",
    "\n",
    "## 1. [User Inputs](#user-inputs)"
   ]
  },
  {
   "cell_type": "markdown",
   "id": "7bcc0d65-71b9-4c27-91f0-425388fc4285",
   "metadata": {},
   "source": [
    "Define variables that can be changed when running this notebook"
   ]
  },
  {
   "cell_type": "code",
   "execution_count": 4,
   "id": "f275883d-5d2a-4b67-92b4-a350b273c2d5",
   "metadata": {},
   "outputs": [],
   "source": [
    "PROJ_ROOT_DIR = os.getcwd()"
   ]
  },
  {
   "cell_type": "code",
   "execution_count": 5,
   "id": "f7816d28-856c-4433-aa89-fcde237f7311",
   "metadata": {
    "tags": [
     "parameters"
    ]
   },
   "outputs": [],
   "source": [
    "# Columns to hide (for display purposes only)\n",
    "cols_to_hide = [\"Title\", \"Release Date\", \"Genre\", \"page_num\", \"listing_num\"]"
   ]
  },
  {
   "cell_type": "markdown",
   "id": "90dff648-58db-4e9c-ae4d-0b850778d3bf",
   "metadata": {},
   "source": [
    "Define variables that depend on the variables defined above\n",
    "- get paths to directories where single-row CSV files (produced after scraping) will be stored\n",
    "- create lists of\n",
    "  - search results files created using webscraping with Selenium and requests\n",
    "  - listings files created using webscraping with Selenium"
   ]
  },
  {
   "cell_type": "code",
   "execution_count": 6,
   "id": "c5c3f6f6-0ba7-479e-a2a9-a3cc04032d62",
   "metadata": {},
   "outputs": [],
   "source": [
    "# Path to data/raw\n",
    "data_dir = os.path.join(PROJ_ROOT_DIR, \"data\")\n",
    "raw_data_dir = os.path.join(data_dir, \"raw\")\n",
    "\n",
    "# Path to data/raw/requests\n",
    "requests_files_dir = os.path.join(raw_data_dir, \"requests\")\n",
    "\n",
    "# Path to data/raw/selenium\n",
    "selenium_files_dir = os.path.join(raw_data_dir, \"selenium\")\n",
    "\n",
    "# List of CSV files created using selenium\n",
    "fpaths = glob(os.path.join(selenium_files_dir, \"p*_*.csv\"))\n",
    "\n",
    "# List of search results files created by Selenium\n",
    "selenium_search_results_pages = glob(\n",
    "    os.path.join(selenium_files_dir, \"search_results_page_*_*.parquet.gzip\")\n",
    ")\n",
    "\n",
    "# List of search results files created by requests\n",
    "requests_search_results_pages = glob(\n",
    "    os.path.join(requests_files_dir, \"search_results_page_*_*.parquet.gzip\")\n",
    ")"
   ]
  },
  {
   "cell_type": "markdown",
   "id": "b6de0d71-a2ab-4fd6-a0f2-b968c9b0b086",
   "metadata": {},
   "source": [
    "<a id=\"`selenium`-based-files\"></a>\n",
    "\n",
    "## 2. [`selenium`-based files](#`selenium`-based-files)"
   ]
  },
  {
   "cell_type": "markdown",
   "id": "895ca3e9-2089-4b5f-bbeb-74360d5c81f1",
   "metadata": {},
   "source": [
    "<a id=\"load-and-process-all-listings-files-acquired-using-`selenium`\"></a>\n",
    "\n",
    "### 2.1. [Load and Process all Listings files acquired using `selenium`](#load-and-process-all-listings-files-acquired-using-`selenium`)"
   ]
  },
  {
   "cell_type": "markdown",
   "id": "f74c4b42-70bb-447a-9c27-8be8aecb8a11",
   "metadata": {},
   "source": [
    "In order to briefly explore the scraped listings acquired using `selenium`, we'll iterate over all the scraped listing files (from the above list of CSV files) and concatenate the files into a single `DataFrame` with all the listings"
   ]
  },
  {
   "cell_type": "code",
   "execution_count": 10,
   "id": "9db2a944-ff26-48a6-a11e-774d448aa6ee",
   "metadata": {
    "tags": []
   },
   "outputs": [
    {
     "data": {
      "text/html": [
       "<style type=\"text/css\">\n",
       "</style>\n",
       "<table id=\"T_74d1b_\">\n",
       "  <caption>First & Last 1 rows</caption>\n",
       "  <thead>\n",
       "    <tr>\n",
       "      <th class=\"blank level0\" >&nbsp;</th>\n",
       "      <th class=\"col_heading level0 col0\" >review_type_all</th>\n",
       "      <th class=\"col_heading level0 col1\" >overall_review_rating</th>\n",
       "      <th class=\"col_heading level0 col2\" >pct_overall</th>\n",
       "      <th class=\"col_heading level0 col3\" >pct_overall_threshold</th>\n",
       "      <th class=\"col_heading level0 col4\" >pct_overall_lang</th>\n",
       "      <th class=\"col_heading level0 col5\" >pct_overall_threshold_lang</th>\n",
       "      <th class=\"col_heading level0 col6\" >platforms</th>\n",
       "      <th class=\"col_heading level0 col7\" >user_defined_tags</th>\n",
       "      <th class=\"col_heading level0 col8\" >num_steam_achievements</th>\n",
       "      <th class=\"col_heading level0 col9\" >drm</th>\n",
       "      <th class=\"col_heading level0 col10\" >rating</th>\n",
       "      <th class=\"col_heading level0 col11\" >rating_descriptors</th>\n",
       "      <th class=\"col_heading level0 col12\" >review_type_positive</th>\n",
       "      <th class=\"col_heading level0 col13\" >review_type_negative</th>\n",
       "      <th class=\"col_heading level0 col14\" >review_language_mine</th>\n",
       "      <th class=\"col_heading level0 col15\" >Title</th>\n",
       "      <th class=\"col_heading level0 col16\" >Genre</th>\n",
       "      <th class=\"col_heading level0 col17\" >Release Date</th>\n",
       "      <th class=\"col_heading level0 col18\" >Early Access Release Date</th>\n",
       "      <th class=\"col_heading level0 col19\" >Developer</th>\n",
       "      <th class=\"col_heading level0 col20\" >Publisher</th>\n",
       "      <th class=\"col_heading level0 col21\" >Franchise</th>\n",
       "      <th class=\"col_heading level0 col22\" >languages</th>\n",
       "      <th class=\"col_heading level0 col23\" >num_languages</th>\n",
       "      <th class=\"col_heading level0 col24\" >page_num</th>\n",
       "      <th class=\"col_heading level0 col25\" >listing_num</th>\n",
       "    </tr>\n",
       "  </thead>\n",
       "  <tbody>\n",
       "    <tr>\n",
       "      <th id=\"T_74d1b_level0_row0\" class=\"row_heading level0 row0\" >0</th>\n",
       "      <td id=\"T_74d1b_row0_col0\" class=\"data row0 col0\" >1014.000000</td>\n",
       "      <td id=\"T_74d1b_row0_col1\" class=\"data row0 col1\" >Very Positive</td>\n",
       "      <td id=\"T_74d1b_row0_col2\" class=\"data row0 col2\" >93.000000</td>\n",
       "      <td id=\"T_74d1b_row0_col3\" class=\"data row0 col3\" >positive</td>\n",
       "      <td id=\"T_74d1b_row0_col4\" class=\"data row0 col4\" >92.000000</td>\n",
       "      <td id=\"T_74d1b_row0_col5\" class=\"data row0 col5\" >positive</td>\n",
       "      <td id=\"T_74d1b_row0_col6\" class=\"data row0 col6\" >win</td>\n",
       "      <td id=\"T_74d1b_row0_col7\" class=\"data row0 col7\" >Base Building, Strategy, Survival, Tower Defense, Hack and Slash, Action RPG, Crafting, Adventure, Simulation, RPG, Sci-fi, Resource Management, Exploration, Loot, Isometric, Building, Sandbox, Atmospheric, Action, Aliens</td>\n",
       "      <td id=\"T_74d1b_row0_col8\" class=\"data row0 col8\" >30.000000</td>\n",
       "      <td id=\"T_74d1b_row0_col9\" class=\"data row0 col9\" >nan</td>\n",
       "      <td id=\"T_74d1b_row0_col10\" class=\"data row0 col10\" >nan</td>\n",
       "      <td id=\"T_74d1b_row0_col11\" class=\"data row0 col11\" >nan</td>\n",
       "      <td id=\"T_74d1b_row0_col12\" class=\"data row0 col12\" >938.000000</td>\n",
       "      <td id=\"T_74d1b_row0_col13\" class=\"data row0 col13\" >76.000000</td>\n",
       "      <td id=\"T_74d1b_row0_col14\" class=\"data row0 col14\" >412.000000</td>\n",
       "      <td id=\"T_74d1b_row0_col15\" class=\"data row0 col15\" >The Riftbreaker</td>\n",
       "      <td id=\"T_74d1b_row0_col16\" class=\"data row0 col16\" >Action, Adventure, Indie, RPG, Simulation, Strategy</td>\n",
       "      <td id=\"T_74d1b_row0_col17\" class=\"data row0 col17\" >14 Oct, 2021</td>\n",
       "      <td id=\"T_74d1b_row0_col18\" class=\"data row0 col18\" >nan</td>\n",
       "      <td id=\"T_74d1b_row0_col19\" class=\"data row0 col19\" >EXOR Studios</td>\n",
       "      <td id=\"T_74d1b_row0_col20\" class=\"data row0 col20\" >EXOR Studios, Surefire.Games</td>\n",
       "      <td id=\"T_74d1b_row0_col21\" class=\"data row0 col21\" >EXOR Studios, surefiregames</td>\n",
       "      <td id=\"T_74d1b_row0_col22\" class=\"data row0 col22\" >English, French, German, Spanish - Spain, Japanese, Korean, Polish, Russian, Simplified Chinese, Portuguese - Brazil</td>\n",
       "      <td id=\"T_74d1b_row0_col23\" class=\"data row0 col23\" >10.000000</td>\n",
       "      <td id=\"T_74d1b_row0_col24\" class=\"data row0 col24\" >2</td>\n",
       "      <td id=\"T_74d1b_row0_col25\" class=\"data row0 col25\" >1</td>\n",
       "    </tr>\n",
       "    <tr>\n",
       "      <th id=\"T_74d1b_level0_row1\" class=\"row_heading level0 row1\" >608</th>\n",
       "      <td id=\"T_74d1b_row1_col0\" class=\"data row1 col0\" >329.000000</td>\n",
       "      <td id=\"T_74d1b_row1_col1\" class=\"data row1 col1\" >Mixed</td>\n",
       "      <td id=\"T_74d1b_row1_col2\" class=\"data row1 col2\" >82.000000</td>\n",
       "      <td id=\"T_74d1b_row1_col3\" class=\"data row1 col3\" >positive</td>\n",
       "      <td id=\"T_74d1b_row1_col4\" class=\"data row1 col4\" >79.000000</td>\n",
       "      <td id=\"T_74d1b_row1_col5\" class=\"data row1 col5\" >positive</td>\n",
       "      <td id=\"T_74d1b_row1_col6\" class=\"data row1 col6\" >win</td>\n",
       "      <td id=\"T_74d1b_row1_col7\" class=\"data row1 col7\" >Online Co-Op, Action, Early Access, Horror, Co-op Campaign, Psychological Horror, Co-op, Supernatural, First-Person, Stealth, Artificial Intelligence, Thriller, Mystery, Atmospheric, Adventure, Psychological, Cinematic, Survival Horror, Dark, PvP</td>\n",
       "      <td id=\"T_74d1b_row1_col8\" class=\"data row1 col8\" >20.000000</td>\n",
       "      <td id=\"T_74d1b_row1_col9\" class=\"data row1 col9\" >nan</td>\n",
       "      <td id=\"T_74d1b_row1_col10\" class=\"data row1 col10\" >nan</td>\n",
       "      <td id=\"T_74d1b_row1_col11\" class=\"data row1 col11\" >nan</td>\n",
       "      <td id=\"T_74d1b_row1_col12\" class=\"data row1 col12\" >269.000000</td>\n",
       "      <td id=\"T_74d1b_row1_col13\" class=\"data row1 col13\" >60.000000</td>\n",
       "      <td id=\"T_74d1b_row1_col14\" class=\"data row1 col14\" >192.000000</td>\n",
       "      <td id=\"T_74d1b_row1_col15\" class=\"data row1 col15\" >Haunt Chaser</td>\n",
       "      <td id=\"T_74d1b_row1_col16\" class=\"data row1 col16\" >Action, Adventure, Indie</td>\n",
       "      <td id=\"T_74d1b_row1_col17\" class=\"data row1 col17\" >6 Oct, 2021</td>\n",
       "      <td id=\"T_74d1b_row1_col18\" class=\"data row1 col18\" >15 Jul, 2021</td>\n",
       "      <td id=\"T_74d1b_row1_col19\" class=\"data row1 col19\" >Clock Wizard Games</td>\n",
       "      <td id=\"T_74d1b_row1_col20\" class=\"data row1 col20\" >Clock Wizard Games</td>\n",
       "      <td id=\"T_74d1b_row1_col21\" class=\"data row1 col21\" >nan</td>\n",
       "      <td id=\"T_74d1b_row1_col22\" class=\"data row1 col22\" >English, Turkish, French, German, Simplified Chinese, Portuguese - Brazil, Spanish - Latin America, Polish, Russian</td>\n",
       "      <td id=\"T_74d1b_row1_col23\" class=\"data row1 col23\" >9.000000</td>\n",
       "      <td id=\"T_74d1b_row1_col24\" class=\"data row1 col24\" >36</td>\n",
       "      <td id=\"T_74d1b_row1_col25\" class=\"data row1 col25\" >24</td>\n",
       "    </tr>\n",
       "  </tbody>\n",
       "</table>\n"
      ],
      "text/plain": [
       "<pandas.io.formats.style.Styler at 0x7f452c63b220>"
      ]
     },
     "metadata": {},
     "output_type": "display_data"
    },
    {
     "data": {
      "text/html": [
       "<style type=\"text/css\">\n",
       "</style>\n",
       "<table id=\"T_68a28_\">\n",
       "  <caption>Column Datatypes and Missing Values</caption>\n",
       "  <thead>\n",
       "    <tr>\n",
       "      <th class=\"blank level0\" >&nbsp;</th>\n",
       "      <th class=\"col_heading level0 col0\" >num_missing</th>\n",
       "      <th class=\"col_heading level0 col1\" >dtype</th>\n",
       "    </tr>\n",
       "  </thead>\n",
       "  <tbody>\n",
       "    <tr>\n",
       "      <th id=\"T_68a28_level0_row0\" class=\"row_heading level0 row0\" >review_type_all</th>\n",
       "      <td id=\"T_68a28_row0_col0\" class=\"data row0 col0\" >13</td>\n",
       "      <td id=\"T_68a28_row0_col1\" class=\"data row0 col1\" >float64</td>\n",
       "    </tr>\n",
       "    <tr>\n",
       "      <th id=\"T_68a28_level0_row1\" class=\"row_heading level0 row1\" >overall_review_rating</th>\n",
       "      <td id=\"T_68a28_row1_col0\" class=\"data row1 col0\" >13</td>\n",
       "      <td id=\"T_68a28_row1_col1\" class=\"data row1 col1\" >object</td>\n",
       "    </tr>\n",
       "    <tr>\n",
       "      <th id=\"T_68a28_level0_row2\" class=\"row_heading level0 row2\" >pct_overall</th>\n",
       "      <td id=\"T_68a28_row2_col0\" class=\"data row2 col0\" >13</td>\n",
       "      <td id=\"T_68a28_row2_col1\" class=\"data row2 col1\" >float64</td>\n",
       "    </tr>\n",
       "    <tr>\n",
       "      <th id=\"T_68a28_level0_row3\" class=\"row_heading level0 row3\" >pct_overall_threshold</th>\n",
       "      <td id=\"T_68a28_row3_col0\" class=\"data row3 col0\" >13</td>\n",
       "      <td id=\"T_68a28_row3_col1\" class=\"data row3 col1\" >object</td>\n",
       "    </tr>\n",
       "    <tr>\n",
       "      <th id=\"T_68a28_level0_row4\" class=\"row_heading level0 row4\" >pct_overall_lang</th>\n",
       "      <td id=\"T_68a28_row4_col0\" class=\"data row4 col0\" >13</td>\n",
       "      <td id=\"T_68a28_row4_col1\" class=\"data row4 col1\" >float64</td>\n",
       "    </tr>\n",
       "    <tr>\n",
       "      <th id=\"T_68a28_level0_row5\" class=\"row_heading level0 row5\" >pct_overall_threshold_lang</th>\n",
       "      <td id=\"T_68a28_row5_col0\" class=\"data row5 col0\" >13</td>\n",
       "      <td id=\"T_68a28_row5_col1\" class=\"data row5 col1\" >object</td>\n",
       "    </tr>\n",
       "    <tr>\n",
       "      <th id=\"T_68a28_level0_row6\" class=\"row_heading level0 row6\" >platforms</th>\n",
       "      <td id=\"T_68a28_row6_col0\" class=\"data row6 col0\" >25</td>\n",
       "      <td id=\"T_68a28_row6_col1\" class=\"data row6 col1\" >object</td>\n",
       "    </tr>\n",
       "    <tr>\n",
       "      <th id=\"T_68a28_level0_row7\" class=\"row_heading level0 row7\" >user_defined_tags</th>\n",
       "      <td id=\"T_68a28_row7_col0\" class=\"data row7 col0\" >0</td>\n",
       "      <td id=\"T_68a28_row7_col1\" class=\"data row7 col1\" >object</td>\n",
       "    </tr>\n",
       "    <tr>\n",
       "      <th id=\"T_68a28_level0_row8\" class=\"row_heading level0 row8\" >num_steam_achievements</th>\n",
       "      <td id=\"T_68a28_row8_col0\" class=\"data row8 col0\" >132</td>\n",
       "      <td id=\"T_68a28_row8_col1\" class=\"data row8 col1\" >float64</td>\n",
       "    </tr>\n",
       "    <tr>\n",
       "      <th id=\"T_68a28_level0_row9\" class=\"row_heading level0 row9\" >drm</th>\n",
       "      <td id=\"T_68a28_row9_col0\" class=\"data row9 col0\" >411</td>\n",
       "      <td id=\"T_68a28_row9_col1\" class=\"data row9 col1\" >object</td>\n",
       "    </tr>\n",
       "    <tr>\n",
       "      <th id=\"T_68a28_level0_row10\" class=\"row_heading level0 row10\" >rating</th>\n",
       "      <td id=\"T_68a28_row10_col0\" class=\"data row10 col0\" >292</td>\n",
       "      <td id=\"T_68a28_row10_col1\" class=\"data row10 col1\" >object</td>\n",
       "    </tr>\n",
       "    <tr>\n",
       "      <th id=\"T_68a28_level0_row11\" class=\"row_heading level0 row11\" >rating_descriptors</th>\n",
       "      <td id=\"T_68a28_row11_col0\" class=\"data row11 col0\" >322</td>\n",
       "      <td id=\"T_68a28_row11_col1\" class=\"data row11 col1\" >object</td>\n",
       "    </tr>\n",
       "    <tr>\n",
       "      <th id=\"T_68a28_level0_row12\" class=\"row_heading level0 row12\" >review_type_positive</th>\n",
       "      <td id=\"T_68a28_row12_col0\" class=\"data row12 col0\" >13</td>\n",
       "      <td id=\"T_68a28_row12_col1\" class=\"data row12 col1\" >float64</td>\n",
       "    </tr>\n",
       "    <tr>\n",
       "      <th id=\"T_68a28_level0_row13\" class=\"row_heading level0 row13\" >review_type_negative</th>\n",
       "      <td id=\"T_68a28_row13_col0\" class=\"data row13 col0\" >13</td>\n",
       "      <td id=\"T_68a28_row13_col1\" class=\"data row13 col1\" >float64</td>\n",
       "    </tr>\n",
       "    <tr>\n",
       "      <th id=\"T_68a28_level0_row14\" class=\"row_heading level0 row14\" >review_language_mine</th>\n",
       "      <td id=\"T_68a28_row14_col0\" class=\"data row14 col0\" >13</td>\n",
       "      <td id=\"T_68a28_row14_col1\" class=\"data row14 col1\" >float64</td>\n",
       "    </tr>\n",
       "    <tr>\n",
       "      <th id=\"T_68a28_level0_row15\" class=\"row_heading level0 row15\" >Title</th>\n",
       "      <td id=\"T_68a28_row15_col0\" class=\"data row15 col0\" >0</td>\n",
       "      <td id=\"T_68a28_row15_col1\" class=\"data row15 col1\" >object</td>\n",
       "    </tr>\n",
       "    <tr>\n",
       "      <th id=\"T_68a28_level0_row16\" class=\"row_heading level0 row16\" >Genre</th>\n",
       "      <td id=\"T_68a28_row16_col0\" class=\"data row16 col0\" >2</td>\n",
       "      <td id=\"T_68a28_row16_col1\" class=\"data row16 col1\" >object</td>\n",
       "    </tr>\n",
       "    <tr>\n",
       "      <th id=\"T_68a28_level0_row17\" class=\"row_heading level0 row17\" >Release Date</th>\n",
       "      <td id=\"T_68a28_row17_col0\" class=\"data row17 col0\" >3</td>\n",
       "      <td id=\"T_68a28_row17_col1\" class=\"data row17 col1\" >object</td>\n",
       "    </tr>\n",
       "    <tr>\n",
       "      <th id=\"T_68a28_level0_row18\" class=\"row_heading level0 row18\" >Early Access Release Date</th>\n",
       "      <td id=\"T_68a28_row18_col0\" class=\"data row18 col0\" >505</td>\n",
       "      <td id=\"T_68a28_row18_col1\" class=\"data row18 col1\" >object</td>\n",
       "    </tr>\n",
       "    <tr>\n",
       "      <th id=\"T_68a28_level0_row19\" class=\"row_heading level0 row19\" >Developer</th>\n",
       "      <td id=\"T_68a28_row19_col0\" class=\"data row19 col0\" >0</td>\n",
       "      <td id=\"T_68a28_row19_col1\" class=\"data row19 col1\" >object</td>\n",
       "    </tr>\n",
       "    <tr>\n",
       "      <th id=\"T_68a28_level0_row20\" class=\"row_heading level0 row20\" >Publisher</th>\n",
       "      <td id=\"T_68a28_row20_col0\" class=\"data row20 col0\" >1</td>\n",
       "      <td id=\"T_68a28_row20_col1\" class=\"data row20 col1\" >object</td>\n",
       "    </tr>\n",
       "    <tr>\n",
       "      <th id=\"T_68a28_level0_row21\" class=\"row_heading level0 row21\" >Franchise</th>\n",
       "      <td id=\"T_68a28_row21_col0\" class=\"data row21 col0\" >280</td>\n",
       "      <td id=\"T_68a28_row21_col1\" class=\"data row21 col1\" >object</td>\n",
       "    </tr>\n",
       "    <tr>\n",
       "      <th id=\"T_68a28_level0_row22\" class=\"row_heading level0 row22\" >languages</th>\n",
       "      <td id=\"T_68a28_row22_col0\" class=\"data row22 col0\" >0</td>\n",
       "      <td id=\"T_68a28_row22_col1\" class=\"data row22 col1\" >object</td>\n",
       "    </tr>\n",
       "    <tr>\n",
       "      <th id=\"T_68a28_level0_row23\" class=\"row_heading level0 row23\" >num_languages</th>\n",
       "      <td id=\"T_68a28_row23_col0\" class=\"data row23 col0\" >0</td>\n",
       "      <td id=\"T_68a28_row23_col1\" class=\"data row23 col1\" >float64</td>\n",
       "    </tr>\n",
       "    <tr>\n",
       "      <th id=\"T_68a28_level0_row24\" class=\"row_heading level0 row24\" >page_num</th>\n",
       "      <td id=\"T_68a28_row24_col0\" class=\"data row24 col0\" >0</td>\n",
       "      <td id=\"T_68a28_row24_col1\" class=\"data row24 col1\" >int64</td>\n",
       "    </tr>\n",
       "    <tr>\n",
       "      <th id=\"T_68a28_level0_row25\" class=\"row_heading level0 row25\" >listing_num</th>\n",
       "      <td id=\"T_68a28_row25_col0\" class=\"data row25 col0\" >0</td>\n",
       "      <td id=\"T_68a28_row25_col1\" class=\"data row25 col1\" >int64</td>\n",
       "    </tr>\n",
       "  </tbody>\n",
       "</table>\n"
      ],
      "text/plain": [
       "<pandas.io.formats.style.Styler at 0x7f452c63b220>"
      ]
     },
     "metadata": {},
     "output_type": "display_data"
    },
    {
     "name": "stdout",
     "output_type": "stream",
     "text": [
      "CPU times: user 1.42 s, sys: 14.7 ms, total: 1.43 s\n",
      "Wall time: 1.43 s\n"
     ]
    }
   ],
   "source": [
    "%%time\n",
    "df_listings = pd.concat(\n",
    "    [\n",
    "        pd.read_csv(fpath)\n",
    "        for fpath in fpaths\n",
    "    ],\n",
    "    ignore_index=True,\n",
    ").dropna(subset=[\"Title\"]).sort_values(by=[\"page_num\", \"listing_num\"]).reset_index(drop=True)\n",
    "show_df(df_listings, 1)\n",
    "show_df_dtypes_nans(df_listings)"
   ]
  },
  {
   "cell_type": "markdown",
   "id": "ec506ca9-9e33-49f4-9de4-41ad9ae5ff8a",
   "metadata": {},
   "source": [
    "As we can see below, the `Title` column of this dataset is unique since there is one row for each scraped listing `Title`"
   ]
  },
  {
   "cell_type": "code",
   "execution_count": 11,
   "id": "655b1a4a-fa1c-4b6e-9373-c6891392bbf8",
   "metadata": {
    "tags": []
   },
   "outputs": [
    {
     "name": "stdout",
     "output_type": "stream",
     "text": [
      "609 609\n"
     ]
    }
   ],
   "source": [
    "print(df_listings[\"Title\"].nunique(), len(df_listings))"
   ]
  },
  {
   "cell_type": "markdown",
   "id": "b5cd139e-4cfb-4667-a785-068532306f0b",
   "metadata": {},
   "source": [
    "<a id=\"load-and-process-all-search-results-files-acquired-using-`selenium`\"></a>\n",
    "\n",
    "### 2.2. [Load and Process all Search Results files acquired using `selenium`](#load-and-process-all-search-results-files-acquired-using-`selenium`)"
   ]
  },
  {
   "cell_type": "markdown",
   "id": "af68e6c8-ea1e-40e5-8559-319c80db6ae2",
   "metadata": {},
   "source": [
    "We'll now get list of all the search results files collected with `selenium`"
   ]
  },
  {
   "cell_type": "code",
   "execution_count": 14,
   "id": "a56240dd-3651-400d-9242-10176510b194",
   "metadata": {},
   "outputs": [
    {
     "name": "stdout",
     "output_type": "stream",
     "text": [
      "Found 35 batched search results *.parquet.gzip file(s).\n"
     ]
    }
   ],
   "source": [
    "selenium_search_results_individual_pages = glob(\n",
    "    os.path.join(selenium_files_dir, \"search_results_page_*_2021*.parquet.gzip\")\n",
    ")\n",
    "print(\n",
    "    f\"Found {len(selenium_search_results_individual_pages)} \"\n",
    "    \"batched search results *.parquet.gzip file(s).\"\n",
    ")"
   ]
  },
  {
   "cell_type": "markdown",
   "id": "4982b5f9-94e2-4d7e-bfe3-22ce2dbe9228",
   "metadata": {},
   "source": [
    "Similar to concatenating listings, we'll concatenate all the search results into a single `DataFrame`"
   ]
  },
  {
   "cell_type": "code",
   "execution_count": 15,
   "id": "3d2ee5c8-5f8f-4cba-83f4-e5f024fcf751",
   "metadata": {
    "tags": []
   },
   "outputs": [
    {
     "name": "stdout",
     "output_type": "stream",
     "text": [
      "655 875\n"
     ]
    }
   ],
   "source": [
    "df_search_results = (\n",
    "    pd.concat(\n",
    "        [\n",
    "            pd.read_parquet(\n",
    "                selenium_search_results_indivudual_page,\n",
    "                engine=\"auto\",\n",
    "            )\n",
    "            for selenium_search_results_indivudual_page in selenium_search_results_individual_pages\n",
    "        ],\n",
    "        ignore_index=True,\n",
    "    )\n",
    "    .astype({\"page\": int})\n",
    "    .dropna(subset=[\"title\"])\n",
    "    .sort_values(by=[\"page\", \"listing_counter\"])\n",
    "    .reset_index(drop=True)\n",
    ")\n",
    "print(df_search_results[\"title\"].nunique(), len(df_search_results))"
   ]
  },
  {
   "cell_type": "markdown",
   "id": "bf996e00-1310-47bf-8f45-e7bc9bdeda44",
   "metadata": {},
   "source": [
    "Again, we'll verify that there are no listings with multiple URLs for a single title"
   ]
  },
  {
   "cell_type": "code",
   "execution_count": 16,
   "id": "b0a3ae9d-063f-4fb8-821e-138c7bb97f94",
   "metadata": {},
   "outputs": [
    {
     "name": "stdout",
     "output_type": "stream",
     "text": [
      "Number of listing titles with more than one URL = 0\n"
     ]
    }
   ],
   "source": [
    "listings_with_multiple_urls = (\n",
    "    df_search_results.groupby(\"title\")[\"url\"].nunique().sort_values(ascending=False)\n",
    ")\n",
    "print(\n",
    "    \"Number of listing titles with more than one URL = \"\n",
    "    f\"{len(listings_with_multiple_urls[listings_with_multiple_urls > 1])}\"\n",
    ")"
   ]
  },
  {
   "cell_type": "markdown",
   "id": "469b0a74-c687-4db1-a7b5-fd1796c2b70d",
   "metadata": {},
   "source": [
    "**Observations**\n",
    "1. Again, we can see that there are no titles in the search results collected with `selenium` that have multiple listing URLs associated with them."
   ]
  },
  {
   "cell_type": "markdown",
   "id": "ca577069-d581-4be3-a365-bbdd38994de7",
   "metadata": {},
   "source": [
    "However, there are listings that have the same `title`"
   ]
  },
  {
   "cell_type": "code",
   "execution_count": 17,
   "id": "8880dd00-f9f5-4f09-8218-5ee0e02133f8",
   "metadata": {},
   "outputs": [
    {
     "data": {
      "text/html": [
       "<div>\n",
       "<style scoped>\n",
       "    .dataframe tbody tr th:only-of-type {\n",
       "        vertical-align: middle;\n",
       "    }\n",
       "\n",
       "    .dataframe tbody tr th {\n",
       "        vertical-align: top;\n",
       "    }\n",
       "\n",
       "    .dataframe thead th {\n",
       "        text-align: right;\n",
       "    }\n",
       "</style>\n",
       "<table border=\"1\" class=\"dataframe\">\n",
       "  <thead>\n",
       "    <tr style=\"text-align: right;\">\n",
       "      <th></th>\n",
       "      <th>page</th>\n",
       "      <th>listing_counter</th>\n",
       "      <th>title</th>\n",
       "      <th>url</th>\n",
       "      <th>platform_names</th>\n",
       "      <th>release_date</th>\n",
       "      <th>discount_pct</th>\n",
       "      <th>original_price</th>\n",
       "      <th>discount_price</th>\n",
       "    </tr>\n",
       "  </thead>\n",
       "  <tbody>\n",
       "    <tr>\n",
       "      <th>351</th>\n",
       "      <td>16</td>\n",
       "      <td>2</td>\n",
       "      <td>A Dance of Fire and Ice</td>\n",
       "      <td>https://store.steampowered.com/app/977950/A Da...</td>\n",
       "      <td>win,mac</td>\n",
       "      <td>24 Jan, 2019</td>\n",
       "      <td>None</td>\n",
       "      <td>CDN$ 6.69</td>\n",
       "      <td>None</td>\n",
       "    </tr>\n",
       "    <tr>\n",
       "      <th>329</th>\n",
       "      <td>15</td>\n",
       "      <td>5</td>\n",
       "      <td>A Dance of Fire and Ice</td>\n",
       "      <td>https://store.steampowered.com/app/977950/A Da...</td>\n",
       "      <td>win,mac</td>\n",
       "      <td>24 Jan, 2019</td>\n",
       "      <td>None</td>\n",
       "      <td>CDN$ 6.69</td>\n",
       "      <td>None</td>\n",
       "    </tr>\n",
       "    <tr>\n",
       "      <th>586</th>\n",
       "      <td>25</td>\n",
       "      <td>12</td>\n",
       "      <td>A Hat in Time</td>\n",
       "      <td>https://store.steampowered.com/app/253230/A Ha...</td>\n",
       "      <td>win,mac</td>\n",
       "      <td>5 Oct, 2017</td>\n",
       "      <td>None</td>\n",
       "      <td>CDN$ 32.99</td>\n",
       "      <td>None</td>\n",
       "    </tr>\n",
       "    <tr>\n",
       "      <th>718</th>\n",
       "      <td>30</td>\n",
       "      <td>19</td>\n",
       "      <td>A Hat in Time</td>\n",
       "      <td>https://store.steampowered.com/app/253230/A Ha...</td>\n",
       "      <td>win,mac</td>\n",
       "      <td>5 Oct, 2017</td>\n",
       "      <td>None</td>\n",
       "      <td>CDN$ 32.99</td>\n",
       "      <td>None</td>\n",
       "    </tr>\n",
       "    <tr>\n",
       "      <th>150</th>\n",
       "      <td>8</td>\n",
       "      <td>1</td>\n",
       "      <td>A Total War Saga: TROY</td>\n",
       "      <td>https://store.steampowered.com/app/1099410/A T...</td>\n",
       "      <td>win,mac</td>\n",
       "      <td>2 Sep, 2021</td>\n",
       "      <td>None</td>\n",
       "      <td>CDN$ 44.99</td>\n",
       "      <td>None</td>\n",
       "    </tr>\n",
       "    <tr>\n",
       "      <th>...</th>\n",
       "      <td>...</td>\n",
       "      <td>...</td>\n",
       "      <td>...</td>\n",
       "      <td>...</td>\n",
       "      <td>...</td>\n",
       "      <td>...</td>\n",
       "      <td>...</td>\n",
       "      <td>...</td>\n",
       "      <td>...</td>\n",
       "    </tr>\n",
       "    <tr>\n",
       "      <th>393</th>\n",
       "      <td>17</td>\n",
       "      <td>19</td>\n",
       "      <td>Zombie Army 4: Dead War</td>\n",
       "      <td>https://store.steampowered.com/app/694280/Zomb...</td>\n",
       "      <td>win</td>\n",
       "      <td>18 Feb, 2021</td>\n",
       "      <td>None</td>\n",
       "      <td>CDN$ 56.99</td>\n",
       "      <td>None</td>\n",
       "    </tr>\n",
       "    <tr>\n",
       "      <th>506</th>\n",
       "      <td>22</td>\n",
       "      <td>7</td>\n",
       "      <td>Zombie Army 4: Dead War</td>\n",
       "      <td>https://store.steampowered.com/app/694280/Zomb...</td>\n",
       "      <td>win</td>\n",
       "      <td>18 Feb, 2021</td>\n",
       "      <td>None</td>\n",
       "      <td>CDN$ 56.99</td>\n",
       "      <td>None</td>\n",
       "    </tr>\n",
       "    <tr>\n",
       "      <th>761</th>\n",
       "      <td>32</td>\n",
       "      <td>12</td>\n",
       "      <td>Zombie Army 4: Dead War</td>\n",
       "      <td>https://store.steampowered.com/app/694280/Zomb...</td>\n",
       "      <td>win</td>\n",
       "      <td>18 Feb, 2021</td>\n",
       "      <td>None</td>\n",
       "      <td>CDN$ 56.99</td>\n",
       "      <td>None</td>\n",
       "    </tr>\n",
       "    <tr>\n",
       "      <th>125</th>\n",
       "      <td>7</td>\n",
       "      <td>1</td>\n",
       "      <td>iRacing</td>\n",
       "      <td>https://store.steampowered.com/app/266410/iRac...</td>\n",
       "      <td>win</td>\n",
       "      <td>12 Jan, 2015</td>\n",
       "      <td>None</td>\n",
       "      <td>CDN$ 10.99</td>\n",
       "      <td>None</td>\n",
       "    </tr>\n",
       "    <tr>\n",
       "      <th>123</th>\n",
       "      <td>6</td>\n",
       "      <td>24</td>\n",
       "      <td>iRacing</td>\n",
       "      <td>https://store.steampowered.com/app/266410/iRac...</td>\n",
       "      <td>win</td>\n",
       "      <td>12 Jan, 2015</td>\n",
       "      <td>None</td>\n",
       "      <td>CDN$ 10.99</td>\n",
       "      <td>None</td>\n",
       "    </tr>\n",
       "  </tbody>\n",
       "</table>\n",
       "<p>403 rows × 9 columns</p>\n",
       "</div>"
      ],
      "text/plain": [
       "     page  listing_counter                    title  \\\n",
       "351    16                2  A Dance of Fire and Ice   \n",
       "329    15                5  A Dance of Fire and Ice   \n",
       "586    25               12            A Hat in Time   \n",
       "718    30               19            A Hat in Time   \n",
       "150     8                1   A Total War Saga: TROY   \n",
       "..    ...              ...                      ...   \n",
       "393    17               19  Zombie Army 4: Dead War   \n",
       "506    22                7  Zombie Army 4: Dead War   \n",
       "761    32               12  Zombie Army 4: Dead War   \n",
       "125     7                1                  iRacing   \n",
       "123     6               24                  iRacing   \n",
       "\n",
       "                                                   url platform_names  \\\n",
       "351  https://store.steampowered.com/app/977950/A Da...        win,mac   \n",
       "329  https://store.steampowered.com/app/977950/A Da...        win,mac   \n",
       "586  https://store.steampowered.com/app/253230/A Ha...        win,mac   \n",
       "718  https://store.steampowered.com/app/253230/A Ha...        win,mac   \n",
       "150  https://store.steampowered.com/app/1099410/A T...        win,mac   \n",
       "..                                                 ...            ...   \n",
       "393  https://store.steampowered.com/app/694280/Zomb...            win   \n",
       "506  https://store.steampowered.com/app/694280/Zomb...            win   \n",
       "761  https://store.steampowered.com/app/694280/Zomb...            win   \n",
       "125  https://store.steampowered.com/app/266410/iRac...            win   \n",
       "123  https://store.steampowered.com/app/266410/iRac...            win   \n",
       "\n",
       "     release_date discount_pct original_price discount_price  \n",
       "351  24 Jan, 2019         None      CDN$ 6.69           None  \n",
       "329  24 Jan, 2019         None      CDN$ 6.69           None  \n",
       "586   5 Oct, 2017         None     CDN$ 32.99           None  \n",
       "718   5 Oct, 2017         None     CDN$ 32.99           None  \n",
       "150   2 Sep, 2021         None     CDN$ 44.99           None  \n",
       "..            ...          ...            ...            ...  \n",
       "393  18 Feb, 2021         None     CDN$ 56.99           None  \n",
       "506  18 Feb, 2021         None     CDN$ 56.99           None  \n",
       "761  18 Feb, 2021         None     CDN$ 56.99           None  \n",
       "125  12 Jan, 2015         None     CDN$ 10.99           None  \n",
       "123  12 Jan, 2015         None     CDN$ 10.99           None  \n",
       "\n",
       "[403 rows x 9 columns]"
      ]
     },
     "metadata": {},
     "output_type": "display_data"
    }
   ],
   "source": [
    "display(\n",
    "    df_search_results[\n",
    "        df_search_results.duplicated(subset=[\"title\"], keep=False)\n",
    "    ].sort_values(by=\"title\")\n",
    ")"
   ]
  },
  {
   "cell_type": "markdown",
   "id": "1864bf3e-df2c-499b-b532-5e7894781213",
   "metadata": {},
   "source": [
    "**Observations**\n",
    "1. These are valid duplicated listings and need to be dropped. They appeared on a different page number when the Selenium webdriver queried the Steam store search. We'll drop one occurrence of each duplicated listing and keep the other.\n",
    "2. A unique listing in a search result will have a unique combination of listing title and URL. No other listing should have the same combination of these two columns. So, we can use these two columns to identify and remove duplicated entries from this dataset."
   ]
  },
  {
   "cell_type": "markdown",
   "id": "20ac815c-828b-4d88-b73f-1da937426c99",
   "metadata": {},
   "source": [
    "So, we will use the `title` and `url` columns to remove duplicates from this dataset of search results (collected with `selenium`)"
   ]
  },
  {
   "cell_type": "code",
   "execution_count": 22,
   "id": "66b2fe34-cf54-4e43-97bf-df6d50b4aa0d",
   "metadata": {
    "tags": []
   },
   "outputs": [
    {
     "name": "stdout",
     "output_type": "stream",
     "text": [
      "Number of unique titles = 655, Number of rows = 655\n"
     ]
    },
    {
     "data": {
      "text/html": [
       "<style type=\"text/css\">\n",
       "</style>\n",
       "<table id=\"T_0e1fe_\">\n",
       "  <caption>First & Last 5 rows</caption>\n",
       "  <thead>\n",
       "    <tr>\n",
       "      <th class=\"blank level0\" >&nbsp;</th>\n",
       "      <th class=\"col_heading level0 col0\" >page</th>\n",
       "      <th class=\"col_heading level0 col1\" >listing_counter</th>\n",
       "      <th class=\"col_heading level0 col2\" >title</th>\n",
       "      <th class=\"col_heading level0 col3\" >url</th>\n",
       "      <th class=\"col_heading level0 col4\" >platform_names</th>\n",
       "      <th class=\"col_heading level0 col5\" >release_date</th>\n",
       "      <th class=\"col_heading level0 col6\" >discount_pct</th>\n",
       "      <th class=\"col_heading level0 col7\" >original_price</th>\n",
       "      <th class=\"col_heading level0 col8\" >discount_price</th>\n",
       "    </tr>\n",
       "  </thead>\n",
       "  <tbody>\n",
       "    <tr>\n",
       "      <th id=\"T_0e1fe_level0_row0\" class=\"row_heading level0 row0\" >0</th>\n",
       "      <td id=\"T_0e1fe_row0_col0\" class=\"data row0 col0\" >2</td>\n",
       "      <td id=\"T_0e1fe_row0_col1\" class=\"data row0 col1\" >1</td>\n",
       "      <td id=\"T_0e1fe_row0_col2\" class=\"data row0 col2\" >The Riftbreaker</td>\n",
       "      <td id=\"T_0e1fe_row0_col3\" class=\"data row0 col3\" >https://store.steampowered.com/app/780310/The Riftbreaker/</td>\n",
       "      <td id=\"T_0e1fe_row0_col4\" class=\"data row0 col4\" >win</td>\n",
       "      <td id=\"T_0e1fe_row0_col5\" class=\"data row0 col5\" >14 Oct, 2021</td>\n",
       "      <td id=\"T_0e1fe_row0_col6\" class=\"data row0 col6\" >-10%</td>\n",
       "      <td id=\"T_0e1fe_row0_col7\" class=\"data row0 col7\" >CDN$ 33.99</td>\n",
       "      <td id=\"T_0e1fe_row0_col8\" class=\"data row0 col8\" >CDN$ 30.59</td>\n",
       "    </tr>\n",
       "    <tr>\n",
       "      <th id=\"T_0e1fe_level0_row1\" class=\"row_heading level0 row1\" >1</th>\n",
       "      <td id=\"T_0e1fe_row1_col0\" class=\"data row1 col0\" >2</td>\n",
       "      <td id=\"T_0e1fe_row1_col1\" class=\"data row1 col1\" >2</td>\n",
       "      <td id=\"T_0e1fe_row1_col2\" class=\"data row1 col2\" >War Thunder</td>\n",
       "      <td id=\"T_0e1fe_row1_col3\" class=\"data row1 col3\" >https://store.steampowered.com/app/236390/War Thunder/</td>\n",
       "      <td id=\"T_0e1fe_row1_col4\" class=\"data row1 col4\" >win,mac,linux,vr_supported</td>\n",
       "      <td id=\"T_0e1fe_row1_col5\" class=\"data row1 col5\" >15 Aug, 2013</td>\n",
       "      <td id=\"T_0e1fe_row1_col6\" class=\"data row1 col6\" >None</td>\n",
       "      <td id=\"T_0e1fe_row1_col7\" class=\"data row1 col7\" >Free to Play</td>\n",
       "      <td id=\"T_0e1fe_row1_col8\" class=\"data row1 col8\" >None</td>\n",
       "    </tr>\n",
       "    <tr>\n",
       "      <th id=\"T_0e1fe_level0_row2\" class=\"row_heading level0 row2\" >2</th>\n",
       "      <td id=\"T_0e1fe_row2_col0\" class=\"data row2 col0\" >2</td>\n",
       "      <td id=\"T_0e1fe_row2_col1\" class=\"data row2 col1\" >3</td>\n",
       "      <td id=\"T_0e1fe_row2_col2\" class=\"data row2 col2\" >Red Dead Redemption 2</td>\n",
       "      <td id=\"T_0e1fe_row2_col3\" class=\"data row2 col3\" >https://store.steampowered.com/app/1174180/Red Dead Redemption 2/</td>\n",
       "      <td id=\"T_0e1fe_row2_col4\" class=\"data row2 col4\" >win</td>\n",
       "      <td id=\"T_0e1fe_row2_col5\" class=\"data row2 col5\" >5 Dec, 2019</td>\n",
       "      <td id=\"T_0e1fe_row2_col6\" class=\"data row2 col6\" >None</td>\n",
       "      <td id=\"T_0e1fe_row2_col7\" class=\"data row2 col7\" >CDN$ 79.99</td>\n",
       "      <td id=\"T_0e1fe_row2_col8\" class=\"data row2 col8\" >None</td>\n",
       "    </tr>\n",
       "    <tr>\n",
       "      <th id=\"T_0e1fe_level0_row3\" class=\"row_heading level0 row3\" >3</th>\n",
       "      <td id=\"T_0e1fe_row3_col0\" class=\"data row3 col0\" >2</td>\n",
       "      <td id=\"T_0e1fe_row3_col1\" class=\"data row3 col1\" >4</td>\n",
       "      <td id=\"T_0e1fe_row3_col2\" class=\"data row3 col2\" >Path of Exile</td>\n",
       "      <td id=\"T_0e1fe_row3_col3\" class=\"data row3 col3\" >https://store.steampowered.com/app/238960/Path of Exile/</td>\n",
       "      <td id=\"T_0e1fe_row3_col4\" class=\"data row3 col4\" >win,mac</td>\n",
       "      <td id=\"T_0e1fe_row3_col5\" class=\"data row3 col5\" >23 Oct, 2013</td>\n",
       "      <td id=\"T_0e1fe_row3_col6\" class=\"data row3 col6\" >None</td>\n",
       "      <td id=\"T_0e1fe_row3_col7\" class=\"data row3 col7\" >Free to Play</td>\n",
       "      <td id=\"T_0e1fe_row3_col8\" class=\"data row3 col8\" >None</td>\n",
       "    </tr>\n",
       "    <tr>\n",
       "      <th id=\"T_0e1fe_level0_row4\" class=\"row_heading level0 row4\" >4</th>\n",
       "      <td id=\"T_0e1fe_row4_col0\" class=\"data row4 col0\" >2</td>\n",
       "      <td id=\"T_0e1fe_row4_col1\" class=\"data row4 col1\" >5</td>\n",
       "      <td id=\"T_0e1fe_row4_col2\" class=\"data row4 col2\" >Sea of Thieves</td>\n",
       "      <td id=\"T_0e1fe_row4_col3\" class=\"data row4 col3\" >https://store.steampowered.com/app/1172620/Sea of Thieves/</td>\n",
       "      <td id=\"T_0e1fe_row4_col4\" class=\"data row4 col4\" >win</td>\n",
       "      <td id=\"T_0e1fe_row4_col5\" class=\"data row4 col5\" >3 Jun, 2020</td>\n",
       "      <td id=\"T_0e1fe_row4_col6\" class=\"data row4 col6\" >None</td>\n",
       "      <td id=\"T_0e1fe_row4_col7\" class=\"data row4 col7\" >CDN$ 49.99</td>\n",
       "      <td id=\"T_0e1fe_row4_col8\" class=\"data row4 col8\" >None</td>\n",
       "    </tr>\n",
       "    <tr>\n",
       "      <th id=\"T_0e1fe_level0_row5\" class=\"row_heading level0 row5\" >650</th>\n",
       "      <td id=\"T_0e1fe_row5_col0\" class=\"data row5 col0\" >36</td>\n",
       "      <td id=\"T_0e1fe_row5_col1\" class=\"data row5 col1\" >19</td>\n",
       "      <td id=\"T_0e1fe_row5_col2\" class=\"data row5 col2\" >METAL GEAR RISING: REVENGEANCE</td>\n",
       "      <td id=\"T_0e1fe_row5_col3\" class=\"data row5 col3\" >https://store.steampowered.com/app/235460/METAL GEAR RISING: REVENGEANCE/</td>\n",
       "      <td id=\"T_0e1fe_row5_col4\" class=\"data row5 col4\" >win</td>\n",
       "      <td id=\"T_0e1fe_row5_col5\" class=\"data row5 col5\" >9 Jan, 2014</td>\n",
       "      <td id=\"T_0e1fe_row5_col6\" class=\"data row5 col6\" >None</td>\n",
       "      <td id=\"T_0e1fe_row5_col7\" class=\"data row5 col7\" >CDN$ 32.99</td>\n",
       "      <td id=\"T_0e1fe_row5_col8\" class=\"data row5 col8\" >None</td>\n",
       "    </tr>\n",
       "    <tr>\n",
       "      <th id=\"T_0e1fe_level0_row6\" class=\"row_heading level0 row6\" >651</th>\n",
       "      <td id=\"T_0e1fe_row6_col0\" class=\"data row6 col0\" >36</td>\n",
       "      <td id=\"T_0e1fe_row6_col1\" class=\"data row6 col1\" >20</td>\n",
       "      <td id=\"T_0e1fe_row6_col2\" class=\"data row6 col2\" >Barony</td>\n",
       "      <td id=\"T_0e1fe_row6_col3\" class=\"data row6 col3\" >https://store.steampowered.com/app/371970/Barony/</td>\n",
       "      <td id=\"T_0e1fe_row6_col4\" class=\"data row6 col4\" >win,mac,linux</td>\n",
       "      <td id=\"T_0e1fe_row6_col5\" class=\"data row6 col5\" >23 Jun, 2015</td>\n",
       "      <td id=\"T_0e1fe_row6_col6\" class=\"data row6 col6\" >None</td>\n",
       "      <td id=\"T_0e1fe_row6_col7\" class=\"data row6 col7\" >CDN$ 17.49</td>\n",
       "      <td id=\"T_0e1fe_row6_col8\" class=\"data row6 col8\" >None</td>\n",
       "    </tr>\n",
       "    <tr>\n",
       "      <th id=\"T_0e1fe_level0_row7\" class=\"row_heading level0 row7\" >652</th>\n",
       "      <td id=\"T_0e1fe_row7_col0\" class=\"data row7 col0\" >36</td>\n",
       "      <td id=\"T_0e1fe_row7_col1\" class=\"data row7 col1\" >21</td>\n",
       "      <td id=\"T_0e1fe_row7_col2\" class=\"data row7 col2\" >Never Return</td>\n",
       "      <td id=\"T_0e1fe_row7_col3\" class=\"data row7 col3\" >https://store.steampowered.com/app/1612620/Never Return/</td>\n",
       "      <td id=\"T_0e1fe_row7_col4\" class=\"data row7 col4\" >win</td>\n",
       "      <td id=\"T_0e1fe_row7_col5\" class=\"data row7 col5\" >20 Aug, 2021</td>\n",
       "      <td id=\"T_0e1fe_row7_col6\" class=\"data row7 col6\" >None</td>\n",
       "      <td id=\"T_0e1fe_row7_col7\" class=\"data row7 col7\" >CDN$ 15.49</td>\n",
       "      <td id=\"T_0e1fe_row7_col8\" class=\"data row7 col8\" >None</td>\n",
       "    </tr>\n",
       "    <tr>\n",
       "      <th id=\"T_0e1fe_level0_row8\" class=\"row_heading level0 row8\" >653</th>\n",
       "      <td id=\"T_0e1fe_row8_col0\" class=\"data row8 col0\" >36</td>\n",
       "      <td id=\"T_0e1fe_row8_col1\" class=\"data row8 col1\" >22</td>\n",
       "      <td id=\"T_0e1fe_row8_col2\" class=\"data row8 col2\" >Roguebook</td>\n",
       "      <td id=\"T_0e1fe_row8_col3\" class=\"data row8 col3\" >https://store.steampowered.com/app/1076200/Roguebook/</td>\n",
       "      <td id=\"T_0e1fe_row8_col4\" class=\"data row8 col4\" >win,mac,linux</td>\n",
       "      <td id=\"T_0e1fe_row8_col5\" class=\"data row8 col5\" >17 Jun, 2021</td>\n",
       "      <td id=\"T_0e1fe_row8_col6\" class=\"data row8 col6\" >None</td>\n",
       "      <td id=\"T_0e1fe_row8_col7\" class=\"data row8 col7\" >CDN$ 28.99</td>\n",
       "      <td id=\"T_0e1fe_row8_col8\" class=\"data row8 col8\" >None</td>\n",
       "    </tr>\n",
       "    <tr>\n",
       "      <th id=\"T_0e1fe_level0_row9\" class=\"row_heading level0 row9\" >654</th>\n",
       "      <td id=\"T_0e1fe_row9_col0\" class=\"data row9 col0\" >36</td>\n",
       "      <td id=\"T_0e1fe_row9_col1\" class=\"data row9 col1\" >24</td>\n",
       "      <td id=\"T_0e1fe_row9_col2\" class=\"data row9 col2\" >Haunt Chaser</td>\n",
       "      <td id=\"T_0e1fe_row9_col3\" class=\"data row9 col3\" >https://store.steampowered.com/app/1450180/Haunt Chaser/</td>\n",
       "      <td id=\"T_0e1fe_row9_col4\" class=\"data row9 col4\" >win</td>\n",
       "      <td id=\"T_0e1fe_row9_col5\" class=\"data row9 col5\" >6 Oct, 2021</td>\n",
       "      <td id=\"T_0e1fe_row9_col6\" class=\"data row9 col6\" >None</td>\n",
       "      <td id=\"T_0e1fe_row9_col7\" class=\"data row9 col7\" >CDN$ 17.49</td>\n",
       "      <td id=\"T_0e1fe_row9_col8\" class=\"data row9 col8\" >None</td>\n",
       "    </tr>\n",
       "  </tbody>\n",
       "</table>\n"
      ],
      "text/plain": [
       "<pandas.io.formats.style.Styler at 0x7f44d9f6ddc0>"
      ]
     },
     "metadata": {},
     "output_type": "display_data"
    }
   ],
   "source": [
    "df_search_results = df_search_results.drop_duplicates(\n",
    "    subset=[\"title\", \"url\"]\n",
    ").reset_index(drop=True)\n",
    "print(\n",
    "    f\"Number of unique titles = {df_search_results['title'].nunique()}, \"\n",
    "    f\"Number of rows = {len(df_search_results)}\"\n",
    ")\n",
    "show_df(df_search_results, 5)"
   ]
  },
  {
   "cell_type": "markdown",
   "id": "f6aaecfa-32f4-4750-bd38-540e54e5b9b9",
   "metadata": {},
   "source": [
    "All the columns scraped with Selenium (from each listing) are shown below"
   ]
  },
  {
   "cell_type": "code",
   "execution_count": 19,
   "id": "56d0ecc0-ece8-4c94-94fb-9e3316dfe757",
   "metadata": {},
   "outputs": [
    {
     "name": "stdout",
     "output_type": "stream",
     "text": [
      "Columns scraped using selenium\n"
     ]
    },
    {
     "data": {
      "text/plain": [
       "['review_type_all',\n",
       " 'overall_review_rating',\n",
       " 'pct_overall',\n",
       " 'pct_overall_threshold',\n",
       " 'pct_overall_lang',\n",
       " 'pct_overall_threshold_lang',\n",
       " 'platforms',\n",
       " 'user_defined_tags',\n",
       " 'num_steam_achievements',\n",
       " 'drm',\n",
       " 'rating',\n",
       " 'rating_descriptors',\n",
       " 'review_type_positive',\n",
       " 'review_type_negative',\n",
       " 'review_language_mine',\n",
       " 'Title',\n",
       " 'Genre',\n",
       " 'Release Date',\n",
       " 'Early Access Release Date',\n",
       " 'Developer',\n",
       " 'Publisher',\n",
       " 'Franchise',\n",
       " 'languages',\n",
       " 'num_languages',\n",
       " 'page_num',\n",
       " 'listing_num']"
      ]
     },
     "execution_count": 19,
     "metadata": {},
     "output_type": "execute_result"
    }
   ],
   "source": [
    "print(\"Columns scraped using selenium\")\n",
    "list(df_listings)"
   ]
  },
  {
   "cell_type": "markdown",
   "id": "1b3b1636-73b1-4859-9357-19bb0ab4d26b",
   "metadata": {},
   "source": [
    "Since the listing URL was not scraped from the individual listings, it is only present in the search results dataset. The URL would be unique for each listing and could be an alternative to the `title` column when merging these two datasets. However, its absence from the listings dataset means we have to use the `title` column on its own instead."
   ]
  },
  {
   "cell_type": "markdown",
   "id": "7a4b1f3b-41df-446e-bbc3-ae562a827814",
   "metadata": {},
   "source": [
    "<a id=\"merge-listings-with-search-results-acquired-using-`selenium`\"></a>\n",
    "\n",
    "### 2.3. [Merge listings with search results acquired using `selenium`](#merge-listings-with-search-results-acquired-using-`selenium`)"
   ]
  },
  {
   "cell_type": "markdown",
   "id": "068b43da-c636-4665-9a92-d1ef7fc47d05",
   "metadata": {},
   "source": [
    "Brief considerations for direction of merge when combining the search results and listings datasets.\n",
    "\n",
    "Recall, when scraping with Selenium, we loaded a page of search results, clicked on a single listing, scraped it and returned (moved back) to the search results. This was done for a single page of search results at a time. As scraping with Selenium was slow, scraping was performed over multiple days. Over this time, Steam updated the search results. So, listings appearing on page 4 (during a given day's scraping) could appear on page 5 during the next day's scraping. In this scenario, the webscraping code checks for previously scraped listings (by listing name, which contains the Title of the listing) and skips re-scraping these listings during the next iterations through the search results pages. Since the listings that appeared in multiple search results are considered as duplicates and their listings were not clicked on (or scraped) a second time. This means a search results dataset could have more rows than the listings dataset for the same page. For this reason, the search results `DataFrame` will be `LEFT JOIN`ed to the listings dataset and the `JOIN`ed dataset will have rows with columns that are populated with values from fields scraped from the search results page but with missing values for columns that were scraped from the listing pages."
   ]
  },
  {
   "cell_type": "markdown",
   "id": "20d262dd-138c-4abe-b577-b5cf927d30bf",
   "metadata": {},
   "source": [
    "The search results and listings datasets are merged below"
   ]
  },
  {
   "cell_type": "code",
   "execution_count": null,
   "id": "06b7cff0-36f6-4493-afbf-12050a3f88bb",
   "metadata": {
    "tags": []
   },
   "outputs": [],
   "source": [
    "dfm = df_search_results.merge(\n",
    "    df_listings,\n",
    "    left_on=[\"title\"],\n",
    "    right_on=[\"Title\"],\n",
    "    how=\"left\",\n",
    ")\n",
    "show_df(dfm.drop(columns=[\"url\", \"user_defined_tags\", \"languages\", \"Genre\"]), 1)"
   ]
  },
  {
   "cell_type": "markdown",
   "id": "166c09e3-6aab-48e8-baef-97ec0cb3cde3",
   "metadata": {},
   "source": [
    "We won't be using this merged dataset further in this notebook, but the same logic will be used when we do need to combine these two datasets (collected with `selenium`) for exploratory data analysis in section 2.3 of a later notebook `6_merge_searches_listings.ipynb`."
   ]
  },
  {
   "cell_type": "markdown",
   "id": "0fb5a306-d7e2-411a-9459-5b28f5c6e613",
   "metadata": {},
   "source": [
    "<a id=\"`requests`-based-files\"></a>\n",
    "\n",
    "## 3. [`requests`-based files](#`requests`-based-files)"
   ]
  },
  {
   "cell_type": "markdown",
   "id": "4b04b31a-5717-436c-966f-b3005a59cb9f",
   "metadata": {},
   "source": [
    "We'll now filter the search results scraped with `requests` in `3_requests.ipynb` to eliminate duplicate listings. This is the primary objective of this notebook."
   ]
  },
  {
   "cell_type": "markdown",
   "id": "403c130f-aba2-4b2e-9145-2307ca8b5265",
   "metadata": {},
   "source": [
    "<a id=\"load-and-process-all-search-results-files-acquired-using-`requests`\"></a>\n",
    "\n",
    "### 3.1. [Load and Process all Search Results files acquired using `requests`](#load-and-process-all-search-results-files-acquired-using-`requests`)"
   ]
  },
  {
   "cell_type": "markdown",
   "id": "6b367dc2-6806-4f54-b7a3-1d48221bea3d",
   "metadata": {},
   "source": [
    "Combine (vertically concatenate) the datasets for all the scraped search results pages. We'll also remove any listings not supporting English and extract an `app_id` from the URL"
   ]
  },
  {
   "cell_type": "code",
   "execution_count": null,
   "id": "febe53ca-5c8c-4957-91e0-f24ac12aa22a",
   "metadata": {},
   "outputs": [],
   "source": [
    "%%time\n",
    "df_search_results_requests = (\n",
    "    pd.concat(\n",
    "        [\n",
    "            pd.read_parquet(f, engine=\"auto\")\n",
    "            for f in requests_search_results_pages\n",
    "        ],\n",
    "        ignore_index=True,\n",
    "    )\n",
    "    .drop(columns=[\"request_status_code\"])\n",
    "    .astype({\"page\": int}).dropna(subset=[\"title\"])\n",
    "    .sort_values(by=[\"page\", \"listing_counter\"])\n",
    "    .reset_index(drop=True)\n",
    ")\n",
    "print(f\"Total number of search results scraped with requests = {len(df_search_results_requests),}\")\n",
    "\n",
    "# Only select listing titles available in English\n",
    "df_search_results_requests = df_search_results_requests[\n",
    "    df_search_results_requests['title'].map(lambda x: x.isascii())\n",
    "]\n",
    "\n",
    "# Append an app_id column using a regex extract() from the URL\n",
    "df_search_results_requests = df_search_results_requests.assign(\n",
    "    app_id=df_search_results_requests[\"url\"].str.extract(\n",
    "        r\"https://store.steampowered.com/app/(\\d+)/*/\"\n",
    "    )\n",
    ")\n",
    "\n",
    "print(\n",
    "    \"Number of English language listings in the search results = \"\n",
    "    f\"{len(df_search_results_requests),}\"\n",
    ")"
   ]
  },
  {
   "cell_type": "markdown",
   "id": "de519c28-65e7-4b1f-94c2-13dd20ac7e77",
   "metadata": {},
   "source": [
    "Count how many listings are missing a title"
   ]
  },
  {
   "cell_type": "code",
   "execution_count": null,
   "id": "42865e0f-9483-44dc-bab3-eccd0349b25b",
   "metadata": {},
   "outputs": [],
   "source": [
    "print(\n",
    "    f\"Missing title = {len(df_search_results_requests[df_search_results_requests['title'] == ''])}\"\n",
    ")"
   ]
  },
  {
   "cell_type": "markdown",
   "id": "dce1867c-420e-45e5-a4ab-7d22f72bca77",
   "metadata": {},
   "source": [
    "Since there are only two such rows, we'll now remove these listings that are missing a value in the `title` column"
   ]
  },
  {
   "cell_type": "code",
   "execution_count": null,
   "id": "f5035518-3e3d-4d17-84ce-a79bbbb1720a",
   "metadata": {},
   "outputs": [],
   "source": [
    "df_search_results_requests = df_search_results_requests[\n",
    "    df_search_results_requests[\"title\"] != \"\"\n",
    "]"
   ]
  },
  {
   "cell_type": "markdown",
   "id": "8ad1fbf7-1736-40b1-ad4c-99d3e74dc201",
   "metadata": {},
   "source": [
    "We'll now count how many rows have an empty string in the `platform_names` or `release_date` columns (separately)"
   ]
  },
  {
   "cell_type": "code",
   "execution_count": null,
   "id": "f4c918c7-f55b-4667-8cb3-f33102480cb8",
   "metadata": {},
   "outputs": [],
   "source": [
    "for c in [\"url\", \"release_date\", \"platform_names\"]:\n",
    "    blank_values = (df_search_results_requests[c] == \"\").sum()\n",
    "    print(f\"Missing {c} = {blank_values}\")"
   ]
  },
  {
   "cell_type": "markdown",
   "id": "b88864e1-2420-4f27-ab05-7478618c7e66",
   "metadata": {},
   "source": [
    "We'll count how many listings are missing a value in the `app_id` column"
   ]
  },
  {
   "cell_type": "code",
   "execution_count": null,
   "id": "9a1a6906-2a29-498c-a4f9-d2cc7e6bda19",
   "metadata": {},
   "outputs": [],
   "source": [
    "missing_app_ids = df_search_results_requests[\"app_id\"].isna().sum()\n",
    "print(f\"Missing app_ids = {missing_app_ids}\")"
   ]
  },
  {
   "cell_type": "markdown",
   "id": "a194b746-acae-4542-9c46-7fcef9e10229",
   "metadata": {},
   "source": [
    "Since the `release_date` column has several blank values and the `app_id` is missing several values as well, we'll use only `url`, `platform_names` and `title` to find duplicated listings. Duplicates in all three of these columns will be true duplicate listings and should be dropped from this dataset."
   ]
  },
  {
   "cell_type": "markdown",
   "id": "32fd7382-4f0d-451f-9a48-a60ea800f714",
   "metadata": {},
   "source": [
    "We'll show duplicated listings below"
   ]
  },
  {
   "cell_type": "code",
   "execution_count": null,
   "id": "0635e600-51ef-42fc-a235-87f8c00b6abe",
   "metadata": {},
   "outputs": [],
   "source": [
    "# Find duplicates - use keep=False to return all duplicated rows\n",
    "dup_search_res_requests = df_search_results_requests[\n",
    "    df_search_results_requests.duplicated(\n",
    "        subset=[\"url\", \"title\", \"platform_names\"], keep=False\n",
    "    )\n",
    "].sort_values(by=[\"url\"])\n",
    "display(dup_search_res_requests)"
   ]
  },
  {
   "cell_type": "markdown",
   "id": "06cb16ba-cd66-480d-9f34-701803d92ea3",
   "metadata": {},
   "source": [
    "**Observations**\n",
    "1. These are true duplicated listings. They have been listed multiple times in the search results, each time on a different page. They need to be dropped."
   ]
  },
  {
   "cell_type": "markdown",
   "id": "66dfffa8-799d-4d3c-a84d-cfcfe03eab45",
   "metadata": {},
   "source": [
    "We'll use the `url`, `platform_names` and `title` columns to drop duplicated listings (keeping only the first such listing and dropping the others)"
   ]
  },
  {
   "cell_type": "code",
   "execution_count": null,
   "id": "d7e9e3dd-fb50-486e-a127-06187d48dcd0",
   "metadata": {},
   "outputs": [],
   "source": [
    "df_search_results_requests = df_search_results_requests.drop_duplicates(\n",
    "    subset=[\"url\", \"title\", \"platform_names\"]\n",
    ")"
   ]
  },
  {
   "cell_type": "markdown",
   "id": "8489492a-3996-409f-8323-ddd1171aa9ca",
   "metadata": {},
   "source": [
    "If we now consider the listing `title` to be unique, then we should expect that this dataset should have a single URL per `title`. Below are the listings with more than one URL for each `title`"
   ]
  },
  {
   "cell_type": "code",
   "execution_count": null,
   "id": "619a4bb9-1458-4a4d-9a67-cfaf1d72ce95",
   "metadata": {},
   "outputs": [],
   "source": [
    "%%time\n",
    "multiple_urls = (\n",
    "    df_search_results_requests.groupby(\"title\")[\"url\"]\n",
    "    .nunique()\n",
    "    .sort_values(ascending=False)\n",
    ")\n",
    "multiple_urls_titles = multiple_urls[multiple_urls > 1].index.tolist()\n",
    "show_df(\n",
    "    df_search_results_requests[\n",
    "        df_search_results_requests[\"title\"].isin(multiple_urls_titles)\n",
    "    ].sort_values(by=[\"title\"]), 5\n",
    ")"
   ]
  },
  {
   "cell_type": "markdown",
   "id": "05946850-9e01-457e-bcf4-bbbb095c9744",
   "metadata": {},
   "source": [
    "**Observations**\n",
    "1. Since the listing `title` was cleaned to remove special characters, this has caused different listings whose title names only differed by special characters to be incorrectly given the same `title`. This means the `title` column is not a valid indicator on its own of a unique listing in this search results dataset (with `requests`). While this was also done when scraping search results with `selenium`, the smaller size of the dataset acquired with the webdriver means we did not encounter such an occurrence. So, with `selenium`, dropping duplicates based on the `Title` column was valid but this is invalid for search results scraped with the `requests` library."
   ]
  },
  {
   "cell_type": "markdown",
   "id": "89ba0491-cfcd-42ba-83f6-e42f1ded3ee2",
   "metadata": {},
   "source": [
    "Next, we'll check if the same problem persists for the URL column, by counting the number of listing`titles` with more than one URL"
   ]
  },
  {
   "cell_type": "code",
   "execution_count": null,
   "id": "7b5db036-18f9-4e8b-997c-83cdb0c273f7",
   "metadata": {
    "tags": []
   },
   "outputs": [],
   "source": [
    "%%time\n",
    "multiple_urls = df_search_results_requests.groupby(\"url\")[\"title\"].count().sort_values(\n",
    "    ascending=False\n",
    ")\n",
    "print(f\"Number of URLs with more than one Title = {len(multiple_urls[multiple_urls > 1])}\")\n",
    "assert len(multiple_urls[multiple_urls > 1]) == 0"
   ]
  },
  {
   "cell_type": "markdown",
   "id": "269f1ba0-ef7a-4626-bc40-f73de82aba71",
   "metadata": {},
   "source": [
    "We'll also check if the number of unique URLs and the number of rows in this search results dataset (scraped with `requests`) agree with eachother"
   ]
  },
  {
   "cell_type": "code",
   "execution_count": null,
   "id": "8c895281-ce1d-499d-8565-17649fe72622",
   "metadata": {},
   "outputs": [],
   "source": [
    "print(\n",
    "    f\"Number of unique URLs in search results dataset = {df_search_results_requests['url'].nunique():,}\\n\"\n",
    "    f\"Number of rows in search results dataset = {len(df_search_results_requests):,}\"\n",
    ")\n",
    "assert df_search_results_requests[\"url\"].nunique() == len(df_search_results_requests)"
   ]
  },
  {
   "cell_type": "markdown",
   "id": "ceab95fd-3d8f-4607-bfaa-2da27f570866",
   "metadata": {},
   "source": [
    "**Notes**\n",
    "1. Preprocessing to remove special characters was not performed on the URL column of this dataset."
   ]
  },
  {
   "cell_type": "markdown",
   "id": "d2726589-662d-40ea-a418-5197d6903679",
   "metadata": {},
   "source": [
    "**Observations**\n",
    "1. As we can see from the two checks above, the URL column of this dataset is unique. There are no listings which share the same URL but have different `title`s, and there is a unique URL for every row of the `DataFrame`."
   ]
  },
  {
   "cell_type": "markdown",
   "id": "8bddf6f7-9d8f-4169-a95c-c1ee6c5c72e3",
   "metadata": {},
   "source": [
    "We can now use the `requests` library to scrape listings from this dataset where each URL corresponds to a single listing. When that dataset is collected and we need to merge it with this dataset of search results, we will do so on the `url` column of both datasets since that is a unique column."
   ]
  },
  {
   "cell_type": "markdown",
   "id": "008e9ac5-ae33-42a0-87c6-028f9b8ba09a",
   "metadata": {},
   "source": [
    "View the search results dataset, with only English listings (as is the case with the `selenium` dataset), and with no duplicates"
   ]
  },
  {
   "cell_type": "code",
   "execution_count": null,
   "id": "60dd0891-978d-42c0-856e-f372f10b4848",
   "metadata": {},
   "outputs": [],
   "source": [
    "show_df(df_search_results_requests, 2)\n",
    "show_df_dtypes_nans(df_search_results_requests)"
   ]
  },
  {
   "cell_type": "markdown",
   "id": "f72e5fe8-098e-441d-82f8-5aed93a263b1",
   "metadata": {},
   "source": [
    "<a id=\"slice-columns-to-use-for-scraping-with-using-`requests`-and-export-to-file\"></a>\n",
    "\n",
    "### 3.2. [Slice columns to use for scraping with `requests` and export to file](#slice-columns-to-use-for-scraping-with-using-`requests`-and-export-to-file)"
   ]
  },
  {
   "cell_type": "markdown",
   "id": "db89769f-85f0-427b-99a6-f2a7f887652b",
   "metadata": {},
   "source": [
    "Finally, we'll now export this filtered search results dataset to a CSV file"
   ]
  },
  {
   "cell_type": "code",
   "execution_count": null,
   "id": "4f0d28fc-9672-42d1-8469-87480200656a",
   "metadata": {},
   "outputs": [],
   "source": [
    "df_search_results_requests[[\"page\", \"listing_counter\", \"title\", \"url\"]].to_csv(\n",
    "    os.path.join(requests_files_dir, \"requests_listings_to_scrape.csv\"),\n",
    "    index=False,\n",
    ")"
   ]
  },
  {
   "cell_type": "markdown",
   "id": "11527c98-be25-42f4-b12c-0e352172f8fd",
   "metadata": {},
   "source": [
    "We can now iterate over the rows of this file and scrape the listings (using `requests`) from the (unique) URL column."
   ]
  },
  {
   "cell_type": "markdown",
   "id": "837a3b64-0455-43a4-877b-c75fa12925a1",
   "metadata": {},
   "source": [
    "---"
   ]
  },
  {
   "cell_type": "markdown",
   "id": "11e712f0-0d79-49b4-b012-45ab28957ae0",
   "metadata": {},
   "source": [
    "<span style=\"float:left\">\n",
    "    <a href=\"./3_requests_download.ipynb\"><< 3 - Scraping search results with the requests library</a>\n",
    "</span>\n",
    "\n",
    "<span style=\"float:right\">\n",
    "    <a href=\"./5_requests_listings_download.ipynb\">5 - Scraping listings with the requests library >></a>\n",
    "</span>"
   ]
  }
 ],
 "metadata": {
  "kernelspec": {
   "display_name": "Python 3 (ipykernel)",
   "language": "python",
   "name": "python3"
  },
  "language_info": {
   "codemirror_mode": {
    "name": "ipython",
    "version": 3
   },
   "file_extension": ".py",
   "mimetype": "text/x-python",
   "name": "python",
   "nbconvert_exporter": "python",
   "pygments_lexer": "ipython3",
   "version": "3.9.5"
  }
 },
 "nbformat": 4,
 "nbformat_minor": 5
}
